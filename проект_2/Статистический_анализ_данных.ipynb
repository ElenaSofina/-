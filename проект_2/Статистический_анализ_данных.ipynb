{
 "cells": [
  {
   "cell_type": "markdown",
   "id": "aba072b8",
   "metadata": {},
   "source": [
    "# Статистический анализ данных #"
   ]
  },
  {
   "cell_type": "markdown",
   "id": "bd5a951a",
   "metadata": {},
   "source": [
    "**Описание:** Анализ проводится по данным о пользователях и их поездках на самокатах из нескольких городов, которые пользуются сервисом GoFast с помощью мобильного приложения.\n",
    "\n",
    "\n",
    "Чтобы совершать поездки по городу, пользователи сервиса GoFast пользуются мобильным приложением. Сервисом можно пользоваться:\n",
    "- без подписки:\n",
    "\n",
    "абонентская плата отсутствует;\n",
    "\n",
    "стоимость одной минуты поездки — 8 рублей;\n",
    "\n",
    "стоимость старта (начала поездки) — 50 рублей;\n",
    "\n",
    "- с подпиской Ultra:\n",
    "\n",
    "абонентская плата — 199 рублей в месяц;\n",
    "\n",
    "стоимость одной минуты поездки — 6 рублей;\n",
    "\n",
    "стоимость старта — бесплатно.\n",
    "\n",
    "**Цель:** Проанализировать данные о пользователях сервиса аренды самокатов GoFast, их поездках и подписках для выявления закономерностей и гипотез, которые могут помочь бизнесу расти.\n",
    "\n",
    "**Ход исследования:**\n",
    "\n",
    "1. Загрузка и предобработка данных\n",
    "2. Исследовательский анализ данных\n",
    "3. Объединение данных\n",
    "4. Подсчет выручки\n",
    "5. Проверка гипотез\n",
    "6. Распределения\n",
    "7. Общий вывод"
   ]
  },
  {
   "cell_type": "code",
   "execution_count": 1,
   "id": "62fb1f4b",
   "metadata": {},
   "outputs": [],
   "source": [
    "# импорт библиотек\n",
    "import pandas as pd\n",
    "import matplotlib.pyplot as plt\n",
    "import numpy as np\n",
    "\n",
    "from scipy import stats as st\n",
    "from math import sqrt\n",
    "from scipy.stats import binom, norm"
   ]
  },
  {
   "cell_type": "markdown",
   "id": "c42cbe00",
   "metadata": {},
   "source": [
    "### Загрузка и предобработка данных"
   ]
  },
  {
   "cell_type": "code",
   "execution_count": 2,
   "id": "3b4def54",
   "metadata": {},
   "outputs": [],
   "source": [
    "# cчитывание данных csv-файла и сохранение в переменные\n",
    "try:\n",
    "    users = pd.read_csv('/datasets/users_go.csv', sep=',')\n",
    "    rides = pd.read_csv('/datasets/rides_go.csv', sep=',')\n",
    "    subscriptions = pd.read_csv('/datasets/subscriptions_go.csv', sep=',')\n",
    "except FileNotFoundError:\n",
    "    print(\"файлы не найдены\")    "
   ]
  },
  {
   "cell_type": "markdown",
   "id": "d7abd4f0",
   "metadata": {},
   "source": [
    "Смотрим первые строки и общую информацию каждой таблицы:"
   ]
  },
  {
   "cell_type": "code",
   "execution_count": 3,
   "id": "9e052a67",
   "metadata": {},
   "outputs": [],
   "source": [
    "# создадим функцию для получения общих характеристик\n",
    "\n",
    "def all_info (data):\n",
    "    print('ПЕРВЫЕ СТРОКИ')\n",
    "    display(data.head(10))\n",
    "    print('ОБЩАЯ ИНФОРМАЦИЯ')\n",
    "    display(data.info())\n",
    "    print('КОЛИЧЕСТВО ПРОПУЩЕННЫХ ЗНАЧЕНИЙ')\n",
    "    display(data.isna().sum())\n",
    "    print('НАЛИЧИЕ ДУБЛИКАТОВ')\n",
    "    display(data.duplicated().sum())"
   ]
  },
  {
   "cell_type": "code",
   "execution_count": 4,
   "id": "aa87559a",
   "metadata": {},
   "outputs": [
    {
     "name": "stdout",
     "output_type": "stream",
     "text": [
      "ПЕРВЫЕ СТРОКИ\n"
     ]
    },
    {
     "data": {
      "text/html": [
       "<div>\n",
       "<style scoped>\n",
       "    .dataframe tbody tr th:only-of-type {\n",
       "        vertical-align: middle;\n",
       "    }\n",
       "\n",
       "    .dataframe tbody tr th {\n",
       "        vertical-align: top;\n",
       "    }\n",
       "\n",
       "    .dataframe thead th {\n",
       "        text-align: right;\n",
       "    }\n",
       "</style>\n",
       "<table border=\"1\" class=\"dataframe\">\n",
       "  <thead>\n",
       "    <tr style=\"text-align: right;\">\n",
       "      <th></th>\n",
       "      <th>user_id</th>\n",
       "      <th>name</th>\n",
       "      <th>age</th>\n",
       "      <th>city</th>\n",
       "      <th>subscription_type</th>\n",
       "    </tr>\n",
       "  </thead>\n",
       "  <tbody>\n",
       "    <tr>\n",
       "      <th>0</th>\n",
       "      <td>1</td>\n",
       "      <td>Кира</td>\n",
       "      <td>22</td>\n",
       "      <td>Тюмень</td>\n",
       "      <td>ultra</td>\n",
       "    </tr>\n",
       "    <tr>\n",
       "      <th>1</th>\n",
       "      <td>2</td>\n",
       "      <td>Станислав</td>\n",
       "      <td>31</td>\n",
       "      <td>Омск</td>\n",
       "      <td>ultra</td>\n",
       "    </tr>\n",
       "    <tr>\n",
       "      <th>2</th>\n",
       "      <td>3</td>\n",
       "      <td>Алексей</td>\n",
       "      <td>20</td>\n",
       "      <td>Москва</td>\n",
       "      <td>ultra</td>\n",
       "    </tr>\n",
       "    <tr>\n",
       "      <th>3</th>\n",
       "      <td>4</td>\n",
       "      <td>Константин</td>\n",
       "      <td>26</td>\n",
       "      <td>Ростов-на-Дону</td>\n",
       "      <td>ultra</td>\n",
       "    </tr>\n",
       "    <tr>\n",
       "      <th>4</th>\n",
       "      <td>5</td>\n",
       "      <td>Адель</td>\n",
       "      <td>28</td>\n",
       "      <td>Омск</td>\n",
       "      <td>ultra</td>\n",
       "    </tr>\n",
       "    <tr>\n",
       "      <th>5</th>\n",
       "      <td>6</td>\n",
       "      <td>Регина</td>\n",
       "      <td>25</td>\n",
       "      <td>Краснодар</td>\n",
       "      <td>ultra</td>\n",
       "    </tr>\n",
       "    <tr>\n",
       "      <th>6</th>\n",
       "      <td>7</td>\n",
       "      <td>Игорь</td>\n",
       "      <td>23</td>\n",
       "      <td>Омск</td>\n",
       "      <td>ultra</td>\n",
       "    </tr>\n",
       "    <tr>\n",
       "      <th>7</th>\n",
       "      <td>8</td>\n",
       "      <td>Юрий</td>\n",
       "      <td>23</td>\n",
       "      <td>Краснодар</td>\n",
       "      <td>ultra</td>\n",
       "    </tr>\n",
       "    <tr>\n",
       "      <th>8</th>\n",
       "      <td>9</td>\n",
       "      <td>Ян</td>\n",
       "      <td>21</td>\n",
       "      <td>Пятигорск</td>\n",
       "      <td>ultra</td>\n",
       "    </tr>\n",
       "    <tr>\n",
       "      <th>9</th>\n",
       "      <td>10</td>\n",
       "      <td>Валерий</td>\n",
       "      <td>18</td>\n",
       "      <td>Екатеринбург</td>\n",
       "      <td>ultra</td>\n",
       "    </tr>\n",
       "  </tbody>\n",
       "</table>\n",
       "</div>"
      ],
      "text/plain": [
       "   user_id        name  age            city subscription_type\n",
       "0        1        Кира   22          Тюмень             ultra\n",
       "1        2   Станислав   31            Омск             ultra\n",
       "2        3     Алексей   20          Москва             ultra\n",
       "3        4  Константин   26  Ростов-на-Дону             ultra\n",
       "4        5       Адель   28            Омск             ultra\n",
       "5        6      Регина   25       Краснодар             ultra\n",
       "6        7       Игорь   23            Омск             ultra\n",
       "7        8        Юрий   23       Краснодар             ultra\n",
       "8        9          Ян   21       Пятигорск             ultra\n",
       "9       10     Валерий   18    Екатеринбург             ultra"
      ]
     },
     "metadata": {},
     "output_type": "display_data"
    },
    {
     "name": "stdout",
     "output_type": "stream",
     "text": [
      "ОБЩАЯ ИНФОРМАЦИЯ\n",
      "<class 'pandas.core.frame.DataFrame'>\n",
      "RangeIndex: 1565 entries, 0 to 1564\n",
      "Data columns (total 5 columns):\n",
      " #   Column             Non-Null Count  Dtype \n",
      "---  ------             --------------  ----- \n",
      " 0   user_id            1565 non-null   int64 \n",
      " 1   name               1565 non-null   object\n",
      " 2   age                1565 non-null   int64 \n",
      " 3   city               1565 non-null   object\n",
      " 4   subscription_type  1565 non-null   object\n",
      "dtypes: int64(2), object(3)\n",
      "memory usage: 61.3+ KB\n"
     ]
    },
    {
     "data": {
      "text/plain": [
       "None"
      ]
     },
     "metadata": {},
     "output_type": "display_data"
    },
    {
     "name": "stdout",
     "output_type": "stream",
     "text": [
      "КОЛИЧЕСТВО ПРОПУЩЕННЫХ ЗНАЧЕНИЙ\n"
     ]
    },
    {
     "data": {
      "text/plain": [
       "user_id              0\n",
       "name                 0\n",
       "age                  0\n",
       "city                 0\n",
       "subscription_type    0\n",
       "dtype: int64"
      ]
     },
     "metadata": {},
     "output_type": "display_data"
    },
    {
     "name": "stdout",
     "output_type": "stream",
     "text": [
      "НАЛИЧИЕ ДУБЛИКАТОВ\n"
     ]
    },
    {
     "data": {
      "text/plain": [
       "31"
      ]
     },
     "metadata": {},
     "output_type": "display_data"
    }
   ],
   "source": [
    "all_info(users)"
   ]
  },
  {
   "cell_type": "code",
   "execution_count": 5,
   "id": "76d3f2aa",
   "metadata": {},
   "outputs": [
    {
     "name": "stdout",
     "output_type": "stream",
     "text": [
      "ПЕРВЫЕ СТРОКИ\n"
     ]
    },
    {
     "data": {
      "text/html": [
       "<div>\n",
       "<style scoped>\n",
       "    .dataframe tbody tr th:only-of-type {\n",
       "        vertical-align: middle;\n",
       "    }\n",
       "\n",
       "    .dataframe tbody tr th {\n",
       "        vertical-align: top;\n",
       "    }\n",
       "\n",
       "    .dataframe thead th {\n",
       "        text-align: right;\n",
       "    }\n",
       "</style>\n",
       "<table border=\"1\" class=\"dataframe\">\n",
       "  <thead>\n",
       "    <tr style=\"text-align: right;\">\n",
       "      <th></th>\n",
       "      <th>user_id</th>\n",
       "      <th>distance</th>\n",
       "      <th>duration</th>\n",
       "      <th>date</th>\n",
       "    </tr>\n",
       "  </thead>\n",
       "  <tbody>\n",
       "    <tr>\n",
       "      <th>0</th>\n",
       "      <td>1</td>\n",
       "      <td>4409.919140</td>\n",
       "      <td>25.599769</td>\n",
       "      <td>2021-01-01</td>\n",
       "    </tr>\n",
       "    <tr>\n",
       "      <th>1</th>\n",
       "      <td>1</td>\n",
       "      <td>2617.592153</td>\n",
       "      <td>15.816871</td>\n",
       "      <td>2021-01-18</td>\n",
       "    </tr>\n",
       "    <tr>\n",
       "      <th>2</th>\n",
       "      <td>1</td>\n",
       "      <td>754.159807</td>\n",
       "      <td>6.232113</td>\n",
       "      <td>2021-04-20</td>\n",
       "    </tr>\n",
       "    <tr>\n",
       "      <th>3</th>\n",
       "      <td>1</td>\n",
       "      <td>2694.783254</td>\n",
       "      <td>18.511000</td>\n",
       "      <td>2021-08-11</td>\n",
       "    </tr>\n",
       "    <tr>\n",
       "      <th>4</th>\n",
       "      <td>1</td>\n",
       "      <td>4028.687306</td>\n",
       "      <td>26.265803</td>\n",
       "      <td>2021-08-28</td>\n",
       "    </tr>\n",
       "    <tr>\n",
       "      <th>5</th>\n",
       "      <td>1</td>\n",
       "      <td>2770.890808</td>\n",
       "      <td>16.650138</td>\n",
       "      <td>2021-10-09</td>\n",
       "    </tr>\n",
       "    <tr>\n",
       "      <th>6</th>\n",
       "      <td>1</td>\n",
       "      <td>3039.020292</td>\n",
       "      <td>14.927879</td>\n",
       "      <td>2021-10-19</td>\n",
       "    </tr>\n",
       "    <tr>\n",
       "      <th>7</th>\n",
       "      <td>1</td>\n",
       "      <td>2842.118050</td>\n",
       "      <td>23.117468</td>\n",
       "      <td>2021-11-06</td>\n",
       "    </tr>\n",
       "    <tr>\n",
       "      <th>8</th>\n",
       "      <td>1</td>\n",
       "      <td>3412.690668</td>\n",
       "      <td>15.238072</td>\n",
       "      <td>2021-11-14</td>\n",
       "    </tr>\n",
       "    <tr>\n",
       "      <th>9</th>\n",
       "      <td>1</td>\n",
       "      <td>748.690645</td>\n",
       "      <td>15.041884</td>\n",
       "      <td>2021-11-22</td>\n",
       "    </tr>\n",
       "  </tbody>\n",
       "</table>\n",
       "</div>"
      ],
      "text/plain": [
       "   user_id     distance   duration        date\n",
       "0        1  4409.919140  25.599769  2021-01-01\n",
       "1        1  2617.592153  15.816871  2021-01-18\n",
       "2        1   754.159807   6.232113  2021-04-20\n",
       "3        1  2694.783254  18.511000  2021-08-11\n",
       "4        1  4028.687306  26.265803  2021-08-28\n",
       "5        1  2770.890808  16.650138  2021-10-09\n",
       "6        1  3039.020292  14.927879  2021-10-19\n",
       "7        1  2842.118050  23.117468  2021-11-06\n",
       "8        1  3412.690668  15.238072  2021-11-14\n",
       "9        1   748.690645  15.041884  2021-11-22"
      ]
     },
     "metadata": {},
     "output_type": "display_data"
    },
    {
     "name": "stdout",
     "output_type": "stream",
     "text": [
      "ОБЩАЯ ИНФОРМАЦИЯ\n",
      "<class 'pandas.core.frame.DataFrame'>\n",
      "RangeIndex: 18068 entries, 0 to 18067\n",
      "Data columns (total 4 columns):\n",
      " #   Column    Non-Null Count  Dtype  \n",
      "---  ------    --------------  -----  \n",
      " 0   user_id   18068 non-null  int64  \n",
      " 1   distance  18068 non-null  float64\n",
      " 2   duration  18068 non-null  float64\n",
      " 3   date      18068 non-null  object \n",
      "dtypes: float64(2), int64(1), object(1)\n",
      "memory usage: 564.8+ KB\n"
     ]
    },
    {
     "data": {
      "text/plain": [
       "None"
      ]
     },
     "metadata": {},
     "output_type": "display_data"
    },
    {
     "name": "stdout",
     "output_type": "stream",
     "text": [
      "КОЛИЧЕСТВО ПРОПУЩЕННЫХ ЗНАЧЕНИЙ\n"
     ]
    },
    {
     "data": {
      "text/plain": [
       "user_id     0\n",
       "distance    0\n",
       "duration    0\n",
       "date        0\n",
       "dtype: int64"
      ]
     },
     "metadata": {},
     "output_type": "display_data"
    },
    {
     "name": "stdout",
     "output_type": "stream",
     "text": [
      "НАЛИЧИЕ ДУБЛИКАТОВ\n"
     ]
    },
    {
     "data": {
      "text/plain": [
       "0"
      ]
     },
     "metadata": {},
     "output_type": "display_data"
    }
   ],
   "source": [
    "all_info(rides)"
   ]
  },
  {
   "cell_type": "code",
   "execution_count": 6,
   "id": "b13daf23",
   "metadata": {},
   "outputs": [
    {
     "name": "stdout",
     "output_type": "stream",
     "text": [
      "ПЕРВЫЕ СТРОКИ\n"
     ]
    },
    {
     "data": {
      "text/html": [
       "<div>\n",
       "<style scoped>\n",
       "    .dataframe tbody tr th:only-of-type {\n",
       "        vertical-align: middle;\n",
       "    }\n",
       "\n",
       "    .dataframe tbody tr th {\n",
       "        vertical-align: top;\n",
       "    }\n",
       "\n",
       "    .dataframe thead th {\n",
       "        text-align: right;\n",
       "    }\n",
       "</style>\n",
       "<table border=\"1\" class=\"dataframe\">\n",
       "  <thead>\n",
       "    <tr style=\"text-align: right;\">\n",
       "      <th></th>\n",
       "      <th>subscription_type</th>\n",
       "      <th>minute_price</th>\n",
       "      <th>start_ride_price</th>\n",
       "      <th>subscription_fee</th>\n",
       "    </tr>\n",
       "  </thead>\n",
       "  <tbody>\n",
       "    <tr>\n",
       "      <th>0</th>\n",
       "      <td>free</td>\n",
       "      <td>8</td>\n",
       "      <td>50</td>\n",
       "      <td>0</td>\n",
       "    </tr>\n",
       "    <tr>\n",
       "      <th>1</th>\n",
       "      <td>ultra</td>\n",
       "      <td>6</td>\n",
       "      <td>0</td>\n",
       "      <td>199</td>\n",
       "    </tr>\n",
       "  </tbody>\n",
       "</table>\n",
       "</div>"
      ],
      "text/plain": [
       "  subscription_type  minute_price  start_ride_price  subscription_fee\n",
       "0              free             8                50                 0\n",
       "1             ultra             6                 0               199"
      ]
     },
     "metadata": {},
     "output_type": "display_data"
    },
    {
     "name": "stdout",
     "output_type": "stream",
     "text": [
      "ОБЩАЯ ИНФОРМАЦИЯ\n",
      "<class 'pandas.core.frame.DataFrame'>\n",
      "RangeIndex: 2 entries, 0 to 1\n",
      "Data columns (total 4 columns):\n",
      " #   Column             Non-Null Count  Dtype \n",
      "---  ------             --------------  ----- \n",
      " 0   subscription_type  2 non-null      object\n",
      " 1   minute_price       2 non-null      int64 \n",
      " 2   start_ride_price   2 non-null      int64 \n",
      " 3   subscription_fee   2 non-null      int64 \n",
      "dtypes: int64(3), object(1)\n",
      "memory usage: 192.0+ bytes\n"
     ]
    },
    {
     "data": {
      "text/plain": [
       "None"
      ]
     },
     "metadata": {},
     "output_type": "display_data"
    },
    {
     "name": "stdout",
     "output_type": "stream",
     "text": [
      "КОЛИЧЕСТВО ПРОПУЩЕННЫХ ЗНАЧЕНИЙ\n"
     ]
    },
    {
     "data": {
      "text/plain": [
       "subscription_type    0\n",
       "minute_price         0\n",
       "start_ride_price     0\n",
       "subscription_fee     0\n",
       "dtype: int64"
      ]
     },
     "metadata": {},
     "output_type": "display_data"
    },
    {
     "name": "stdout",
     "output_type": "stream",
     "text": [
      "НАЛИЧИЕ ДУБЛИКАТОВ\n"
     ]
    },
    {
     "data": {
      "text/plain": [
       "0"
      ]
     },
     "metadata": {},
     "output_type": "display_data"
    }
   ],
   "source": [
    "all_info(subscriptions)"
   ]
  },
  {
   "cell_type": "code",
   "execution_count": 7,
   "id": "005e02d5",
   "metadata": {},
   "outputs": [],
   "source": [
    "# в столбце 'date' датафрейма rides изменим тип данных на datetime\n",
    "rides['date'] = pd.to_datetime(rides['date'], format='%Y.%m.%d')"
   ]
  },
  {
   "cell_type": "code",
   "execution_count": 8,
   "id": "a74ad857",
   "metadata": {},
   "outputs": [],
   "source": [
    "# округлим значения в столбце 'distance'\n",
    "rides['distance'] = rides['distance'].round(2)"
   ]
  },
  {
   "cell_type": "code",
   "execution_count": 9,
   "id": "13a1f8c4",
   "metadata": {},
   "outputs": [],
   "source": [
    "# удалим дубликаты \n",
    "users.drop_duplicates(inplace=True)"
   ]
  },
  {
   "cell_type": "markdown",
   "id": "6a1261ce",
   "metadata": {},
   "source": [
    "**Вывод:** В ходе предобработки данных таблиц пропущенные значения не выявлены, для проведения более коректного анализа изменен тип данных в столбце 'date' и округлены значения в столбце 'distance' датафрейма rides, удалены дубликаты в датафрейме users."
   ]
  },
  {
   "cell_type": "markdown",
   "id": "212593c7",
   "metadata": {},
   "source": [
    "### Исследовательский анализ данных"
   ]
  },
  {
   "cell_type": "markdown",
   "id": "f90a2130",
   "metadata": {},
   "source": [
    "#### Частота встречаемости городов"
   ]
  },
  {
   "cell_type": "code",
   "execution_count": 10,
   "id": "93fbf4f1",
   "metadata": {},
   "outputs": [
    {
     "data": {
      "text/plain": [
       "Пятигорск         219\n",
       "Екатеринбург      204\n",
       "Ростов-на-Дону    198\n",
       "Краснодар         193\n",
       "Сочи              189\n",
       "Омск              183\n",
       "Тюмень            180\n",
       "Москва            168\n",
       "Name: city, dtype: int64"
      ]
     },
     "execution_count": 10,
     "metadata": {},
     "output_type": "execute_result"
    }
   ],
   "source": [
    "# сгруппируем данные по названиям городов и отсортируем по убыванию\n",
    "users['city'].value_counts().sort_values(ascending=False)"
   ]
  },
  {
   "cell_type": "code",
   "execution_count": 11,
   "id": "daec438c",
   "metadata": {},
   "outputs": [
    {
     "data": {
      "image/png": "[encoded data removed]",
      "text/plain": [
       "<Figure size 1440x360 with 1 Axes>"
      ]
     },
     "metadata": {
      "needs_background": "light"
     },
     "output_type": "display_data"
    }
   ],
   "source": [
    "# строим гистограмму\n",
    "users['city'].hist(bins=30, color='green', figsize=(20,5))\n",
    "\n",
    "# установка заголовка графика\n",
    "plt.title('Частота встречаемости городов', fontsize=15)\n",
    "\n",
    "# добавление подписи оси у\n",
    "plt.ylabel('количество поездок')\n",
    "\n",
    "# уберем рамку\n",
    "for pos in ['right', 'top']: \n",
    "    plt.gca().spines[pos].set_visible(False)\n",
    "\n",
    "# убираем сетку\n",
    "plt.grid(False)\n",
    "\n",
    "# показ гистограммы\n",
    "plt.show()"
   ]
  },
  {
   "cell_type": "markdown",
   "id": "5ba3d422",
   "metadata": {},
   "source": [
    "По полученным данным видно, что чаще всего сервисом GoFast пользуются жители города Пятигорск, меньше всего пользуются сервисом в Москве."
   ]
  },
  {
   "cell_type": "markdown",
   "id": "59a3acd0",
   "metadata": {},
   "source": [
    "#### Соотношение пользователей с подпиской и без подписки"
   ]
  },
  {
   "cell_type": "code",
   "execution_count": 12,
   "id": "f9532ca9",
   "metadata": {},
   "outputs": [
    {
     "data": {
      "image/png": "[encoded data removed]",
      "text/plain": [
       "<Figure size 360x360 with 1 Axes>"
      ]
     },
     "metadata": {},
     "output_type": "display_data"
    }
   ],
   "source": [
    "# строим диаграмму\n",
    "users['subscription_type'].value_counts().plot(kind = 'pie', figsize = (5,5), colors = ['gray', 'green'], autopct = '%1.0f%%')\n",
    "\n",
    "# установка заголовка графика\n",
    "plt.title('Соотношение количества поездок с подпиской и без подписки', fontsize=15)\n",
    "\n",
    "# уберем подпись оси Y\n",
    "plt.ylabel(None)\n",
    "\n",
    "# показ гистограммы\n",
    "plt.show()"
   ]
  },
  {
   "cell_type": "markdown",
   "id": "390c38ad",
   "metadata": {},
   "source": [
    "Сервисом чаще всего пользуются без подписки, но существенной разницы нет."
   ]
  },
  {
   "cell_type": "markdown",
   "id": "edfe8fe1",
   "metadata": {},
   "source": [
    "#### Возраст пользователей"
   ]
  },
  {
   "cell_type": "code",
   "execution_count": 13,
   "id": "fe1b1dbe",
   "metadata": {},
   "outputs": [
    {
     "data": {
      "image/png": "[encoded data removed]",
      "text/plain": [
       "<Figure size 1440x360 with 1 Axes>"
      ]
     },
     "metadata": {
      "needs_background": "light"
     },
     "output_type": "display_data"
    }
   ],
   "source": [
    "# строим гистограмму\n",
    "users['age'].hist(bins=80, color='green', figsize=(20,5))\n",
    "\n",
    "# установка заголовка графика\n",
    "plt.title('Возраст пользователей', fontsize=15)\n",
    "\n",
    "# добавление подписи осей\n",
    "plt.ylabel('количество поездок')\n",
    "plt.xlabel('возраст')\n",
    "\n",
    "# уберем рамку\n",
    "for pos in ['right', 'top']: \n",
    "    plt.gca().spines[pos].set_visible(False)\n",
    "\n",
    "# убираем сетку\n",
    "plt.grid(False)\n",
    "\n",
    "# показ гистограммы\n",
    "plt.show()"
   ]
  },
  {
   "cell_type": "code",
   "execution_count": 14,
   "id": "f5b06e7d",
   "metadata": {},
   "outputs": [
    {
     "data": {
      "text/plain": [
       "count    1534.000000\n",
       "mean       24.903520\n",
       "std         4.572367\n",
       "min        12.000000\n",
       "25%        22.000000\n",
       "50%        25.000000\n",
       "75%        28.000000\n",
       "max        43.000000\n",
       "Name: age, dtype: float64"
      ]
     },
     "execution_count": 14,
     "metadata": {},
     "output_type": "execute_result"
    }
   ],
   "source": [
    "# описание данных\n",
    "users['age'].describe()"
   ]
  },
  {
   "cell_type": "markdown",
   "id": "f2c0ac1d",
   "metadata": {},
   "source": [
    "Чаще всего сервисом пользуются жители в возрасте 25 лет, минимальный возраст пользователей составил 12 лет, максимальный 43 года. Учитывая первый и третий квартиль можно сделать вывод, что сервисом в основном пользуются жители в возрасте от 22 до 28 лет. "
   ]
  },
  {
   "cell_type": "markdown",
   "id": "1e36d51d",
   "metadata": {},
   "source": [
    "#### Расстояние, которое пользователь преодолел за одну поездку"
   ]
  },
  {
   "cell_type": "code",
   "execution_count": 15,
   "id": "7581934c",
   "metadata": {},
   "outputs": [
    {
     "data": {
      "image/png": "[encoded data removed]",
      "text/plain": [
       "<Figure size 1440x360 with 1 Axes>"
      ]
     },
     "metadata": {
      "needs_background": "light"
     },
     "output_type": "display_data"
    }
   ],
   "source": [
    "# строим гистограмму\n",
    "rides['distance'].hist(bins=100, color='green', figsize=(20,5))\n",
    "\n",
    "# установка заголовка графика\n",
    "plt.title('Расстояние, которое пользователь преодолел за одну поездку', fontsize=15)\n",
    "\n",
    "# добавление подписи осей\n",
    "plt.ylabel('количество поездок')\n",
    "plt.xlabel('расстояние, м')\n",
    "\n",
    "# уберем рамку\n",
    "for pos in ['right', 'top']: \n",
    "    plt.gca().spines[pos].set_visible(False)\n",
    "\n",
    "# убираем сетку\n",
    "plt.grid(False)\n",
    "\n",
    "# показ гистограммы\n",
    "plt.show()"
   ]
  },
  {
   "cell_type": "code",
   "execution_count": 16,
   "id": "250110ff",
   "metadata": {},
   "outputs": [
    {
     "data": {
      "text/plain": [
       "max       7211.0\n",
       "median    3134.0\n",
       "min          1.0\n",
       "Name: distance, dtype: float64"
      ]
     },
     "execution_count": 16,
     "metadata": {},
     "output_type": "execute_result"
    }
   ],
   "source": [
    "# посмотрим минмальное, максимальное и медианное расстояние\n",
    "rides['distance'].agg(['max', 'median', 'min']).round()"
   ]
  },
  {
   "cell_type": "markdown",
   "id": "5e7f84d2",
   "metadata": {},
   "source": [
    "Так как на графике расположенно два пика, учитываем вместо среднего значения медианное. Чаще всего пользователи проезжают в пределах 3 км, максимальное рассотяние - 7 км, минимальное - 1 м."
   ]
  },
  {
   "cell_type": "markdown",
   "id": "30891461",
   "metadata": {},
   "source": [
    "#### Продолжительность поездок"
   ]
  },
  {
   "cell_type": "code",
   "execution_count": 17,
   "id": "821f6276",
   "metadata": {},
   "outputs": [
    {
     "data": {
      "image/png": "[encoded data removed]",
      "text/plain": [
       "<Figure size 1440x360 with 1 Axes>"
      ]
     },
     "metadata": {
      "needs_background": "light"
     },
     "output_type": "display_data"
    }
   ],
   "source": [
    "# строим гистограмму\n",
    "rides['duration'].round().hist(bins=100, color='green', figsize=(20,5))\n",
    "\n",
    "# установка заголовка графика\n",
    "plt.title('Продолжительность поездок', fontsize=15)\n",
    "\n",
    "# добавление подписи осей\n",
    "plt.ylabel('количество поездок')\n",
    "plt.xlabel('продолжительность сессии, мин')\n",
    "\n",
    "# уберем рамку\n",
    "for pos in ['right', 'top']: \n",
    "    plt.gca().spines[pos].set_visible(False)\n",
    "\n",
    "# убираем сетку\n",
    "plt.grid(False)\n",
    "\n",
    "# показ гистограммы\n",
    "plt.show()"
   ]
  },
  {
   "cell_type": "code",
   "execution_count": 18,
   "id": "c984d5a3",
   "metadata": {},
   "outputs": [
    {
     "data": {
      "text/plain": [
       "max     41.0\n",
       "mean    18.0\n",
       "min      0.0\n",
       "Name: duration, dtype: float64"
      ]
     },
     "execution_count": 18,
     "metadata": {},
     "output_type": "execute_result"
    }
   ],
   "source": [
    "# посмотрим минмальное, максимальное и медианное время\n",
    "rides['duration'].agg(['max', 'mean', 'min']).round()"
   ]
  },
  {
   "cell_type": "code",
   "execution_count": 19,
   "id": "6fe64b1b",
   "metadata": {},
   "outputs": [
    {
     "data": {
      "text/html": [
       "<div>\n",
       "<style scoped>\n",
       "    .dataframe tbody tr th:only-of-type {\n",
       "        vertical-align: middle;\n",
       "    }\n",
       "\n",
       "    .dataframe tbody tr th {\n",
       "        vertical-align: top;\n",
       "    }\n",
       "\n",
       "    .dataframe thead th {\n",
       "        text-align: right;\n",
       "    }\n",
       "</style>\n",
       "<table border=\"1\" class=\"dataframe\">\n",
       "  <thead>\n",
       "    <tr style=\"text-align: right;\">\n",
       "      <th></th>\n",
       "      <th>user_id</th>\n",
       "      <th>distance</th>\n",
       "      <th>duration</th>\n",
       "      <th>date</th>\n",
       "    </tr>\n",
       "  </thead>\n",
       "  <tbody>\n",
       "    <tr>\n",
       "      <th>6531</th>\n",
       "      <td>701</td>\n",
       "      <td>4196.45</td>\n",
       "      <td>0.5</td>\n",
       "      <td>2021-08-31</td>\n",
       "    </tr>\n",
       "    <tr>\n",
       "      <th>6570</th>\n",
       "      <td>704</td>\n",
       "      <td>4830.82</td>\n",
       "      <td>0.5</td>\n",
       "      <td>2021-10-14</td>\n",
       "    </tr>\n",
       "    <tr>\n",
       "      <th>6680</th>\n",
       "      <td>712</td>\n",
       "      <td>4684.00</td>\n",
       "      <td>0.5</td>\n",
       "      <td>2021-03-04</td>\n",
       "    </tr>\n",
       "    <tr>\n",
       "      <th>6695</th>\n",
       "      <td>713</td>\n",
       "      <td>5215.64</td>\n",
       "      <td>0.5</td>\n",
       "      <td>2021-02-25</td>\n",
       "    </tr>\n",
       "    <tr>\n",
       "      <th>6768</th>\n",
       "      <td>718</td>\n",
       "      <td>5197.44</td>\n",
       "      <td>0.5</td>\n",
       "      <td>2021-02-11</td>\n",
       "    </tr>\n",
       "    <tr>\n",
       "      <th>...</th>\n",
       "      <td>...</td>\n",
       "      <td>...</td>\n",
       "      <td>...</td>\n",
       "      <td>...</td>\n",
       "    </tr>\n",
       "    <tr>\n",
       "      <th>17004</th>\n",
       "      <td>1460</td>\n",
       "      <td>5531.34</td>\n",
       "      <td>0.5</td>\n",
       "      <td>2021-01-19</td>\n",
       "    </tr>\n",
       "    <tr>\n",
       "      <th>17242</th>\n",
       "      <td>1477</td>\n",
       "      <td>6724.93</td>\n",
       "      <td>0.5</td>\n",
       "      <td>2021-01-12</td>\n",
       "    </tr>\n",
       "    <tr>\n",
       "      <th>17314</th>\n",
       "      <td>1483</td>\n",
       "      <td>4445.48</td>\n",
       "      <td>0.5</td>\n",
       "      <td>2021-03-06</td>\n",
       "    </tr>\n",
       "    <tr>\n",
       "      <th>17505</th>\n",
       "      <td>1496</td>\n",
       "      <td>5722.55</td>\n",
       "      <td>0.5</td>\n",
       "      <td>2021-02-14</td>\n",
       "    </tr>\n",
       "    <tr>\n",
       "      <th>17909</th>\n",
       "      <td>1524</td>\n",
       "      <td>4104.00</td>\n",
       "      <td>0.5</td>\n",
       "      <td>2021-06-18</td>\n",
       "    </tr>\n",
       "  </tbody>\n",
       "</table>\n",
       "<p>95 rows × 4 columns</p>\n",
       "</div>"
      ],
      "text/plain": [
       "       user_id  distance  duration       date\n",
       "6531       701   4196.45       0.5 2021-08-31\n",
       "6570       704   4830.82       0.5 2021-10-14\n",
       "6680       712   4684.00       0.5 2021-03-04\n",
       "6695       713   5215.64       0.5 2021-02-25\n",
       "6768       718   5197.44       0.5 2021-02-11\n",
       "...        ...       ...       ...        ...\n",
       "17004     1460   5531.34       0.5 2021-01-19\n",
       "17242     1477   6724.93       0.5 2021-01-12\n",
       "17314     1483   4445.48       0.5 2021-03-06\n",
       "17505     1496   5722.55       0.5 2021-02-14\n",
       "17909     1524   4104.00       0.5 2021-06-18\n",
       "\n",
       "[95 rows x 4 columns]"
      ]
     },
     "execution_count": 19,
     "metadata": {},
     "output_type": "execute_result"
    }
   ],
   "source": [
    "# посмотрим сколько поездок менее 1 минуты\n",
    "rides.query('duration < 1')"
   ]
  },
  {
   "cell_type": "markdown",
   "id": "d9f00695",
   "metadata": {},
   "source": [
    "Гистограмма показывает нормальное распределение без пиков, значит будем учитывать среднюю продолжительность поездки. Пользователи в среднем тратят на одну поездку 18 минут. Максимальная поездка была 41 минуту. Минимальное значение выглядит как аномальное. Вывод значений меньше 1 минуты показал, что пользователи тратят одинаковое время на поездку 30 секунд, при этом расстояние, которое они преодолевают невозможно за такой короткий промежуток времени. Есть предположение, что у самокатов произошел технический сбой в программе, либо ошибка выгрузки данных. "
   ]
  },
  {
   "cell_type": "markdown",
   "id": "4ef51331",
   "metadata": {},
   "source": [
    "### Объединение данных"
   ]
  },
  {
   "cell_type": "markdown",
   "id": "06e9467d",
   "metadata": {},
   "source": [
    "#### Объединение всех датафреймов методом merge():"
   ]
  },
  {
   "cell_type": "code",
   "execution_count": 20,
   "id": "a7be636b",
   "metadata": {},
   "outputs": [
    {
     "data": {
      "text/plain": [
       "(1534, 5)"
      ]
     },
     "execution_count": 20,
     "metadata": {},
     "output_type": "execute_result"
    }
   ],
   "source": [
    "# исходный размер users\n",
    "users.shape"
   ]
  },
  {
   "cell_type": "code",
   "execution_count": 21,
   "id": "1c3cbaed",
   "metadata": {},
   "outputs": [
    {
     "data": {
      "text/plain": [
       "(18068, 4)"
      ]
     },
     "execution_count": 21,
     "metadata": {},
     "output_type": "execute_result"
    }
   ],
   "source": [
    "# исходный размер rides\n",
    "rides.shape"
   ]
  },
  {
   "cell_type": "code",
   "execution_count": 22,
   "id": "1a54e761",
   "metadata": {},
   "outputs": [
    {
     "data": {
      "text/plain": [
       "(2, 4)"
      ]
     },
     "execution_count": 22,
     "metadata": {},
     "output_type": "execute_result"
    }
   ],
   "source": [
    "# исходный размер subscriptions\n",
    "subscriptions.shape"
   ]
  },
  {
   "cell_type": "code",
   "execution_count": 23,
   "id": "6bf288b5",
   "metadata": {},
   "outputs": [],
   "source": [
    "data = pd.merge(users, rides, how='outer')\n",
    "total_data = pd.merge(data, subscriptions, how='outer')"
   ]
  },
  {
   "cell_type": "code",
   "execution_count": 24,
   "id": "ac2d75e5",
   "metadata": {},
   "outputs": [
    {
     "data": {
      "text/html": [
       "<div>\n",
       "<style scoped>\n",
       "    .dataframe tbody tr th:only-of-type {\n",
       "        vertical-align: middle;\n",
       "    }\n",
       "\n",
       "    .dataframe tbody tr th {\n",
       "        vertical-align: top;\n",
       "    }\n",
       "\n",
       "    .dataframe thead th {\n",
       "        text-align: right;\n",
       "    }\n",
       "</style>\n",
       "<table border=\"1\" class=\"dataframe\">\n",
       "  <thead>\n",
       "    <tr style=\"text-align: right;\">\n",
       "      <th></th>\n",
       "      <th>user_id</th>\n",
       "      <th>name</th>\n",
       "      <th>age</th>\n",
       "      <th>city</th>\n",
       "      <th>subscription_type</th>\n",
       "      <th>distance</th>\n",
       "      <th>duration</th>\n",
       "      <th>date</th>\n",
       "      <th>minute_price</th>\n",
       "      <th>start_ride_price</th>\n",
       "      <th>subscription_fee</th>\n",
       "    </tr>\n",
       "  </thead>\n",
       "  <tbody>\n",
       "    <tr>\n",
       "      <th>0</th>\n",
       "      <td>1</td>\n",
       "      <td>Кира</td>\n",
       "      <td>22</td>\n",
       "      <td>Тюмень</td>\n",
       "      <td>ultra</td>\n",
       "      <td>4409.92</td>\n",
       "      <td>25.599769</td>\n",
       "      <td>2021-01-01</td>\n",
       "      <td>6</td>\n",
       "      <td>0</td>\n",
       "      <td>199</td>\n",
       "    </tr>\n",
       "    <tr>\n",
       "      <th>1</th>\n",
       "      <td>1</td>\n",
       "      <td>Кира</td>\n",
       "      <td>22</td>\n",
       "      <td>Тюмень</td>\n",
       "      <td>ultra</td>\n",
       "      <td>2617.59</td>\n",
       "      <td>15.816871</td>\n",
       "      <td>2021-01-18</td>\n",
       "      <td>6</td>\n",
       "      <td>0</td>\n",
       "      <td>199</td>\n",
       "    </tr>\n",
       "    <tr>\n",
       "      <th>2</th>\n",
       "      <td>1</td>\n",
       "      <td>Кира</td>\n",
       "      <td>22</td>\n",
       "      <td>Тюмень</td>\n",
       "      <td>ultra</td>\n",
       "      <td>754.16</td>\n",
       "      <td>6.232113</td>\n",
       "      <td>2021-04-20</td>\n",
       "      <td>6</td>\n",
       "      <td>0</td>\n",
       "      <td>199</td>\n",
       "    </tr>\n",
       "    <tr>\n",
       "      <th>3</th>\n",
       "      <td>1</td>\n",
       "      <td>Кира</td>\n",
       "      <td>22</td>\n",
       "      <td>Тюмень</td>\n",
       "      <td>ultra</td>\n",
       "      <td>2694.78</td>\n",
       "      <td>18.511000</td>\n",
       "      <td>2021-08-11</td>\n",
       "      <td>6</td>\n",
       "      <td>0</td>\n",
       "      <td>199</td>\n",
       "    </tr>\n",
       "    <tr>\n",
       "      <th>4</th>\n",
       "      <td>1</td>\n",
       "      <td>Кира</td>\n",
       "      <td>22</td>\n",
       "      <td>Тюмень</td>\n",
       "      <td>ultra</td>\n",
       "      <td>4028.69</td>\n",
       "      <td>26.265803</td>\n",
       "      <td>2021-08-28</td>\n",
       "      <td>6</td>\n",
       "      <td>0</td>\n",
       "      <td>199</td>\n",
       "    </tr>\n",
       "    <tr>\n",
       "      <th>...</th>\n",
       "      <td>...</td>\n",
       "      <td>...</td>\n",
       "      <td>...</td>\n",
       "      <td>...</td>\n",
       "      <td>...</td>\n",
       "      <td>...</td>\n",
       "      <td>...</td>\n",
       "      <td>...</td>\n",
       "      <td>...</td>\n",
       "      <td>...</td>\n",
       "      <td>...</td>\n",
       "    </tr>\n",
       "    <tr>\n",
       "      <th>18063</th>\n",
       "      <td>1534</td>\n",
       "      <td>Альберт</td>\n",
       "      <td>25</td>\n",
       "      <td>Краснодар</td>\n",
       "      <td>free</td>\n",
       "      <td>3781.10</td>\n",
       "      <td>19.822962</td>\n",
       "      <td>2021-11-04</td>\n",
       "      <td>8</td>\n",
       "      <td>50</td>\n",
       "      <td>0</td>\n",
       "    </tr>\n",
       "    <tr>\n",
       "      <th>18064</th>\n",
       "      <td>1534</td>\n",
       "      <td>Альберт</td>\n",
       "      <td>25</td>\n",
       "      <td>Краснодар</td>\n",
       "      <td>free</td>\n",
       "      <td>2840.42</td>\n",
       "      <td>21.409799</td>\n",
       "      <td>2021-11-16</td>\n",
       "      <td>8</td>\n",
       "      <td>50</td>\n",
       "      <td>0</td>\n",
       "    </tr>\n",
       "    <tr>\n",
       "      <th>18065</th>\n",
       "      <td>1534</td>\n",
       "      <td>Альберт</td>\n",
       "      <td>25</td>\n",
       "      <td>Краснодар</td>\n",
       "      <td>free</td>\n",
       "      <td>3826.19</td>\n",
       "      <td>18.435051</td>\n",
       "      <td>2021-11-18</td>\n",
       "      <td>8</td>\n",
       "      <td>50</td>\n",
       "      <td>0</td>\n",
       "    </tr>\n",
       "    <tr>\n",
       "      <th>18066</th>\n",
       "      <td>1534</td>\n",
       "      <td>Альберт</td>\n",
       "      <td>25</td>\n",
       "      <td>Краснодар</td>\n",
       "      <td>free</td>\n",
       "      <td>2902.31</td>\n",
       "      <td>16.674362</td>\n",
       "      <td>2021-11-27</td>\n",
       "      <td>8</td>\n",
       "      <td>50</td>\n",
       "      <td>0</td>\n",
       "    </tr>\n",
       "    <tr>\n",
       "      <th>18067</th>\n",
       "      <td>1534</td>\n",
       "      <td>Альберт</td>\n",
       "      <td>25</td>\n",
       "      <td>Краснодар</td>\n",
       "      <td>free</td>\n",
       "      <td>2371.71</td>\n",
       "      <td>15.893917</td>\n",
       "      <td>2021-12-29</td>\n",
       "      <td>8</td>\n",
       "      <td>50</td>\n",
       "      <td>0</td>\n",
       "    </tr>\n",
       "  </tbody>\n",
       "</table>\n",
       "<p>18068 rows × 11 columns</p>\n",
       "</div>"
      ],
      "text/plain": [
       "       user_id     name  age       city subscription_type  distance  \\\n",
       "0            1     Кира   22     Тюмень             ultra   4409.92   \n",
       "1            1     Кира   22     Тюмень             ultra   2617.59   \n",
       "2            1     Кира   22     Тюмень             ultra    754.16   \n",
       "3            1     Кира   22     Тюмень             ultra   2694.78   \n",
       "4            1     Кира   22     Тюмень             ultra   4028.69   \n",
       "...        ...      ...  ...        ...               ...       ...   \n",
       "18063     1534  Альберт   25  Краснодар              free   3781.10   \n",
       "18064     1534  Альберт   25  Краснодар              free   2840.42   \n",
       "18065     1534  Альберт   25  Краснодар              free   3826.19   \n",
       "18066     1534  Альберт   25  Краснодар              free   2902.31   \n",
       "18067     1534  Альберт   25  Краснодар              free   2371.71   \n",
       "\n",
       "        duration       date  minute_price  start_ride_price  subscription_fee  \n",
       "0      25.599769 2021-01-01             6                 0               199  \n",
       "1      15.816871 2021-01-18             6                 0               199  \n",
       "2       6.232113 2021-04-20             6                 0               199  \n",
       "3      18.511000 2021-08-11             6                 0               199  \n",
       "4      26.265803 2021-08-28             6                 0               199  \n",
       "...          ...        ...           ...               ...               ...  \n",
       "18063  19.822962 2021-11-04             8                50                 0  \n",
       "18064  21.409799 2021-11-16             8                50                 0  \n",
       "18065  18.435051 2021-11-18             8                50                 0  \n",
       "18066  16.674362 2021-11-27             8                50                 0  \n",
       "18067  15.893917 2021-12-29             8                50                 0  \n",
       "\n",
       "[18068 rows x 11 columns]"
      ]
     },
     "execution_count": 24,
     "metadata": {},
     "output_type": "execute_result"
    }
   ],
   "source": [
    "total_data"
   ]
  },
  {
   "cell_type": "code",
   "execution_count": 25,
   "id": "bb351f99",
   "metadata": {},
   "outputs": [
    {
     "data": {
      "text/plain": [
       "(18068, 11)"
      ]
     },
     "execution_count": 25,
     "metadata": {},
     "output_type": "execute_result"
    }
   ],
   "source": [
    "# смотрим размер таблицы после объединения\n",
    "\n",
    "total_data.shape"
   ]
  },
  {
   "cell_type": "code",
   "execution_count": 26,
   "id": "bbba8a5d",
   "metadata": {},
   "outputs": [
    {
     "data": {
      "text/plain": [
       "1534"
      ]
     },
     "execution_count": 26,
     "metadata": {},
     "output_type": "execute_result"
    }
   ],
   "source": [
    "# проверим количество уникальных пользователей после объединения\n",
    "\n",
    "len(total_data['user_id'].unique())"
   ]
  },
  {
   "cell_type": "code",
   "execution_count": 27,
   "id": "93cdfcc6",
   "metadata": {},
   "outputs": [
    {
     "data": {
      "text/plain": [
       "user_id              0\n",
       "name                 0\n",
       "age                  0\n",
       "city                 0\n",
       "subscription_type    0\n",
       "distance             0\n",
       "duration             0\n",
       "date                 0\n",
       "minute_price         0\n",
       "start_ride_price     0\n",
       "subscription_fee     0\n",
       "dtype: int64"
      ]
     },
     "execution_count": 27,
     "metadata": {},
     "output_type": "execute_result"
    }
   ],
   "source": [
    "# проверим на наличие пропусков после объединения\n",
    "\n",
    "total_data.isna().sum()"
   ]
  },
  {
   "cell_type": "markdown",
   "id": "ec5d8bbd",
   "metadata": {},
   "source": [
    "После объединения количество строк в total_data совпало с исходным количеством строк в rides. Количество уникальных пользователей не изменилось. Пропуски после объединения не обнаружены."
   ]
  },
  {
   "cell_type": "markdown",
   "id": "b85b3629",
   "metadata": {},
   "source": [
    "#### Датафрейм с данными о пользователях без подписки:"
   ]
  },
  {
   "cell_type": "code",
   "execution_count": 28,
   "id": "c9d2b8c0",
   "metadata": {},
   "outputs": [
    {
     "data": {
      "text/html": [
       "<div>\n",
       "<style scoped>\n",
       "    .dataframe tbody tr th:only-of-type {\n",
       "        vertical-align: middle;\n",
       "    }\n",
       "\n",
       "    .dataframe tbody tr th {\n",
       "        vertical-align: top;\n",
       "    }\n",
       "\n",
       "    .dataframe thead th {\n",
       "        text-align: right;\n",
       "    }\n",
       "</style>\n",
       "<table border=\"1\" class=\"dataframe\">\n",
       "  <thead>\n",
       "    <tr style=\"text-align: right;\">\n",
       "      <th></th>\n",
       "      <th>user_id</th>\n",
       "      <th>name</th>\n",
       "      <th>age</th>\n",
       "      <th>city</th>\n",
       "      <th>subscription_type</th>\n",
       "      <th>distance</th>\n",
       "      <th>duration</th>\n",
       "      <th>date</th>\n",
       "      <th>minute_price</th>\n",
       "      <th>start_ride_price</th>\n",
       "      <th>subscription_fee</th>\n",
       "    </tr>\n",
       "  </thead>\n",
       "  <tbody>\n",
       "    <tr>\n",
       "      <th>6500</th>\n",
       "      <td>700</td>\n",
       "      <td>Айдар</td>\n",
       "      <td>22</td>\n",
       "      <td>Омск</td>\n",
       "      <td>free</td>\n",
       "      <td>2515.69</td>\n",
       "      <td>14.944286</td>\n",
       "      <td>2021-01-02</td>\n",
       "      <td>8</td>\n",
       "      <td>50</td>\n",
       "      <td>0</td>\n",
       "    </tr>\n",
       "    <tr>\n",
       "      <th>6501</th>\n",
       "      <td>700</td>\n",
       "      <td>Айдар</td>\n",
       "      <td>22</td>\n",
       "      <td>Омск</td>\n",
       "      <td>free</td>\n",
       "      <td>846.93</td>\n",
       "      <td>16.234663</td>\n",
       "      <td>2021-02-01</td>\n",
       "      <td>8</td>\n",
       "      <td>50</td>\n",
       "      <td>0</td>\n",
       "    </tr>\n",
       "    <tr>\n",
       "      <th>6502</th>\n",
       "      <td>700</td>\n",
       "      <td>Айдар</td>\n",
       "      <td>22</td>\n",
       "      <td>Омск</td>\n",
       "      <td>free</td>\n",
       "      <td>4004.43</td>\n",
       "      <td>20.016628</td>\n",
       "      <td>2021-02-04</td>\n",
       "      <td>8</td>\n",
       "      <td>50</td>\n",
       "      <td>0</td>\n",
       "    </tr>\n",
       "    <tr>\n",
       "      <th>6503</th>\n",
       "      <td>700</td>\n",
       "      <td>Айдар</td>\n",
       "      <td>22</td>\n",
       "      <td>Омск</td>\n",
       "      <td>free</td>\n",
       "      <td>1205.91</td>\n",
       "      <td>9.782872</td>\n",
       "      <td>2021-02-10</td>\n",
       "      <td>8</td>\n",
       "      <td>50</td>\n",
       "      <td>0</td>\n",
       "    </tr>\n",
       "    <tr>\n",
       "      <th>6504</th>\n",
       "      <td>700</td>\n",
       "      <td>Айдар</td>\n",
       "      <td>22</td>\n",
       "      <td>Омск</td>\n",
       "      <td>free</td>\n",
       "      <td>3047.38</td>\n",
       "      <td>17.427673</td>\n",
       "      <td>2021-02-14</td>\n",
       "      <td>8</td>\n",
       "      <td>50</td>\n",
       "      <td>0</td>\n",
       "    </tr>\n",
       "    <tr>\n",
       "      <th>...</th>\n",
       "      <td>...</td>\n",
       "      <td>...</td>\n",
       "      <td>...</td>\n",
       "      <td>...</td>\n",
       "      <td>...</td>\n",
       "      <td>...</td>\n",
       "      <td>...</td>\n",
       "      <td>...</td>\n",
       "      <td>...</td>\n",
       "      <td>...</td>\n",
       "      <td>...</td>\n",
       "    </tr>\n",
       "    <tr>\n",
       "      <th>18063</th>\n",
       "      <td>1534</td>\n",
       "      <td>Альберт</td>\n",
       "      <td>25</td>\n",
       "      <td>Краснодар</td>\n",
       "      <td>free</td>\n",
       "      <td>3781.10</td>\n",
       "      <td>19.822962</td>\n",
       "      <td>2021-11-04</td>\n",
       "      <td>8</td>\n",
       "      <td>50</td>\n",
       "      <td>0</td>\n",
       "    </tr>\n",
       "    <tr>\n",
       "      <th>18064</th>\n",
       "      <td>1534</td>\n",
       "      <td>Альберт</td>\n",
       "      <td>25</td>\n",
       "      <td>Краснодар</td>\n",
       "      <td>free</td>\n",
       "      <td>2840.42</td>\n",
       "      <td>21.409799</td>\n",
       "      <td>2021-11-16</td>\n",
       "      <td>8</td>\n",
       "      <td>50</td>\n",
       "      <td>0</td>\n",
       "    </tr>\n",
       "    <tr>\n",
       "      <th>18065</th>\n",
       "      <td>1534</td>\n",
       "      <td>Альберт</td>\n",
       "      <td>25</td>\n",
       "      <td>Краснодар</td>\n",
       "      <td>free</td>\n",
       "      <td>3826.19</td>\n",
       "      <td>18.435051</td>\n",
       "      <td>2021-11-18</td>\n",
       "      <td>8</td>\n",
       "      <td>50</td>\n",
       "      <td>0</td>\n",
       "    </tr>\n",
       "    <tr>\n",
       "      <th>18066</th>\n",
       "      <td>1534</td>\n",
       "      <td>Альберт</td>\n",
       "      <td>25</td>\n",
       "      <td>Краснодар</td>\n",
       "      <td>free</td>\n",
       "      <td>2902.31</td>\n",
       "      <td>16.674362</td>\n",
       "      <td>2021-11-27</td>\n",
       "      <td>8</td>\n",
       "      <td>50</td>\n",
       "      <td>0</td>\n",
       "    </tr>\n",
       "    <tr>\n",
       "      <th>18067</th>\n",
       "      <td>1534</td>\n",
       "      <td>Альберт</td>\n",
       "      <td>25</td>\n",
       "      <td>Краснодар</td>\n",
       "      <td>free</td>\n",
       "      <td>2371.71</td>\n",
       "      <td>15.893917</td>\n",
       "      <td>2021-12-29</td>\n",
       "      <td>8</td>\n",
       "      <td>50</td>\n",
       "      <td>0</td>\n",
       "    </tr>\n",
       "  </tbody>\n",
       "</table>\n",
       "<p>11568 rows × 11 columns</p>\n",
       "</div>"
      ],
      "text/plain": [
       "       user_id     name  age       city subscription_type  distance  \\\n",
       "6500       700    Айдар   22       Омск              free   2515.69   \n",
       "6501       700    Айдар   22       Омск              free    846.93   \n",
       "6502       700    Айдар   22       Омск              free   4004.43   \n",
       "6503       700    Айдар   22       Омск              free   1205.91   \n",
       "6504       700    Айдар   22       Омск              free   3047.38   \n",
       "...        ...      ...  ...        ...               ...       ...   \n",
       "18063     1534  Альберт   25  Краснодар              free   3781.10   \n",
       "18064     1534  Альберт   25  Краснодар              free   2840.42   \n",
       "18065     1534  Альберт   25  Краснодар              free   3826.19   \n",
       "18066     1534  Альберт   25  Краснодар              free   2902.31   \n",
       "18067     1534  Альберт   25  Краснодар              free   2371.71   \n",
       "\n",
       "        duration       date  minute_price  start_ride_price  subscription_fee  \n",
       "6500   14.944286 2021-01-02             8                50                 0  \n",
       "6501   16.234663 2021-02-01             8                50                 0  \n",
       "6502   20.016628 2021-02-04             8                50                 0  \n",
       "6503    9.782872 2021-02-10             8                50                 0  \n",
       "6504   17.427673 2021-02-14             8                50                 0  \n",
       "...          ...        ...           ...               ...               ...  \n",
       "18063  19.822962 2021-11-04             8                50                 0  \n",
       "18064  21.409799 2021-11-16             8                50                 0  \n",
       "18065  18.435051 2021-11-18             8                50                 0  \n",
       "18066  16.674362 2021-11-27             8                50                 0  \n",
       "18067  15.893917 2021-12-29             8                50                 0  \n",
       "\n",
       "[11568 rows x 11 columns]"
      ]
     },
     "execution_count": 28,
     "metadata": {},
     "output_type": "execute_result"
    }
   ],
   "source": [
    "sub_free = total_data.query('subscription_type == \"free\"')\n",
    "sub_free"
   ]
  },
  {
   "cell_type": "markdown",
   "id": "f533c5a8",
   "metadata": {},
   "source": [
    "#### Датафрейм с данными о пользователях с подпиской:"
   ]
  },
  {
   "cell_type": "code",
   "execution_count": 29,
   "id": "31056cc2",
   "metadata": {},
   "outputs": [
    {
     "data": {
      "text/html": [
       "<div>\n",
       "<style scoped>\n",
       "    .dataframe tbody tr th:only-of-type {\n",
       "        vertical-align: middle;\n",
       "    }\n",
       "\n",
       "    .dataframe tbody tr th {\n",
       "        vertical-align: top;\n",
       "    }\n",
       "\n",
       "    .dataframe thead th {\n",
       "        text-align: right;\n",
       "    }\n",
       "</style>\n",
       "<table border=\"1\" class=\"dataframe\">\n",
       "  <thead>\n",
       "    <tr style=\"text-align: right;\">\n",
       "      <th></th>\n",
       "      <th>user_id</th>\n",
       "      <th>name</th>\n",
       "      <th>age</th>\n",
       "      <th>city</th>\n",
       "      <th>subscription_type</th>\n",
       "      <th>distance</th>\n",
       "      <th>duration</th>\n",
       "      <th>date</th>\n",
       "      <th>minute_price</th>\n",
       "      <th>start_ride_price</th>\n",
       "      <th>subscription_fee</th>\n",
       "    </tr>\n",
       "  </thead>\n",
       "  <tbody>\n",
       "    <tr>\n",
       "      <th>0</th>\n",
       "      <td>1</td>\n",
       "      <td>Кира</td>\n",
       "      <td>22</td>\n",
       "      <td>Тюмень</td>\n",
       "      <td>ultra</td>\n",
       "      <td>4409.92</td>\n",
       "      <td>25.599769</td>\n",
       "      <td>2021-01-01</td>\n",
       "      <td>6</td>\n",
       "      <td>0</td>\n",
       "      <td>199</td>\n",
       "    </tr>\n",
       "    <tr>\n",
       "      <th>1</th>\n",
       "      <td>1</td>\n",
       "      <td>Кира</td>\n",
       "      <td>22</td>\n",
       "      <td>Тюмень</td>\n",
       "      <td>ultra</td>\n",
       "      <td>2617.59</td>\n",
       "      <td>15.816871</td>\n",
       "      <td>2021-01-18</td>\n",
       "      <td>6</td>\n",
       "      <td>0</td>\n",
       "      <td>199</td>\n",
       "    </tr>\n",
       "    <tr>\n",
       "      <th>2</th>\n",
       "      <td>1</td>\n",
       "      <td>Кира</td>\n",
       "      <td>22</td>\n",
       "      <td>Тюмень</td>\n",
       "      <td>ultra</td>\n",
       "      <td>754.16</td>\n",
       "      <td>6.232113</td>\n",
       "      <td>2021-04-20</td>\n",
       "      <td>6</td>\n",
       "      <td>0</td>\n",
       "      <td>199</td>\n",
       "    </tr>\n",
       "    <tr>\n",
       "      <th>3</th>\n",
       "      <td>1</td>\n",
       "      <td>Кира</td>\n",
       "      <td>22</td>\n",
       "      <td>Тюмень</td>\n",
       "      <td>ultra</td>\n",
       "      <td>2694.78</td>\n",
       "      <td>18.511000</td>\n",
       "      <td>2021-08-11</td>\n",
       "      <td>6</td>\n",
       "      <td>0</td>\n",
       "      <td>199</td>\n",
       "    </tr>\n",
       "    <tr>\n",
       "      <th>4</th>\n",
       "      <td>1</td>\n",
       "      <td>Кира</td>\n",
       "      <td>22</td>\n",
       "      <td>Тюмень</td>\n",
       "      <td>ultra</td>\n",
       "      <td>4028.69</td>\n",
       "      <td>26.265803</td>\n",
       "      <td>2021-08-28</td>\n",
       "      <td>6</td>\n",
       "      <td>0</td>\n",
       "      <td>199</td>\n",
       "    </tr>\n",
       "    <tr>\n",
       "      <th>...</th>\n",
       "      <td>...</td>\n",
       "      <td>...</td>\n",
       "      <td>...</td>\n",
       "      <td>...</td>\n",
       "      <td>...</td>\n",
       "      <td>...</td>\n",
       "      <td>...</td>\n",
       "      <td>...</td>\n",
       "      <td>...</td>\n",
       "      <td>...</td>\n",
       "      <td>...</td>\n",
       "    </tr>\n",
       "    <tr>\n",
       "      <th>6495</th>\n",
       "      <td>699</td>\n",
       "      <td>Оксана</td>\n",
       "      <td>22</td>\n",
       "      <td>Москва</td>\n",
       "      <td>ultra</td>\n",
       "      <td>3973.05</td>\n",
       "      <td>24.671163</td>\n",
       "      <td>2021-08-29</td>\n",
       "      <td>6</td>\n",
       "      <td>0</td>\n",
       "      <td>199</td>\n",
       "    </tr>\n",
       "    <tr>\n",
       "      <th>6496</th>\n",
       "      <td>699</td>\n",
       "      <td>Оксана</td>\n",
       "      <td>22</td>\n",
       "      <td>Москва</td>\n",
       "      <td>ultra</td>\n",
       "      <td>3288.70</td>\n",
       "      <td>15.892886</td>\n",
       "      <td>2021-09-12</td>\n",
       "      <td>6</td>\n",
       "      <td>0</td>\n",
       "      <td>199</td>\n",
       "    </tr>\n",
       "    <tr>\n",
       "      <th>6497</th>\n",
       "      <td>699</td>\n",
       "      <td>Оксана</td>\n",
       "      <td>22</td>\n",
       "      <td>Москва</td>\n",
       "      <td>ultra</td>\n",
       "      <td>3076.16</td>\n",
       "      <td>14.389525</td>\n",
       "      <td>2021-09-26</td>\n",
       "      <td>6</td>\n",
       "      <td>0</td>\n",
       "      <td>199</td>\n",
       "    </tr>\n",
       "    <tr>\n",
       "      <th>6498</th>\n",
       "      <td>699</td>\n",
       "      <td>Оксана</td>\n",
       "      <td>22</td>\n",
       "      <td>Москва</td>\n",
       "      <td>ultra</td>\n",
       "      <td>4707.85</td>\n",
       "      <td>15.839579</td>\n",
       "      <td>2021-10-17</td>\n",
       "      <td>6</td>\n",
       "      <td>0</td>\n",
       "      <td>199</td>\n",
       "    </tr>\n",
       "    <tr>\n",
       "      <th>6499</th>\n",
       "      <td>699</td>\n",
       "      <td>Оксана</td>\n",
       "      <td>22</td>\n",
       "      <td>Москва</td>\n",
       "      <td>ultra</td>\n",
       "      <td>3202.89</td>\n",
       "      <td>25.217345</td>\n",
       "      <td>2021-12-03</td>\n",
       "      <td>6</td>\n",
       "      <td>0</td>\n",
       "      <td>199</td>\n",
       "    </tr>\n",
       "  </tbody>\n",
       "</table>\n",
       "<p>6500 rows × 11 columns</p>\n",
       "</div>"
      ],
      "text/plain": [
       "      user_id    name  age    city subscription_type  distance   duration  \\\n",
       "0           1    Кира   22  Тюмень             ultra   4409.92  25.599769   \n",
       "1           1    Кира   22  Тюмень             ultra   2617.59  15.816871   \n",
       "2           1    Кира   22  Тюмень             ultra    754.16   6.232113   \n",
       "3           1    Кира   22  Тюмень             ultra   2694.78  18.511000   \n",
       "4           1    Кира   22  Тюмень             ultra   4028.69  26.265803   \n",
       "...       ...     ...  ...     ...               ...       ...        ...   \n",
       "6495      699  Оксана   22  Москва             ultra   3973.05  24.671163   \n",
       "6496      699  Оксана   22  Москва             ultra   3288.70  15.892886   \n",
       "6497      699  Оксана   22  Москва             ultra   3076.16  14.389525   \n",
       "6498      699  Оксана   22  Москва             ultra   4707.85  15.839579   \n",
       "6499      699  Оксана   22  Москва             ultra   3202.89  25.217345   \n",
       "\n",
       "           date  minute_price  start_ride_price  subscription_fee  \n",
       "0    2021-01-01             6                 0               199  \n",
       "1    2021-01-18             6                 0               199  \n",
       "2    2021-04-20             6                 0               199  \n",
       "3    2021-08-11             6                 0               199  \n",
       "4    2021-08-28             6                 0               199  \n",
       "...         ...           ...               ...               ...  \n",
       "6495 2021-08-29             6                 0               199  \n",
       "6496 2021-09-12             6                 0               199  \n",
       "6497 2021-09-26             6                 0               199  \n",
       "6498 2021-10-17             6                 0               199  \n",
       "6499 2021-12-03             6                 0               199  \n",
       "\n",
       "[6500 rows x 11 columns]"
      ]
     },
     "execution_count": 29,
     "metadata": {},
     "output_type": "execute_result"
    }
   ],
   "source": [
    "sub_ultra = total_data.query('subscription_type == \"ultra\"')\n",
    "sub_ultra"
   ]
  },
  {
   "cell_type": "markdown",
   "id": "116236bf",
   "metadata": {},
   "source": [
    "#### Расстояние и время поездок для пользователей с подпиской и без:"
   ]
  },
  {
   "cell_type": "code",
   "execution_count": 30,
   "id": "d752365d",
   "metadata": {},
   "outputs": [
    {
     "data": {
      "image/png": "[encoded data removed]",
      "text/plain": [
       "<Figure size 1440x360 with 1 Axes>"
      ]
     },
     "metadata": {
      "needs_background": "light"
     },
     "output_type": "display_data"
    }
   ],
   "source": [
    "# зададим размер графика\n",
    "plt.figure(figsize=(20, 5))\n",
    "\n",
    "# строим гистограмму\n",
    "plt.hist([sub_free['distance'], sub_ultra['distance']], bins=30, label=['free', 'ultra'], color=['green', 'darkblue'])\n",
    "\n",
    "# установка заголовка графика\n",
    "plt.title('Количество поездок в зависимости от расстояния', fontsize=15)\n",
    "\n",
    "# место расположение легенды\n",
    "plt.legend(loc='upper right')\n",
    "\n",
    "# добавление подписей оси у\n",
    "plt.xlabel('расстояние, м')\n",
    "plt.ylabel('количество поездок')\n",
    "\n",
    "# уберем рамку\n",
    "for pos in ['right', 'top']: \n",
    "    plt.gca().spines[pos].set_visible(False)\n",
    "\n",
    "# показ гистограммы\n",
    "plt.show()"
   ]
  },
  {
   "cell_type": "markdown",
   "id": "8137f456",
   "metadata": {},
   "source": [
    "Описание столбцов датафреймов с указанием расстояния, в зависимости от наличия подписки:"
   ]
  },
  {
   "cell_type": "code",
   "execution_count": 31,
   "id": "729179cc",
   "metadata": {},
   "outputs": [
    {
     "data": {
      "text/plain": [
       "count    11568.00\n",
       "mean      3045.50\n",
       "std       1246.17\n",
       "min          0.86\n",
       "25%       2366.56\n",
       "50%       3114.65\n",
       "75%       3905.70\n",
       "max       7211.01\n",
       "Name: distance, dtype: float64"
      ]
     },
     "execution_count": 31,
     "metadata": {},
     "output_type": "execute_result"
    }
   ],
   "source": [
    "# описание данных столбца с расстоянием без подписки\n",
    "sub_free['distance'].describe().round(2)"
   ]
  },
  {
   "cell_type": "code",
   "execution_count": 32,
   "id": "c0af532f",
   "metadata": {},
   "outputs": [
    {
     "data": {
      "text/plain": [
       "count    6500.00\n",
       "mean     3115.45\n",
       "std       836.90\n",
       "min       244.21\n",
       "25%      2785.45\n",
       "50%      3148.64\n",
       "75%      3560.58\n",
       "max      5699.77\n",
       "Name: distance, dtype: float64"
      ]
     },
     "execution_count": 32,
     "metadata": {},
     "output_type": "execute_result"
    }
   ],
   "source": [
    "# описание данных столбца с расстоянием при наличии подписки\n",
    "sub_ultra['distance'].describe().round(2)"
   ]
  },
  {
   "cell_type": "code",
   "execution_count": 33,
   "id": "bdf2144e",
   "metadata": {},
   "outputs": [
    {
     "data": {
      "image/png": "[encoded data removed]",
      "text/plain": [
       "<Figure size 1440x360 with 1 Axes>"
      ]
     },
     "metadata": {
      "needs_background": "light"
     },
     "output_type": "display_data"
    }
   ],
   "source": [
    "# зададим размер графика\n",
    "plt.figure(figsize=(20, 5))\n",
    "\n",
    "# строим гистограмму\n",
    "plt.hist([sub_free['duration'], sub_ultra['duration']], bins=30, label=['free', 'ultra'], color=['green', 'darkblue'])\n",
    "\n",
    "# установка заголовка графика\n",
    "plt.title('Количество поездок в зависимости от расстояния', fontsize=15)\n",
    "\n",
    "# место расположение легенды\n",
    "plt.legend(loc='upper right')\n",
    "\n",
    "# добавление подписей оси у\n",
    "plt.xlabel('продолжительность сессии, мин')\n",
    "plt.ylabel('количество поездок')\n",
    "\n",
    "# уберем рамку\n",
    "for pos in ['right', 'top']: \n",
    "    plt.gca().spines[pos].set_visible(False)\n",
    "    \n",
    "# показ гистограммы\n",
    "plt.show()"
   ]
  },
  {
   "cell_type": "markdown",
   "id": "301569fa",
   "metadata": {},
   "source": [
    "Описание столбцов датафреймов с указанием продолжительности сессии, в зависимости от наличия подписки:"
   ]
  },
  {
   "cell_type": "code",
   "execution_count": 34,
   "id": "a101653d",
   "metadata": {},
   "outputs": [
    {
     "data": {
      "text/plain": [
       "count    11568.0\n",
       "mean        17.4\n",
       "std          6.3\n",
       "min          0.5\n",
       "25%         13.0\n",
       "50%         17.3\n",
       "75%         21.6\n",
       "max         34.9\n",
       "Name: duration, dtype: float64"
      ]
     },
     "execution_count": 34,
     "metadata": {},
     "output_type": "execute_result"
    }
   ],
   "source": [
    "# описание данных столбца со временем без подписки\n",
    "sub_free['duration'].describe().round(1)"
   ]
  },
  {
   "cell_type": "code",
   "execution_count": 35,
   "id": "d082dc7e",
   "metadata": {},
   "outputs": [
    {
     "data": {
      "text/plain": [
       "count    6500.0\n",
       "mean       18.5\n",
       "std         5.6\n",
       "min         3.8\n",
       "25%        14.5\n",
       "50%        18.2\n",
       "75%        21.9\n",
       "max        40.8\n",
       "Name: duration, dtype: float64"
      ]
     },
     "execution_count": 35,
     "metadata": {},
     "output_type": "execute_result"
    }
   ],
   "source": [
    "# описание данных столбца со временем при наличии подписки\n",
    "sub_ultra['duration'].describe().round(1)"
   ]
  },
  {
   "cell_type": "markdown",
   "id": "07589cc5",
   "metadata": {},
   "source": [
    "В результате объеденения данных о пользователях, поездках и подписках в один датафрейм, созданы два датафрейма с данными о пользователях с подпиской и без нее.\n",
    "По данным визуализации и описания этих датафреймов видно, что:\n",
    "- среднее и медианное расстояние и время поездки выше у пользователей с подпиской;\n",
    "- максимальное значение расстояния выше у пользователей без подписки;\n",
    "- максимальное время поездки выше у пользователей с подпиской.\n"
   ]
  },
  {
   "cell_type": "markdown",
   "id": "402d620f",
   "metadata": {},
   "source": [
    "### Подсчёт выручки"
   ]
  },
  {
   "cell_type": "markdown",
   "id": "2fb53382",
   "metadata": {},
   "source": [
    "#### Расчет суммарного расстояния, количества поездок и суммарного времени для каждого пользователя за каждый месяц"
   ]
  },
  {
   "cell_type": "code",
   "execution_count": 36,
   "id": "e92f2cd8",
   "metadata": {},
   "outputs": [],
   "source": [
    "# каждое значение из столбцов округляем с помощью \"потолка\"\n",
    "total_data['duration'] = np.ceil(total_data['duration']).astype(int)"
   ]
  },
  {
   "cell_type": "code",
   "execution_count": 37,
   "id": "e28aa9f7",
   "metadata": {},
   "outputs": [],
   "source": [
    "# так как в данных указан только один год, оставим только месяцы\n",
    "# и переименуем столбец 'date' в 'month'\n",
    "total_data['date'] = pd.DatetimeIndex(total_data['date']).month\n",
    "total_data.rename(columns = {'date' : 'month'}, inplace = True) "
   ]
  },
  {
   "cell_type": "code",
   "execution_count": 38,
   "id": "c4320894",
   "metadata": {},
   "outputs": [],
   "source": [
    "# создание сводной таблицы\n",
    "revenue = pd.pivot_table(total_data,\n",
    "    index = ['user_id', 'month'],\n",
    "    values = ['distance', 'duration','start_ride_price', 'minute_price', 'subscription_fee', 'subscription_type'],\n",
    "    aggfunc = {'distance': {'count', 'sum'}, \n",
    "               'duration' : 'sum',\n",
    "               'start_ride_price': 'mean',\n",
    "               'minute_price': 'mean',\n",
    "               'subscription_fee': 'mean',\n",
    "               'subscription_type': 'min'})"
   ]
  },
  {
   "cell_type": "code",
   "execution_count": 39,
   "id": "613cfa3f",
   "metadata": {},
   "outputs": [],
   "source": [
    "# переименуем столбцы\n",
    "revenue.columns = [\n",
    "    'tips', 'distance',\n",
    "    'duration',\n",
    "    'minute_price',\n",
    "    'start_ride_price',\n",
    "    'subscription_fee',\n",
    "    'subscription_type'\n",
    "]"
   ]
  },
  {
   "cell_type": "code",
   "execution_count": 40,
   "id": "359db85f",
   "metadata": {},
   "outputs": [
    {
     "data": {
      "text/html": [
       "<div>\n",
       "<style scoped>\n",
       "    .dataframe tbody tr th:only-of-type {\n",
       "        vertical-align: middle;\n",
       "    }\n",
       "\n",
       "    .dataframe tbody tr th {\n",
       "        vertical-align: top;\n",
       "    }\n",
       "\n",
       "    .dataframe thead th {\n",
       "        text-align: right;\n",
       "    }\n",
       "</style>\n",
       "<table border=\"1\" class=\"dataframe\">\n",
       "  <thead>\n",
       "    <tr style=\"text-align: right;\">\n",
       "      <th></th>\n",
       "      <th></th>\n",
       "      <th>tips</th>\n",
       "      <th>distance</th>\n",
       "      <th>duration</th>\n",
       "      <th>minute_price</th>\n",
       "      <th>start_ride_price</th>\n",
       "      <th>subscription_fee</th>\n",
       "      <th>subscription_type</th>\n",
       "    </tr>\n",
       "    <tr>\n",
       "      <th>user_id</th>\n",
       "      <th>month</th>\n",
       "      <th></th>\n",
       "      <th></th>\n",
       "      <th></th>\n",
       "      <th></th>\n",
       "      <th></th>\n",
       "      <th></th>\n",
       "      <th></th>\n",
       "    </tr>\n",
       "  </thead>\n",
       "  <tbody>\n",
       "    <tr>\n",
       "      <th rowspan=\"5\" valign=\"top\">1</th>\n",
       "      <th>1</th>\n",
       "      <td>2</td>\n",
       "      <td>7027.51</td>\n",
       "      <td>42</td>\n",
       "      <td>6</td>\n",
       "      <td>0</td>\n",
       "      <td>199</td>\n",
       "      <td>ultra</td>\n",
       "    </tr>\n",
       "    <tr>\n",
       "      <th>4</th>\n",
       "      <td>1</td>\n",
       "      <td>754.16</td>\n",
       "      <td>7</td>\n",
       "      <td>6</td>\n",
       "      <td>0</td>\n",
       "      <td>199</td>\n",
       "      <td>ultra</td>\n",
       "    </tr>\n",
       "    <tr>\n",
       "      <th>8</th>\n",
       "      <td>2</td>\n",
       "      <td>6723.47</td>\n",
       "      <td>46</td>\n",
       "      <td>6</td>\n",
       "      <td>0</td>\n",
       "      <td>199</td>\n",
       "      <td>ultra</td>\n",
       "    </tr>\n",
       "    <tr>\n",
       "      <th>10</th>\n",
       "      <td>2</td>\n",
       "      <td>5809.91</td>\n",
       "      <td>32</td>\n",
       "      <td>6</td>\n",
       "      <td>0</td>\n",
       "      <td>199</td>\n",
       "      <td>ultra</td>\n",
       "    </tr>\n",
       "    <tr>\n",
       "      <th>11</th>\n",
       "      <td>3</td>\n",
       "      <td>7003.50</td>\n",
       "      <td>56</td>\n",
       "      <td>6</td>\n",
       "      <td>0</td>\n",
       "      <td>199</td>\n",
       "      <td>ultra</td>\n",
       "    </tr>\n",
       "    <tr>\n",
       "      <th>...</th>\n",
       "      <th>...</th>\n",
       "      <td>...</td>\n",
       "      <td>...</td>\n",
       "      <td>...</td>\n",
       "      <td>...</td>\n",
       "      <td>...</td>\n",
       "      <td>...</td>\n",
       "      <td>...</td>\n",
       "    </tr>\n",
       "    <tr>\n",
       "      <th rowspan=\"5\" valign=\"top\">1534</th>\n",
       "      <th>6</th>\n",
       "      <td>2</td>\n",
       "      <td>3409.47</td>\n",
       "      <td>26</td>\n",
       "      <td>8</td>\n",
       "      <td>50</td>\n",
       "      <td>0</td>\n",
       "      <td>free</td>\n",
       "    </tr>\n",
       "    <tr>\n",
       "      <th>8</th>\n",
       "      <td>2</td>\n",
       "      <td>7622.45</td>\n",
       "      <td>48</td>\n",
       "      <td>8</td>\n",
       "      <td>50</td>\n",
       "      <td>0</td>\n",
       "      <td>free</td>\n",
       "    </tr>\n",
       "    <tr>\n",
       "      <th>9</th>\n",
       "      <td>1</td>\n",
       "      <td>4928.17</td>\n",
       "      <td>23</td>\n",
       "      <td>8</td>\n",
       "      <td>50</td>\n",
       "      <td>0</td>\n",
       "      <td>free</td>\n",
       "    </tr>\n",
       "    <tr>\n",
       "      <th>11</th>\n",
       "      <td>4</td>\n",
       "      <td>13350.02</td>\n",
       "      <td>78</td>\n",
       "      <td>8</td>\n",
       "      <td>50</td>\n",
       "      <td>0</td>\n",
       "      <td>free</td>\n",
       "    </tr>\n",
       "    <tr>\n",
       "      <th>12</th>\n",
       "      <td>1</td>\n",
       "      <td>2371.71</td>\n",
       "      <td>16</td>\n",
       "      <td>8</td>\n",
       "      <td>50</td>\n",
       "      <td>0</td>\n",
       "      <td>free</td>\n",
       "    </tr>\n",
       "  </tbody>\n",
       "</table>\n",
       "<p>11331 rows × 7 columns</p>\n",
       "</div>"
      ],
      "text/plain": [
       "               tips  distance  duration  minute_price  start_ride_price  \\\n",
       "user_id month                                                             \n",
       "1       1         2   7027.51        42             6                 0   \n",
       "        4         1    754.16         7             6                 0   \n",
       "        8         2   6723.47        46             6                 0   \n",
       "        10        2   5809.91        32             6                 0   \n",
       "        11        3   7003.50        56             6                 0   \n",
       "...             ...       ...       ...           ...               ...   \n",
       "1534    6         2   3409.47        26             8                50   \n",
       "        8         2   7622.45        48             8                50   \n",
       "        9         1   4928.17        23             8                50   \n",
       "        11        4  13350.02        78             8                50   \n",
       "        12        1   2371.71        16             8                50   \n",
       "\n",
       "               subscription_fee subscription_type  \n",
       "user_id month                                      \n",
       "1       1                   199             ultra  \n",
       "        4                   199             ultra  \n",
       "        8                   199             ultra  \n",
       "        10                  199             ultra  \n",
       "        11                  199             ultra  \n",
       "...                         ...               ...  \n",
       "1534    6                     0              free  \n",
       "        8                     0              free  \n",
       "        9                     0              free  \n",
       "        11                    0              free  \n",
       "        12                    0              free  \n",
       "\n",
       "[11331 rows x 7 columns]"
      ]
     },
     "execution_count": 40,
     "metadata": {},
     "output_type": "execute_result"
    }
   ],
   "source": [
    "revenue"
   ]
  },
  {
   "cell_type": "markdown",
   "id": "614fdc07",
   "metadata": {},
   "source": [
    "#### Выручка помесячно"
   ]
  },
  {
   "cell_type": "code",
   "execution_count": 41,
   "id": "2304fad6",
   "metadata": {},
   "outputs": [],
   "source": [
    "revenue['revenue_per_month'] = (\n",
    "    revenue['start_ride_price'] * \n",
    "    revenue['tips'] + \n",
    "    revenue['minute_price'] * \n",
    "    revenue['duration'] + \n",
    "    revenue['subscription_fee'])"
   ]
  },
  {
   "cell_type": "code",
   "execution_count": 42,
   "id": "ab7f8727",
   "metadata": {},
   "outputs": [
    {
     "data": {
      "text/html": [
       "<div>\n",
       "<style scoped>\n",
       "    .dataframe tbody tr th:only-of-type {\n",
       "        vertical-align: middle;\n",
       "    }\n",
       "\n",
       "    .dataframe tbody tr th {\n",
       "        vertical-align: top;\n",
       "    }\n",
       "\n",
       "    .dataframe thead th {\n",
       "        text-align: right;\n",
       "    }\n",
       "</style>\n",
       "<table border=\"1\" class=\"dataframe\">\n",
       "  <thead>\n",
       "    <tr style=\"text-align: right;\">\n",
       "      <th></th>\n",
       "      <th></th>\n",
       "      <th>tips</th>\n",
       "      <th>distance</th>\n",
       "      <th>duration</th>\n",
       "      <th>minute_price</th>\n",
       "      <th>start_ride_price</th>\n",
       "      <th>subscription_fee</th>\n",
       "      <th>subscription_type</th>\n",
       "      <th>revenue_per_month</th>\n",
       "    </tr>\n",
       "    <tr>\n",
       "      <th>user_id</th>\n",
       "      <th>month</th>\n",
       "      <th></th>\n",
       "      <th></th>\n",
       "      <th></th>\n",
       "      <th></th>\n",
       "      <th></th>\n",
       "      <th></th>\n",
       "      <th></th>\n",
       "      <th></th>\n",
       "    </tr>\n",
       "  </thead>\n",
       "  <tbody>\n",
       "    <tr>\n",
       "      <th rowspan=\"5\" valign=\"top\">1</th>\n",
       "      <th>1</th>\n",
       "      <td>2</td>\n",
       "      <td>7027.51</td>\n",
       "      <td>42</td>\n",
       "      <td>6</td>\n",
       "      <td>0</td>\n",
       "      <td>199</td>\n",
       "      <td>ultra</td>\n",
       "      <td>451</td>\n",
       "    </tr>\n",
       "    <tr>\n",
       "      <th>4</th>\n",
       "      <td>1</td>\n",
       "      <td>754.16</td>\n",
       "      <td>7</td>\n",
       "      <td>6</td>\n",
       "      <td>0</td>\n",
       "      <td>199</td>\n",
       "      <td>ultra</td>\n",
       "      <td>241</td>\n",
       "    </tr>\n",
       "    <tr>\n",
       "      <th>8</th>\n",
       "      <td>2</td>\n",
       "      <td>6723.47</td>\n",
       "      <td>46</td>\n",
       "      <td>6</td>\n",
       "      <td>0</td>\n",
       "      <td>199</td>\n",
       "      <td>ultra</td>\n",
       "      <td>475</td>\n",
       "    </tr>\n",
       "    <tr>\n",
       "      <th>10</th>\n",
       "      <td>2</td>\n",
       "      <td>5809.91</td>\n",
       "      <td>32</td>\n",
       "      <td>6</td>\n",
       "      <td>0</td>\n",
       "      <td>199</td>\n",
       "      <td>ultra</td>\n",
       "      <td>391</td>\n",
       "    </tr>\n",
       "    <tr>\n",
       "      <th>11</th>\n",
       "      <td>3</td>\n",
       "      <td>7003.50</td>\n",
       "      <td>56</td>\n",
       "      <td>6</td>\n",
       "      <td>0</td>\n",
       "      <td>199</td>\n",
       "      <td>ultra</td>\n",
       "      <td>535</td>\n",
       "    </tr>\n",
       "    <tr>\n",
       "      <th>...</th>\n",
       "      <th>...</th>\n",
       "      <td>...</td>\n",
       "      <td>...</td>\n",
       "      <td>...</td>\n",
       "      <td>...</td>\n",
       "      <td>...</td>\n",
       "      <td>...</td>\n",
       "      <td>...</td>\n",
       "      <td>...</td>\n",
       "    </tr>\n",
       "    <tr>\n",
       "      <th rowspan=\"5\" valign=\"top\">1534</th>\n",
       "      <th>6</th>\n",
       "      <td>2</td>\n",
       "      <td>3409.47</td>\n",
       "      <td>26</td>\n",
       "      <td>8</td>\n",
       "      <td>50</td>\n",
       "      <td>0</td>\n",
       "      <td>free</td>\n",
       "      <td>308</td>\n",
       "    </tr>\n",
       "    <tr>\n",
       "      <th>8</th>\n",
       "      <td>2</td>\n",
       "      <td>7622.45</td>\n",
       "      <td>48</td>\n",
       "      <td>8</td>\n",
       "      <td>50</td>\n",
       "      <td>0</td>\n",
       "      <td>free</td>\n",
       "      <td>484</td>\n",
       "    </tr>\n",
       "    <tr>\n",
       "      <th>9</th>\n",
       "      <td>1</td>\n",
       "      <td>4928.17</td>\n",
       "      <td>23</td>\n",
       "      <td>8</td>\n",
       "      <td>50</td>\n",
       "      <td>0</td>\n",
       "      <td>free</td>\n",
       "      <td>234</td>\n",
       "    </tr>\n",
       "    <tr>\n",
       "      <th>11</th>\n",
       "      <td>4</td>\n",
       "      <td>13350.02</td>\n",
       "      <td>78</td>\n",
       "      <td>8</td>\n",
       "      <td>50</td>\n",
       "      <td>0</td>\n",
       "      <td>free</td>\n",
       "      <td>824</td>\n",
       "    </tr>\n",
       "    <tr>\n",
       "      <th>12</th>\n",
       "      <td>1</td>\n",
       "      <td>2371.71</td>\n",
       "      <td>16</td>\n",
       "      <td>8</td>\n",
       "      <td>50</td>\n",
       "      <td>0</td>\n",
       "      <td>free</td>\n",
       "      <td>178</td>\n",
       "    </tr>\n",
       "  </tbody>\n",
       "</table>\n",
       "<p>11331 rows × 8 columns</p>\n",
       "</div>"
      ],
      "text/plain": [
       "               tips  distance  duration  minute_price  start_ride_price  \\\n",
       "user_id month                                                             \n",
       "1       1         2   7027.51        42             6                 0   \n",
       "        4         1    754.16         7             6                 0   \n",
       "        8         2   6723.47        46             6                 0   \n",
       "        10        2   5809.91        32             6                 0   \n",
       "        11        3   7003.50        56             6                 0   \n",
       "...             ...       ...       ...           ...               ...   \n",
       "1534    6         2   3409.47        26             8                50   \n",
       "        8         2   7622.45        48             8                50   \n",
       "        9         1   4928.17        23             8                50   \n",
       "        11        4  13350.02        78             8                50   \n",
       "        12        1   2371.71        16             8                50   \n",
       "\n",
       "               subscription_fee subscription_type  revenue_per_month  \n",
       "user_id month                                                         \n",
       "1       1                   199             ultra                451  \n",
       "        4                   199             ultra                241  \n",
       "        8                   199             ultra                475  \n",
       "        10                  199             ultra                391  \n",
       "        11                  199             ultra                535  \n",
       "...                         ...               ...                ...  \n",
       "1534    6                     0              free                308  \n",
       "        8                     0              free                484  \n",
       "        9                     0              free                234  \n",
       "        11                    0              free                824  \n",
       "        12                    0              free                178  \n",
       "\n",
       "[11331 rows x 8 columns]"
      ]
     },
     "execution_count": 42,
     "metadata": {},
     "output_type": "execute_result"
    }
   ],
   "source": [
    "revenue"
   ]
  },
  {
   "cell_type": "markdown",
   "id": "d1d59998",
   "metadata": {},
   "source": [
    "На основании общего датафрейма total_data, создан новый датафрейм revenue c расчетом суммарного расстояния, количества поездок и суммарного времени, а также выручкой для каждого пользователя за каждый месяц."
   ]
  },
  {
   "cell_type": "markdown",
   "id": "41545ac0",
   "metadata": {},
   "source": [
    "### Проверка гипотез"
   ]
  },
  {
   "cell_type": "markdown",
   "id": "558e3fac",
   "metadata": {},
   "source": [
    "**_Гипотеза 1:_** _Тратят ли пользователи с подпиской больше времени на поездки?_"
   ]
  },
  {
   "cell_type": "markdown",
   "id": "576fe845",
   "metadata": {},
   "source": [
    "**Н0:** Средняя продолжительность поездок с подпиской ‘ultra’ и ‘free’ равна.\n",
    "\n",
    "**Н1:** Средняя продолжительность поездок с подпиской ‘ultra’ больше, чем с подпиской ‘free’."
   ]
  },
  {
   "cell_type": "code",
   "execution_count": 43,
   "id": "1e950187",
   "metadata": {},
   "outputs": [
    {
     "name": "stdout",
     "output_type": "stream",
     "text": [
      "р-значение: 1.2804098316645618e-34\n",
      "Отвергаем нулевую гипотезу\n"
     ]
    }
   ],
   "source": [
    "# время поездки пользователей с подпиской\n",
    "time_ultra = sub_ultra['duration']\n",
    "\n",
    "# время поездки пользователей без подписки\n",
    "time_free = sub_free['duration']\n",
    "\n",
    "alpha = 0.05 # уровень статистической значимости\n",
    "\n",
    "# проводим ttest для двух выборок, в качестве альтернативной используем одностороннюю гипотезу «больше»\n",
    "results = st.ttest_ind(time_ultra, time_free, alternative='greater')\n",
    "\n",
    "# вывод р-значения\n",
    "print('р-значение:', results.pvalue)\n",
    "\n",
    "if results.pvalue < alpha:\n",
    "    print('Отвергаем нулевую гипотезу')\n",
    "else:\n",
    "    print('Не получилось отвергнуть нулевую гипотезу')"
   ]
  },
  {
   "cell_type": "markdown",
   "id": "145bb413",
   "metadata": {},
   "source": [
    "Нет, пользователи с подпиской не тратят больше времени на поездки."
   ]
  },
  {
   "cell_type": "markdown",
   "id": "7b4c1206",
   "metadata": {},
   "source": [
    "**_Гипотеза 2:_** _Можно ли сказать, что среднее расстояние, которое проезжают пользователи с подпиской за одну поездку, не превышает 3130 м?_"
   ]
  },
  {
   "cell_type": "markdown",
   "id": "cf19ff96",
   "metadata": {},
   "source": [
    "**Н0:** Среднее расстояние поездок с использованием подписки ‘ultra’ равно оптимальному расстоянию в 3130 метров.\n",
    "\n",
    "\n",
    "**Н1:** Среднее расстояние поездок с использованием подписки ‘ultra’ более 3130 метров."
   ]
  },
  {
   "cell_type": "code",
   "execution_count": 44,
   "id": "675066e7",
   "metadata": {},
   "outputs": [
    {
     "name": "stdout",
     "output_type": "stream",
     "text": [
      "р-значение: 0.9195362605842414\n",
      "Не получилось отвергнуть нулевую гипотезу\n"
     ]
    }
   ],
   "source": [
    "# расстояние поездки пользователей с подпиской\n",
    "distance_ultra = total_data.loc[total_data.subscription_type == 'ultra', 'distance']\n",
    "\n",
    "# столько пользователи с подпиской проезжают за одну поездку\n",
    "interested_value = 3130\n",
    "\n",
    "# уровень статистической значимости\n",
    "alpha = 0.05 \n",
    "\n",
    "# проводим ttest для двух выборок, в качестве альтернативной используем одностороннюю гипотезу\n",
    "results = st.ttest_1samp(distance_ultra, interested_value, alternative='greater')\n",
    "\n",
    "# вывод р-значения\n",
    "print('р-значение:', results.pvalue)\n",
    "\n",
    "if results.pvalue < alpha:\n",
    "    print('Отвергаем нулевую гипотезу')\n",
    "else:\n",
    "    print('Не получилось отвергнуть нулевую гипотезу')"
   ]
  },
  {
   "cell_type": "markdown",
   "id": "51647b12",
   "metadata": {},
   "source": [
    "Да, среднее расстояние, которое проезжают пользователи с подпиской за одну поездку, не превышает 3130 м."
   ]
  },
  {
   "cell_type": "markdown",
   "id": "b98e2aef",
   "metadata": {},
   "source": [
    "**_Гипотеза 3:_** _Будет ли помесячная выручка от пользователей с подпиской по месяцам выше, чем выручка от пользователей без подписки?_"
   ]
  },
  {
   "cell_type": "markdown",
   "id": "73f9f501",
   "metadata": {},
   "source": [
    "**Н0:** Средняя выручка от поездок с разной подпиской равна.\n",
    "\n",
    "**Н1:** Средняя выручка от поездок с использованием подписки ‘ultra’ больше, чем выручка с ипользованием подписки ‘free’."
   ]
  },
  {
   "cell_type": "code",
   "execution_count": 45,
   "id": "38a3cdcf",
   "metadata": {},
   "outputs": [
    {
     "name": "stdout",
     "output_type": "stream",
     "text": [
      "р-значение: 1.8850394384715216e-31\n",
      "Отвергаем нулевую гипотезу\n"
     ]
    }
   ],
   "source": [
    "# помесячная выручка пользователей с подпиской\n",
    "per_month_ultra = revenue.loc[revenue.subscription_fee == 199, 'revenue_per_month'] \n",
    "\n",
    "# помесячная выручка пользователей без подписки\n",
    "per_month_free = revenue.loc[revenue.subscription_fee == 0, 'revenue_per_month'] \n",
    "\n",
    "alpha = 0.05 # уровень статистической значимости\n",
    "\n",
    "# проводим ttest для двух выборок, в качестве альтернативной используем одностороннюю гипотезу «больше»\n",
    "results = st.ttest_ind(per_month_ultra, per_month_free, alternative='greater')\n",
    "\n",
    "# вывод р-значения\n",
    "print('р-значение:', results.pvalue)\n",
    "\n",
    "if results.pvalue < alpha:\n",
    "    print('Отвергаем нулевую гипотезу')\n",
    "else:\n",
    "    print('Не получилось отвергнуть нулевую гипотезу')"
   ]
  },
  {
   "cell_type": "markdown",
   "id": "634ec701",
   "metadata": {},
   "source": [
    "Помесячная выручка от пользователей с подпиской по месяцам меньше, чем выручка от пользователей без подписки."
   ]
  },
  {
   "cell_type": "markdown",
   "id": "c273f7c7",
   "metadata": {},
   "source": [
    "**_Гипотеза 4:_** _Техническая команда сервиса обновила сервера, с которыми взаимодействует мобильное приложение. Она надеется, что из-за этого количество обращений в техподдержку значимо снизилось. Некоторый файл содержит для каждого пользователя данные о количестве обращений до обновления и после него. Какой тест вам понадобился бы для проверки этой гипотезы?_"
   ]
  },
  {
   "cell_type": "markdown",
   "id": "96758c54",
   "metadata": {},
   "source": [
    "О равенстве среднего значения генеральной совокупности до и после изменения используется метод scipy.stats.ttest_rel, аргументы которого - наборы данных (парные выборки до и после изменения). Используем односторонний тест,  альтернативная гипотеза которого будет утверждать, что количество обращений после обновления меньше, чем до обновления (alternative='less'). "
   ]
  },
  {
   "cell_type": "markdown",
   "id": "61213c5e",
   "metadata": {},
   "source": [
    "### Распределения"
   ]
  },
  {
   "cell_type": "markdown",
   "id": "0a06a594",
   "metadata": {},
   "source": [
    "**Задача 1**\n",
    "\n",
    "Отделу маркетинга GoFast поставили задачу: нужно провести акцию с раздачей промокодов на один бесплатный месяц подписки, в рамках которой как минимум 100 существующих клиентов должны продлить эту подписку. То есть по завершении периода действия подписки пользователь может либо отказаться от неё, либо продлить, совершив соответствующий платёж. \n",
    "Эта акция уже проводилась ранее и по итогу выяснилось, что после бесплатного пробного периода подписку продлевают 10 % пользователей. Выясните, какое минимальное количество промокодов нужно разослать, чтобы вероятность не выполнить план была примерно 5 %. Подберите параметры распределения, описывающего эту ситуацию, постройте график распределения и сформулируйте ответ на вопрос о количестве промокодов."
   ]
  },
  {
   "cell_type": "code",
   "execution_count": 46,
   "id": "bdbbfb84",
   "metadata": {},
   "outputs": [
    {
     "data": {
      "image/png": "[encoded data removed]",
      "text/plain": [
       "<Figure size 1440x360 with 1 Axes>"
      ]
     },
     "metadata": {
      "needs_background": "light"
     },
     "output_type": "display_data"
    },
    {
     "name": "stdout",
     "output_type": "stream",
     "text": [
      "Для выполнения плана на 95% необходимо минимальное количество промокодов равное 1172\n"
     ]
    }
   ],
   "source": [
    "# параметры биномиального распределения\n",
    "n = 1000\n",
    "p = 0.1\n",
    "k = 100\n",
    "binom_cdf = 0.05\n",
    "\n",
    "while binom_cdf < binom.cdf(k, n, p):\n",
    "    n += 1\n",
    "\n",
    "# зададим мат.ожидание и ст.отклонение нормального распределения равными\n",
    "# мат.ожиданию и ст.отклонению биномиального распределения\n",
    "mu = n * p\n",
    "sigma = sqrt(n * p * (1 - p))\n",
    "\n",
    "# Построение графика распределения\n",
    "arange = np.arange((mu - 4 * sigma),(mu + 4 * sigma),1)\n",
    "plt.figure(figsize=(20, 5))\n",
    "plt.plot(arange, st.norm.pdf(arange, mu, sigma), 'b-', color='green')\n",
    "plt.axvline(x=k, color='gray')\n",
    "plt.title('График распределения', fontsize=15)\n",
    "plt.xlabel('количество пользователей, продливших подписку')\n",
    "plt.ylabel('вероятность')\n",
    "for pos in ['right', 'top']: \n",
    "    plt.gca().spines[pos].set_visible(False)\n",
    "plt.show()\n",
    "\n",
    "print('Для выполнения плана на 95% необходимо минимальное количество промокодов равное', n)"
   ]
  },
  {
   "cell_type": "markdown",
   "id": "a92b9e56",
   "metadata": {},
   "source": [
    "**Задача 2**\n",
    "\n",
    "Отдел маркетинга рассылает клиентам push-уведомления в мобильном приложении. Клиенты могут открыть его или не открывать. Известно, что уведомления открывают около 40 % получивших клиентов. Отдел планирует разослать 1 млн уведомлений. С помощью аппроксимации постройте примерный график распределения и оцените вероятность того, что уведомление откроют не более 399,5 тыс. пользователей."
   ]
  },
  {
   "cell_type": "code",
   "execution_count": 47,
   "id": "b915236f",
   "metadata": {},
   "outputs": [
    {
     "data": {
      "image/png": "[encoded data removed]",
      "text/plain": [
       "<Figure size 1440x360 with 1 Axes>"
      ]
     },
     "metadata": {
      "needs_background": "light"
     },
     "output_type": "display_data"
    },
    {
     "name": "stdout",
     "output_type": "stream",
     "text": [
      "Вероятность открытия уведомлений не более 399,5 тыс. пользователями: 15.37 %\n"
     ]
    }
   ],
   "source": [
    "# параметры биномиального распределения\n",
    "n = 1000000  \n",
    "p = 0.4 \n",
    "\n",
    "# параметры нормального распределения\n",
    "mu = n * p  \n",
    "sigma = sqrt(n * p * (1 - p)) \n",
    "\n",
    "distr = st.norm(mu, sigma) # нормальное распределение\n",
    "\n",
    "result = distr.cdf(399500) # вероятность левого \"хвоста\"\n",
    "\n",
    "# Построение графика распределения\n",
    "arange = np.arange((mu - 4 * sigma),(mu + 4 * sigma),1)\n",
    "plt.figure(figsize=(20, 5))\n",
    "plt.plot(arange, st.norm.pdf(arange, mu, sigma), 'b-', color='green')\n",
    "plt.axvline(x=399500, color='gray')\n",
    "plt.title('График распределения')\n",
    "plt.xlabel('количество открытых уведомлений')\n",
    "plt.ylabel('вероятность')\n",
    "for pos in ['right', 'top']: \n",
    "    plt.gca().spines[pos].set_visible(False)\n",
    "plt.show()\n",
    "\n",
    "print('Вероятность открытия уведомлений не более 399,5 тыс. пользователями:', (result * 100).round(2),'%')"
   ]
  },
  {
   "cell_type": "markdown",
   "id": "5193f866",
   "metadata": {},
   "source": [
    "### Общий вывод"
   ]
  },
  {
   "cell_type": "markdown",
   "id": "2da5024d",
   "metadata": {},
   "source": [
    "Во время предобработки данных:\n",
    "- пропущенные значения в столбцах всех таблиц не выявлены;  \n",
    "- в столбце 'date' датафрейма rides изменим тип данных на datetime;\n",
    "- в датафрейме users удалены дубликаты методом drop_duplicates().\n",
    "\n",
    "\n",
    "Исследовательский анализ показал, что чаще всего сервисом GoFast пользуются:\n",
    "- жители города Пятигорск;\n",
    "- без подписки, но существенной разницы между наличием подписки нет;\n",
    "- в возрасте около 25 лет, при этом минимальный возраст составил 12 лет, максимальный 43 года;\n",
    "- в среднем проезжающих в пределах 3 км за 18 минут за одну поездку.\n",
    "Максимальная поездка судя по данным составила 41 минуту, а минимальное значение выглядит как аномальное. Вывод значений меньше 1 минуты показал, что пользователи тратят одинаковое время на поездку 30 секунд, при этом расстояние, которое они преодолевают невозможно за такой короткий промежуток времени. Есть предположение, что у самокатов произошел технический сбой в программе, либо ошибка выгрузки данных.\n",
    "\n",
    "\n",
    "В результате объеденения данных о пользователях, поездках и подписках в один датафрейм, созданы два датафрейма с данными о пользователях с подпиской и без нее. По данным визуализации и описания этих датафреймов видно, что:\n",
    "- среднее и медианное расстояние и время поездки выше у пользователей с подпиской;\n",
    "- максимальное значение расстояния выше у пользователей без подписки;\n",
    "- максимальное время поездки выше у пользователей с подпиской.\n",
    "\n",
    "\n",
    "На основании объединения данных, создан дополнительный столбец с помесячной выручкой по каждому пользователю.\n",
    "\n",
    "\n",
    "На этапе проверки гипотез установлено:\n",
    "- пользователи с подпиской не тратят больше времени на поездки;\n",
    "- среднее расстояние, которое проезжают пользователи с подпиской за одну поездку, не превышает 3130 м;\n",
    "- помесячная выручка от пользователей с подпиской по месяцам меньше, чем выручка от пользователей без подписки;\n",
    "- в дальнейшем при необходимости отрабатывать гипотезу по файлу, который содержит данные до и после изменения использовать метод scipy.stats.ttest_rel.\n",
    "\n",
    "Задачи отдела маркетинга:\n",
    "1. Чтобы отделу маркетинга провести акцию и достичь цели по привлечению определённого количества пользователей (выполнить план минимум на 95%), которые продлят подписку, потребуется выдать минимум 1172 промокода.\n",
    "2. Вероятность открытия уведомлений, разосланных отделом маретинга, не более 399,5 тыс. пользователями составляет 15.37 %, слишком мала, возможно стоит пересмотреть изначальные условия."
   ]
  },
  {
   "cell_type": "markdown",
   "id": "8b87d6bd",
   "metadata": {},
   "source": [
    "**Рекомендации:** Пользователи с подпиской представляют собой более привлекательных клиентов для сервиса аренды самокатов, поэтому рекомендуется предпринять действия для перевода клиентов на подписку. Обратить внимание на продолжительность сессии меньше 1 минуты, тк есть предположение, что у самокатов произошел технический сбой в программе, либо ошибка выгрузки данных."
   ]
  }
 ],
 "metadata": {
  "ExecuteTimeLog": [
   {
    "duration": 854,
    "start_time": "2024-06-04T04:57:39.470Z"
   },
   {
    "duration": 301,
    "start_time": "2024-06-04T05:01:42.764Z"
   },
   {
    "duration": 14,
    "start_time": "2024-06-04T05:03:49.484Z"
   },
   {
    "duration": 7,
    "start_time": "2024-06-04T05:03:52.955Z"
   },
   {
    "duration": 6,
    "start_time": "2024-06-04T05:03:54.630Z"
   },
   {
    "duration": 70,
    "start_time": "2024-06-04T05:04:36.382Z"
   },
   {
    "duration": 677,
    "start_time": "2024-06-04T05:04:47.858Z"
   },
   {
    "duration": 71,
    "start_time": "2024-06-04T05:04:48.537Z"
   },
   {
    "duration": 11,
    "start_time": "2024-06-04T05:04:48.609Z"
   },
   {
    "duration": 28,
    "start_time": "2024-06-04T05:04:48.622Z"
   },
   {
    "duration": 7,
    "start_time": "2024-06-04T05:04:48.652Z"
   },
   {
    "duration": 72,
    "start_time": "2024-06-04T05:05:57.980Z"
   },
   {
    "duration": 13,
    "start_time": "2024-06-04T05:06:01.524Z"
   },
   {
    "duration": 747,
    "start_time": "2024-06-04T05:06:20.839Z"
   },
   {
    "duration": 68,
    "start_time": "2024-06-04T05:06:21.588Z"
   },
   {
    "duration": 13,
    "start_time": "2024-06-04T05:06:21.658Z"
   },
   {
    "duration": 35,
    "start_time": "2024-06-04T05:06:21.673Z"
   },
   {
    "duration": 11,
    "start_time": "2024-06-04T05:06:21.710Z"
   },
   {
    "duration": 7,
    "start_time": "2024-06-04T05:06:52.242Z"
   },
   {
    "duration": 12,
    "start_time": "2024-06-04T05:08:32.713Z"
   },
   {
    "duration": 12,
    "start_time": "2024-06-04T05:09:07.516Z"
   },
   {
    "duration": 14,
    "start_time": "2024-06-04T05:09:43.737Z"
   },
   {
    "duration": 656,
    "start_time": "2024-06-04T05:10:11.604Z"
   },
   {
    "duration": 69,
    "start_time": "2024-06-04T05:10:12.262Z"
   },
   {
    "duration": 14,
    "start_time": "2024-06-04T05:10:12.333Z"
   },
   {
    "duration": 11,
    "start_time": "2024-06-04T05:10:12.348Z"
   },
   {
    "duration": 27,
    "start_time": "2024-06-04T05:10:12.361Z"
   },
   {
    "duration": 28,
    "start_time": "2024-06-04T05:10:12.389Z"
   },
   {
    "duration": 7,
    "start_time": "2024-06-04T05:10:12.419Z"
   },
   {
    "duration": 17,
    "start_time": "2024-06-04T05:10:12.427Z"
   },
   {
    "duration": 54,
    "start_time": "2024-06-04T05:12:39.643Z"
   },
   {
    "duration": 679,
    "start_time": "2024-06-04T05:18:13.340Z"
   },
   {
    "duration": 67,
    "start_time": "2024-06-04T05:18:14.021Z"
   },
   {
    "duration": 13,
    "start_time": "2024-06-04T05:18:14.090Z"
   },
   {
    "duration": 11,
    "start_time": "2024-06-04T05:18:14.105Z"
   },
   {
    "duration": 17,
    "start_time": "2024-06-04T05:18:14.118Z"
   },
   {
    "duration": 18,
    "start_time": "2024-06-04T05:18:14.136Z"
   },
   {
    "duration": 8,
    "start_time": "2024-06-04T05:18:14.156Z"
   },
   {
    "duration": 14,
    "start_time": "2024-06-04T05:18:14.165Z"
   },
   {
    "duration": 10,
    "start_time": "2024-06-04T05:19:10.157Z"
   },
   {
    "duration": 9,
    "start_time": "2024-06-04T05:19:25.061Z"
   },
   {
    "duration": 7,
    "start_time": "2024-06-04T05:25:47.642Z"
   },
   {
    "duration": 8,
    "start_time": "2024-06-04T05:27:18.436Z"
   },
   {
    "duration": 6,
    "start_time": "2024-06-04T05:27:43.102Z"
   },
   {
    "duration": 85,
    "start_time": "2024-06-04T06:09:14.879Z"
   },
   {
    "duration": 748,
    "start_time": "2024-06-04T06:09:31.143Z"
   },
   {
    "duration": 70,
    "start_time": "2024-06-04T06:09:31.893Z"
   },
   {
    "duration": 15,
    "start_time": "2024-06-04T06:09:31.965Z"
   },
   {
    "duration": 53,
    "start_time": "2024-06-04T06:09:31.982Z"
   },
   {
    "duration": 61,
    "start_time": "2024-06-04T06:09:32.038Z"
   },
   {
    "duration": 43,
    "start_time": "2024-06-04T06:09:32.101Z"
   },
   {
    "duration": 18,
    "start_time": "2024-06-04T06:09:32.146Z"
   },
   {
    "duration": 33,
    "start_time": "2024-06-04T06:09:32.166Z"
   },
   {
    "duration": 103,
    "start_time": "2024-06-04T06:09:32.201Z"
   },
   {
    "duration": 0,
    "start_time": "2024-06-04T06:09:32.306Z"
   },
   {
    "duration": 0,
    "start_time": "2024-06-04T06:09:32.307Z"
   },
   {
    "duration": 0,
    "start_time": "2024-06-04T06:09:32.308Z"
   },
   {
    "duration": 536,
    "start_time": "2024-06-04T06:09:54.791Z"
   },
   {
    "duration": 575,
    "start_time": "2024-06-04T06:10:33.575Z"
   },
   {
    "duration": 557,
    "start_time": "2024-06-04T06:10:45.999Z"
   },
   {
    "duration": 7,
    "start_time": "2024-06-04T06:12:32.797Z"
   },
   {
    "duration": 8,
    "start_time": "2024-06-04T06:12:52.425Z"
   },
   {
    "duration": 8,
    "start_time": "2024-06-04T06:12:58.150Z"
   },
   {
    "duration": 13,
    "start_time": "2024-06-04T06:13:05.758Z"
   },
   {
    "duration": 8,
    "start_time": "2024-06-04T06:13:06.131Z"
   },
   {
    "duration": 685,
    "start_time": "2024-06-04T06:13:21.950Z"
   },
   {
    "duration": 68,
    "start_time": "2024-06-04T06:13:22.637Z"
   },
   {
    "duration": 14,
    "start_time": "2024-06-04T06:13:22.707Z"
   },
   {
    "duration": 18,
    "start_time": "2024-06-04T06:13:22.723Z"
   },
   {
    "duration": 13,
    "start_time": "2024-06-04T06:13:22.743Z"
   },
   {
    "duration": 33,
    "start_time": "2024-06-04T06:13:22.758Z"
   },
   {
    "duration": 8,
    "start_time": "2024-06-04T06:13:22.793Z"
   },
   {
    "duration": 11,
    "start_time": "2024-06-04T06:13:22.802Z"
   },
   {
    "duration": 8,
    "start_time": "2024-06-04T06:13:22.815Z"
   },
   {
    "duration": 80,
    "start_time": "2024-06-04T06:13:22.824Z"
   },
   {
    "duration": 0,
    "start_time": "2024-06-04T06:13:22.905Z"
   },
   {
    "duration": 0,
    "start_time": "2024-06-04T06:13:22.907Z"
   },
   {
    "duration": 0,
    "start_time": "2024-06-04T06:13:22.908Z"
   },
   {
    "duration": 5,
    "start_time": "2024-06-04T06:13:55.134Z"
   },
   {
    "duration": 14,
    "start_time": "2024-06-04T06:14:10.531Z"
   },
   {
    "duration": 4,
    "start_time": "2024-06-04T06:14:11.706Z"
   },
   {
    "duration": 6,
    "start_time": "2024-06-04T06:14:19.723Z"
   },
   {
    "duration": 8,
    "start_time": "2024-06-04T06:14:44.454Z"
   },
   {
    "duration": 696,
    "start_time": "2024-06-04T06:14:49.555Z"
   },
   {
    "duration": 75,
    "start_time": "2024-06-04T06:14:50.253Z"
   },
   {
    "duration": 14,
    "start_time": "2024-06-04T06:14:50.330Z"
   },
   {
    "duration": 13,
    "start_time": "2024-06-04T06:14:50.346Z"
   },
   {
    "duration": 27,
    "start_time": "2024-06-04T06:14:50.362Z"
   },
   {
    "duration": 24,
    "start_time": "2024-06-04T06:14:50.391Z"
   },
   {
    "duration": 13,
    "start_time": "2024-06-04T06:14:50.417Z"
   },
   {
    "duration": 18,
    "start_time": "2024-06-04T06:14:50.432Z"
   },
   {
    "duration": 20,
    "start_time": "2024-06-04T06:14:50.452Z"
   },
   {
    "duration": 26,
    "start_time": "2024-06-04T06:14:50.473Z"
   },
   {
    "duration": 25,
    "start_time": "2024-06-04T06:14:50.501Z"
   },
   {
    "duration": 30,
    "start_time": "2024-06-04T06:14:50.528Z"
   },
   {
    "duration": 75,
    "start_time": "2024-06-04T06:16:50.714Z"
   },
   {
    "duration": 717,
    "start_time": "2024-06-04T06:17:13.859Z"
   },
   {
    "duration": 758,
    "start_time": "2024-06-04T06:17:17.275Z"
   },
   {
    "duration": 6,
    "start_time": "2024-06-04T06:18:03.276Z"
   },
   {
    "duration": 4,
    "start_time": "2024-06-04T06:19:14.011Z"
   },
   {
    "duration": 4,
    "start_time": "2024-06-04T06:19:30.483Z"
   },
   {
    "duration": 7,
    "start_time": "2024-06-04T06:20:18.956Z"
   },
   {
    "duration": 4,
    "start_time": "2024-06-04T06:24:29.952Z"
   },
   {
    "duration": 5,
    "start_time": "2024-06-04T06:25:00.403Z"
   },
   {
    "duration": 4,
    "start_time": "2024-06-04T06:25:18.477Z"
   },
   {
    "duration": 4,
    "start_time": "2024-06-04T06:25:41.988Z"
   },
   {
    "duration": 186,
    "start_time": "2024-06-04T06:36:29.060Z"
   },
   {
    "duration": 155,
    "start_time": "2024-06-04T06:36:44.754Z"
   },
   {
    "duration": 111,
    "start_time": "2024-06-04T06:39:25.625Z"
   },
   {
    "duration": 14,
    "start_time": "2024-06-04T06:39:43.885Z"
   },
   {
    "duration": 168,
    "start_time": "2024-06-04T06:40:19.206Z"
   },
   {
    "duration": 215,
    "start_time": "2024-06-04T06:41:24.217Z"
   },
   {
    "duration": 162,
    "start_time": "2024-06-04T06:41:35.669Z"
   },
   {
    "duration": 161,
    "start_time": "2024-06-04T06:41:53.546Z"
   },
   {
    "duration": 172,
    "start_time": "2024-06-04T06:43:56.547Z"
   },
   {
    "duration": 162,
    "start_time": "2024-06-04T06:44:02.839Z"
   },
   {
    "duration": 164,
    "start_time": "2024-06-04T06:45:45.766Z"
   },
   {
    "duration": 166,
    "start_time": "2024-06-04T06:46:32.081Z"
   },
   {
    "duration": 169,
    "start_time": "2024-06-04T06:46:46.658Z"
   },
   {
    "duration": 8,
    "start_time": "2024-06-04T06:50:48.879Z"
   },
   {
    "duration": 16,
    "start_time": "2024-06-04T06:50:58.715Z"
   },
   {
    "duration": 97,
    "start_time": "2024-06-04T06:51:17.499Z"
   },
   {
    "duration": 206,
    "start_time": "2024-06-04T06:52:32.176Z"
   },
   {
    "duration": 191,
    "start_time": "2024-06-04T06:52:47.144Z"
   },
   {
    "duration": 9,
    "start_time": "2024-06-04T06:55:33.346Z"
   },
   {
    "duration": 9,
    "start_time": "2024-06-04T06:56:17.957Z"
   },
   {
    "duration": 7,
    "start_time": "2024-06-04T06:56:41.259Z"
   },
   {
    "duration": 256,
    "start_time": "2024-06-04T07:02:06.727Z"
   },
   {
    "duration": 222,
    "start_time": "2024-06-04T07:02:13.308Z"
   },
   {
    "duration": 178,
    "start_time": "2024-06-04T07:02:22.508Z"
   },
   {
    "duration": 191,
    "start_time": "2024-06-04T07:02:34.242Z"
   },
   {
    "duration": 210,
    "start_time": "2024-06-04T07:02:51.478Z"
   },
   {
    "duration": 208,
    "start_time": "2024-06-04T07:02:59.347Z"
   },
   {
    "duration": 193,
    "start_time": "2024-06-04T07:03:04.447Z"
   },
   {
    "duration": 687,
    "start_time": "2024-06-04T07:05:14.423Z"
   },
   {
    "duration": 71,
    "start_time": "2024-06-04T07:05:15.112Z"
   },
   {
    "duration": 14,
    "start_time": "2024-06-04T07:05:15.185Z"
   },
   {
    "duration": 39,
    "start_time": "2024-06-04T07:05:15.201Z"
   },
   {
    "duration": 43,
    "start_time": "2024-06-04T07:05:15.242Z"
   },
   {
    "duration": 63,
    "start_time": "2024-06-04T07:05:15.287Z"
   },
   {
    "duration": 21,
    "start_time": "2024-06-04T07:05:15.352Z"
   },
   {
    "duration": 29,
    "start_time": "2024-06-04T07:05:15.375Z"
   },
   {
    "duration": 41,
    "start_time": "2024-06-04T07:05:15.406Z"
   },
   {
    "duration": 38,
    "start_time": "2024-06-04T07:05:15.449Z"
   },
   {
    "duration": 53,
    "start_time": "2024-06-04T07:05:15.489Z"
   },
   {
    "duration": 40,
    "start_time": "2024-06-04T07:05:15.544Z"
   },
   {
    "duration": 60,
    "start_time": "2024-06-04T07:05:15.585Z"
   },
   {
    "duration": 0,
    "start_time": "2024-06-04T07:05:15.646Z"
   },
   {
    "duration": 0,
    "start_time": "2024-06-04T07:05:15.648Z"
   },
   {
    "duration": 0,
    "start_time": "2024-06-04T07:05:15.649Z"
   },
   {
    "duration": 0,
    "start_time": "2024-06-04T07:05:15.650Z"
   },
   {
    "duration": 0,
    "start_time": "2024-06-04T07:05:15.650Z"
   },
   {
    "duration": 7,
    "start_time": "2024-06-04T07:05:34.468Z"
   },
   {
    "duration": 5,
    "start_time": "2024-06-04T07:05:34.887Z"
   },
   {
    "duration": 5,
    "start_time": "2024-06-04T07:05:35.605Z"
   },
   {
    "duration": 7,
    "start_time": "2024-06-04T07:05:40.535Z"
   },
   {
    "duration": 248,
    "start_time": "2024-06-04T07:05:41.000Z"
   },
   {
    "duration": 195,
    "start_time": "2024-06-04T07:06:54.532Z"
   },
   {
    "duration": 232,
    "start_time": "2024-06-04T07:07:08.404Z"
   },
   {
    "duration": 309,
    "start_time": "2024-06-04T07:07:19.443Z"
   },
   {
    "duration": 6,
    "start_time": "2024-06-04T07:08:34.715Z"
   },
   {
    "duration": 5,
    "start_time": "2024-06-04T07:08:41.500Z"
   },
   {
    "duration": 5,
    "start_time": "2024-06-04T07:08:59.476Z"
   },
   {
    "duration": 4,
    "start_time": "2024-06-04T07:09:58.150Z"
   },
   {
    "duration": 184,
    "start_time": "2024-06-04T07:27:03.899Z"
   },
   {
    "duration": 156,
    "start_time": "2024-06-04T07:27:12.644Z"
   },
   {
    "duration": 155,
    "start_time": "2024-06-04T07:27:19.125Z"
   },
   {
    "duration": 138,
    "start_time": "2024-06-04T07:27:31.132Z"
   },
   {
    "duration": 127,
    "start_time": "2024-06-04T07:27:50.593Z"
   },
   {
    "duration": 241,
    "start_time": "2024-06-04T07:38:58.249Z"
   },
   {
    "duration": 179,
    "start_time": "2024-06-04T07:39:11.552Z"
   },
   {
    "duration": 184,
    "start_time": "2024-06-04T07:39:55.710Z"
   },
   {
    "duration": 152,
    "start_time": "2024-06-04T07:40:52.408Z"
   },
   {
    "duration": 258,
    "start_time": "2024-06-04T07:41:02.654Z"
   },
   {
    "duration": 225,
    "start_time": "2024-06-04T07:41:09.345Z"
   },
   {
    "duration": 235,
    "start_time": "2024-06-04T07:41:30.430Z"
   },
   {
    "duration": 274,
    "start_time": "2024-06-04T07:41:38.264Z"
   },
   {
    "duration": 294,
    "start_time": "2024-06-04T07:42:48.208Z"
   },
   {
    "duration": 78,
    "start_time": "2024-06-04T07:48:56.754Z"
   },
   {
    "duration": 12,
    "start_time": "2024-06-04T07:50:18.961Z"
   },
   {
    "duration": 680,
    "start_time": "2024-06-04T07:50:27.947Z"
   },
   {
    "duration": 69,
    "start_time": "2024-06-04T07:50:28.629Z"
   },
   {
    "duration": 14,
    "start_time": "2024-06-04T07:50:28.700Z"
   },
   {
    "duration": 27,
    "start_time": "2024-06-04T07:50:28.715Z"
   },
   {
    "duration": 25,
    "start_time": "2024-06-04T07:50:28.744Z"
   },
   {
    "duration": 20,
    "start_time": "2024-06-04T07:50:28.771Z"
   },
   {
    "duration": 8,
    "start_time": "2024-06-04T07:50:28.793Z"
   },
   {
    "duration": 11,
    "start_time": "2024-06-04T07:50:28.803Z"
   },
   {
    "duration": 7,
    "start_time": "2024-06-04T07:50:28.816Z"
   },
   {
    "duration": 6,
    "start_time": "2024-06-04T07:50:28.825Z"
   },
   {
    "duration": 27,
    "start_time": "2024-06-04T07:50:28.833Z"
   },
   {
    "duration": 11,
    "start_time": "2024-06-04T07:50:28.861Z"
   },
   {
    "duration": 86,
    "start_time": "2024-06-04T07:50:28.874Z"
   },
   {
    "duration": 0,
    "start_time": "2024-06-04T07:50:28.962Z"
   },
   {
    "duration": 0,
    "start_time": "2024-06-04T07:50:28.963Z"
   },
   {
    "duration": 0,
    "start_time": "2024-06-04T07:50:28.964Z"
   },
   {
    "duration": 0,
    "start_time": "2024-06-04T07:50:28.965Z"
   },
   {
    "duration": 0,
    "start_time": "2024-06-04T07:50:28.966Z"
   },
   {
    "duration": 0,
    "start_time": "2024-06-04T07:50:28.967Z"
   },
   {
    "duration": 0,
    "start_time": "2024-06-04T07:50:28.968Z"
   },
   {
    "duration": 0,
    "start_time": "2024-06-04T07:50:28.969Z"
   },
   {
    "duration": 0,
    "start_time": "2024-06-04T07:50:28.971Z"
   },
   {
    "duration": 10,
    "start_time": "2024-06-04T07:51:09.585Z"
   },
   {
    "duration": 8,
    "start_time": "2024-06-04T07:51:29.146Z"
   },
   {
    "duration": 6,
    "start_time": "2024-06-04T07:52:06.798Z"
   },
   {
    "duration": 8,
    "start_time": "2024-06-04T07:53:34.074Z"
   },
   {
    "duration": 7,
    "start_time": "2024-06-04T07:53:58.109Z"
   },
   {
    "duration": 6,
    "start_time": "2024-06-04T07:54:15.090Z"
   },
   {
    "duration": 5,
    "start_time": "2024-06-04T07:55:14.670Z"
   },
   {
    "duration": 6,
    "start_time": "2024-06-04T07:56:06.306Z"
   },
   {
    "duration": 664,
    "start_time": "2024-06-04T07:56:52.918Z"
   },
   {
    "duration": 70,
    "start_time": "2024-06-04T07:56:53.584Z"
   },
   {
    "duration": 13,
    "start_time": "2024-06-04T07:56:53.656Z"
   },
   {
    "duration": 11,
    "start_time": "2024-06-04T07:56:53.671Z"
   },
   {
    "duration": 10,
    "start_time": "2024-06-04T07:56:53.685Z"
   },
   {
    "duration": 18,
    "start_time": "2024-06-04T07:56:53.698Z"
   },
   {
    "duration": 12,
    "start_time": "2024-06-04T07:56:53.717Z"
   },
   {
    "duration": 29,
    "start_time": "2024-06-04T07:56:53.730Z"
   },
   {
    "duration": 24,
    "start_time": "2024-06-04T07:56:53.761Z"
   },
   {
    "duration": 6,
    "start_time": "2024-06-04T07:56:53.787Z"
   },
   {
    "duration": 8,
    "start_time": "2024-06-04T07:56:53.795Z"
   },
   {
    "duration": 5,
    "start_time": "2024-06-04T07:56:53.805Z"
   },
   {
    "duration": 13,
    "start_time": "2024-06-04T07:56:53.812Z"
   },
   {
    "duration": 9,
    "start_time": "2024-06-04T07:56:53.827Z"
   },
   {
    "duration": 22,
    "start_time": "2024-06-04T07:56:53.838Z"
   },
   {
    "duration": 10,
    "start_time": "2024-06-04T07:56:53.861Z"
   },
   {
    "duration": 5,
    "start_time": "2024-06-04T07:56:53.873Z"
   },
   {
    "duration": 228,
    "start_time": "2024-06-04T07:56:53.880Z"
   },
   {
    "duration": 136,
    "start_time": "2024-06-04T07:56:54.109Z"
   },
   {
    "duration": 248,
    "start_time": "2024-06-04T07:56:54.247Z"
   },
   {
    "duration": 357,
    "start_time": "2024-06-04T07:56:54.497Z"
   },
   {
    "duration": 307,
    "start_time": "2024-06-04T07:56:54.856Z"
   },
   {
    "duration": 81,
    "start_time": "2024-06-04T08:01:08.215Z"
   },
   {
    "duration": 8,
    "start_time": "2024-06-04T08:01:20.942Z"
   },
   {
    "duration": 6,
    "start_time": "2024-06-04T08:01:34.288Z"
   },
   {
    "duration": 827,
    "start_time": "2024-06-04T08:05:04.327Z"
   },
   {
    "duration": 403,
    "start_time": "2024-06-04T08:05:15.229Z"
   },
   {
    "duration": 313,
    "start_time": "2024-06-04T08:07:07.102Z"
   },
   {
    "duration": 7,
    "start_time": "2024-06-04T08:10:30.387Z"
   },
   {
    "duration": 798,
    "start_time": "2024-06-04T08:10:41.774Z"
   },
   {
    "duration": 6,
    "start_time": "2024-06-04T08:10:58.254Z"
   },
   {
    "duration": 312,
    "start_time": "2024-06-04T08:14:18.024Z"
   },
   {
    "duration": 9,
    "start_time": "2024-06-04T08:14:39.390Z"
   },
   {
    "duration": 7,
    "start_time": "2024-06-04T08:17:58.222Z"
   },
   {
    "duration": 8,
    "start_time": "2024-06-04T08:21:01.223Z"
   },
   {
    "duration": 16,
    "start_time": "2024-06-04T08:22:25.161Z"
   },
   {
    "duration": 11,
    "start_time": "2024-06-04T08:36:10.054Z"
   },
   {
    "duration": 6,
    "start_time": "2024-06-04T09:15:52.068Z"
   },
   {
    "duration": 19,
    "start_time": "2024-06-04T09:16:55.674Z"
   },
   {
    "duration": 14,
    "start_time": "2024-06-04T09:18:08.400Z"
   },
   {
    "duration": 25,
    "start_time": "2024-06-04T09:18:16.776Z"
   },
   {
    "duration": 521,
    "start_time": "2024-06-04T09:18:49.529Z"
   },
   {
    "duration": 62,
    "start_time": "2024-06-04T09:18:50.052Z"
   },
   {
    "duration": 12,
    "start_time": "2024-06-04T09:18:50.115Z"
   },
   {
    "duration": 10,
    "start_time": "2024-06-04T09:18:50.128Z"
   },
   {
    "duration": 13,
    "start_time": "2024-06-04T09:18:50.140Z"
   },
   {
    "duration": 26,
    "start_time": "2024-06-04T09:18:50.154Z"
   },
   {
    "duration": 18,
    "start_time": "2024-06-04T09:18:50.181Z"
   },
   {
    "duration": 11,
    "start_time": "2024-06-04T09:18:50.200Z"
   },
   {
    "duration": 13,
    "start_time": "2024-06-04T09:18:50.213Z"
   },
   {
    "duration": 18,
    "start_time": "2024-06-04T09:18:50.228Z"
   },
   {
    "duration": 13,
    "start_time": "2024-06-04T09:18:50.247Z"
   },
   {
    "duration": 4,
    "start_time": "2024-06-04T09:18:50.261Z"
   },
   {
    "duration": 8,
    "start_time": "2024-06-04T09:18:50.267Z"
   },
   {
    "duration": 13,
    "start_time": "2024-06-04T09:18:50.277Z"
   },
   {
    "duration": 10,
    "start_time": "2024-06-04T09:18:50.291Z"
   },
   {
    "duration": 10,
    "start_time": "2024-06-04T09:18:50.303Z"
   },
   {
    "duration": 13,
    "start_time": "2024-06-04T09:18:50.314Z"
   },
   {
    "duration": 166,
    "start_time": "2024-06-04T09:18:50.328Z"
   },
   {
    "duration": 96,
    "start_time": "2024-06-04T09:18:50.495Z"
   },
   {
    "duration": 190,
    "start_time": "2024-06-04T09:18:50.593Z"
   },
   {
    "duration": 5,
    "start_time": "2024-06-04T09:18:50.788Z"
   },
   {
    "duration": 254,
    "start_time": "2024-06-04T09:18:50.794Z"
   },
   {
    "duration": 5,
    "start_time": "2024-06-04T09:18:51.050Z"
   },
   {
    "duration": 206,
    "start_time": "2024-06-04T09:18:51.056Z"
   },
   {
    "duration": 5,
    "start_time": "2024-06-04T09:18:51.263Z"
   },
   {
    "duration": 21,
    "start_time": "2024-06-04T09:18:51.269Z"
   },
   {
    "duration": 22,
    "start_time": "2024-06-04T09:18:51.291Z"
   },
   {
    "duration": 15,
    "start_time": "2024-06-04T09:19:02.883Z"
   },
   {
    "duration": 13,
    "start_time": "2024-06-04T09:20:03.880Z"
   },
   {
    "duration": 12,
    "start_time": "2024-06-04T09:20:24.176Z"
   },
   {
    "duration": 15,
    "start_time": "2024-06-04T09:21:03.976Z"
   },
   {
    "duration": 500,
    "start_time": "2024-06-04T09:21:25.552Z"
   },
   {
    "duration": 66,
    "start_time": "2024-06-04T09:21:26.054Z"
   },
   {
    "duration": 11,
    "start_time": "2024-06-04T09:21:26.121Z"
   },
   {
    "duration": 9,
    "start_time": "2024-06-04T09:21:26.133Z"
   },
   {
    "duration": 14,
    "start_time": "2024-06-04T09:21:26.144Z"
   },
   {
    "duration": 18,
    "start_time": "2024-06-04T09:21:26.159Z"
   },
   {
    "duration": 14,
    "start_time": "2024-06-04T09:21:26.179Z"
   },
   {
    "duration": 13,
    "start_time": "2024-06-04T09:21:26.194Z"
   },
   {
    "duration": 12,
    "start_time": "2024-06-04T09:21:26.208Z"
   },
   {
    "duration": 12,
    "start_time": "2024-06-04T09:21:26.221Z"
   },
   {
    "duration": 5,
    "start_time": "2024-06-04T09:21:26.234Z"
   },
   {
    "duration": 24,
    "start_time": "2024-06-04T09:21:26.240Z"
   },
   {
    "duration": 7,
    "start_time": "2024-06-04T09:21:26.265Z"
   },
   {
    "duration": 13,
    "start_time": "2024-06-04T09:21:26.274Z"
   },
   {
    "duration": 3,
    "start_time": "2024-06-04T09:21:26.289Z"
   },
   {
    "duration": 18,
    "start_time": "2024-06-04T09:21:26.293Z"
   },
   {
    "duration": 6,
    "start_time": "2024-06-04T09:21:26.312Z"
   },
   {
    "duration": 186,
    "start_time": "2024-06-04T09:21:26.319Z"
   },
   {
    "duration": 97,
    "start_time": "2024-06-04T09:21:26.507Z"
   },
   {
    "duration": 191,
    "start_time": "2024-06-04T09:21:26.605Z"
   },
   {
    "duration": 5,
    "start_time": "2024-06-04T09:21:26.797Z"
   },
   {
    "duration": 263,
    "start_time": "2024-06-04T09:21:26.803Z"
   },
   {
    "duration": 6,
    "start_time": "2024-06-04T09:21:27.067Z"
   },
   {
    "duration": 219,
    "start_time": "2024-06-04T09:21:27.074Z"
   },
   {
    "duration": 6,
    "start_time": "2024-06-04T09:21:27.295Z"
   },
   {
    "duration": 12,
    "start_time": "2024-06-04T09:21:27.302Z"
   },
   {
    "duration": 21,
    "start_time": "2024-06-04T09:21:27.316Z"
   },
   {
    "duration": 17,
    "start_time": "2024-06-04T09:21:27.339Z"
   },
   {
    "duration": 4,
    "start_time": "2024-06-04T09:21:49.866Z"
   },
   {
    "duration": 79,
    "start_time": "2024-06-04T09:31:07.936Z"
   },
   {
    "duration": 7,
    "start_time": "2024-06-04T09:31:36.998Z"
   },
   {
    "duration": 15,
    "start_time": "2024-06-04T09:31:44.554Z"
   },
   {
    "duration": 6,
    "start_time": "2024-06-04T09:33:20.325Z"
   },
   {
    "duration": 17,
    "start_time": "2024-06-04T09:33:20.636Z"
   },
   {
    "duration": 200,
    "start_time": "2024-06-04T09:38:28.687Z"
   },
   {
    "duration": 181,
    "start_time": "2024-06-04T09:39:56.898Z"
   },
   {
    "duration": 194,
    "start_time": "2024-06-04T09:40:06.778Z"
   },
   {
    "duration": 251,
    "start_time": "2024-06-04T09:41:11.816Z"
   },
   {
    "duration": 184,
    "start_time": "2024-06-04T09:41:58.466Z"
   },
   {
    "duration": 196,
    "start_time": "2024-06-04T09:42:54.861Z"
   },
   {
    "duration": 297,
    "start_time": "2024-06-04T09:43:09.959Z"
   },
   {
    "duration": 160,
    "start_time": "2024-06-04T09:43:21.174Z"
   },
   {
    "duration": 160,
    "start_time": "2024-06-04T09:44:27.647Z"
   },
   {
    "duration": 231,
    "start_time": "2024-06-04T09:45:20.451Z"
   },
   {
    "duration": 158,
    "start_time": "2024-06-04T09:48:01.665Z"
   },
   {
    "duration": 156,
    "start_time": "2024-06-04T09:48:14.832Z"
   },
   {
    "duration": 155,
    "start_time": "2024-06-04T09:48:43.237Z"
   },
   {
    "duration": 87,
    "start_time": "2024-06-04T09:49:08.305Z"
   },
   {
    "duration": 157,
    "start_time": "2024-06-04T09:49:38.614Z"
   },
   {
    "duration": 202,
    "start_time": "2024-06-04T09:50:04.613Z"
   },
   {
    "duration": 201,
    "start_time": "2024-06-04T09:52:55.638Z"
   },
   {
    "duration": 216,
    "start_time": "2024-06-04T09:53:08.829Z"
   },
   {
    "duration": 218,
    "start_time": "2024-06-04T09:53:59.087Z"
   },
   {
    "duration": 162,
    "start_time": "2024-06-04T09:54:25.862Z"
   },
   {
    "duration": 150,
    "start_time": "2024-06-04T09:54:42.490Z"
   },
   {
    "duration": 93,
    "start_time": "2024-06-04T09:55:06.863Z"
   },
   {
    "duration": 147,
    "start_time": "2024-06-04T09:55:58.038Z"
   },
   {
    "duration": 93,
    "start_time": "2024-06-04T09:56:28.320Z"
   },
   {
    "duration": 191,
    "start_time": "2024-06-04T09:57:24.362Z"
   },
   {
    "duration": 196,
    "start_time": "2024-06-04T09:57:30.536Z"
   },
   {
    "duration": 188,
    "start_time": "2024-06-04T09:57:50.821Z"
   },
   {
    "duration": 239,
    "start_time": "2024-06-04T09:58:30.632Z"
   },
   {
    "duration": 151,
    "start_time": "2024-06-04T09:59:42.032Z"
   },
   {
    "duration": 219,
    "start_time": "2024-06-04T09:59:54.721Z"
   },
   {
    "duration": 163,
    "start_time": "2024-06-04T10:00:58.603Z"
   },
   {
    "duration": 170,
    "start_time": "2024-06-04T10:01:13.792Z"
   },
   {
    "duration": 170,
    "start_time": "2024-06-04T10:01:30.976Z"
   },
   {
    "duration": 164,
    "start_time": "2024-06-04T10:02:16.532Z"
   },
   {
    "duration": 215,
    "start_time": "2024-06-04T10:03:24.261Z"
   },
   {
    "duration": 171,
    "start_time": "2024-06-04T10:03:51.814Z"
   },
   {
    "duration": 310,
    "start_time": "2024-06-04T10:04:22.581Z"
   },
   {
    "duration": 139,
    "start_time": "2024-06-04T10:04:37.701Z"
   },
   {
    "duration": 164,
    "start_time": "2024-06-04T10:04:54.677Z"
   },
   {
    "duration": 168,
    "start_time": "2024-06-04T10:13:15.976Z"
   },
   {
    "duration": 215,
    "start_time": "2024-06-04T10:13:45.882Z"
   },
   {
    "duration": 7,
    "start_time": "2024-06-04T10:15:59.978Z"
   },
   {
    "duration": 6,
    "start_time": "2024-06-04T10:16:19.832Z"
   },
   {
    "duration": 7,
    "start_time": "2024-06-04T10:16:59.214Z"
   },
   {
    "duration": 7,
    "start_time": "2024-06-04T10:17:07.955Z"
   },
   {
    "duration": 6,
    "start_time": "2024-06-04T10:17:18.849Z"
   },
   {
    "duration": 7,
    "start_time": "2024-06-04T10:17:26.003Z"
   },
   {
    "duration": 7,
    "start_time": "2024-06-04T10:17:34.973Z"
   },
   {
    "duration": 7,
    "start_time": "2024-06-04T10:17:43.909Z"
   },
   {
    "duration": 7,
    "start_time": "2024-06-04T10:23:36.690Z"
   },
   {
    "duration": 6,
    "start_time": "2024-06-04T10:23:36.994Z"
   },
   {
    "duration": 7,
    "start_time": "2024-06-04T10:23:47.170Z"
   },
   {
    "duration": 7,
    "start_time": "2024-06-04T10:23:47.755Z"
   },
   {
    "duration": 5,
    "start_time": "2024-06-04T11:16:11.996Z"
   },
   {
    "duration": 4,
    "start_time": "2024-06-04T11:16:44.387Z"
   },
   {
    "duration": 4,
    "start_time": "2024-06-04T11:16:48.022Z"
   },
   {
    "duration": 4,
    "start_time": "2024-06-04T11:16:52.825Z"
   },
   {
    "duration": 511,
    "start_time": "2024-06-04T11:24:02.523Z"
   },
   {
    "duration": 60,
    "start_time": "2024-06-04T11:24:03.035Z"
   },
   {
    "duration": 10,
    "start_time": "2024-06-04T11:24:03.096Z"
   },
   {
    "duration": 15,
    "start_time": "2024-06-04T11:24:03.108Z"
   },
   {
    "duration": 20,
    "start_time": "2024-06-04T11:24:03.124Z"
   },
   {
    "duration": 9,
    "start_time": "2024-06-04T11:24:03.145Z"
   },
   {
    "duration": 5,
    "start_time": "2024-06-04T11:24:03.155Z"
   },
   {
    "duration": 11,
    "start_time": "2024-06-04T11:24:03.161Z"
   },
   {
    "duration": 16,
    "start_time": "2024-06-04T11:24:03.173Z"
   },
   {
    "duration": 18,
    "start_time": "2024-06-04T11:24:03.190Z"
   },
   {
    "duration": 4,
    "start_time": "2024-06-04T11:24:03.210Z"
   },
   {
    "duration": 5,
    "start_time": "2024-06-04T11:24:03.215Z"
   },
   {
    "duration": 5,
    "start_time": "2024-06-04T11:24:03.221Z"
   },
   {
    "duration": 9,
    "start_time": "2024-06-04T11:24:03.228Z"
   },
   {
    "duration": 4,
    "start_time": "2024-06-04T11:24:03.238Z"
   },
   {
    "duration": 10,
    "start_time": "2024-06-04T11:24:03.243Z"
   },
   {
    "duration": 10,
    "start_time": "2024-06-04T11:24:03.254Z"
   },
   {
    "duration": 175,
    "start_time": "2024-06-04T11:24:03.265Z"
   },
   {
    "duration": 92,
    "start_time": "2024-06-04T11:24:03.441Z"
   },
   {
    "duration": 206,
    "start_time": "2024-06-04T11:24:03.534Z"
   },
   {
    "duration": 5,
    "start_time": "2024-06-04T11:24:03.741Z"
   },
   {
    "duration": 263,
    "start_time": "2024-06-04T11:24:03.747Z"
   },
   {
    "duration": 5,
    "start_time": "2024-06-04T11:24:04.012Z"
   },
   {
    "duration": 217,
    "start_time": "2024-06-04T11:24:04.018Z"
   },
   {
    "duration": 5,
    "start_time": "2024-06-04T11:24:04.236Z"
   },
   {
    "duration": 13,
    "start_time": "2024-06-04T11:24:04.242Z"
   },
   {
    "duration": 11,
    "start_time": "2024-06-04T11:24:04.256Z"
   },
   {
    "duration": 26,
    "start_time": "2024-06-04T11:24:04.268Z"
   },
   {
    "duration": 5,
    "start_time": "2024-06-04T11:24:04.295Z"
   },
   {
    "duration": 14,
    "start_time": "2024-06-04T11:24:04.301Z"
   },
   {
    "duration": 4,
    "start_time": "2024-06-04T11:24:04.316Z"
   },
   {
    "duration": 14,
    "start_time": "2024-06-04T11:24:04.321Z"
   },
   {
    "duration": 179,
    "start_time": "2024-06-04T11:24:04.336Z"
   },
   {
    "duration": 7,
    "start_time": "2024-06-04T11:24:04.516Z"
   },
   {
    "duration": 5,
    "start_time": "2024-06-04T11:24:04.524Z"
   },
   {
    "duration": 182,
    "start_time": "2024-06-04T11:24:04.530Z"
   },
   {
    "duration": 6,
    "start_time": "2024-06-04T11:24:04.713Z"
   },
   {
    "duration": 19,
    "start_time": "2024-06-04T11:24:04.720Z"
   },
   {
    "duration": 3,
    "start_time": "2024-06-04T11:28:03.655Z"
   },
   {
    "duration": 15,
    "start_time": "2024-06-04T11:28:11.865Z"
   },
   {
    "duration": 61,
    "start_time": "2024-06-04T11:28:50.614Z"
   },
   {
    "duration": 6,
    "start_time": "2024-06-04T11:30:38.790Z"
   },
   {
    "duration": 3,
    "start_time": "2024-06-04T11:32:46.436Z"
   },
   {
    "duration": 6,
    "start_time": "2024-06-04T11:32:52.255Z"
   },
   {
    "duration": 756,
    "start_time": "2024-06-04T11:33:52.900Z"
   },
   {
    "duration": 1534,
    "start_time": "2024-06-04T11:33:55.483Z"
   },
   {
    "duration": 13,
    "start_time": "2024-06-04T11:34:19.582Z"
   },
   {
    "duration": 531,
    "start_time": "2024-06-04T11:46:54.912Z"
   },
   {
    "duration": 61,
    "start_time": "2024-06-04T11:46:55.445Z"
   },
   {
    "duration": 12,
    "start_time": "2024-06-04T11:46:55.507Z"
   },
   {
    "duration": 18,
    "start_time": "2024-06-04T11:46:55.520Z"
   },
   {
    "duration": 23,
    "start_time": "2024-06-04T11:46:55.539Z"
   },
   {
    "duration": 18,
    "start_time": "2024-06-04T11:46:55.563Z"
   },
   {
    "duration": 16,
    "start_time": "2024-06-04T11:46:55.582Z"
   },
   {
    "duration": 10,
    "start_time": "2024-06-04T11:46:55.599Z"
   },
   {
    "duration": 16,
    "start_time": "2024-06-04T11:46:55.610Z"
   },
   {
    "duration": 5,
    "start_time": "2024-06-04T11:46:55.628Z"
   },
   {
    "duration": 17,
    "start_time": "2024-06-04T11:46:55.634Z"
   },
   {
    "duration": 7,
    "start_time": "2024-06-04T11:46:55.652Z"
   },
   {
    "duration": 6,
    "start_time": "2024-06-04T11:46:55.660Z"
   },
   {
    "duration": 12,
    "start_time": "2024-06-04T11:46:55.668Z"
   },
   {
    "duration": 4,
    "start_time": "2024-06-04T11:46:55.681Z"
   },
   {
    "duration": 18,
    "start_time": "2024-06-04T11:46:55.686Z"
   },
   {
    "duration": 6,
    "start_time": "2024-06-04T11:46:55.706Z"
   },
   {
    "duration": 175,
    "start_time": "2024-06-04T11:46:55.713Z"
   },
   {
    "duration": 96,
    "start_time": "2024-06-04T11:46:55.889Z"
   },
   {
    "duration": 211,
    "start_time": "2024-06-04T11:46:55.989Z"
   },
   {
    "duration": 6,
    "start_time": "2024-06-04T11:46:56.201Z"
   },
   {
    "duration": 283,
    "start_time": "2024-06-04T11:46:56.208Z"
   },
   {
    "duration": 6,
    "start_time": "2024-06-04T11:46:56.492Z"
   },
   {
    "duration": 230,
    "start_time": "2024-06-04T11:46:56.499Z"
   },
   {
    "duration": 5,
    "start_time": "2024-06-04T11:46:56.730Z"
   },
   {
    "duration": 29,
    "start_time": "2024-06-04T11:46:56.736Z"
   },
   {
    "duration": 20,
    "start_time": "2024-06-04T11:46:56.766Z"
   },
   {
    "duration": 15,
    "start_time": "2024-06-04T11:46:56.787Z"
   },
   {
    "duration": 10,
    "start_time": "2024-06-04T11:46:56.804Z"
   },
   {
    "duration": 41,
    "start_time": "2024-06-04T11:46:56.815Z"
   },
   {
    "duration": 11,
    "start_time": "2024-06-04T11:46:56.857Z"
   },
   {
    "duration": 35,
    "start_time": "2024-06-04T11:46:56.869Z"
   },
   {
    "duration": 175,
    "start_time": "2024-06-04T11:46:56.905Z"
   },
   {
    "duration": 8,
    "start_time": "2024-06-04T11:46:57.082Z"
   },
   {
    "duration": 20,
    "start_time": "2024-06-04T11:46:57.091Z"
   },
   {
    "duration": 188,
    "start_time": "2024-06-04T11:46:57.113Z"
   },
   {
    "duration": 6,
    "start_time": "2024-06-04T11:46:57.302Z"
   },
   {
    "duration": 10,
    "start_time": "2024-06-04T11:46:57.309Z"
   },
   {
    "duration": 2,
    "start_time": "2024-06-04T11:46:57.321Z"
   },
   {
    "duration": 6,
    "start_time": "2024-06-04T11:46:57.324Z"
   },
   {
    "duration": 863,
    "start_time": "2024-06-04T11:46:57.333Z"
   },
   {
    "duration": 10,
    "start_time": "2024-06-04T11:46:58.198Z"
   },
   {
    "duration": 857,
    "start_time": "2024-06-04T11:48:13.074Z"
   },
   {
    "duration": 11,
    "start_time": "2024-06-04T11:48:16.816Z"
   },
   {
    "duration": 95,
    "start_time": "2024-06-04T11:48:51.340Z"
   },
   {
    "duration": 54,
    "start_time": "2024-06-04T11:49:29.511Z"
   },
   {
    "duration": 52,
    "start_time": "2024-06-04T11:49:45.773Z"
   },
   {
    "duration": 11,
    "start_time": "2024-06-04T11:51:19.075Z"
   },
   {
    "duration": 11,
    "start_time": "2024-06-04T11:51:24.534Z"
   },
   {
    "duration": 890,
    "start_time": "2024-06-04T11:53:11.372Z"
   },
   {
    "duration": 12,
    "start_time": "2024-06-04T11:53:14.541Z"
   },
   {
    "duration": 77,
    "start_time": "2024-06-04T11:53:44.675Z"
   },
   {
    "duration": 11,
    "start_time": "2024-06-04T11:53:46.676Z"
   },
   {
    "duration": 64,
    "start_time": "2024-06-04T11:55:45.673Z"
   },
   {
    "duration": 12,
    "start_time": "2024-06-04T11:55:46.458Z"
   },
   {
    "duration": 3,
    "start_time": "2024-06-04T11:55:56.518Z"
   },
   {
    "duration": 11,
    "start_time": "2024-06-04T11:55:57.417Z"
   },
   {
    "duration": 9,
    "start_time": "2024-06-04T11:56:37.896Z"
   },
   {
    "duration": 12,
    "start_time": "2024-06-04T11:56:46.353Z"
   },
   {
    "duration": 12,
    "start_time": "2024-06-04T11:56:55.317Z"
   },
   {
    "duration": 3,
    "start_time": "2024-06-04T11:59:23.408Z"
   },
   {
    "duration": 20,
    "start_time": "2024-06-04T11:59:24.014Z"
   },
   {
    "duration": 76,
    "start_time": "2024-06-04T11:59:33.382Z"
   },
   {
    "duration": 3,
    "start_time": "2024-06-04T11:59:33.834Z"
   },
   {
    "duration": 12,
    "start_time": "2024-06-04T11:59:34.360Z"
   },
   {
    "duration": 3,
    "start_time": "2024-06-04T11:59:56.826Z"
   },
   {
    "duration": 11,
    "start_time": "2024-06-04T11:59:57.430Z"
   },
   {
    "duration": 3,
    "start_time": "2024-06-04T12:01:28.697Z"
   },
   {
    "duration": 3,
    "start_time": "2024-06-04T12:01:29.370Z"
   },
   {
    "duration": 20,
    "start_time": "2024-06-04T12:01:29.740Z"
   },
   {
    "duration": 3,
    "start_time": "2024-06-04T12:01:29.984Z"
   },
   {
    "duration": 13,
    "start_time": "2024-06-04T12:01:30.753Z"
   },
   {
    "duration": 3,
    "start_time": "2024-06-04T12:04:43.369Z"
   },
   {
    "duration": 12,
    "start_time": "2024-06-04T12:04:43.754Z"
   },
   {
    "duration": 581,
    "start_time": "2024-06-04T12:05:24.294Z"
   },
   {
    "duration": 62,
    "start_time": "2024-06-04T12:05:24.877Z"
   },
   {
    "duration": 11,
    "start_time": "2024-06-04T12:05:24.941Z"
   },
   {
    "duration": 9,
    "start_time": "2024-06-04T12:05:24.953Z"
   },
   {
    "duration": 18,
    "start_time": "2024-06-04T12:05:24.964Z"
   },
   {
    "duration": 10,
    "start_time": "2024-06-04T12:05:24.983Z"
   },
   {
    "duration": 5,
    "start_time": "2024-06-04T12:05:24.995Z"
   },
   {
    "duration": 14,
    "start_time": "2024-06-04T12:05:25.002Z"
   },
   {
    "duration": 9,
    "start_time": "2024-06-04T12:05:25.017Z"
   },
   {
    "duration": 16,
    "start_time": "2024-06-04T12:05:25.028Z"
   },
   {
    "duration": 10,
    "start_time": "2024-06-04T12:05:25.045Z"
   },
   {
    "duration": 5,
    "start_time": "2024-06-04T12:05:25.056Z"
   },
   {
    "duration": 5,
    "start_time": "2024-06-04T12:05:25.063Z"
   },
   {
    "duration": 7,
    "start_time": "2024-06-04T12:05:25.071Z"
   },
   {
    "duration": 11,
    "start_time": "2024-06-04T12:05:25.079Z"
   },
   {
    "duration": 4,
    "start_time": "2024-06-04T12:05:25.092Z"
   },
   {
    "duration": 6,
    "start_time": "2024-06-04T12:05:25.098Z"
   },
   {
    "duration": 194,
    "start_time": "2024-06-04T12:05:25.105Z"
   },
   {
    "duration": 102,
    "start_time": "2024-06-04T12:05:25.301Z"
   },
   {
    "duration": 203,
    "start_time": "2024-06-04T12:05:25.404Z"
   },
   {
    "duration": 5,
    "start_time": "2024-06-04T12:05:25.608Z"
   },
   {
    "duration": 289,
    "start_time": "2024-06-04T12:05:25.614Z"
   },
   {
    "duration": 5,
    "start_time": "2024-06-04T12:05:25.905Z"
   },
   {
    "duration": 226,
    "start_time": "2024-06-04T12:05:25.911Z"
   },
   {
    "duration": 6,
    "start_time": "2024-06-04T12:05:26.138Z"
   },
   {
    "duration": 27,
    "start_time": "2024-06-04T12:05:26.145Z"
   },
   {
    "duration": 52,
    "start_time": "2024-06-04T12:05:26.174Z"
   },
   {
    "duration": 27,
    "start_time": "2024-06-04T12:05:26.228Z"
   },
   {
    "duration": 7,
    "start_time": "2024-06-04T12:05:26.256Z"
   },
   {
    "duration": 14,
    "start_time": "2024-06-04T12:05:26.264Z"
   },
   {
    "duration": 4,
    "start_time": "2024-06-04T12:05:26.280Z"
   },
   {
    "duration": 21,
    "start_time": "2024-06-04T12:05:26.286Z"
   },
   {
    "duration": 188,
    "start_time": "2024-06-04T12:05:26.309Z"
   },
   {
    "duration": 7,
    "start_time": "2024-06-04T12:05:26.499Z"
   },
   {
    "duration": 13,
    "start_time": "2024-06-04T12:05:26.507Z"
   },
   {
    "duration": 188,
    "start_time": "2024-06-04T12:05:26.521Z"
   },
   {
    "duration": 7,
    "start_time": "2024-06-04T12:05:26.711Z"
   },
   {
    "duration": 15,
    "start_time": "2024-06-04T12:05:26.719Z"
   },
   {
    "duration": 16,
    "start_time": "2024-06-04T12:05:26.736Z"
   },
   {
    "duration": 18,
    "start_time": "2024-06-04T12:05:26.753Z"
   },
   {
    "duration": 77,
    "start_time": "2024-06-04T12:05:26.774Z"
   },
   {
    "duration": 3,
    "start_time": "2024-06-04T12:05:26.853Z"
   },
   {
    "duration": 25,
    "start_time": "2024-06-04T12:05:26.857Z"
   },
   {
    "duration": 3,
    "start_time": "2024-06-04T12:07:05.208Z"
   },
   {
    "duration": 71,
    "start_time": "2024-06-04T12:07:13.996Z"
   },
   {
    "duration": 3,
    "start_time": "2024-06-04T12:07:15.000Z"
   },
   {
    "duration": 12,
    "start_time": "2024-06-04T12:07:15.823Z"
   },
   {
    "duration": 740,
    "start_time": "2024-06-04T12:07:33.594Z"
   },
   {
    "duration": 0,
    "start_time": "2024-06-04T12:07:34.335Z"
   },
   {
    "duration": 3,
    "start_time": "2024-06-04T12:07:34.392Z"
   },
   {
    "duration": 13,
    "start_time": "2024-06-04T12:07:36.162Z"
   },
   {
    "duration": 548,
    "start_time": "2024-06-04T12:08:13.807Z"
   },
   {
    "duration": 62,
    "start_time": "2024-06-04T12:08:14.357Z"
   },
   {
    "duration": 11,
    "start_time": "2024-06-04T12:08:14.421Z"
   },
   {
    "duration": 18,
    "start_time": "2024-06-04T12:08:14.433Z"
   },
   {
    "duration": 16,
    "start_time": "2024-06-04T12:08:14.453Z"
   },
   {
    "duration": 16,
    "start_time": "2024-06-04T12:08:14.470Z"
   },
   {
    "duration": 5,
    "start_time": "2024-06-04T12:08:14.487Z"
   },
   {
    "duration": 24,
    "start_time": "2024-06-04T12:08:14.493Z"
   },
   {
    "duration": 6,
    "start_time": "2024-06-04T12:08:14.518Z"
   },
   {
    "duration": 4,
    "start_time": "2024-06-04T12:08:14.527Z"
   },
   {
    "duration": 10,
    "start_time": "2024-06-04T12:08:14.532Z"
   },
   {
    "duration": 12,
    "start_time": "2024-06-04T12:08:14.544Z"
   },
   {
    "duration": 6,
    "start_time": "2024-06-04T12:08:14.557Z"
   },
   {
    "duration": 6,
    "start_time": "2024-06-04T12:08:14.564Z"
   },
   {
    "duration": 6,
    "start_time": "2024-06-04T12:08:14.571Z"
   },
   {
    "duration": 15,
    "start_time": "2024-06-04T12:08:14.578Z"
   },
   {
    "duration": 8,
    "start_time": "2024-06-04T12:08:14.595Z"
   },
   {
    "duration": 170,
    "start_time": "2024-06-04T12:08:14.605Z"
   },
   {
    "duration": 106,
    "start_time": "2024-06-04T12:08:14.777Z"
   },
   {
    "duration": 209,
    "start_time": "2024-06-04T12:08:14.885Z"
   },
   {
    "duration": 5,
    "start_time": "2024-06-04T12:08:15.095Z"
   },
   {
    "duration": 279,
    "start_time": "2024-06-04T12:08:15.102Z"
   },
   {
    "duration": 11,
    "start_time": "2024-06-04T12:08:15.383Z"
   },
   {
    "duration": 224,
    "start_time": "2024-06-04T12:08:15.395Z"
   },
   {
    "duration": 5,
    "start_time": "2024-06-04T12:08:15.621Z"
   },
   {
    "duration": 15,
    "start_time": "2024-06-04T12:08:15.627Z"
   },
   {
    "duration": 20,
    "start_time": "2024-06-04T12:08:15.643Z"
   },
   {
    "duration": 27,
    "start_time": "2024-06-04T12:08:15.666Z"
   },
   {
    "duration": 16,
    "start_time": "2024-06-04T12:08:15.695Z"
   },
   {
    "duration": 15,
    "start_time": "2024-06-04T12:08:15.712Z"
   },
   {
    "duration": 5,
    "start_time": "2024-06-04T12:08:15.728Z"
   },
   {
    "duration": 13,
    "start_time": "2024-06-04T12:08:15.734Z"
   },
   {
    "duration": 186,
    "start_time": "2024-06-04T12:08:15.749Z"
   },
   {
    "duration": 8,
    "start_time": "2024-06-04T12:08:15.936Z"
   },
   {
    "duration": 6,
    "start_time": "2024-06-04T12:08:15.945Z"
   },
   {
    "duration": 198,
    "start_time": "2024-06-04T12:08:15.952Z"
   },
   {
    "duration": 7,
    "start_time": "2024-06-04T12:08:16.151Z"
   },
   {
    "duration": 6,
    "start_time": "2024-06-04T12:08:16.159Z"
   },
   {
    "duration": 3,
    "start_time": "2024-06-04T12:08:16.166Z"
   },
   {
    "duration": 4,
    "start_time": "2024-06-04T12:08:16.189Z"
   },
   {
    "duration": 84,
    "start_time": "2024-06-04T12:08:16.195Z"
   },
   {
    "duration": 2,
    "start_time": "2024-06-04T12:08:16.289Z"
   },
   {
    "duration": 13,
    "start_time": "2024-06-04T12:08:16.293Z"
   },
   {
    "duration": 70,
    "start_time": "2024-06-04T12:11:16.809Z"
   },
   {
    "duration": 20,
    "start_time": "2024-06-04T12:12:29.173Z"
   },
   {
    "duration": 726,
    "start_time": "2024-06-04T14:54:48.887Z"
   },
   {
    "duration": 211,
    "start_time": "2024-06-04T14:54:49.615Z"
   },
   {
    "duration": 12,
    "start_time": "2024-06-04T14:54:49.827Z"
   },
   {
    "duration": 17,
    "start_time": "2024-06-04T14:54:49.840Z"
   },
   {
    "duration": 14,
    "start_time": "2024-06-04T14:54:49.859Z"
   },
   {
    "duration": 51,
    "start_time": "2024-06-04T14:54:49.874Z"
   },
   {
    "duration": 6,
    "start_time": "2024-06-04T14:54:49.926Z"
   },
   {
    "duration": 8,
    "start_time": "2024-06-04T14:54:49.933Z"
   },
   {
    "duration": 9,
    "start_time": "2024-06-04T14:54:49.943Z"
   },
   {
    "duration": 6,
    "start_time": "2024-06-04T14:54:49.953Z"
   },
   {
    "duration": 9,
    "start_time": "2024-06-04T14:54:49.960Z"
   },
   {
    "duration": 5,
    "start_time": "2024-06-04T14:54:49.970Z"
   },
   {
    "duration": 35,
    "start_time": "2024-06-04T14:54:49.976Z"
   },
   {
    "duration": 29,
    "start_time": "2024-06-04T14:54:50.014Z"
   },
   {
    "duration": 10,
    "start_time": "2024-06-04T14:54:50.045Z"
   },
   {
    "duration": 30,
    "start_time": "2024-06-04T14:54:50.056Z"
   },
   {
    "duration": 15,
    "start_time": "2024-06-04T14:54:50.087Z"
   },
   {
    "duration": 178,
    "start_time": "2024-06-04T14:54:50.103Z"
   },
   {
    "duration": 129,
    "start_time": "2024-06-04T14:54:50.283Z"
   },
   {
    "duration": 213,
    "start_time": "2024-06-04T14:54:50.413Z"
   },
   {
    "duration": 5,
    "start_time": "2024-06-04T14:54:50.627Z"
   },
   {
    "duration": 282,
    "start_time": "2024-06-04T14:54:50.633Z"
   },
   {
    "duration": 7,
    "start_time": "2024-06-04T14:54:50.916Z"
   },
   {
    "duration": 219,
    "start_time": "2024-06-04T14:54:50.925Z"
   },
   {
    "duration": 6,
    "start_time": "2024-06-04T14:54:51.146Z"
   },
   {
    "duration": 38,
    "start_time": "2024-06-04T14:54:51.153Z"
   },
   {
    "duration": 33,
    "start_time": "2024-06-04T14:54:51.192Z"
   },
   {
    "duration": 24,
    "start_time": "2024-06-04T14:54:51.226Z"
   },
   {
    "duration": 17,
    "start_time": "2024-06-04T14:54:51.252Z"
   },
   {
    "duration": 19,
    "start_time": "2024-06-04T14:54:51.271Z"
   },
   {
    "duration": 18,
    "start_time": "2024-06-04T14:54:51.292Z"
   },
   {
    "duration": 33,
    "start_time": "2024-06-04T14:54:51.311Z"
   },
   {
    "duration": 190,
    "start_time": "2024-06-04T14:54:51.346Z"
   },
   {
    "duration": 7,
    "start_time": "2024-06-04T14:54:51.538Z"
   },
   {
    "duration": 44,
    "start_time": "2024-06-04T14:54:51.546Z"
   },
   {
    "duration": 192,
    "start_time": "2024-06-04T14:54:51.591Z"
   },
   {
    "duration": 7,
    "start_time": "2024-06-04T14:54:51.785Z"
   },
   {
    "duration": 18,
    "start_time": "2024-06-04T14:54:51.793Z"
   },
   {
    "duration": 17,
    "start_time": "2024-06-04T14:54:51.812Z"
   },
   {
    "duration": 19,
    "start_time": "2024-06-04T14:54:51.830Z"
   },
   {
    "duration": 169,
    "start_time": "2024-06-04T14:54:51.852Z"
   },
   {
    "duration": 14,
    "start_time": "2024-06-04T14:54:52.022Z"
   },
   {
    "duration": 27,
    "start_time": "2024-06-04T14:54:52.037Z"
   },
   {
    "duration": 72,
    "start_time": "2024-06-04T14:58:40.541Z"
   },
   {
    "duration": 3,
    "start_time": "2024-06-04T14:58:41.434Z"
   },
   {
    "duration": 521,
    "start_time": "2024-06-04T14:58:53.332Z"
   },
   {
    "duration": 68,
    "start_time": "2024-06-04T14:58:53.854Z"
   },
   {
    "duration": 11,
    "start_time": "2024-06-04T14:58:53.923Z"
   },
   {
    "duration": 14,
    "start_time": "2024-06-04T14:58:53.936Z"
   },
   {
    "duration": 27,
    "start_time": "2024-06-04T14:58:53.952Z"
   },
   {
    "duration": 54,
    "start_time": "2024-06-04T14:58:53.980Z"
   },
   {
    "duration": 6,
    "start_time": "2024-06-04T14:58:54.035Z"
   },
   {
    "duration": 35,
    "start_time": "2024-06-04T14:58:54.042Z"
   },
   {
    "duration": 19,
    "start_time": "2024-06-04T14:58:54.078Z"
   },
   {
    "duration": 15,
    "start_time": "2024-06-04T14:58:54.098Z"
   },
   {
    "duration": 12,
    "start_time": "2024-06-04T14:58:54.114Z"
   },
   {
    "duration": 9,
    "start_time": "2024-06-04T14:58:54.127Z"
   },
   {
    "duration": 26,
    "start_time": "2024-06-04T14:58:54.137Z"
   },
   {
    "duration": 16,
    "start_time": "2024-06-04T14:58:54.165Z"
   },
   {
    "duration": 23,
    "start_time": "2024-06-04T14:58:54.182Z"
   },
   {
    "duration": 5,
    "start_time": "2024-06-04T14:58:54.206Z"
   },
   {
    "duration": 12,
    "start_time": "2024-06-04T14:58:54.212Z"
   },
   {
    "duration": 168,
    "start_time": "2024-06-04T14:58:54.225Z"
   },
   {
    "duration": 100,
    "start_time": "2024-06-04T14:58:54.394Z"
   },
   {
    "duration": 204,
    "start_time": "2024-06-04T14:58:54.495Z"
   },
   {
    "duration": 6,
    "start_time": "2024-06-04T14:58:54.702Z"
   },
   {
    "duration": 279,
    "start_time": "2024-06-04T14:58:54.709Z"
   },
   {
    "duration": 12,
    "start_time": "2024-06-04T14:58:54.990Z"
   },
   {
    "duration": 239,
    "start_time": "2024-06-04T14:58:55.003Z"
   },
   {
    "duration": 6,
    "start_time": "2024-06-04T14:58:55.244Z"
   },
   {
    "duration": 24,
    "start_time": "2024-06-04T14:58:55.252Z"
   },
   {
    "duration": 22,
    "start_time": "2024-06-04T14:58:55.278Z"
   },
   {
    "duration": 15,
    "start_time": "2024-06-04T14:58:55.301Z"
   },
   {
    "duration": 12,
    "start_time": "2024-06-04T14:58:55.318Z"
   },
   {
    "duration": 30,
    "start_time": "2024-06-04T14:58:55.331Z"
   },
   {
    "duration": 18,
    "start_time": "2024-06-04T14:58:55.363Z"
   },
   {
    "duration": 14,
    "start_time": "2024-06-04T14:58:55.383Z"
   },
   {
    "duration": 211,
    "start_time": "2024-06-04T14:58:55.398Z"
   },
   {
    "duration": 6,
    "start_time": "2024-06-04T14:58:55.610Z"
   },
   {
    "duration": 7,
    "start_time": "2024-06-04T14:58:55.617Z"
   },
   {
    "duration": 183,
    "start_time": "2024-06-04T14:58:55.625Z"
   },
   {
    "duration": 7,
    "start_time": "2024-06-04T14:58:55.809Z"
   },
   {
    "duration": 24,
    "start_time": "2024-06-04T14:58:55.817Z"
   },
   {
    "duration": 17,
    "start_time": "2024-06-04T14:58:55.842Z"
   },
   {
    "duration": 12,
    "start_time": "2024-06-04T14:58:55.860Z"
   },
   {
    "duration": 124,
    "start_time": "2024-06-04T14:58:55.875Z"
   },
   {
    "duration": 3,
    "start_time": "2024-06-04T14:58:56.000Z"
   },
   {
    "duration": 14,
    "start_time": "2024-06-04T14:58:56.004Z"
   },
   {
    "duration": 846,
    "start_time": "2024-06-04T15:00:36.749Z"
   },
   {
    "duration": 5,
    "start_time": "2024-06-04T15:00:37.597Z"
   },
   {
    "duration": 12,
    "start_time": "2024-06-04T15:00:37.930Z"
   },
   {
    "duration": 762,
    "start_time": "2024-06-04T15:01:05.320Z"
   },
   {
    "duration": 3,
    "start_time": "2024-06-04T15:01:06.149Z"
   },
   {
    "duration": 12,
    "start_time": "2024-06-04T15:01:06.688Z"
   },
   {
    "duration": 3,
    "start_time": "2024-06-04T15:08:10.755Z"
   },
   {
    "duration": 3,
    "start_time": "2024-06-04T15:09:53.800Z"
   },
   {
    "duration": 254,
    "start_time": "2024-06-04T15:09:54.269Z"
   },
   {
    "duration": 4,
    "start_time": "2024-06-04T15:10:10.271Z"
   },
   {
    "duration": 6,
    "start_time": "2024-06-04T15:10:10.503Z"
   },
   {
    "duration": 3,
    "start_time": "2024-06-04T15:10:40.102Z"
   },
   {
    "duration": 7,
    "start_time": "2024-06-04T15:10:40.399Z"
   },
   {
    "duration": 600,
    "start_time": "2024-06-04T15:11:09.279Z"
   },
   {
    "duration": 72,
    "start_time": "2024-06-04T15:11:09.880Z"
   },
   {
    "duration": 11,
    "start_time": "2024-06-04T15:11:09.954Z"
   },
   {
    "duration": 32,
    "start_time": "2024-06-04T15:11:09.966Z"
   },
   {
    "duration": 28,
    "start_time": "2024-06-04T15:11:10.000Z"
   },
   {
    "duration": 22,
    "start_time": "2024-06-04T15:11:10.029Z"
   },
   {
    "duration": 47,
    "start_time": "2024-06-04T15:11:10.052Z"
   },
   {
    "duration": 24,
    "start_time": "2024-06-04T15:11:10.100Z"
   },
   {
    "duration": 8,
    "start_time": "2024-06-04T15:11:10.126Z"
   },
   {
    "duration": 5,
    "start_time": "2024-06-04T15:11:10.135Z"
   },
   {
    "duration": 13,
    "start_time": "2024-06-04T15:11:10.141Z"
   },
   {
    "duration": 13,
    "start_time": "2024-06-04T15:11:10.155Z"
   },
   {
    "duration": 10,
    "start_time": "2024-06-04T15:11:10.169Z"
   },
   {
    "duration": 10,
    "start_time": "2024-06-04T15:11:10.182Z"
   },
   {
    "duration": 15,
    "start_time": "2024-06-04T15:11:10.193Z"
   },
   {
    "duration": 8,
    "start_time": "2024-06-04T15:11:10.209Z"
   },
   {
    "duration": 6,
    "start_time": "2024-06-04T15:11:10.218Z"
   },
   {
    "duration": 215,
    "start_time": "2024-06-04T15:11:10.225Z"
   },
   {
    "duration": 95,
    "start_time": "2024-06-04T15:11:10.441Z"
   },
   {
    "duration": 197,
    "start_time": "2024-06-04T15:11:10.538Z"
   },
   {
    "duration": 5,
    "start_time": "2024-06-04T15:11:10.736Z"
   },
   {
    "duration": 271,
    "start_time": "2024-06-04T15:11:10.742Z"
   },
   {
    "duration": 6,
    "start_time": "2024-06-04T15:11:11.014Z"
   },
   {
    "duration": 221,
    "start_time": "2024-06-04T15:11:11.021Z"
   },
   {
    "duration": 5,
    "start_time": "2024-06-04T15:11:11.243Z"
   },
   {
    "duration": 11,
    "start_time": "2024-06-04T15:11:11.250Z"
   },
   {
    "duration": 12,
    "start_time": "2024-06-04T15:11:11.262Z"
   },
   {
    "duration": 37,
    "start_time": "2024-06-04T15:11:11.275Z"
   },
   {
    "duration": 8,
    "start_time": "2024-06-04T15:11:11.313Z"
   },
   {
    "duration": 19,
    "start_time": "2024-06-04T15:11:11.322Z"
   },
   {
    "duration": 6,
    "start_time": "2024-06-04T15:11:11.342Z"
   },
   {
    "duration": 14,
    "start_time": "2024-06-04T15:11:11.349Z"
   },
   {
    "duration": 201,
    "start_time": "2024-06-04T15:11:11.365Z"
   },
   {
    "duration": 6,
    "start_time": "2024-06-04T15:11:11.568Z"
   },
   {
    "duration": 12,
    "start_time": "2024-06-04T15:11:11.575Z"
   },
   {
    "duration": 179,
    "start_time": "2024-06-04T15:11:11.588Z"
   },
   {
    "duration": 7,
    "start_time": "2024-06-04T15:11:11.768Z"
   },
   {
    "duration": 16,
    "start_time": "2024-06-04T15:11:11.776Z"
   },
   {
    "duration": 5,
    "start_time": "2024-06-04T15:11:11.793Z"
   },
   {
    "duration": 4,
    "start_time": "2024-06-04T15:11:11.801Z"
   },
   {
    "duration": 771,
    "start_time": "2024-06-04T15:11:11.808Z"
   },
   {
    "duration": 3,
    "start_time": "2024-06-04T15:11:12.580Z"
   },
   {
    "duration": 18,
    "start_time": "2024-06-04T15:11:12.584Z"
   },
   {
    "duration": 3,
    "start_time": "2024-06-04T15:11:12.603Z"
   },
   {
    "duration": 128,
    "start_time": "2024-06-04T15:11:12.607Z"
   },
   {
    "duration": 16,
    "start_time": "2024-06-04T15:11:28.872Z"
   },
   {
    "duration": 3,
    "start_time": "2024-06-04T15:14:26.290Z"
   },
   {
    "duration": 118,
    "start_time": "2024-06-04T15:14:26.736Z"
   },
   {
    "duration": 14,
    "start_time": "2024-06-04T15:14:27.586Z"
   },
   {
    "duration": 7,
    "start_time": "2024-06-04T15:16:55.765Z"
   },
   {
    "duration": 63,
    "start_time": "2024-06-04T15:25:46.502Z"
   },
   {
    "duration": 3,
    "start_time": "2024-06-04T15:25:46.978Z"
   },
   {
    "duration": 7,
    "start_time": "2024-06-04T15:26:58.231Z"
   },
   {
    "duration": 2,
    "start_time": "2024-06-04T15:26:59.560Z"
   },
   {
    "duration": 16,
    "start_time": "2024-06-04T15:27:00.025Z"
   },
   {
    "duration": 8,
    "start_time": "2024-06-04T15:27:20.839Z"
   },
   {
    "duration": 3,
    "start_time": "2024-06-04T15:27:21.577Z"
   },
   {
    "duration": 14,
    "start_time": "2024-06-04T15:27:22.258Z"
   },
   {
    "duration": 17,
    "start_time": "2024-06-04T15:28:44.419Z"
   },
   {
    "duration": 3,
    "start_time": "2024-06-04T15:28:44.755Z"
   },
   {
    "duration": 24,
    "start_time": "2024-06-04T15:30:04.295Z"
   },
   {
    "duration": 2,
    "start_time": "2024-06-04T15:30:04.725Z"
   },
   {
    "duration": 29,
    "start_time": "2024-06-04T15:30:23.628Z"
   },
   {
    "duration": 2,
    "start_time": "2024-06-04T15:30:24.570Z"
   },
   {
    "duration": 30,
    "start_time": "2024-06-04T15:30:30.559Z"
   },
   {
    "duration": 2,
    "start_time": "2024-06-04T15:30:30.924Z"
   },
   {
    "duration": 14,
    "start_time": "2024-06-04T15:30:31.466Z"
   },
   {
    "duration": 29,
    "start_time": "2024-06-04T15:35:45.132Z"
   },
   {
    "duration": 3,
    "start_time": "2024-06-04T15:35:45.661Z"
   },
   {
    "duration": 60,
    "start_time": "2024-06-04T15:40:40.870Z"
   },
   {
    "duration": 69,
    "start_time": "2024-06-04T15:41:28.334Z"
   },
   {
    "duration": 3,
    "start_time": "2024-06-04T15:43:38.735Z"
   },
   {
    "duration": 360,
    "start_time": "2024-06-04T15:43:43.222Z"
   },
   {
    "duration": 242,
    "start_time": "2024-06-04T15:44:56.572Z"
   },
   {
    "duration": 28,
    "start_time": "2024-06-04T15:44:57.486Z"
   },
   {
    "duration": 228,
    "start_time": "2024-06-04T15:45:52.191Z"
   },
   {
    "duration": 27,
    "start_time": "2024-06-04T15:45:53.029Z"
   },
   {
    "duration": 2,
    "start_time": "2024-06-04T15:50:26.082Z"
   },
   {
    "duration": 15,
    "start_time": "2024-06-04T15:50:26.679Z"
   },
   {
    "duration": 55,
    "start_time": "2024-06-04T15:54:28.046Z"
   },
   {
    "duration": 56,
    "start_time": "2024-06-04T15:54:46.292Z"
   },
   {
    "duration": 4,
    "start_time": "2024-06-04T15:55:34.224Z"
   },
   {
    "duration": 15,
    "start_time": "2024-06-04T15:55:36.293Z"
   },
   {
    "duration": 4,
    "start_time": "2024-06-04T15:56:49.702Z"
   },
   {
    "duration": 16,
    "start_time": "2024-06-04T15:56:50.291Z"
   },
   {
    "duration": 582,
    "start_time": "2024-06-04T16:00:49.009Z"
   },
   {
    "duration": 65,
    "start_time": "2024-06-04T16:00:49.593Z"
   },
   {
    "duration": 10,
    "start_time": "2024-06-04T16:00:49.660Z"
   },
   {
    "duration": 8,
    "start_time": "2024-06-04T16:00:49.672Z"
   },
   {
    "duration": 25,
    "start_time": "2024-06-04T16:00:49.682Z"
   },
   {
    "duration": 13,
    "start_time": "2024-06-04T16:00:49.708Z"
   },
   {
    "duration": 6,
    "start_time": "2024-06-04T16:00:49.723Z"
   },
   {
    "duration": 10,
    "start_time": "2024-06-04T16:00:49.731Z"
   },
   {
    "duration": 8,
    "start_time": "2024-06-04T16:00:49.742Z"
   },
   {
    "duration": 49,
    "start_time": "2024-06-04T16:00:49.751Z"
   },
   {
    "duration": 39,
    "start_time": "2024-06-04T16:00:49.802Z"
   },
   {
    "duration": 4,
    "start_time": "2024-06-04T16:00:49.842Z"
   },
   {
    "duration": 4,
    "start_time": "2024-06-04T16:00:49.848Z"
   },
   {
    "duration": 6,
    "start_time": "2024-06-04T16:00:49.855Z"
   },
   {
    "duration": 4,
    "start_time": "2024-06-04T16:00:49.862Z"
   },
   {
    "duration": 14,
    "start_time": "2024-06-04T16:00:49.867Z"
   },
   {
    "duration": 20,
    "start_time": "2024-06-04T16:00:49.882Z"
   },
   {
    "duration": 190,
    "start_time": "2024-06-04T16:00:49.903Z"
   },
   {
    "duration": 100,
    "start_time": "2024-06-04T16:00:50.095Z"
   },
   {
    "duration": 233,
    "start_time": "2024-06-04T16:00:50.196Z"
   },
   {
    "duration": 5,
    "start_time": "2024-06-04T16:00:50.430Z"
   },
   {
    "duration": 271,
    "start_time": "2024-06-04T16:00:50.436Z"
   },
   {
    "duration": 6,
    "start_time": "2024-06-04T16:00:50.708Z"
   },
   {
    "duration": 232,
    "start_time": "2024-06-04T16:00:50.715Z"
   },
   {
    "duration": 5,
    "start_time": "2024-06-04T16:00:50.949Z"
   },
   {
    "duration": 16,
    "start_time": "2024-06-04T16:00:50.955Z"
   },
   {
    "duration": 13,
    "start_time": "2024-06-04T16:00:50.972Z"
   },
   {
    "duration": 25,
    "start_time": "2024-06-04T16:00:50.986Z"
   },
   {
    "duration": 22,
    "start_time": "2024-06-04T16:00:51.012Z"
   },
   {
    "duration": 19,
    "start_time": "2024-06-04T16:00:51.035Z"
   },
   {
    "duration": 6,
    "start_time": "2024-06-04T16:00:51.055Z"
   },
   {
    "duration": 16,
    "start_time": "2024-06-04T16:00:51.062Z"
   },
   {
    "duration": 217,
    "start_time": "2024-06-04T16:00:51.080Z"
   },
   {
    "duration": 8,
    "start_time": "2024-06-04T16:00:51.298Z"
   },
   {
    "duration": 7,
    "start_time": "2024-06-04T16:00:51.307Z"
   },
   {
    "duration": 188,
    "start_time": "2024-06-04T16:00:51.316Z"
   },
   {
    "duration": 6,
    "start_time": "2024-06-04T16:00:51.506Z"
   },
   {
    "duration": 12,
    "start_time": "2024-06-04T16:00:51.513Z"
   },
   {
    "duration": 23,
    "start_time": "2024-06-04T16:00:51.527Z"
   },
   {
    "duration": 10,
    "start_time": "2024-06-04T16:00:51.551Z"
   },
   {
    "duration": 40,
    "start_time": "2024-06-04T16:00:51.564Z"
   },
   {
    "duration": 6,
    "start_time": "2024-06-04T16:00:51.605Z"
   },
   {
    "duration": 10,
    "start_time": "2024-06-04T16:00:51.612Z"
   },
   {
    "duration": 29,
    "start_time": "2024-06-04T16:00:51.623Z"
   },
   {
    "duration": 3,
    "start_time": "2024-06-04T16:00:51.653Z"
   },
   {
    "duration": 56,
    "start_time": "2024-06-04T16:00:51.657Z"
   },
   {
    "duration": 3,
    "start_time": "2024-06-04T16:01:21.755Z"
   },
   {
    "duration": 297,
    "start_time": "2024-06-04T16:01:22.778Z"
   },
   {
    "duration": 15,
    "start_time": "2024-06-04T16:01:23.313Z"
   },
   {
    "duration": 4,
    "start_time": "2024-06-04T16:01:24.238Z"
   },
   {
    "duration": 18,
    "start_time": "2024-06-04T16:01:24.692Z"
   },
   {
    "duration": 554,
    "start_time": "2024-06-04T16:02:11.528Z"
   },
   {
    "duration": 67,
    "start_time": "2024-06-04T16:02:12.084Z"
   },
   {
    "duration": 11,
    "start_time": "2024-06-04T16:02:12.152Z"
   },
   {
    "duration": 19,
    "start_time": "2024-06-04T16:02:12.164Z"
   },
   {
    "duration": 7,
    "start_time": "2024-06-04T16:02:12.184Z"
   },
   {
    "duration": 10,
    "start_time": "2024-06-04T16:02:12.192Z"
   },
   {
    "duration": 10,
    "start_time": "2024-06-04T16:02:12.203Z"
   },
   {
    "duration": 8,
    "start_time": "2024-06-04T16:02:12.214Z"
   },
   {
    "duration": 7,
    "start_time": "2024-06-04T16:02:12.223Z"
   },
   {
    "duration": 15,
    "start_time": "2024-06-04T16:02:12.232Z"
   },
   {
    "duration": 8,
    "start_time": "2024-06-04T16:02:12.248Z"
   },
   {
    "duration": 6,
    "start_time": "2024-06-04T16:02:12.257Z"
   },
   {
    "duration": 8,
    "start_time": "2024-06-04T16:02:12.264Z"
   },
   {
    "duration": 10,
    "start_time": "2024-06-04T16:02:12.273Z"
   },
   {
    "duration": 4,
    "start_time": "2024-06-04T16:02:12.284Z"
   },
   {
    "duration": 6,
    "start_time": "2024-06-04T16:02:12.289Z"
   },
   {
    "duration": 7,
    "start_time": "2024-06-04T16:02:12.296Z"
   },
   {
    "duration": 174,
    "start_time": "2024-06-04T16:02:12.304Z"
   },
   {
    "duration": 102,
    "start_time": "2024-06-04T16:02:12.479Z"
   },
   {
    "duration": 195,
    "start_time": "2024-06-04T16:02:12.583Z"
   },
   {
    "duration": 5,
    "start_time": "2024-06-04T16:02:12.780Z"
   },
   {
    "duration": 265,
    "start_time": "2024-06-04T16:02:12.786Z"
   },
   {
    "duration": 7,
    "start_time": "2024-06-04T16:02:13.052Z"
   },
   {
    "duration": 252,
    "start_time": "2024-06-04T16:02:13.060Z"
   },
   {
    "duration": 5,
    "start_time": "2024-06-04T16:02:13.313Z"
   },
   {
    "duration": 12,
    "start_time": "2024-06-04T16:02:13.319Z"
   },
   {
    "duration": 11,
    "start_time": "2024-06-04T16:02:13.332Z"
   },
   {
    "duration": 25,
    "start_time": "2024-06-04T16:02:13.346Z"
   },
   {
    "duration": 6,
    "start_time": "2024-06-04T16:02:13.373Z"
   },
   {
    "duration": 28,
    "start_time": "2024-06-04T16:02:13.380Z"
   },
   {
    "duration": 6,
    "start_time": "2024-06-04T16:02:13.409Z"
   },
   {
    "duration": 13,
    "start_time": "2024-06-04T16:02:13.416Z"
   },
   {
    "duration": 214,
    "start_time": "2024-06-04T16:02:13.430Z"
   },
   {
    "duration": 6,
    "start_time": "2024-06-04T16:02:13.646Z"
   },
   {
    "duration": 5,
    "start_time": "2024-06-04T16:02:13.654Z"
   },
   {
    "duration": 178,
    "start_time": "2024-06-04T16:02:13.660Z"
   },
   {
    "duration": 6,
    "start_time": "2024-06-04T16:02:13.839Z"
   },
   {
    "duration": 16,
    "start_time": "2024-06-04T16:02:13.846Z"
   },
   {
    "duration": 4,
    "start_time": "2024-06-04T16:02:13.863Z"
   },
   {
    "duration": 5,
    "start_time": "2024-06-04T16:02:13.868Z"
   },
   {
    "duration": 37,
    "start_time": "2024-06-04T16:02:13.874Z"
   },
   {
    "duration": 2,
    "start_time": "2024-06-04T16:02:13.912Z"
   },
   {
    "duration": 17,
    "start_time": "2024-06-04T16:02:13.915Z"
   },
   {
    "duration": 4,
    "start_time": "2024-06-04T16:02:13.933Z"
   },
   {
    "duration": 12,
    "start_time": "2024-06-04T16:02:13.938Z"
   },
   {
    "duration": 543,
    "start_time": "2024-06-04T16:02:35.509Z"
   },
   {
    "duration": 66,
    "start_time": "2024-06-04T16:02:36.053Z"
   },
   {
    "duration": 11,
    "start_time": "2024-06-04T16:02:36.120Z"
   },
   {
    "duration": 27,
    "start_time": "2024-06-04T16:02:36.132Z"
   },
   {
    "duration": 17,
    "start_time": "2024-06-04T16:02:36.161Z"
   },
   {
    "duration": 16,
    "start_time": "2024-06-04T16:02:36.179Z"
   },
   {
    "duration": 19,
    "start_time": "2024-06-04T16:02:36.197Z"
   },
   {
    "duration": 19,
    "start_time": "2024-06-04T16:02:36.217Z"
   },
   {
    "duration": 9,
    "start_time": "2024-06-04T16:02:36.237Z"
   },
   {
    "duration": 18,
    "start_time": "2024-06-04T16:02:36.247Z"
   },
   {
    "duration": 7,
    "start_time": "2024-06-04T16:02:36.266Z"
   },
   {
    "duration": 6,
    "start_time": "2024-06-04T16:02:36.274Z"
   },
   {
    "duration": 22,
    "start_time": "2024-06-04T16:02:36.281Z"
   },
   {
    "duration": 8,
    "start_time": "2024-06-04T16:02:36.306Z"
   },
   {
    "duration": 7,
    "start_time": "2024-06-04T16:02:36.316Z"
   },
   {
    "duration": 7,
    "start_time": "2024-06-04T16:02:36.324Z"
   },
   {
    "duration": 8,
    "start_time": "2024-06-04T16:02:36.332Z"
   },
   {
    "duration": 172,
    "start_time": "2024-06-04T16:02:36.341Z"
   },
   {
    "duration": 102,
    "start_time": "2024-06-04T16:02:36.514Z"
   },
   {
    "duration": 198,
    "start_time": "2024-06-04T16:02:36.617Z"
   },
   {
    "duration": 6,
    "start_time": "2024-06-04T16:02:36.817Z"
   },
   {
    "duration": 288,
    "start_time": "2024-06-04T16:02:36.824Z"
   },
   {
    "duration": 6,
    "start_time": "2024-06-04T16:02:37.113Z"
   },
   {
    "duration": 233,
    "start_time": "2024-06-04T16:02:37.121Z"
   },
   {
    "duration": 5,
    "start_time": "2024-06-04T16:02:37.355Z"
   },
   {
    "duration": 19,
    "start_time": "2024-06-04T16:02:37.361Z"
   },
   {
    "duration": 12,
    "start_time": "2024-06-04T16:02:37.381Z"
   },
   {
    "duration": 22,
    "start_time": "2024-06-04T16:02:37.394Z"
   },
   {
    "duration": 7,
    "start_time": "2024-06-04T16:02:37.417Z"
   },
   {
    "duration": 28,
    "start_time": "2024-06-04T16:02:37.425Z"
   },
   {
    "duration": 7,
    "start_time": "2024-06-04T16:02:37.455Z"
   },
   {
    "duration": 13,
    "start_time": "2024-06-04T16:02:37.464Z"
   },
   {
    "duration": 179,
    "start_time": "2024-06-04T16:02:37.479Z"
   },
   {
    "duration": 6,
    "start_time": "2024-06-04T16:02:37.660Z"
   },
   {
    "duration": 12,
    "start_time": "2024-06-04T16:02:37.667Z"
   },
   {
    "duration": 176,
    "start_time": "2024-06-04T16:02:37.680Z"
   },
   {
    "duration": 7,
    "start_time": "2024-06-04T16:02:37.857Z"
   },
   {
    "duration": 12,
    "start_time": "2024-06-04T16:02:37.865Z"
   },
   {
    "duration": 5,
    "start_time": "2024-06-04T16:02:37.878Z"
   },
   {
    "duration": 13,
    "start_time": "2024-06-04T16:02:37.885Z"
   },
   {
    "duration": 30,
    "start_time": "2024-06-04T16:02:37.904Z"
   },
   {
    "duration": 2,
    "start_time": "2024-06-04T16:02:37.936Z"
   },
   {
    "duration": 27,
    "start_time": "2024-06-04T16:02:37.939Z"
   },
   {
    "duration": 12,
    "start_time": "2024-06-04T16:02:37.967Z"
   },
   {
    "duration": 24,
    "start_time": "2024-06-04T16:02:37.980Z"
   },
   {
    "duration": 615,
    "start_time": "2024-06-04T16:05:00.672Z"
   },
   {
    "duration": 66,
    "start_time": "2024-06-04T16:05:01.289Z"
   },
   {
    "duration": 11,
    "start_time": "2024-06-04T16:05:01.356Z"
   },
   {
    "duration": 45,
    "start_time": "2024-06-04T16:05:01.369Z"
   },
   {
    "duration": 34,
    "start_time": "2024-06-04T16:05:01.415Z"
   },
   {
    "duration": 85,
    "start_time": "2024-06-04T16:05:01.450Z"
   },
   {
    "duration": 67,
    "start_time": "2024-06-04T16:05:01.537Z"
   },
   {
    "duration": 53,
    "start_time": "2024-06-04T16:05:01.605Z"
   },
   {
    "duration": 49,
    "start_time": "2024-06-04T16:05:01.659Z"
   },
   {
    "duration": 33,
    "start_time": "2024-06-04T16:05:01.710Z"
   },
   {
    "duration": 164,
    "start_time": "2024-06-04T16:05:01.744Z"
   },
   {
    "duration": 39,
    "start_time": "2024-06-04T16:05:01.909Z"
   },
   {
    "duration": 33,
    "start_time": "2024-06-04T16:05:01.949Z"
   },
   {
    "duration": 154,
    "start_time": "2024-06-04T16:05:01.983Z"
   },
   {
    "duration": 30,
    "start_time": "2024-06-04T16:05:02.138Z"
   },
   {
    "duration": 40,
    "start_time": "2024-06-04T16:05:02.169Z"
   },
   {
    "duration": 29,
    "start_time": "2024-06-04T16:05:02.210Z"
   },
   {
    "duration": 221,
    "start_time": "2024-06-04T16:05:02.241Z"
   },
   {
    "duration": 104,
    "start_time": "2024-06-04T16:05:02.464Z"
   },
   {
    "duration": 213,
    "start_time": "2024-06-04T16:05:02.569Z"
   },
   {
    "duration": 5,
    "start_time": "2024-06-04T16:05:02.784Z"
   },
   {
    "duration": 278,
    "start_time": "2024-06-04T16:05:02.791Z"
   },
   {
    "duration": 6,
    "start_time": "2024-06-04T16:05:03.071Z"
   },
   {
    "duration": 227,
    "start_time": "2024-06-04T16:05:03.079Z"
   },
   {
    "duration": 5,
    "start_time": "2024-06-04T16:05:03.307Z"
   },
   {
    "duration": 16,
    "start_time": "2024-06-04T16:05:03.313Z"
   },
   {
    "duration": 12,
    "start_time": "2024-06-04T16:05:03.330Z"
   },
   {
    "duration": 14,
    "start_time": "2024-06-04T16:05:03.344Z"
   },
   {
    "duration": 18,
    "start_time": "2024-06-04T16:05:03.360Z"
   },
   {
    "duration": 24,
    "start_time": "2024-06-04T16:05:03.379Z"
   },
   {
    "duration": 5,
    "start_time": "2024-06-04T16:05:03.404Z"
   },
   {
    "duration": 18,
    "start_time": "2024-06-04T16:05:03.410Z"
   },
   {
    "duration": 179,
    "start_time": "2024-06-04T16:05:03.429Z"
   },
   {
    "duration": 7,
    "start_time": "2024-06-04T16:05:03.609Z"
   },
   {
    "duration": 6,
    "start_time": "2024-06-04T16:05:03.617Z"
   },
   {
    "duration": 187,
    "start_time": "2024-06-04T16:05:03.624Z"
   },
   {
    "duration": 6,
    "start_time": "2024-06-04T16:05:03.813Z"
   },
   {
    "duration": 34,
    "start_time": "2024-06-04T16:05:03.821Z"
   },
   {
    "duration": 14,
    "start_time": "2024-06-04T16:05:03.857Z"
   },
   {
    "duration": 26,
    "start_time": "2024-06-04T16:05:03.872Z"
   },
   {
    "duration": 38,
    "start_time": "2024-06-04T16:05:03.899Z"
   },
   {
    "duration": 3,
    "start_time": "2024-06-04T16:05:03.938Z"
   },
   {
    "duration": 21,
    "start_time": "2024-06-04T16:05:03.942Z"
   },
   {
    "duration": 11,
    "start_time": "2024-06-04T16:05:03.964Z"
   },
   {
    "duration": 33,
    "start_time": "2024-06-04T16:05:03.976Z"
   },
   {
    "duration": 3,
    "start_time": "2024-06-04T16:10:11.480Z"
   },
   {
    "duration": 1065,
    "start_time": "2024-06-04T16:10:12.114Z"
   },
   {
    "duration": 0,
    "start_time": "2024-06-04T16:10:13.181Z"
   },
   {
    "duration": 0,
    "start_time": "2024-06-04T16:10:13.182Z"
   },
   {
    "duration": 0,
    "start_time": "2024-06-04T16:10:13.183Z"
   },
   {
    "duration": 4,
    "start_time": "2024-06-04T16:10:14.494Z"
   },
   {
    "duration": 15,
    "start_time": "2024-06-04T16:10:14.813Z"
   },
   {
    "duration": 587,
    "start_time": "2024-06-04T16:10:42.179Z"
   },
   {
    "duration": 66,
    "start_time": "2024-06-04T16:10:42.768Z"
   },
   {
    "duration": 11,
    "start_time": "2024-06-04T16:10:42.835Z"
   },
   {
    "duration": 14,
    "start_time": "2024-06-04T16:10:42.847Z"
   },
   {
    "duration": 21,
    "start_time": "2024-06-04T16:10:42.863Z"
   },
   {
    "duration": 22,
    "start_time": "2024-06-04T16:10:42.886Z"
   },
   {
    "duration": 5,
    "start_time": "2024-06-04T16:10:42.910Z"
   },
   {
    "duration": 18,
    "start_time": "2024-06-04T16:10:42.916Z"
   },
   {
    "duration": 15,
    "start_time": "2024-06-04T16:10:42.935Z"
   },
   {
    "duration": 16,
    "start_time": "2024-06-04T16:10:42.951Z"
   },
   {
    "duration": 22,
    "start_time": "2024-06-04T16:10:42.968Z"
   },
   {
    "duration": 16,
    "start_time": "2024-06-04T16:10:42.991Z"
   },
   {
    "duration": 13,
    "start_time": "2024-06-04T16:10:43.008Z"
   },
   {
    "duration": 24,
    "start_time": "2024-06-04T16:10:43.023Z"
   },
   {
    "duration": 20,
    "start_time": "2024-06-04T16:10:43.048Z"
   },
   {
    "duration": 48,
    "start_time": "2024-06-04T16:10:43.069Z"
   },
   {
    "duration": 10,
    "start_time": "2024-06-04T16:10:43.119Z"
   },
   {
    "duration": 172,
    "start_time": "2024-06-04T16:10:43.131Z"
   },
   {
    "duration": 100,
    "start_time": "2024-06-04T16:10:43.305Z"
   },
   {
    "duration": 197,
    "start_time": "2024-06-04T16:10:43.406Z"
   },
   {
    "duration": 6,
    "start_time": "2024-06-04T16:10:43.604Z"
   },
   {
    "duration": 270,
    "start_time": "2024-06-04T16:10:43.611Z"
   },
   {
    "duration": 7,
    "start_time": "2024-06-04T16:10:43.883Z"
   },
   {
    "duration": 226,
    "start_time": "2024-06-04T16:10:43.901Z"
   },
   {
    "duration": 6,
    "start_time": "2024-06-04T16:10:44.128Z"
   },
   {
    "duration": 17,
    "start_time": "2024-06-04T16:10:44.135Z"
   },
   {
    "duration": 12,
    "start_time": "2024-06-04T16:10:44.153Z"
   },
   {
    "duration": 16,
    "start_time": "2024-06-04T16:10:44.166Z"
   },
   {
    "duration": 8,
    "start_time": "2024-06-04T16:10:44.201Z"
   },
   {
    "duration": 13,
    "start_time": "2024-06-04T16:10:44.210Z"
   },
   {
    "duration": 5,
    "start_time": "2024-06-04T16:10:44.224Z"
   },
   {
    "duration": 17,
    "start_time": "2024-06-04T16:10:44.230Z"
   },
   {
    "duration": 190,
    "start_time": "2024-06-04T16:10:44.248Z"
   },
   {
    "duration": 7,
    "start_time": "2024-06-04T16:10:44.439Z"
   },
   {
    "duration": 7,
    "start_time": "2024-06-04T16:10:44.447Z"
   },
   {
    "duration": 210,
    "start_time": "2024-06-04T16:10:44.455Z"
   },
   {
    "duration": 6,
    "start_time": "2024-06-04T16:10:44.667Z"
   },
   {
    "duration": 11,
    "start_time": "2024-06-04T16:10:44.674Z"
   },
   {
    "duration": 7,
    "start_time": "2024-06-04T16:10:44.686Z"
   },
   {
    "duration": 7,
    "start_time": "2024-06-04T16:10:44.701Z"
   },
   {
    "duration": 42,
    "start_time": "2024-06-04T16:10:44.711Z"
   },
   {
    "duration": 2,
    "start_time": "2024-06-04T16:10:44.755Z"
   },
   {
    "duration": 12,
    "start_time": "2024-06-04T16:10:44.758Z"
   },
   {
    "duration": 4,
    "start_time": "2024-06-04T16:10:44.771Z"
   },
   {
    "duration": 27,
    "start_time": "2024-06-04T16:10:44.776Z"
   },
   {
    "duration": 430,
    "start_time": "2024-06-04T16:43:14.416Z"
   },
   {
    "duration": 972,
    "start_time": "2024-06-04T16:43:19.455Z"
   },
   {
    "duration": 81,
    "start_time": "2024-06-04T16:43:20.429Z"
   },
   {
    "duration": 12,
    "start_time": "2024-06-04T16:43:20.512Z"
   },
   {
    "duration": 24,
    "start_time": "2024-06-04T16:43:20.525Z"
   },
   {
    "duration": 45,
    "start_time": "2024-06-04T16:43:20.550Z"
   },
   {
    "duration": 39,
    "start_time": "2024-06-04T16:43:20.597Z"
   },
   {
    "duration": 41,
    "start_time": "2024-06-04T16:43:20.637Z"
   },
   {
    "duration": 29,
    "start_time": "2024-06-04T16:43:20.679Z"
   },
   {
    "duration": 33,
    "start_time": "2024-06-04T16:43:20.710Z"
   },
   {
    "duration": 14,
    "start_time": "2024-06-04T16:43:20.746Z"
   },
   {
    "duration": 36,
    "start_time": "2024-06-04T16:43:20.762Z"
   },
   {
    "duration": 33,
    "start_time": "2024-06-04T16:43:20.800Z"
   },
   {
    "duration": 36,
    "start_time": "2024-06-04T16:43:20.834Z"
   },
   {
    "duration": 37,
    "start_time": "2024-06-04T16:43:20.871Z"
   },
   {
    "duration": 20,
    "start_time": "2024-06-04T16:43:20.909Z"
   },
   {
    "duration": 27,
    "start_time": "2024-06-04T16:43:20.930Z"
   },
   {
    "duration": 35,
    "start_time": "2024-06-04T16:43:20.958Z"
   },
   {
    "duration": 169,
    "start_time": "2024-06-04T16:43:20.995Z"
   },
   {
    "duration": 110,
    "start_time": "2024-06-04T16:43:21.166Z"
   },
   {
    "duration": 216,
    "start_time": "2024-06-04T16:43:21.278Z"
   },
   {
    "duration": 8,
    "start_time": "2024-06-04T16:43:21.495Z"
   },
   {
    "duration": 248,
    "start_time": "2024-06-04T16:43:21.504Z"
   },
   {
    "duration": 6,
    "start_time": "2024-06-04T16:43:21.753Z"
   },
   {
    "duration": 241,
    "start_time": "2024-06-04T16:43:21.760Z"
   },
   {
    "duration": 7,
    "start_time": "2024-06-04T16:43:22.003Z"
   },
   {
    "duration": 43,
    "start_time": "2024-06-04T16:43:22.011Z"
   },
   {
    "duration": 25,
    "start_time": "2024-06-04T16:43:22.055Z"
   },
   {
    "duration": 29,
    "start_time": "2024-06-04T16:43:22.083Z"
   },
   {
    "duration": 43,
    "start_time": "2024-06-04T16:43:22.114Z"
   },
   {
    "duration": 92,
    "start_time": "2024-06-04T16:43:22.159Z"
   },
   {
    "duration": 7,
    "start_time": "2024-06-04T16:43:22.252Z"
   },
   {
    "duration": 22,
    "start_time": "2024-06-04T16:43:22.260Z"
   },
   {
    "duration": 249,
    "start_time": "2024-06-04T16:43:22.284Z"
   },
   {
    "duration": 8,
    "start_time": "2024-06-04T16:43:22.535Z"
   },
   {
    "duration": 25,
    "start_time": "2024-06-04T16:43:22.544Z"
   },
   {
    "duration": 187,
    "start_time": "2024-06-04T16:43:22.570Z"
   },
   {
    "duration": 7,
    "start_time": "2024-06-04T16:43:22.760Z"
   },
   {
    "duration": 26,
    "start_time": "2024-06-04T16:43:22.768Z"
   },
   {
    "duration": 30,
    "start_time": "2024-06-04T16:43:22.796Z"
   },
   {
    "duration": 26,
    "start_time": "2024-06-04T16:43:22.828Z"
   },
   {
    "duration": 80,
    "start_time": "2024-06-04T16:43:22.855Z"
   },
   {
    "duration": 12,
    "start_time": "2024-06-04T16:43:22.937Z"
   },
   {
    "duration": 36,
    "start_time": "2024-06-04T16:43:22.950Z"
   },
   {
    "duration": 41,
    "start_time": "2024-06-04T16:43:22.988Z"
   },
   {
    "duration": 37,
    "start_time": "2024-06-04T16:43:23.031Z"
   },
   {
    "duration": 5,
    "start_time": "2024-06-04T16:56:29.252Z"
   },
   {
    "duration": 5,
    "start_time": "2024-06-04T17:02:47.744Z"
   },
   {
    "duration": 100,
    "start_time": "2024-06-04T17:09:13.024Z"
   },
   {
    "duration": 10,
    "start_time": "2024-06-04T17:09:29.764Z"
   },
   {
    "duration": 8,
    "start_time": "2024-06-04T17:09:32.203Z"
   },
   {
    "duration": 7,
    "start_time": "2024-06-04T17:10:30.257Z"
   },
   {
    "duration": 5,
    "start_time": "2024-06-04T17:22:04.114Z"
   },
   {
    "duration": 6,
    "start_time": "2024-06-04T17:22:20.881Z"
   },
   {
    "duration": 4,
    "start_time": "2024-06-04T17:24:51.389Z"
   },
   {
    "duration": 79,
    "start_time": "2024-06-04T17:27:10.748Z"
   },
   {
    "duration": 932,
    "start_time": "2024-06-04T17:38:15.073Z"
   },
   {
    "duration": 66,
    "start_time": "2024-06-04T17:38:16.007Z"
   },
   {
    "duration": 11,
    "start_time": "2024-06-04T17:38:16.074Z"
   },
   {
    "duration": 65,
    "start_time": "2024-06-04T17:38:16.087Z"
   },
   {
    "duration": 10,
    "start_time": "2024-06-04T17:38:16.153Z"
   },
   {
    "duration": 11,
    "start_time": "2024-06-04T17:38:16.164Z"
   },
   {
    "duration": 5,
    "start_time": "2024-06-04T17:38:16.177Z"
   },
   {
    "duration": 9,
    "start_time": "2024-06-04T17:38:16.183Z"
   },
   {
    "duration": 8,
    "start_time": "2024-06-04T17:38:16.194Z"
   },
   {
    "duration": 4,
    "start_time": "2024-06-04T17:38:16.204Z"
   },
   {
    "duration": 8,
    "start_time": "2024-06-04T17:38:16.209Z"
   },
   {
    "duration": 7,
    "start_time": "2024-06-04T17:38:16.218Z"
   },
   {
    "duration": 6,
    "start_time": "2024-06-04T17:38:16.226Z"
   },
   {
    "duration": 7,
    "start_time": "2024-06-04T17:38:16.233Z"
   },
   {
    "duration": 3,
    "start_time": "2024-06-04T17:38:16.241Z"
   },
   {
    "duration": 15,
    "start_time": "2024-06-04T17:38:16.246Z"
   },
   {
    "duration": 5,
    "start_time": "2024-06-04T17:38:16.262Z"
   },
   {
    "duration": 187,
    "start_time": "2024-06-04T17:38:16.268Z"
   },
   {
    "duration": 108,
    "start_time": "2024-06-04T17:38:16.457Z"
   },
   {
    "duration": 227,
    "start_time": "2024-06-04T17:38:16.566Z"
   },
   {
    "duration": 8,
    "start_time": "2024-06-04T17:38:16.794Z"
   },
   {
    "duration": 239,
    "start_time": "2024-06-04T17:38:16.803Z"
   },
   {
    "duration": 6,
    "start_time": "2024-06-04T17:38:17.043Z"
   },
   {
    "duration": 236,
    "start_time": "2024-06-04T17:38:17.050Z"
   },
   {
    "duration": 5,
    "start_time": "2024-06-04T17:38:17.287Z"
   },
   {
    "duration": 18,
    "start_time": "2024-06-04T17:38:17.293Z"
   },
   {
    "duration": 12,
    "start_time": "2024-06-04T17:38:17.313Z"
   },
   {
    "duration": 14,
    "start_time": "2024-06-04T17:38:17.329Z"
   },
   {
    "duration": 8,
    "start_time": "2024-06-04T17:38:17.344Z"
   },
   {
    "duration": 26,
    "start_time": "2024-06-04T17:38:17.353Z"
   },
   {
    "duration": 21,
    "start_time": "2024-06-04T17:38:17.380Z"
   },
   {
    "duration": 15,
    "start_time": "2024-06-04T17:38:17.403Z"
   },
   {
    "duration": 233,
    "start_time": "2024-06-04T17:38:17.419Z"
   },
   {
    "duration": 7,
    "start_time": "2024-06-04T17:38:17.654Z"
   },
   {
    "duration": 6,
    "start_time": "2024-06-04T17:38:17.663Z"
   },
   {
    "duration": 187,
    "start_time": "2024-06-04T17:38:17.671Z"
   },
   {
    "duration": 7,
    "start_time": "2024-06-04T17:38:17.859Z"
   },
   {
    "duration": 6,
    "start_time": "2024-06-04T17:38:17.868Z"
   },
   {
    "duration": 5,
    "start_time": "2024-06-04T17:38:17.876Z"
   },
   {
    "duration": 19,
    "start_time": "2024-06-04T17:38:17.882Z"
   },
   {
    "duration": 34,
    "start_time": "2024-06-04T17:38:17.903Z"
   },
   {
    "duration": 3,
    "start_time": "2024-06-04T17:38:17.939Z"
   },
   {
    "duration": 17,
    "start_time": "2024-06-04T17:38:17.944Z"
   },
   {
    "duration": 5,
    "start_time": "2024-06-04T17:38:17.963Z"
   },
   {
    "duration": 41,
    "start_time": "2024-06-04T17:38:17.970Z"
   },
   {
    "duration": 6,
    "start_time": "2024-06-04T17:38:18.013Z"
   },
   {
    "duration": 5,
    "start_time": "2024-06-04T17:38:18.020Z"
   },
   {
    "duration": 13,
    "start_time": "2024-06-04T17:38:18.026Z"
   },
   {
    "duration": 1348,
    "start_time": "2024-06-05T05:00:27.967Z"
   },
   {
    "duration": 206,
    "start_time": "2024-06-05T05:00:29.317Z"
   },
   {
    "duration": 13,
    "start_time": "2024-06-05T05:00:29.525Z"
   },
   {
    "duration": 10,
    "start_time": "2024-06-05T05:00:29.540Z"
   },
   {
    "duration": 9,
    "start_time": "2024-06-05T05:00:29.552Z"
   },
   {
    "duration": 16,
    "start_time": "2024-06-05T05:00:29.562Z"
   },
   {
    "duration": 6,
    "start_time": "2024-06-05T05:00:29.580Z"
   },
   {
    "duration": 9,
    "start_time": "2024-06-05T05:00:29.587Z"
   },
   {
    "duration": 8,
    "start_time": "2024-06-05T05:00:29.597Z"
   },
   {
    "duration": 7,
    "start_time": "2024-06-05T05:00:29.607Z"
   },
   {
    "duration": 8,
    "start_time": "2024-06-05T05:00:29.616Z"
   },
   {
    "duration": 5,
    "start_time": "2024-06-05T05:00:29.625Z"
   },
   {
    "duration": 13,
    "start_time": "2024-06-05T05:00:29.631Z"
   },
   {
    "duration": 26,
    "start_time": "2024-06-05T05:00:29.645Z"
   },
   {
    "duration": 6,
    "start_time": "2024-06-05T05:00:29.672Z"
   },
   {
    "duration": 8,
    "start_time": "2024-06-05T05:00:29.680Z"
   },
   {
    "duration": 17,
    "start_time": "2024-06-05T05:00:29.689Z"
   },
   {
    "duration": 207,
    "start_time": "2024-06-05T05:00:29.708Z"
   },
   {
    "duration": 129,
    "start_time": "2024-06-05T05:00:29.917Z"
   },
   {
    "duration": 245,
    "start_time": "2024-06-05T05:00:30.048Z"
   },
   {
    "duration": 9,
    "start_time": "2024-06-05T05:00:30.295Z"
   },
   {
    "duration": 327,
    "start_time": "2024-06-05T05:00:30.305Z"
   },
   {
    "duration": 8,
    "start_time": "2024-06-05T05:00:30.634Z"
   },
   {
    "duration": 338,
    "start_time": "2024-06-05T05:00:30.643Z"
   },
   {
    "duration": 8,
    "start_time": "2024-06-05T05:00:30.983Z"
   },
   {
    "duration": 57,
    "start_time": "2024-06-05T05:00:30.992Z"
   },
   {
    "duration": 132,
    "start_time": "2024-06-05T05:00:31.051Z"
   },
   {
    "duration": 38,
    "start_time": "2024-06-05T05:00:31.187Z"
   },
   {
    "duration": 64,
    "start_time": "2024-06-05T05:00:31.227Z"
   },
   {
    "duration": 77,
    "start_time": "2024-06-05T05:00:31.292Z"
   },
   {
    "duration": 23,
    "start_time": "2024-06-05T05:00:31.371Z"
   },
   {
    "duration": 28,
    "start_time": "2024-06-05T05:00:31.396Z"
   },
   {
    "duration": 261,
    "start_time": "2024-06-05T05:00:31.427Z"
   },
   {
    "duration": 8,
    "start_time": "2024-06-05T05:00:31.690Z"
   },
   {
    "duration": 118,
    "start_time": "2024-06-05T05:00:31.700Z"
   },
   {
    "duration": 265,
    "start_time": "2024-06-05T05:00:31.819Z"
   },
   {
    "duration": 8,
    "start_time": "2024-06-05T05:00:32.086Z"
   },
   {
    "duration": 60,
    "start_time": "2024-06-05T05:00:32.096Z"
   },
   {
    "duration": 16,
    "start_time": "2024-06-05T05:00:32.158Z"
   },
   {
    "duration": 18,
    "start_time": "2024-06-05T05:00:32.175Z"
   },
   {
    "duration": 43,
    "start_time": "2024-06-05T05:00:32.195Z"
   },
   {
    "duration": 4,
    "start_time": "2024-06-05T05:00:32.239Z"
   },
   {
    "duration": 31,
    "start_time": "2024-06-05T05:00:32.244Z"
   },
   {
    "duration": 5,
    "start_time": "2024-06-05T05:00:32.277Z"
   },
   {
    "duration": 18,
    "start_time": "2024-06-05T05:00:32.283Z"
   },
   {
    "duration": 5,
    "start_time": "2024-06-05T05:00:32.302Z"
   },
   {
    "duration": 20,
    "start_time": "2024-06-05T05:00:32.308Z"
   },
   {
    "duration": 46,
    "start_time": "2024-06-05T05:00:32.329Z"
   },
   {
    "duration": 91,
    "start_time": "2024-06-05T05:20:57.963Z"
   },
   {
    "duration": 5,
    "start_time": "2024-06-05T05:21:27.067Z"
   },
   {
    "duration": 6,
    "start_time": "2024-06-05T05:25:43.177Z"
   },
   {
    "duration": 5,
    "start_time": "2024-06-05T05:29:02.844Z"
   },
   {
    "duration": 5,
    "start_time": "2024-06-05T05:29:18.332Z"
   },
   {
    "duration": 6,
    "start_time": "2024-06-05T05:29:28.578Z"
   },
   {
    "duration": 6,
    "start_time": "2024-06-05T05:29:53.129Z"
   },
   {
    "duration": 1048,
    "start_time": "2024-06-05T05:31:03.496Z"
   },
   {
    "duration": 68,
    "start_time": "2024-06-05T05:31:04.546Z"
   },
   {
    "duration": 12,
    "start_time": "2024-06-05T05:31:04.616Z"
   },
   {
    "duration": 10,
    "start_time": "2024-06-05T05:31:04.630Z"
   },
   {
    "duration": 12,
    "start_time": "2024-06-05T05:31:04.643Z"
   },
   {
    "duration": 13,
    "start_time": "2024-06-05T05:31:04.656Z"
   },
   {
    "duration": 22,
    "start_time": "2024-06-05T05:31:04.671Z"
   },
   {
    "duration": 20,
    "start_time": "2024-06-05T05:31:04.694Z"
   },
   {
    "duration": 49,
    "start_time": "2024-06-05T05:31:04.715Z"
   },
   {
    "duration": 6,
    "start_time": "2024-06-05T05:31:04.766Z"
   },
   {
    "duration": 13,
    "start_time": "2024-06-05T05:31:04.773Z"
   },
   {
    "duration": 21,
    "start_time": "2024-06-05T05:31:04.788Z"
   },
   {
    "duration": 41,
    "start_time": "2024-06-05T05:31:04.810Z"
   },
   {
    "duration": 12,
    "start_time": "2024-06-05T05:31:04.853Z"
   },
   {
    "duration": 18,
    "start_time": "2024-06-05T05:31:04.866Z"
   },
   {
    "duration": 11,
    "start_time": "2024-06-05T05:31:04.886Z"
   },
   {
    "duration": 6,
    "start_time": "2024-06-05T05:31:04.899Z"
   },
   {
    "duration": 185,
    "start_time": "2024-06-05T05:31:04.907Z"
   },
   {
    "duration": 123,
    "start_time": "2024-06-05T05:31:05.094Z"
   },
   {
    "duration": 241,
    "start_time": "2024-06-05T05:31:05.219Z"
   },
   {
    "duration": 5,
    "start_time": "2024-06-05T05:31:05.465Z"
   },
   {
    "duration": 322,
    "start_time": "2024-06-05T05:31:05.472Z"
   },
   {
    "duration": 7,
    "start_time": "2024-06-05T05:31:05.796Z"
   },
   {
    "duration": 287,
    "start_time": "2024-06-05T05:31:05.805Z"
   },
   {
    "duration": 6,
    "start_time": "2024-06-05T05:31:06.093Z"
   },
   {
    "duration": 21,
    "start_time": "2024-06-05T05:31:06.101Z"
   },
   {
    "duration": 14,
    "start_time": "2024-06-05T05:31:06.123Z"
   },
   {
    "duration": 34,
    "start_time": "2024-06-05T05:31:06.139Z"
   },
   {
    "duration": 26,
    "start_time": "2024-06-05T05:31:06.175Z"
   },
   {
    "duration": 17,
    "start_time": "2024-06-05T05:31:06.202Z"
   },
   {
    "duration": 5,
    "start_time": "2024-06-05T05:31:06.220Z"
   },
   {
    "duration": 93,
    "start_time": "2024-06-05T05:31:06.227Z"
   },
   {
    "duration": 286,
    "start_time": "2024-06-05T05:31:06.321Z"
   },
   {
    "duration": 8,
    "start_time": "2024-06-05T05:31:06.609Z"
   },
   {
    "duration": 11,
    "start_time": "2024-06-05T05:31:06.619Z"
   },
   {
    "duration": 222,
    "start_time": "2024-06-05T05:31:06.632Z"
   },
   {
    "duration": 10,
    "start_time": "2024-06-05T05:31:06.856Z"
   },
   {
    "duration": 11,
    "start_time": "2024-06-05T05:31:06.867Z"
   },
   {
    "duration": 3,
    "start_time": "2024-06-05T05:31:06.880Z"
   },
   {
    "duration": 7,
    "start_time": "2024-06-05T05:31:06.885Z"
   },
   {
    "duration": 36,
    "start_time": "2024-06-05T05:31:06.895Z"
   },
   {
    "duration": 3,
    "start_time": "2024-06-05T05:31:06.933Z"
   },
   {
    "duration": 36,
    "start_time": "2024-06-05T05:31:06.937Z"
   },
   {
    "duration": 11,
    "start_time": "2024-06-05T05:31:06.975Z"
   },
   {
    "duration": 18,
    "start_time": "2024-06-05T05:31:06.988Z"
   },
   {
    "duration": 16,
    "start_time": "2024-06-05T05:31:07.007Z"
   },
   {
    "duration": 4,
    "start_time": "2024-06-05T05:31:07.024Z"
   },
   {
    "duration": 17,
    "start_time": "2024-06-05T05:31:07.030Z"
   },
   {
    "duration": 23,
    "start_time": "2024-06-05T05:31:07.048Z"
   },
   {
    "duration": 15,
    "start_time": "2024-06-05T05:31:07.073Z"
   },
   {
    "duration": 5,
    "start_time": "2024-06-05T05:32:23.808Z"
   },
   {
    "duration": 6,
    "start_time": "2024-06-05T05:32:34.741Z"
   },
   {
    "duration": 190,
    "start_time": "2024-06-05T05:41:39.301Z"
   },
   {
    "duration": 1157,
    "start_time": "2024-06-05T05:42:48.408Z"
   },
   {
    "duration": 72,
    "start_time": "2024-06-05T05:42:49.570Z"
   },
   {
    "duration": 15,
    "start_time": "2024-06-05T05:42:49.643Z"
   },
   {
    "duration": 16,
    "start_time": "2024-06-05T05:42:49.660Z"
   },
   {
    "duration": 12,
    "start_time": "2024-06-05T05:42:49.678Z"
   },
   {
    "duration": 37,
    "start_time": "2024-06-05T05:42:49.692Z"
   },
   {
    "duration": 9,
    "start_time": "2024-06-05T05:42:49.731Z"
   },
   {
    "duration": 12,
    "start_time": "2024-06-05T05:42:49.742Z"
   },
   {
    "duration": 10,
    "start_time": "2024-06-05T05:42:49.756Z"
   },
   {
    "duration": 11,
    "start_time": "2024-06-05T05:42:49.770Z"
   },
   {
    "duration": 18,
    "start_time": "2024-06-05T05:42:49.783Z"
   },
   {
    "duration": 17,
    "start_time": "2024-06-05T05:42:49.802Z"
   },
   {
    "duration": 6,
    "start_time": "2024-06-05T05:42:49.821Z"
   },
   {
    "duration": 8,
    "start_time": "2024-06-05T05:42:49.829Z"
   },
   {
    "duration": 28,
    "start_time": "2024-06-05T05:42:49.839Z"
   },
   {
    "duration": 10,
    "start_time": "2024-06-05T05:42:49.869Z"
   },
   {
    "duration": 17,
    "start_time": "2024-06-05T05:42:49.881Z"
   },
   {
    "duration": 224,
    "start_time": "2024-06-05T05:42:49.900Z"
   },
   {
    "duration": 125,
    "start_time": "2024-06-05T05:42:50.126Z"
   },
   {
    "duration": 258,
    "start_time": "2024-06-05T05:42:50.253Z"
   },
   {
    "duration": 7,
    "start_time": "2024-06-05T05:42:50.512Z"
   },
   {
    "duration": 309,
    "start_time": "2024-06-05T05:42:50.520Z"
   },
   {
    "duration": 8,
    "start_time": "2024-06-05T05:42:50.831Z"
   },
   {
    "duration": 347,
    "start_time": "2024-06-05T05:42:50.841Z"
   },
   {
    "duration": 7,
    "start_time": "2024-06-05T05:42:51.190Z"
   },
   {
    "duration": 16,
    "start_time": "2024-06-05T05:42:51.199Z"
   },
   {
    "duration": 21,
    "start_time": "2024-06-05T05:42:51.217Z"
   },
   {
    "duration": 24,
    "start_time": "2024-06-05T05:42:51.266Z"
   },
   {
    "duration": 10,
    "start_time": "2024-06-05T05:42:51.292Z"
   },
   {
    "duration": 27,
    "start_time": "2024-06-05T05:42:51.303Z"
   },
   {
    "duration": 35,
    "start_time": "2024-06-05T05:42:51.332Z"
   },
   {
    "duration": 27,
    "start_time": "2024-06-05T05:42:51.369Z"
   },
   {
    "duration": 363,
    "start_time": "2024-06-05T05:42:51.398Z"
   },
   {
    "duration": 41,
    "start_time": "2024-06-05T05:42:51.762Z"
   },
   {
    "duration": 11,
    "start_time": "2024-06-05T05:42:51.806Z"
   },
   {
    "duration": 220,
    "start_time": "2024-06-05T05:42:51.819Z"
   },
   {
    "duration": 7,
    "start_time": "2024-06-05T05:42:52.041Z"
   },
   {
    "duration": 24,
    "start_time": "2024-06-05T05:42:52.050Z"
   },
   {
    "duration": 5,
    "start_time": "2024-06-05T05:42:52.076Z"
   },
   {
    "duration": 7,
    "start_time": "2024-06-05T05:42:52.082Z"
   },
   {
    "duration": 39,
    "start_time": "2024-06-05T05:42:52.091Z"
   },
   {
    "duration": 3,
    "start_time": "2024-06-05T05:42:52.131Z"
   },
   {
    "duration": 34,
    "start_time": "2024-06-05T05:42:52.135Z"
   },
   {
    "duration": 6,
    "start_time": "2024-06-05T05:42:52.171Z"
   },
   {
    "duration": 36,
    "start_time": "2024-06-05T05:42:52.179Z"
   },
   {
    "duration": 7,
    "start_time": "2024-06-05T05:42:52.217Z"
   },
   {
    "duration": 9,
    "start_time": "2024-06-05T05:42:52.226Z"
   },
   {
    "duration": 22,
    "start_time": "2024-06-05T05:42:52.237Z"
   },
   {
    "duration": 5,
    "start_time": "2024-06-05T05:42:52.260Z"
   },
   {
    "duration": 158,
    "start_time": "2024-06-05T05:42:52.267Z"
   },
   {
    "duration": 160,
    "start_time": "2024-06-05T05:43:00.417Z"
   },
   {
    "duration": 128,
    "start_time": "2024-06-05T05:43:53.375Z"
   },
   {
    "duration": 221,
    "start_time": "2024-06-05T05:45:14.434Z"
   },
   {
    "duration": 143,
    "start_time": "2024-06-05T05:46:33.447Z"
   },
   {
    "duration": 131,
    "start_time": "2024-06-05T05:48:09.218Z"
   },
   {
    "duration": 7,
    "start_time": "2024-06-05T05:49:50.065Z"
   },
   {
    "duration": 250,
    "start_time": "2024-06-05T05:50:49.857Z"
   },
   {
    "duration": 1180,
    "start_time": "2024-06-05T05:52:08.045Z"
   },
   {
    "duration": 67,
    "start_time": "2024-06-05T05:52:09.265Z"
   },
   {
    "duration": 12,
    "start_time": "2024-06-05T05:52:09.334Z"
   },
   {
    "duration": 10,
    "start_time": "2024-06-05T05:52:09.348Z"
   },
   {
    "duration": 9,
    "start_time": "2024-06-05T05:52:09.360Z"
   },
   {
    "duration": 10,
    "start_time": "2024-06-05T05:52:09.370Z"
   },
   {
    "duration": 6,
    "start_time": "2024-06-05T05:52:09.381Z"
   },
   {
    "duration": 9,
    "start_time": "2024-06-05T05:52:09.388Z"
   },
   {
    "duration": 7,
    "start_time": "2024-06-05T05:52:09.398Z"
   },
   {
    "duration": 5,
    "start_time": "2024-06-05T05:52:09.406Z"
   },
   {
    "duration": 7,
    "start_time": "2024-06-05T05:52:09.412Z"
   },
   {
    "duration": 5,
    "start_time": "2024-06-05T05:52:09.420Z"
   },
   {
    "duration": 42,
    "start_time": "2024-06-05T05:52:09.427Z"
   },
   {
    "duration": 15,
    "start_time": "2024-06-05T05:52:09.472Z"
   },
   {
    "duration": 5,
    "start_time": "2024-06-05T05:52:09.489Z"
   },
   {
    "duration": 5,
    "start_time": "2024-06-05T05:52:09.496Z"
   },
   {
    "duration": 13,
    "start_time": "2024-06-05T05:52:09.503Z"
   },
   {
    "duration": 204,
    "start_time": "2024-06-05T05:52:09.518Z"
   },
   {
    "duration": 125,
    "start_time": "2024-06-05T05:52:09.723Z"
   },
   {
    "duration": 223,
    "start_time": "2024-06-05T05:52:09.849Z"
   },
   {
    "duration": 6,
    "start_time": "2024-06-05T05:52:10.073Z"
   },
   {
    "duration": 282,
    "start_time": "2024-06-05T05:52:10.080Z"
   },
   {
    "duration": 7,
    "start_time": "2024-06-05T05:52:10.365Z"
   },
   {
    "duration": 308,
    "start_time": "2024-06-05T05:52:10.373Z"
   },
   {
    "duration": 7,
    "start_time": "2024-06-05T05:52:10.683Z"
   },
   {
    "duration": 14,
    "start_time": "2024-06-05T05:52:10.692Z"
   },
   {
    "duration": 15,
    "start_time": "2024-06-05T05:52:10.708Z"
   },
   {
    "duration": 43,
    "start_time": "2024-06-05T05:52:10.724Z"
   },
   {
    "duration": 9,
    "start_time": "2024-06-05T05:52:10.768Z"
   },
   {
    "duration": 21,
    "start_time": "2024-06-05T05:52:10.779Z"
   },
   {
    "duration": 10,
    "start_time": "2024-06-05T05:52:10.801Z"
   },
   {
    "duration": 19,
    "start_time": "2024-06-05T05:52:10.812Z"
   },
   {
    "duration": 345,
    "start_time": "2024-06-05T05:52:10.832Z"
   },
   {
    "duration": 9,
    "start_time": "2024-06-05T05:52:11.179Z"
   },
   {
    "duration": 9,
    "start_time": "2024-06-05T05:52:11.190Z"
   },
   {
    "duration": 229,
    "start_time": "2024-06-05T05:52:11.200Z"
   },
   {
    "duration": 9,
    "start_time": "2024-06-05T05:52:11.430Z"
   },
   {
    "duration": 7,
    "start_time": "2024-06-05T05:52:11.440Z"
   },
   {
    "duration": 17,
    "start_time": "2024-06-05T05:52:11.448Z"
   },
   {
    "duration": 7,
    "start_time": "2024-06-05T05:52:11.466Z"
   },
   {
    "duration": 37,
    "start_time": "2024-06-05T05:52:11.476Z"
   },
   {
    "duration": 3,
    "start_time": "2024-06-05T05:52:11.514Z"
   },
   {
    "duration": 18,
    "start_time": "2024-06-05T05:52:11.518Z"
   },
   {
    "duration": 4,
    "start_time": "2024-06-05T05:52:11.537Z"
   },
   {
    "duration": 16,
    "start_time": "2024-06-05T05:52:11.565Z"
   },
   {
    "duration": 6,
    "start_time": "2024-06-05T05:52:11.583Z"
   },
   {
    "duration": 7,
    "start_time": "2024-06-05T05:52:11.590Z"
   },
   {
    "duration": 14,
    "start_time": "2024-06-05T05:52:11.598Z"
   },
   {
    "duration": 5,
    "start_time": "2024-06-05T05:52:11.614Z"
   },
   {
    "duration": 290,
    "start_time": "2024-06-05T05:52:11.620Z"
   },
   {
    "duration": 223,
    "start_time": "2024-06-05T05:54:06.790Z"
   },
   {
    "duration": 260,
    "start_time": "2024-06-05T05:54:21.040Z"
   },
   {
    "duration": 260,
    "start_time": "2024-06-05T05:57:01.941Z"
   },
   {
    "duration": 224,
    "start_time": "2024-06-05T06:01:48.694Z"
   },
   {
    "duration": 266,
    "start_time": "2024-06-05T06:04:44.018Z"
   },
   {
    "duration": 58,
    "start_time": "2024-06-05T06:06:59.322Z"
   },
   {
    "duration": 100,
    "start_time": "2024-06-05T06:07:11.544Z"
   },
   {
    "duration": 5,
    "start_time": "2024-06-05T06:07:19.905Z"
   },
   {
    "duration": 11,
    "start_time": "2024-06-05T06:11:40.530Z"
   },
   {
    "duration": 1162,
    "start_time": "2024-06-05T06:12:10.593Z"
   },
   {
    "duration": 70,
    "start_time": "2024-06-05T06:12:11.757Z"
   },
   {
    "duration": 15,
    "start_time": "2024-06-05T06:12:11.829Z"
   },
   {
    "duration": 12,
    "start_time": "2024-06-05T06:12:11.846Z"
   },
   {
    "duration": 19,
    "start_time": "2024-06-05T06:12:11.860Z"
   },
   {
    "duration": 24,
    "start_time": "2024-06-05T06:12:11.881Z"
   },
   {
    "duration": 13,
    "start_time": "2024-06-05T06:12:11.908Z"
   },
   {
    "duration": 13,
    "start_time": "2024-06-05T06:12:11.924Z"
   },
   {
    "duration": 11,
    "start_time": "2024-06-05T06:12:11.939Z"
   },
   {
    "duration": 15,
    "start_time": "2024-06-05T06:12:11.953Z"
   },
   {
    "duration": 17,
    "start_time": "2024-06-05T06:12:11.970Z"
   },
   {
    "duration": 21,
    "start_time": "2024-06-05T06:12:11.990Z"
   },
   {
    "duration": 11,
    "start_time": "2024-06-05T06:12:12.013Z"
   },
   {
    "duration": 8,
    "start_time": "2024-06-05T06:12:12.026Z"
   },
   {
    "duration": 21,
    "start_time": "2024-06-05T06:12:12.036Z"
   },
   {
    "duration": 12,
    "start_time": "2024-06-05T06:12:12.058Z"
   },
   {
    "duration": 8,
    "start_time": "2024-06-05T06:12:12.072Z"
   },
   {
    "duration": 235,
    "start_time": "2024-06-05T06:12:12.082Z"
   },
   {
    "duration": 139,
    "start_time": "2024-06-05T06:12:12.319Z"
   },
   {
    "duration": 269,
    "start_time": "2024-06-05T06:12:12.464Z"
   },
   {
    "duration": 7,
    "start_time": "2024-06-05T06:12:12.734Z"
   },
   {
    "duration": 326,
    "start_time": "2024-06-05T06:12:12.743Z"
   },
   {
    "duration": 7,
    "start_time": "2024-06-05T06:12:13.071Z"
   },
   {
    "duration": 301,
    "start_time": "2024-06-05T06:12:13.079Z"
   },
   {
    "duration": 7,
    "start_time": "2024-06-05T06:12:13.382Z"
   },
   {
    "duration": 16,
    "start_time": "2024-06-05T06:12:13.391Z"
   },
   {
    "duration": 18,
    "start_time": "2024-06-05T06:12:13.408Z"
   },
   {
    "duration": 51,
    "start_time": "2024-06-05T06:12:13.430Z"
   },
   {
    "duration": 10,
    "start_time": "2024-06-05T06:12:13.482Z"
   },
   {
    "duration": 22,
    "start_time": "2024-06-05T06:12:13.493Z"
   },
   {
    "duration": 6,
    "start_time": "2024-06-05T06:12:13.517Z"
   },
   {
    "duration": 46,
    "start_time": "2024-06-05T06:12:13.525Z"
   },
   {
    "duration": 360,
    "start_time": "2024-06-05T06:12:13.573Z"
   },
   {
    "duration": 11,
    "start_time": "2024-06-05T06:12:13.935Z"
   },
   {
    "duration": 24,
    "start_time": "2024-06-05T06:12:13.948Z"
   },
   {
    "duration": 235,
    "start_time": "2024-06-05T06:12:13.974Z"
   },
   {
    "duration": 10,
    "start_time": "2024-06-05T06:12:14.211Z"
   },
   {
    "duration": 9,
    "start_time": "2024-06-05T06:12:14.223Z"
   },
   {
    "duration": 4,
    "start_time": "2024-06-05T06:12:14.234Z"
   },
   {
    "duration": 7,
    "start_time": "2024-06-05T06:12:14.264Z"
   },
   {
    "duration": 43,
    "start_time": "2024-06-05T06:12:14.273Z"
   },
   {
    "duration": 3,
    "start_time": "2024-06-05T06:12:14.317Z"
   },
   {
    "duration": 17,
    "start_time": "2024-06-05T06:12:14.322Z"
   },
   {
    "duration": 24,
    "start_time": "2024-06-05T06:12:14.341Z"
   },
   {
    "duration": 16,
    "start_time": "2024-06-05T06:12:14.367Z"
   },
   {
    "duration": 5,
    "start_time": "2024-06-05T06:12:14.385Z"
   },
   {
    "duration": 5,
    "start_time": "2024-06-05T06:12:14.392Z"
   },
   {
    "duration": 8,
    "start_time": "2024-06-05T06:12:14.399Z"
   },
   {
    "duration": 275,
    "start_time": "2024-06-05T06:12:14.408Z"
   },
   {
    "duration": 250,
    "start_time": "2024-06-05T06:12:14.684Z"
   },
   {
    "duration": 238,
    "start_time": "2024-06-05T06:15:36.415Z"
   },
   {
    "duration": 125,
    "start_time": "2024-06-05T06:16:36.305Z"
   },
   {
    "duration": 168,
    "start_time": "2024-06-05T06:16:46.354Z"
   },
   {
    "duration": 136,
    "start_time": "2024-06-05T06:16:56.958Z"
   },
   {
    "duration": 223,
    "start_time": "2024-06-05T06:17:03.652Z"
   },
   {
    "duration": 257,
    "start_time": "2024-06-05T06:17:15.468Z"
   },
   {
    "duration": 1039,
    "start_time": "2024-06-05T06:22:21.775Z"
   },
   {
    "duration": 67,
    "start_time": "2024-06-05T06:22:22.816Z"
   },
   {
    "duration": 13,
    "start_time": "2024-06-05T06:22:22.885Z"
   },
   {
    "duration": 10,
    "start_time": "2024-06-05T06:22:22.900Z"
   },
   {
    "duration": 12,
    "start_time": "2024-06-05T06:22:22.912Z"
   },
   {
    "duration": 27,
    "start_time": "2024-06-05T06:22:22.925Z"
   },
   {
    "duration": 7,
    "start_time": "2024-06-05T06:22:22.954Z"
   },
   {
    "duration": 28,
    "start_time": "2024-06-05T06:22:22.963Z"
   },
   {
    "duration": 8,
    "start_time": "2024-06-05T06:22:22.993Z"
   },
   {
    "duration": 18,
    "start_time": "2024-06-05T06:22:23.004Z"
   },
   {
    "duration": 56,
    "start_time": "2024-06-05T06:22:23.023Z"
   },
   {
    "duration": 27,
    "start_time": "2024-06-05T06:22:23.080Z"
   },
   {
    "duration": 6,
    "start_time": "2024-06-05T06:22:23.108Z"
   },
   {
    "duration": 29,
    "start_time": "2024-06-05T06:22:23.115Z"
   },
   {
    "duration": 8,
    "start_time": "2024-06-05T06:22:23.146Z"
   },
   {
    "duration": 7,
    "start_time": "2024-06-05T06:22:23.155Z"
   },
   {
    "duration": 17,
    "start_time": "2024-06-05T06:22:23.163Z"
   },
   {
    "duration": 202,
    "start_time": "2024-06-05T06:22:23.181Z"
   },
   {
    "duration": 111,
    "start_time": "2024-06-05T06:22:23.384Z"
   },
   {
    "duration": 252,
    "start_time": "2024-06-05T06:22:23.497Z"
   },
   {
    "duration": 6,
    "start_time": "2024-06-05T06:22:23.751Z"
   },
   {
    "duration": 296,
    "start_time": "2024-06-05T06:22:23.765Z"
   },
   {
    "duration": 7,
    "start_time": "2024-06-05T06:22:24.064Z"
   },
   {
    "duration": 295,
    "start_time": "2024-06-05T06:22:24.072Z"
   },
   {
    "duration": 7,
    "start_time": "2024-06-05T06:22:24.368Z"
   },
   {
    "duration": 19,
    "start_time": "2024-06-05T06:22:24.376Z"
   },
   {
    "duration": 13,
    "start_time": "2024-06-05T06:22:24.396Z"
   },
   {
    "duration": 16,
    "start_time": "2024-06-05T06:22:24.412Z"
   },
   {
    "duration": 7,
    "start_time": "2024-06-05T06:22:24.430Z"
   },
   {
    "duration": 37,
    "start_time": "2024-06-05T06:22:24.439Z"
   },
   {
    "duration": 5,
    "start_time": "2024-06-05T06:22:24.478Z"
   },
   {
    "duration": 15,
    "start_time": "2024-06-05T06:22:24.485Z"
   },
   {
    "duration": 295,
    "start_time": "2024-06-05T06:22:24.501Z"
   },
   {
    "duration": 8,
    "start_time": "2024-06-05T06:22:24.798Z"
   },
   {
    "duration": 19,
    "start_time": "2024-06-05T06:22:24.807Z"
   },
   {
    "duration": 208,
    "start_time": "2024-06-05T06:22:24.827Z"
   },
   {
    "duration": 8,
    "start_time": "2024-06-05T06:22:25.037Z"
   },
   {
    "duration": 23,
    "start_time": "2024-06-05T06:22:25.046Z"
   },
   {
    "duration": 7,
    "start_time": "2024-06-05T06:22:25.071Z"
   },
   {
    "duration": 9,
    "start_time": "2024-06-05T06:22:25.080Z"
   },
   {
    "duration": 39,
    "start_time": "2024-06-05T06:22:25.090Z"
   },
   {
    "duration": 3,
    "start_time": "2024-06-05T06:22:25.130Z"
   },
   {
    "duration": 30,
    "start_time": "2024-06-05T06:22:25.135Z"
   },
   {
    "duration": 6,
    "start_time": "2024-06-05T06:22:25.167Z"
   },
   {
    "duration": 22,
    "start_time": "2024-06-05T06:22:25.174Z"
   },
   {
    "duration": 5,
    "start_time": "2024-06-05T06:22:25.198Z"
   },
   {
    "duration": 4,
    "start_time": "2024-06-05T06:22:25.205Z"
   },
   {
    "duration": 13,
    "start_time": "2024-06-05T06:22:25.210Z"
   },
   {
    "duration": 1040,
    "start_time": "2024-06-05T06:24:45.898Z"
   },
   {
    "duration": 66,
    "start_time": "2024-06-05T06:24:46.940Z"
   },
   {
    "duration": 12,
    "start_time": "2024-06-05T06:24:47.007Z"
   },
   {
    "duration": 16,
    "start_time": "2024-06-05T06:24:47.021Z"
   },
   {
    "duration": 11,
    "start_time": "2024-06-05T06:24:47.039Z"
   },
   {
    "duration": 15,
    "start_time": "2024-06-05T06:24:47.051Z"
   },
   {
    "duration": 6,
    "start_time": "2024-06-05T06:24:47.067Z"
   },
   {
    "duration": 17,
    "start_time": "2024-06-05T06:24:47.074Z"
   },
   {
    "duration": 16,
    "start_time": "2024-06-05T06:24:47.093Z"
   },
   {
    "duration": 5,
    "start_time": "2024-06-05T06:24:47.112Z"
   },
   {
    "duration": 7,
    "start_time": "2024-06-05T06:24:47.118Z"
   },
   {
    "duration": 4,
    "start_time": "2024-06-05T06:24:47.127Z"
   },
   {
    "duration": 5,
    "start_time": "2024-06-05T06:24:47.133Z"
   },
   {
    "duration": 16,
    "start_time": "2024-06-05T06:24:47.139Z"
   },
   {
    "duration": 5,
    "start_time": "2024-06-05T06:24:47.164Z"
   },
   {
    "duration": 7,
    "start_time": "2024-06-05T06:24:47.170Z"
   },
   {
    "duration": 7,
    "start_time": "2024-06-05T06:24:47.178Z"
   },
   {
    "duration": 195,
    "start_time": "2024-06-05T06:24:47.186Z"
   },
   {
    "duration": 121,
    "start_time": "2024-06-05T06:24:47.383Z"
   },
   {
    "duration": 245,
    "start_time": "2024-06-05T06:24:47.506Z"
   },
   {
    "duration": 13,
    "start_time": "2024-06-05T06:24:47.753Z"
   },
   {
    "duration": 305,
    "start_time": "2024-06-05T06:24:47.768Z"
   },
   {
    "duration": 11,
    "start_time": "2024-06-05T06:24:48.075Z"
   },
   {
    "duration": 311,
    "start_time": "2024-06-05T06:24:48.088Z"
   },
   {
    "duration": 6,
    "start_time": "2024-06-05T06:24:48.401Z"
   },
   {
    "duration": 13,
    "start_time": "2024-06-05T06:24:48.409Z"
   },
   {
    "duration": 14,
    "start_time": "2024-06-05T06:24:48.424Z"
   },
   {
    "duration": 39,
    "start_time": "2024-06-05T06:24:48.441Z"
   },
   {
    "duration": 7,
    "start_time": "2024-06-05T06:24:48.482Z"
   },
   {
    "duration": 16,
    "start_time": "2024-06-05T06:24:48.490Z"
   },
   {
    "duration": 6,
    "start_time": "2024-06-05T06:24:48.507Z"
   },
   {
    "duration": 15,
    "start_time": "2024-06-05T06:24:48.514Z"
   },
   {
    "duration": 342,
    "start_time": "2024-06-05T06:24:48.531Z"
   },
   {
    "duration": 7,
    "start_time": "2024-06-05T06:24:48.875Z"
   },
   {
    "duration": 7,
    "start_time": "2024-06-05T06:24:48.884Z"
   },
   {
    "duration": 254,
    "start_time": "2024-06-05T06:24:48.892Z"
   },
   {
    "duration": 18,
    "start_time": "2024-06-05T06:24:49.148Z"
   },
   {
    "duration": 11,
    "start_time": "2024-06-05T06:24:49.168Z"
   },
   {
    "duration": 5,
    "start_time": "2024-06-05T06:24:49.181Z"
   },
   {
    "duration": 6,
    "start_time": "2024-06-05T06:24:49.188Z"
   },
   {
    "duration": 79,
    "start_time": "2024-06-05T06:24:49.195Z"
   },
   {
    "duration": 3,
    "start_time": "2024-06-05T06:24:49.276Z"
   },
   {
    "duration": 16,
    "start_time": "2024-06-05T06:24:49.281Z"
   },
   {
    "duration": 8,
    "start_time": "2024-06-05T06:24:49.298Z"
   },
   {
    "duration": 14,
    "start_time": "2024-06-05T06:24:49.307Z"
   },
   {
    "duration": 6,
    "start_time": "2024-06-05T06:24:49.323Z"
   },
   {
    "duration": 7,
    "start_time": "2024-06-05T06:24:49.330Z"
   },
   {
    "duration": 11,
    "start_time": "2024-06-05T06:24:49.366Z"
   },
   {
    "duration": 264,
    "start_time": "2024-06-05T06:24:49.379Z"
   },
   {
    "duration": 95,
    "start_time": "2024-06-05T06:26:53.481Z"
   },
   {
    "duration": 13,
    "start_time": "2024-06-05T06:27:26.848Z"
   },
   {
    "duration": 143,
    "start_time": "2024-06-05T06:28:58.740Z"
   },
   {
    "duration": 239,
    "start_time": "2024-06-05T06:30:27.804Z"
   },
   {
    "duration": 262,
    "start_time": "2024-06-05T06:30:58.073Z"
   },
   {
    "duration": 1049,
    "start_time": "2024-06-05T06:44:19.922Z"
   },
   {
    "duration": 66,
    "start_time": "2024-06-05T06:44:20.973Z"
   },
   {
    "duration": 16,
    "start_time": "2024-06-05T06:44:21.042Z"
   },
   {
    "duration": 12,
    "start_time": "2024-06-05T06:44:21.061Z"
   },
   {
    "duration": 16,
    "start_time": "2024-06-05T06:44:21.075Z"
   },
   {
    "duration": 20,
    "start_time": "2024-06-05T06:44:21.092Z"
   },
   {
    "duration": 18,
    "start_time": "2024-06-05T06:44:21.113Z"
   },
   {
    "duration": 13,
    "start_time": "2024-06-05T06:44:21.133Z"
   },
   {
    "duration": 23,
    "start_time": "2024-06-05T06:44:21.148Z"
   },
   {
    "duration": 16,
    "start_time": "2024-06-05T06:44:21.175Z"
   },
   {
    "duration": 7,
    "start_time": "2024-06-05T06:44:21.194Z"
   },
   {
    "duration": 10,
    "start_time": "2024-06-05T06:44:21.202Z"
   },
   {
    "duration": 7,
    "start_time": "2024-06-05T06:44:21.214Z"
   },
   {
    "duration": 10,
    "start_time": "2024-06-05T06:44:21.223Z"
   },
   {
    "duration": 4,
    "start_time": "2024-06-05T06:44:21.234Z"
   },
   {
    "duration": 12,
    "start_time": "2024-06-05T06:44:21.240Z"
   },
   {
    "duration": 15,
    "start_time": "2024-06-05T06:44:21.253Z"
   },
   {
    "duration": 190,
    "start_time": "2024-06-05T06:44:21.270Z"
   },
   {
    "duration": 115,
    "start_time": "2024-06-05T06:44:21.461Z"
   },
   {
    "duration": 245,
    "start_time": "2024-06-05T06:44:21.578Z"
   },
   {
    "duration": 6,
    "start_time": "2024-06-05T06:44:21.824Z"
   },
   {
    "duration": 285,
    "start_time": "2024-06-05T06:44:21.831Z"
   },
   {
    "duration": 8,
    "start_time": "2024-06-05T06:44:22.117Z"
   },
   {
    "duration": 270,
    "start_time": "2024-06-05T06:44:22.126Z"
   },
   {
    "duration": 7,
    "start_time": "2024-06-05T06:44:22.399Z"
   },
   {
    "duration": 14,
    "start_time": "2024-06-05T06:44:22.408Z"
   },
   {
    "duration": 14,
    "start_time": "2024-06-05T06:44:22.423Z"
   },
   {
    "duration": 34,
    "start_time": "2024-06-05T06:44:22.440Z"
   },
   {
    "duration": 9,
    "start_time": "2024-06-05T06:44:22.475Z"
   },
   {
    "duration": 19,
    "start_time": "2024-06-05T06:44:22.486Z"
   },
   {
    "duration": 5,
    "start_time": "2024-06-05T06:44:22.507Z"
   },
   {
    "duration": 16,
    "start_time": "2024-06-05T06:44:22.514Z"
   },
   {
    "duration": 295,
    "start_time": "2024-06-05T06:44:22.566Z"
   },
   {
    "duration": 9,
    "start_time": "2024-06-05T06:44:22.864Z"
   },
   {
    "duration": 47,
    "start_time": "2024-06-05T06:44:22.875Z"
   },
   {
    "duration": 208,
    "start_time": "2024-06-05T06:44:22.924Z"
   },
   {
    "duration": 9,
    "start_time": "2024-06-05T06:44:23.134Z"
   },
   {
    "duration": 23,
    "start_time": "2024-06-05T06:44:23.144Z"
   },
   {
    "duration": 5,
    "start_time": "2024-06-05T06:44:23.168Z"
   },
   {
    "duration": 7,
    "start_time": "2024-06-05T06:44:23.174Z"
   },
   {
    "duration": 45,
    "start_time": "2024-06-05T06:44:23.183Z"
   },
   {
    "duration": 3,
    "start_time": "2024-06-05T06:44:23.230Z"
   },
   {
    "duration": 31,
    "start_time": "2024-06-05T06:44:23.234Z"
   },
   {
    "duration": 5,
    "start_time": "2024-06-05T06:44:23.267Z"
   },
   {
    "duration": 22,
    "start_time": "2024-06-05T06:44:23.273Z"
   },
   {
    "duration": 10,
    "start_time": "2024-06-05T06:44:23.297Z"
   },
   {
    "duration": 23,
    "start_time": "2024-06-05T06:44:23.308Z"
   },
   {
    "duration": 15,
    "start_time": "2024-06-05T06:44:23.333Z"
   },
   {
    "duration": 91,
    "start_time": "2024-06-05T06:44:23.349Z"
   },
   {
    "duration": 0,
    "start_time": "2024-06-05T06:44:23.442Z"
   },
   {
    "duration": 1110,
    "start_time": "2024-06-05T06:45:48.927Z"
   },
   {
    "duration": 66,
    "start_time": "2024-06-05T06:45:50.039Z"
   },
   {
    "duration": 13,
    "start_time": "2024-06-05T06:45:50.106Z"
   },
   {
    "duration": 28,
    "start_time": "2024-06-05T06:45:50.120Z"
   },
   {
    "duration": 55,
    "start_time": "2024-06-05T06:45:50.150Z"
   },
   {
    "duration": 10,
    "start_time": "2024-06-05T06:45:50.206Z"
   },
   {
    "duration": 6,
    "start_time": "2024-06-05T06:45:50.218Z"
   },
   {
    "duration": 23,
    "start_time": "2024-06-05T06:45:50.225Z"
   },
   {
    "duration": 8,
    "start_time": "2024-06-05T06:45:50.250Z"
   },
   {
    "duration": 5,
    "start_time": "2024-06-05T06:45:50.260Z"
   },
   {
    "duration": 6,
    "start_time": "2024-06-05T06:45:50.267Z"
   },
   {
    "duration": 7,
    "start_time": "2024-06-05T06:45:50.274Z"
   },
   {
    "duration": 6,
    "start_time": "2024-06-05T06:45:50.282Z"
   },
   {
    "duration": 7,
    "start_time": "2024-06-05T06:45:50.291Z"
   },
   {
    "duration": 5,
    "start_time": "2024-06-05T06:45:50.299Z"
   },
   {
    "duration": 5,
    "start_time": "2024-06-05T06:45:50.305Z"
   },
   {
    "duration": 5,
    "start_time": "2024-06-05T06:45:50.311Z"
   },
   {
    "duration": 218,
    "start_time": "2024-06-05T06:45:50.317Z"
   },
   {
    "duration": 111,
    "start_time": "2024-06-05T06:45:50.537Z"
   },
   {
    "duration": 228,
    "start_time": "2024-06-05T06:45:50.650Z"
   },
   {
    "duration": 6,
    "start_time": "2024-06-05T06:45:50.879Z"
   },
   {
    "duration": 281,
    "start_time": "2024-06-05T06:45:50.887Z"
   },
   {
    "duration": 8,
    "start_time": "2024-06-05T06:45:51.169Z"
   },
   {
    "duration": 289,
    "start_time": "2024-06-05T06:45:51.178Z"
   },
   {
    "duration": 7,
    "start_time": "2024-06-05T06:45:51.468Z"
   },
   {
    "duration": 16,
    "start_time": "2024-06-05T06:45:51.476Z"
   },
   {
    "duration": 14,
    "start_time": "2024-06-05T06:45:51.493Z"
   },
   {
    "duration": 19,
    "start_time": "2024-06-05T06:45:51.509Z"
   },
   {
    "duration": 8,
    "start_time": "2024-06-05T06:45:51.529Z"
   },
   {
    "duration": 38,
    "start_time": "2024-06-05T06:45:51.538Z"
   },
   {
    "duration": 5,
    "start_time": "2024-06-05T06:45:51.578Z"
   },
   {
    "duration": 16,
    "start_time": "2024-06-05T06:45:51.584Z"
   },
   {
    "duration": 288,
    "start_time": "2024-06-05T06:45:51.601Z"
   },
   {
    "duration": 8,
    "start_time": "2024-06-05T06:45:51.891Z"
   },
   {
    "duration": 14,
    "start_time": "2024-06-05T06:45:51.900Z"
   },
   {
    "duration": 221,
    "start_time": "2024-06-05T06:45:51.915Z"
   },
   {
    "duration": 8,
    "start_time": "2024-06-05T06:45:52.137Z"
   },
   {
    "duration": 62,
    "start_time": "2024-06-05T06:45:52.146Z"
   },
   {
    "duration": 33,
    "start_time": "2024-06-05T06:45:52.209Z"
   },
   {
    "duration": 6,
    "start_time": "2024-06-05T06:45:52.243Z"
   },
   {
    "duration": 36,
    "start_time": "2024-06-05T06:45:52.252Z"
   },
   {
    "duration": 4,
    "start_time": "2024-06-05T06:45:52.289Z"
   },
   {
    "duration": 25,
    "start_time": "2024-06-05T06:45:52.294Z"
   },
   {
    "duration": 4,
    "start_time": "2024-06-05T06:45:52.320Z"
   },
   {
    "duration": 13,
    "start_time": "2024-06-05T06:45:52.325Z"
   },
   {
    "duration": 23,
    "start_time": "2024-06-05T06:45:52.339Z"
   },
   {
    "duration": 5,
    "start_time": "2024-06-05T06:45:52.363Z"
   },
   {
    "duration": 8,
    "start_time": "2024-06-05T06:45:52.369Z"
   },
   {
    "duration": 1158,
    "start_time": "2024-06-05T06:46:37.448Z"
   },
   {
    "duration": 66,
    "start_time": "2024-06-05T06:46:38.608Z"
   },
   {
    "duration": 13,
    "start_time": "2024-06-05T06:46:38.676Z"
   },
   {
    "duration": 42,
    "start_time": "2024-06-05T06:46:38.691Z"
   },
   {
    "duration": 11,
    "start_time": "2024-06-05T06:46:38.735Z"
   },
   {
    "duration": 67,
    "start_time": "2024-06-05T06:46:38.748Z"
   },
   {
    "duration": 8,
    "start_time": "2024-06-05T06:46:38.816Z"
   },
   {
    "duration": 11,
    "start_time": "2024-06-05T06:46:38.825Z"
   },
   {
    "duration": 16,
    "start_time": "2024-06-05T06:46:38.838Z"
   },
   {
    "duration": 7,
    "start_time": "2024-06-05T06:46:38.857Z"
   },
   {
    "duration": 6,
    "start_time": "2024-06-05T06:46:38.868Z"
   },
   {
    "duration": 7,
    "start_time": "2024-06-05T06:46:38.876Z"
   },
   {
    "duration": 7,
    "start_time": "2024-06-05T06:46:38.885Z"
   },
   {
    "duration": 11,
    "start_time": "2024-06-05T06:46:38.893Z"
   },
   {
    "duration": 6,
    "start_time": "2024-06-05T06:46:38.905Z"
   },
   {
    "duration": 5,
    "start_time": "2024-06-05T06:46:38.913Z"
   },
   {
    "duration": 7,
    "start_time": "2024-06-05T06:46:38.919Z"
   },
   {
    "duration": 213,
    "start_time": "2024-06-05T06:46:38.966Z"
   },
   {
    "duration": 125,
    "start_time": "2024-06-05T06:46:39.181Z"
   },
   {
    "duration": 258,
    "start_time": "2024-06-05T06:46:39.308Z"
   },
   {
    "duration": 6,
    "start_time": "2024-06-05T06:46:39.568Z"
   },
   {
    "duration": 393,
    "start_time": "2024-06-05T06:46:39.576Z"
   },
   {
    "duration": 8,
    "start_time": "2024-06-05T06:46:39.971Z"
   },
   {
    "duration": 267,
    "start_time": "2024-06-05T06:46:39.980Z"
   },
   {
    "duration": 7,
    "start_time": "2024-06-05T06:46:40.248Z"
   },
   {
    "duration": 28,
    "start_time": "2024-06-05T06:46:40.256Z"
   },
   {
    "duration": 21,
    "start_time": "2024-06-05T06:46:40.286Z"
   },
   {
    "duration": 21,
    "start_time": "2024-06-05T06:46:40.311Z"
   },
   {
    "duration": 33,
    "start_time": "2024-06-05T06:46:40.333Z"
   },
   {
    "duration": 24,
    "start_time": "2024-06-05T06:46:40.368Z"
   },
   {
    "duration": 7,
    "start_time": "2024-06-05T06:46:40.394Z"
   },
   {
    "duration": 22,
    "start_time": "2024-06-05T06:46:40.404Z"
   },
   {
    "duration": 308,
    "start_time": "2024-06-05T06:46:40.427Z"
   },
   {
    "duration": 8,
    "start_time": "2024-06-05T06:46:40.737Z"
   },
   {
    "duration": 65,
    "start_time": "2024-06-05T06:46:40.746Z"
   },
   {
    "duration": 223,
    "start_time": "2024-06-05T06:46:40.813Z"
   },
   {
    "duration": 11,
    "start_time": "2024-06-05T06:46:41.038Z"
   },
   {
    "duration": 12,
    "start_time": "2024-06-05T06:46:41.064Z"
   },
   {
    "duration": 6,
    "start_time": "2024-06-05T06:46:41.078Z"
   },
   {
    "duration": 9,
    "start_time": "2024-06-05T06:46:41.086Z"
   },
   {
    "duration": 43,
    "start_time": "2024-06-05T06:46:41.097Z"
   },
   {
    "duration": 24,
    "start_time": "2024-06-05T06:46:41.142Z"
   },
   {
    "duration": 30,
    "start_time": "2024-06-05T06:46:41.168Z"
   },
   {
    "duration": 7,
    "start_time": "2024-06-05T06:46:41.200Z"
   },
   {
    "duration": 21,
    "start_time": "2024-06-05T06:46:41.208Z"
   },
   {
    "duration": 12,
    "start_time": "2024-06-05T06:46:41.231Z"
   },
   {
    "duration": 13,
    "start_time": "2024-06-05T06:46:41.244Z"
   },
   {
    "duration": 11,
    "start_time": "2024-06-05T06:46:41.272Z"
   },
   {
    "duration": 274,
    "start_time": "2024-06-05T06:46:41.285Z"
   },
   {
    "duration": 300,
    "start_time": "2024-06-05T06:53:05.034Z"
   },
   {
    "duration": 258,
    "start_time": "2024-06-05T06:53:06.840Z"
   },
   {
    "duration": 269,
    "start_time": "2024-06-05T06:54:30.632Z"
   },
   {
    "duration": 258,
    "start_time": "2024-06-05T07:00:29.229Z"
   },
   {
    "duration": 262,
    "start_time": "2024-06-05T07:01:05.165Z"
   },
   {
    "duration": 265,
    "start_time": "2024-06-05T07:01:39.046Z"
   },
   {
    "duration": 218,
    "start_time": "2024-06-05T07:02:14.707Z"
   },
   {
    "duration": 315,
    "start_time": "2024-06-05T07:13:16.673Z"
   },
   {
    "duration": 1027,
    "start_time": "2024-06-05T07:14:10.300Z"
   },
   {
    "duration": 67,
    "start_time": "2024-06-05T07:14:11.328Z"
   },
   {
    "duration": 12,
    "start_time": "2024-06-05T07:14:11.397Z"
   },
   {
    "duration": 20,
    "start_time": "2024-06-05T07:14:11.410Z"
   },
   {
    "duration": 9,
    "start_time": "2024-06-05T07:14:11.432Z"
   },
   {
    "duration": 16,
    "start_time": "2024-06-05T07:14:11.442Z"
   },
   {
    "duration": 39,
    "start_time": "2024-06-05T07:14:11.460Z"
   },
   {
    "duration": 30,
    "start_time": "2024-06-05T07:14:11.500Z"
   },
   {
    "duration": 17,
    "start_time": "2024-06-05T07:14:11.532Z"
   },
   {
    "duration": 12,
    "start_time": "2024-06-05T07:14:11.550Z"
   },
   {
    "duration": 9,
    "start_time": "2024-06-05T07:14:11.564Z"
   },
   {
    "duration": 6,
    "start_time": "2024-06-05T07:14:11.574Z"
   },
   {
    "duration": 11,
    "start_time": "2024-06-05T07:14:11.582Z"
   },
   {
    "duration": 10,
    "start_time": "2024-06-05T07:14:11.596Z"
   },
   {
    "duration": 5,
    "start_time": "2024-06-05T07:14:11.607Z"
   },
   {
    "duration": 7,
    "start_time": "2024-06-05T07:14:11.614Z"
   },
   {
    "duration": 9,
    "start_time": "2024-06-05T07:14:11.622Z"
   },
   {
    "duration": 225,
    "start_time": "2024-06-05T07:14:11.633Z"
   },
   {
    "duration": 120,
    "start_time": "2024-06-05T07:14:11.864Z"
   },
   {
    "duration": 247,
    "start_time": "2024-06-05T07:14:11.985Z"
   },
   {
    "duration": 6,
    "start_time": "2024-06-05T07:14:12.233Z"
   },
   {
    "duration": 280,
    "start_time": "2024-06-05T07:14:12.241Z"
   },
   {
    "duration": 7,
    "start_time": "2024-06-05T07:14:12.522Z"
   },
   {
    "duration": 293,
    "start_time": "2024-06-05T07:14:12.531Z"
   },
   {
    "duration": 7,
    "start_time": "2024-06-05T07:14:12.826Z"
   },
   {
    "duration": 79,
    "start_time": "2024-06-05T07:14:12.835Z"
   },
   {
    "duration": 15,
    "start_time": "2024-06-05T07:14:12.916Z"
   },
   {
    "duration": 17,
    "start_time": "2024-06-05T07:14:12.932Z"
   },
   {
    "duration": 8,
    "start_time": "2024-06-05T07:14:12.951Z"
   },
   {
    "duration": 17,
    "start_time": "2024-06-05T07:14:12.961Z"
   },
   {
    "duration": 6,
    "start_time": "2024-06-05T07:14:12.980Z"
   },
   {
    "duration": 20,
    "start_time": "2024-06-05T07:14:12.987Z"
   },
   {
    "duration": 280,
    "start_time": "2024-06-05T07:14:13.009Z"
   },
   {
    "duration": 8,
    "start_time": "2024-06-05T07:14:13.291Z"
   },
   {
    "duration": 8,
    "start_time": "2024-06-05T07:14:13.301Z"
   },
   {
    "duration": 220,
    "start_time": "2024-06-05T07:14:13.311Z"
   },
   {
    "duration": 9,
    "start_time": "2024-06-05T07:14:13.533Z"
   },
   {
    "duration": 27,
    "start_time": "2024-06-05T07:14:13.544Z"
   },
   {
    "duration": 4,
    "start_time": "2024-06-05T07:14:13.573Z"
   },
   {
    "duration": 7,
    "start_time": "2024-06-05T07:14:13.578Z"
   },
   {
    "duration": 37,
    "start_time": "2024-06-05T07:14:13.588Z"
   },
   {
    "duration": 2,
    "start_time": "2024-06-05T07:14:13.627Z"
   },
   {
    "duration": 37,
    "start_time": "2024-06-05T07:14:13.631Z"
   },
   {
    "duration": 4,
    "start_time": "2024-06-05T07:14:13.669Z"
   },
   {
    "duration": 18,
    "start_time": "2024-06-05T07:14:13.675Z"
   },
   {
    "duration": 5,
    "start_time": "2024-06-05T07:14:13.694Z"
   },
   {
    "duration": 5,
    "start_time": "2024-06-05T07:14:13.700Z"
   },
   {
    "duration": 10,
    "start_time": "2024-06-05T07:14:13.706Z"
   },
   {
    "duration": 289,
    "start_time": "2024-06-05T07:14:13.717Z"
   },
   {
    "duration": 0,
    "start_time": "2024-06-05T07:14:45.893Z"
   },
   {
    "duration": 1065,
    "start_time": "2024-06-05T07:15:24.850Z"
   },
   {
    "duration": 64,
    "start_time": "2024-06-05T07:15:25.917Z"
   },
   {
    "duration": 11,
    "start_time": "2024-06-05T07:15:25.983Z"
   },
   {
    "duration": 9,
    "start_time": "2024-06-05T07:15:25.996Z"
   },
   {
    "duration": 10,
    "start_time": "2024-06-05T07:15:26.007Z"
   },
   {
    "duration": 19,
    "start_time": "2024-06-05T07:15:26.018Z"
   },
   {
    "duration": 6,
    "start_time": "2024-06-05T07:15:26.039Z"
   },
   {
    "duration": 18,
    "start_time": "2024-06-05T07:15:26.047Z"
   },
   {
    "duration": 7,
    "start_time": "2024-06-05T07:15:26.066Z"
   },
   {
    "duration": 7,
    "start_time": "2024-06-05T07:15:26.074Z"
   },
   {
    "duration": 7,
    "start_time": "2024-06-05T07:15:26.082Z"
   },
   {
    "duration": 14,
    "start_time": "2024-06-05T07:15:26.090Z"
   },
   {
    "duration": 5,
    "start_time": "2024-06-05T07:15:26.105Z"
   },
   {
    "duration": 13,
    "start_time": "2024-06-05T07:15:26.113Z"
   },
   {
    "duration": 4,
    "start_time": "2024-06-05T07:15:26.127Z"
   },
   {
    "duration": 5,
    "start_time": "2024-06-05T07:15:26.132Z"
   },
   {
    "duration": 27,
    "start_time": "2024-06-05T07:15:26.139Z"
   },
   {
    "duration": 197,
    "start_time": "2024-06-05T07:15:26.167Z"
   },
   {
    "duration": 114,
    "start_time": "2024-06-05T07:15:26.366Z"
   },
   {
    "duration": 249,
    "start_time": "2024-06-05T07:15:26.482Z"
   },
   {
    "duration": 5,
    "start_time": "2024-06-05T07:15:26.733Z"
   },
   {
    "duration": 282,
    "start_time": "2024-06-05T07:15:26.740Z"
   },
   {
    "duration": 8,
    "start_time": "2024-06-05T07:15:27.024Z"
   },
   {
    "duration": 268,
    "start_time": "2024-06-05T07:15:27.033Z"
   },
   {
    "duration": 7,
    "start_time": "2024-06-05T07:15:27.303Z"
   },
   {
    "duration": 15,
    "start_time": "2024-06-05T07:15:27.312Z"
   },
   {
    "duration": 14,
    "start_time": "2024-06-05T07:15:27.328Z"
   },
   {
    "duration": 36,
    "start_time": "2024-06-05T07:15:27.343Z"
   },
   {
    "duration": 7,
    "start_time": "2024-06-05T07:15:27.381Z"
   },
   {
    "duration": 15,
    "start_time": "2024-06-05T07:15:27.390Z"
   },
   {
    "duration": 6,
    "start_time": "2024-06-05T07:15:27.406Z"
   },
   {
    "duration": 17,
    "start_time": "2024-06-05T07:15:27.413Z"
   },
   {
    "duration": 315,
    "start_time": "2024-06-05T07:15:27.431Z"
   },
   {
    "duration": 18,
    "start_time": "2024-06-05T07:15:27.748Z"
   },
   {
    "duration": 7,
    "start_time": "2024-06-05T07:15:27.768Z"
   },
   {
    "duration": 225,
    "start_time": "2024-06-05T07:15:27.776Z"
   },
   {
    "duration": 8,
    "start_time": "2024-06-05T07:15:28.003Z"
   },
   {
    "duration": 27,
    "start_time": "2024-06-05T07:15:28.012Z"
   },
   {
    "duration": 10,
    "start_time": "2024-06-05T07:15:28.040Z"
   },
   {
    "duration": 8,
    "start_time": "2024-06-05T07:15:28.060Z"
   },
   {
    "duration": 53,
    "start_time": "2024-06-05T07:15:28.072Z"
   },
   {
    "duration": 3,
    "start_time": "2024-06-05T07:15:28.127Z"
   },
   {
    "duration": 20,
    "start_time": "2024-06-05T07:15:28.131Z"
   },
   {
    "duration": 5,
    "start_time": "2024-06-05T07:15:28.152Z"
   },
   {
    "duration": 22,
    "start_time": "2024-06-05T07:15:28.159Z"
   },
   {
    "duration": 6,
    "start_time": "2024-06-05T07:15:28.184Z"
   },
   {
    "duration": 8,
    "start_time": "2024-06-05T07:15:28.192Z"
   },
   {
    "duration": 8,
    "start_time": "2024-06-05T07:15:28.202Z"
   },
   {
    "duration": 298,
    "start_time": "2024-06-05T07:15:28.212Z"
   },
   {
    "duration": 32335,
    "start_time": "2024-06-05T07:15:28.512Z"
   },
   {
    "duration": 31933,
    "start_time": "2024-06-05T07:16:23.820Z"
   },
   {
    "duration": 35339,
    "start_time": "2024-06-05T07:17:35.456Z"
   },
   {
    "duration": 267,
    "start_time": "2024-06-05T07:22:23.786Z"
   },
   {
    "duration": 295,
    "start_time": "2024-06-05T07:25:01.340Z"
   },
   {
    "duration": 250,
    "start_time": "2024-06-05T07:55:24.190Z"
   },
   {
    "duration": 245,
    "start_time": "2024-06-05T07:55:38.574Z"
   },
   {
    "duration": 216,
    "start_time": "2024-06-05T07:56:34.690Z"
   },
   {
    "duration": 237,
    "start_time": "2024-06-05T07:56:44.964Z"
   },
   {
    "duration": 208,
    "start_time": "2024-06-05T07:57:53.088Z"
   },
   {
    "duration": 283,
    "start_time": "2024-06-05T07:58:19.024Z"
   },
   {
    "duration": 274,
    "start_time": "2024-06-05T08:00:38.155Z"
   },
   {
    "duration": 77,
    "start_time": "2024-06-05T08:00:46.319Z"
   },
   {
    "duration": 269,
    "start_time": "2024-06-05T08:00:52.937Z"
   },
   {
    "duration": 245,
    "start_time": "2024-06-05T08:01:29.056Z"
   },
   {
    "duration": 282,
    "start_time": "2024-06-05T08:01:45.453Z"
   },
   {
    "duration": 238,
    "start_time": "2024-06-05T08:01:54.865Z"
   },
   {
    "duration": 235,
    "start_time": "2024-06-05T08:02:11.197Z"
   },
   {
    "duration": 254,
    "start_time": "2024-06-05T08:02:19.672Z"
   },
   {
    "duration": 266,
    "start_time": "2024-06-05T08:02:26.784Z"
   },
   {
    "duration": 206,
    "start_time": "2024-06-05T08:02:32.992Z"
   },
   {
    "duration": 245,
    "start_time": "2024-06-05T08:02:39.423Z"
   },
   {
    "duration": 1329,
    "start_time": "2024-06-05T08:03:02.253Z"
   },
   {
    "duration": 1285,
    "start_time": "2024-06-05T08:03:33.498Z"
   },
   {
    "duration": 1178,
    "start_time": "2024-06-05T08:04:03.202Z"
   },
   {
    "duration": 270,
    "start_time": "2024-06-05T08:04:12.742Z"
   },
   {
    "duration": 458,
    "start_time": "2024-06-05T08:05:53.738Z"
   },
   {
    "duration": 280,
    "start_time": "2024-06-05T08:08:13.935Z"
   },
   {
    "duration": 233,
    "start_time": "2024-06-05T08:09:10.489Z"
   },
   {
    "duration": 197,
    "start_time": "2024-06-05T08:09:30.607Z"
   },
   {
    "duration": 257,
    "start_time": "2024-06-05T08:11:38.375Z"
   },
   {
    "duration": 271,
    "start_time": "2024-06-05T08:14:15.189Z"
   },
   {
    "duration": 329,
    "start_time": "2024-06-05T08:14:26.250Z"
   },
   {
    "duration": 265,
    "start_time": "2024-06-05T08:14:35.041Z"
   },
   {
    "duration": 268,
    "start_time": "2024-06-05T08:15:12.362Z"
   },
   {
    "duration": 1080,
    "start_time": "2024-06-05T08:19:58.784Z"
   },
   {
    "duration": 66,
    "start_time": "2024-06-05T08:19:59.866Z"
   },
   {
    "duration": 12,
    "start_time": "2024-06-05T08:19:59.934Z"
   },
   {
    "duration": 10,
    "start_time": "2024-06-05T08:19:59.947Z"
   },
   {
    "duration": 10,
    "start_time": "2024-06-05T08:19:59.959Z"
   },
   {
    "duration": 10,
    "start_time": "2024-06-05T08:19:59.970Z"
   },
   {
    "duration": 6,
    "start_time": "2024-06-05T08:19:59.981Z"
   },
   {
    "duration": 16,
    "start_time": "2024-06-05T08:19:59.988Z"
   },
   {
    "duration": 27,
    "start_time": "2024-06-05T08:20:00.006Z"
   },
   {
    "duration": 40,
    "start_time": "2024-06-05T08:20:00.035Z"
   },
   {
    "duration": 27,
    "start_time": "2024-06-05T08:20:00.076Z"
   },
   {
    "duration": 17,
    "start_time": "2024-06-05T08:20:00.104Z"
   },
   {
    "duration": 38,
    "start_time": "2024-06-05T08:20:00.122Z"
   },
   {
    "duration": 43,
    "start_time": "2024-06-05T08:20:00.162Z"
   },
   {
    "duration": 22,
    "start_time": "2024-06-05T08:20:00.207Z"
   },
   {
    "duration": 81,
    "start_time": "2024-06-05T08:20:00.230Z"
   },
   {
    "duration": 62,
    "start_time": "2024-06-05T08:20:00.312Z"
   },
   {
    "duration": 221,
    "start_time": "2024-06-05T08:20:00.375Z"
   },
   {
    "duration": 114,
    "start_time": "2024-06-05T08:20:00.598Z"
   },
   {
    "duration": 233,
    "start_time": "2024-06-05T08:20:00.713Z"
   },
   {
    "duration": 6,
    "start_time": "2024-06-05T08:20:00.948Z"
   },
   {
    "duration": 328,
    "start_time": "2024-06-05T08:20:00.955Z"
   },
   {
    "duration": 7,
    "start_time": "2024-06-05T08:20:01.285Z"
   },
   {
    "duration": 315,
    "start_time": "2024-06-05T08:20:01.294Z"
   },
   {
    "duration": 7,
    "start_time": "2024-06-05T08:20:01.611Z"
   },
   {
    "duration": 58,
    "start_time": "2024-06-05T08:20:01.620Z"
   },
   {
    "duration": 44,
    "start_time": "2024-06-05T08:20:01.680Z"
   },
   {
    "duration": 37,
    "start_time": "2024-06-05T08:20:01.726Z"
   },
   {
    "duration": 45,
    "start_time": "2024-06-05T08:20:01.765Z"
   },
   {
    "duration": 82,
    "start_time": "2024-06-05T08:20:01.812Z"
   },
   {
    "duration": 19,
    "start_time": "2024-06-05T08:20:01.896Z"
   },
   {
    "duration": 34,
    "start_time": "2024-06-05T08:20:01.917Z"
   },
   {
    "duration": 317,
    "start_time": "2024-06-05T08:20:01.953Z"
   },
   {
    "duration": 9,
    "start_time": "2024-06-05T08:20:02.272Z"
   },
   {
    "duration": 36,
    "start_time": "2024-06-05T08:20:02.283Z"
   },
   {
    "duration": 228,
    "start_time": "2024-06-05T08:20:02.320Z"
   },
   {
    "duration": 17,
    "start_time": "2024-06-05T08:20:02.550Z"
   },
   {
    "duration": 26,
    "start_time": "2024-06-05T08:20:02.569Z"
   },
   {
    "duration": 9,
    "start_time": "2024-06-05T08:20:02.598Z"
   },
   {
    "duration": 114,
    "start_time": "2024-06-05T08:20:02.609Z"
   },
   {
    "duration": 65,
    "start_time": "2024-06-05T08:20:02.726Z"
   },
   {
    "duration": 4,
    "start_time": "2024-06-05T08:20:02.794Z"
   },
   {
    "duration": 31,
    "start_time": "2024-06-05T08:20:02.800Z"
   },
   {
    "duration": 10,
    "start_time": "2024-06-05T08:20:02.832Z"
   },
   {
    "duration": 57,
    "start_time": "2024-06-05T08:20:02.843Z"
   },
   {
    "duration": 14,
    "start_time": "2024-06-05T08:20:02.901Z"
   },
   {
    "duration": 5,
    "start_time": "2024-06-05T08:20:02.916Z"
   },
   {
    "duration": 14,
    "start_time": "2024-06-05T08:20:02.922Z"
   },
   {
    "duration": 272,
    "start_time": "2024-06-05T08:20:02.937Z"
   },
   {
    "duration": 243,
    "start_time": "2024-06-05T08:20:03.211Z"
   },
   {
    "duration": 1029,
    "start_time": "2024-06-05T08:23:28.017Z"
   },
   {
    "duration": 65,
    "start_time": "2024-06-05T08:23:29.048Z"
   },
   {
    "duration": 13,
    "start_time": "2024-06-05T08:23:29.115Z"
   },
   {
    "duration": 21,
    "start_time": "2024-06-05T08:23:29.130Z"
   },
   {
    "duration": 81,
    "start_time": "2024-06-05T08:23:29.153Z"
   },
   {
    "duration": 23,
    "start_time": "2024-06-05T08:23:29.235Z"
   },
   {
    "duration": 12,
    "start_time": "2024-06-05T08:23:29.260Z"
   },
   {
    "duration": 14,
    "start_time": "2024-06-05T08:23:29.273Z"
   },
   {
    "duration": 9,
    "start_time": "2024-06-05T08:23:29.288Z"
   },
   {
    "duration": 7,
    "start_time": "2024-06-05T08:23:29.298Z"
   },
   {
    "duration": 14,
    "start_time": "2024-06-05T08:23:29.306Z"
   },
   {
    "duration": 5,
    "start_time": "2024-06-05T08:23:29.321Z"
   },
   {
    "duration": 11,
    "start_time": "2024-06-05T08:23:29.328Z"
   },
   {
    "duration": 23,
    "start_time": "2024-06-05T08:23:29.342Z"
   },
   {
    "duration": 5,
    "start_time": "2024-06-05T08:23:29.366Z"
   },
   {
    "duration": 8,
    "start_time": "2024-06-05T08:23:29.372Z"
   },
   {
    "duration": 6,
    "start_time": "2024-06-05T08:23:29.381Z"
   },
   {
    "duration": 217,
    "start_time": "2024-06-05T08:23:29.389Z"
   },
   {
    "duration": 125,
    "start_time": "2024-06-05T08:23:29.608Z"
   },
   {
    "duration": 273,
    "start_time": "2024-06-05T08:23:29.734Z"
   },
   {
    "duration": 6,
    "start_time": "2024-06-05T08:23:30.009Z"
   },
   {
    "duration": 308,
    "start_time": "2024-06-05T08:23:30.016Z"
   },
   {
    "duration": 6,
    "start_time": "2024-06-05T08:23:30.326Z"
   },
   {
    "duration": 292,
    "start_time": "2024-06-05T08:23:30.334Z"
   },
   {
    "duration": 6,
    "start_time": "2024-06-05T08:23:30.628Z"
   },
   {
    "duration": 117,
    "start_time": "2024-06-05T08:23:30.636Z"
   },
   {
    "duration": 67,
    "start_time": "2024-06-05T08:23:30.755Z"
   },
   {
    "duration": 55,
    "start_time": "2024-06-05T08:23:30.824Z"
   },
   {
    "duration": 36,
    "start_time": "2024-06-05T08:23:30.881Z"
   },
   {
    "duration": 63,
    "start_time": "2024-06-05T08:23:30.918Z"
   },
   {
    "duration": 37,
    "start_time": "2024-06-05T08:23:30.983Z"
   },
   {
    "duration": 237,
    "start_time": "2024-06-05T08:23:31.021Z"
   },
   {
    "duration": 405,
    "start_time": "2024-06-05T08:23:31.260Z"
   },
   {
    "duration": 8,
    "start_time": "2024-06-05T08:23:31.666Z"
   },
   {
    "duration": 22,
    "start_time": "2024-06-05T08:23:31.676Z"
   },
   {
    "duration": 218,
    "start_time": "2024-06-05T08:23:31.700Z"
   },
   {
    "duration": 8,
    "start_time": "2024-06-05T08:23:31.920Z"
   },
   {
    "duration": 48,
    "start_time": "2024-06-05T08:23:31.930Z"
   },
   {
    "duration": 6,
    "start_time": "2024-06-05T08:23:31.980Z"
   },
   {
    "duration": 15,
    "start_time": "2024-06-05T08:23:31.987Z"
   },
   {
    "duration": 77,
    "start_time": "2024-06-05T08:23:32.005Z"
   },
   {
    "duration": 17,
    "start_time": "2024-06-05T08:23:32.084Z"
   },
   {
    "duration": 17,
    "start_time": "2024-06-05T08:23:32.102Z"
   },
   {
    "duration": 4,
    "start_time": "2024-06-05T08:23:32.120Z"
   },
   {
    "duration": 24,
    "start_time": "2024-06-05T08:23:32.126Z"
   },
   {
    "duration": 22,
    "start_time": "2024-06-05T08:23:32.151Z"
   },
   {
    "duration": 24,
    "start_time": "2024-06-05T08:23:32.175Z"
   },
   {
    "duration": 36,
    "start_time": "2024-06-05T08:23:32.201Z"
   },
   {
    "duration": 1031,
    "start_time": "2024-06-05T08:25:10.085Z"
   },
   {
    "duration": 69,
    "start_time": "2024-06-05T08:25:11.118Z"
   },
   {
    "duration": 14,
    "start_time": "2024-06-05T08:25:11.188Z"
   },
   {
    "duration": 47,
    "start_time": "2024-06-05T08:25:11.204Z"
   },
   {
    "duration": 11,
    "start_time": "2024-06-05T08:25:11.252Z"
   },
   {
    "duration": 11,
    "start_time": "2024-06-05T08:25:11.264Z"
   },
   {
    "duration": 7,
    "start_time": "2024-06-05T08:25:11.276Z"
   },
   {
    "duration": 15,
    "start_time": "2024-06-05T08:25:11.285Z"
   },
   {
    "duration": 15,
    "start_time": "2024-06-05T08:25:11.301Z"
   },
   {
    "duration": 21,
    "start_time": "2024-06-05T08:25:11.318Z"
   },
   {
    "duration": 6,
    "start_time": "2024-06-05T08:25:11.340Z"
   },
   {
    "duration": 5,
    "start_time": "2024-06-05T08:25:11.348Z"
   },
   {
    "duration": 14,
    "start_time": "2024-06-05T08:25:11.354Z"
   },
   {
    "duration": 8,
    "start_time": "2024-06-05T08:25:11.369Z"
   },
   {
    "duration": 5,
    "start_time": "2024-06-05T08:25:11.379Z"
   },
   {
    "duration": 6,
    "start_time": "2024-06-05T08:25:11.385Z"
   },
   {
    "duration": 8,
    "start_time": "2024-06-05T08:25:11.392Z"
   },
   {
    "duration": 231,
    "start_time": "2024-06-05T08:25:11.401Z"
   },
   {
    "duration": 119,
    "start_time": "2024-06-05T08:25:11.634Z"
   },
   {
    "duration": 236,
    "start_time": "2024-06-05T08:25:11.755Z"
   },
   {
    "duration": 7,
    "start_time": "2024-06-05T08:25:11.993Z"
   },
   {
    "duration": 292,
    "start_time": "2024-06-05T08:25:12.001Z"
   },
   {
    "duration": 7,
    "start_time": "2024-06-05T08:25:12.294Z"
   },
   {
    "duration": 270,
    "start_time": "2024-06-05T08:25:12.302Z"
   },
   {
    "duration": 6,
    "start_time": "2024-06-05T08:25:12.573Z"
   },
   {
    "duration": 13,
    "start_time": "2024-06-05T08:25:12.581Z"
   },
   {
    "duration": 21,
    "start_time": "2024-06-05T08:25:12.596Z"
   },
   {
    "duration": 47,
    "start_time": "2024-06-05T08:25:12.621Z"
   },
   {
    "duration": 11,
    "start_time": "2024-06-05T08:25:12.670Z"
   },
   {
    "duration": 63,
    "start_time": "2024-06-05T08:25:12.683Z"
   },
   {
    "duration": 15,
    "start_time": "2024-06-05T08:25:12.748Z"
   },
   {
    "duration": 17,
    "start_time": "2024-06-05T08:25:12.765Z"
   },
   {
    "duration": 285,
    "start_time": "2024-06-05T08:25:12.783Z"
   },
   {
    "duration": 9,
    "start_time": "2024-06-05T08:25:13.069Z"
   },
   {
    "duration": 85,
    "start_time": "2024-06-05T08:25:13.079Z"
   },
   {
    "duration": 281,
    "start_time": "2024-06-05T08:25:13.166Z"
   },
   {
    "duration": 8,
    "start_time": "2024-06-05T08:25:13.448Z"
   },
   {
    "duration": 13,
    "start_time": "2024-06-05T08:25:13.457Z"
   },
   {
    "duration": 3,
    "start_time": "2024-06-05T08:25:13.472Z"
   },
   {
    "duration": 5,
    "start_time": "2024-06-05T08:25:13.476Z"
   },
   {
    "duration": 57,
    "start_time": "2024-06-05T08:25:13.482Z"
   },
   {
    "duration": 2,
    "start_time": "2024-06-05T08:25:13.540Z"
   },
   {
    "duration": 17,
    "start_time": "2024-06-05T08:25:13.544Z"
   },
   {
    "duration": 4,
    "start_time": "2024-06-05T08:25:13.563Z"
   },
   {
    "duration": 29,
    "start_time": "2024-06-05T08:25:13.569Z"
   },
   {
    "duration": 5,
    "start_time": "2024-06-05T08:25:13.600Z"
   },
   {
    "duration": 12,
    "start_time": "2024-06-05T08:25:13.606Z"
   },
   {
    "duration": 10,
    "start_time": "2024-06-05T08:25:13.620Z"
   },
   {
    "duration": 374,
    "start_time": "2024-06-05T08:25:13.632Z"
   },
   {
    "duration": 1,
    "start_time": "2024-06-05T08:25:14.007Z"
   },
   {
    "duration": 267,
    "start_time": "2024-06-05T08:25:26.705Z"
   },
   {
    "duration": 251,
    "start_time": "2024-06-05T08:25:31.418Z"
   },
   {
    "duration": 1168,
    "start_time": "2024-06-05T09:02:23.254Z"
   },
   {
    "duration": 69,
    "start_time": "2024-06-05T09:02:24.424Z"
   },
   {
    "duration": 13,
    "start_time": "2024-06-05T09:02:24.495Z"
   },
   {
    "duration": 26,
    "start_time": "2024-06-05T09:02:24.509Z"
   },
   {
    "duration": 14,
    "start_time": "2024-06-05T09:02:24.537Z"
   },
   {
    "duration": 12,
    "start_time": "2024-06-05T09:02:24.552Z"
   },
   {
    "duration": 6,
    "start_time": "2024-06-05T09:02:24.565Z"
   },
   {
    "duration": 10,
    "start_time": "2024-06-05T09:02:24.572Z"
   },
   {
    "duration": 7,
    "start_time": "2024-06-05T09:02:24.583Z"
   },
   {
    "duration": 5,
    "start_time": "2024-06-05T09:02:24.591Z"
   },
   {
    "duration": 22,
    "start_time": "2024-06-05T09:02:24.598Z"
   },
   {
    "duration": 5,
    "start_time": "2024-06-05T09:02:24.622Z"
   },
   {
    "duration": 5,
    "start_time": "2024-06-05T09:02:24.628Z"
   },
   {
    "duration": 13,
    "start_time": "2024-06-05T09:02:24.636Z"
   },
   {
    "duration": 4,
    "start_time": "2024-06-05T09:02:24.665Z"
   },
   {
    "duration": 6,
    "start_time": "2024-06-05T09:02:24.671Z"
   },
   {
    "duration": 5,
    "start_time": "2024-06-05T09:02:24.679Z"
   },
   {
    "duration": 219,
    "start_time": "2024-06-05T09:02:24.685Z"
   },
   {
    "duration": 118,
    "start_time": "2024-06-05T09:02:24.906Z"
   },
   {
    "duration": 259,
    "start_time": "2024-06-05T09:02:25.025Z"
   },
   {
    "duration": 6,
    "start_time": "2024-06-05T09:02:25.286Z"
   },
   {
    "duration": 292,
    "start_time": "2024-06-05T09:02:25.293Z"
   },
   {
    "duration": 7,
    "start_time": "2024-06-05T09:02:25.586Z"
   },
   {
    "duration": 273,
    "start_time": "2024-06-05T09:02:25.594Z"
   },
   {
    "duration": 7,
    "start_time": "2024-06-05T09:02:25.869Z"
   },
   {
    "duration": 13,
    "start_time": "2024-06-05T09:02:25.878Z"
   },
   {
    "duration": 14,
    "start_time": "2024-06-05T09:02:25.893Z"
   },
   {
    "duration": 17,
    "start_time": "2024-06-05T09:02:25.908Z"
   },
   {
    "duration": 8,
    "start_time": "2024-06-05T09:02:25.926Z"
   },
   {
    "duration": 15,
    "start_time": "2024-06-05T09:02:25.966Z"
   },
   {
    "duration": 7,
    "start_time": "2024-06-05T09:02:25.982Z"
   },
   {
    "duration": 15,
    "start_time": "2024-06-05T09:02:25.990Z"
   },
   {
    "duration": 299,
    "start_time": "2024-06-05T09:02:26.006Z"
   },
   {
    "duration": 8,
    "start_time": "2024-06-05T09:02:26.307Z"
   },
   {
    "duration": 10,
    "start_time": "2024-06-05T09:02:26.317Z"
   },
   {
    "duration": 252,
    "start_time": "2024-06-05T09:02:26.328Z"
   },
   {
    "duration": 8,
    "start_time": "2024-06-05T09:02:26.581Z"
   },
   {
    "duration": 6,
    "start_time": "2024-06-05T09:02:26.591Z"
   },
   {
    "duration": 3,
    "start_time": "2024-06-05T09:02:26.599Z"
   },
   {
    "duration": 106,
    "start_time": "2024-06-05T09:02:26.603Z"
   },
   {
    "duration": 58,
    "start_time": "2024-06-05T09:02:26.713Z"
   },
   {
    "duration": 3,
    "start_time": "2024-06-05T09:02:26.773Z"
   },
   {
    "duration": 18,
    "start_time": "2024-06-05T09:02:26.778Z"
   },
   {
    "duration": 5,
    "start_time": "2024-06-05T09:02:26.797Z"
   },
   {
    "duration": 101,
    "start_time": "2024-06-05T09:02:26.803Z"
   },
   {
    "duration": 12,
    "start_time": "2024-06-05T09:02:26.906Z"
   },
   {
    "duration": 20,
    "start_time": "2024-06-05T09:02:26.920Z"
   },
   {
    "duration": 47,
    "start_time": "2024-06-05T09:02:26.941Z"
   },
   {
    "duration": 250,
    "start_time": "2024-06-05T09:02:26.990Z"
   },
   {
    "duration": 328,
    "start_time": "2024-06-05T09:02:27.241Z"
   },
   {
    "duration": 1098,
    "start_time": "2024-06-05T09:06:38.361Z"
   },
   {
    "duration": 71,
    "start_time": "2024-06-05T09:06:39.460Z"
   },
   {
    "duration": 12,
    "start_time": "2024-06-05T09:06:39.532Z"
   },
   {
    "duration": 10,
    "start_time": "2024-06-05T09:06:39.546Z"
   },
   {
    "duration": 12,
    "start_time": "2024-06-05T09:06:39.558Z"
   },
   {
    "duration": 12,
    "start_time": "2024-06-05T09:06:39.572Z"
   },
   {
    "duration": 6,
    "start_time": "2024-06-05T09:06:39.586Z"
   },
   {
    "duration": 10,
    "start_time": "2024-06-05T09:06:39.593Z"
   },
   {
    "duration": 20,
    "start_time": "2024-06-05T09:06:39.605Z"
   },
   {
    "duration": 6,
    "start_time": "2024-06-05T09:06:39.628Z"
   },
   {
    "duration": 20,
    "start_time": "2024-06-05T09:06:39.636Z"
   },
   {
    "duration": 9,
    "start_time": "2024-06-05T09:06:39.657Z"
   },
   {
    "duration": 17,
    "start_time": "2024-06-05T09:06:39.667Z"
   },
   {
    "duration": 29,
    "start_time": "2024-06-05T09:06:39.686Z"
   },
   {
    "duration": 4,
    "start_time": "2024-06-05T09:06:39.717Z"
   },
   {
    "duration": 23,
    "start_time": "2024-06-05T09:06:39.723Z"
   },
   {
    "duration": 10,
    "start_time": "2024-06-05T09:06:39.748Z"
   },
   {
    "duration": 197,
    "start_time": "2024-06-05T09:06:39.760Z"
   },
   {
    "duration": 108,
    "start_time": "2024-06-05T09:06:39.958Z"
   },
   {
    "duration": 228,
    "start_time": "2024-06-05T09:06:40.068Z"
   },
   {
    "duration": 6,
    "start_time": "2024-06-05T09:06:40.297Z"
   },
   {
    "duration": 292,
    "start_time": "2024-06-05T09:06:40.305Z"
   },
   {
    "duration": 8,
    "start_time": "2024-06-05T09:06:40.598Z"
   },
   {
    "duration": 322,
    "start_time": "2024-06-05T09:06:40.607Z"
   },
   {
    "duration": 7,
    "start_time": "2024-06-05T09:06:40.931Z"
   },
   {
    "duration": 31,
    "start_time": "2024-06-05T09:06:40.940Z"
   },
   {
    "duration": 14,
    "start_time": "2024-06-05T09:06:40.972Z"
   },
   {
    "duration": 17,
    "start_time": "2024-06-05T09:06:40.989Z"
   },
   {
    "duration": 8,
    "start_time": "2024-06-05T09:06:41.007Z"
   },
   {
    "duration": 16,
    "start_time": "2024-06-05T09:06:41.016Z"
   },
   {
    "duration": 7,
    "start_time": "2024-06-05T09:06:41.034Z"
   },
   {
    "duration": 17,
    "start_time": "2024-06-05T09:06:41.064Z"
   },
   {
    "duration": 333,
    "start_time": "2024-06-05T09:06:41.083Z"
   },
   {
    "duration": 8,
    "start_time": "2024-06-05T09:06:41.418Z"
   },
   {
    "duration": 84,
    "start_time": "2024-06-05T09:06:41.427Z"
   },
   {
    "duration": 302,
    "start_time": "2024-06-05T09:06:41.512Z"
   },
   {
    "duration": 9,
    "start_time": "2024-06-05T09:06:41.816Z"
   },
   {
    "duration": 8,
    "start_time": "2024-06-05T09:06:41.827Z"
   },
   {
    "duration": 4,
    "start_time": "2024-06-05T09:06:41.836Z"
   },
   {
    "duration": 8,
    "start_time": "2024-06-05T09:06:41.841Z"
   },
   {
    "duration": 49,
    "start_time": "2024-06-05T09:06:41.850Z"
   },
   {
    "duration": 3,
    "start_time": "2024-06-05T09:06:41.901Z"
   },
   {
    "duration": 18,
    "start_time": "2024-06-05T09:06:41.905Z"
   },
   {
    "duration": 5,
    "start_time": "2024-06-05T09:06:41.925Z"
   },
   {
    "duration": 41,
    "start_time": "2024-06-05T09:06:41.932Z"
   },
   {
    "duration": 5,
    "start_time": "2024-06-05T09:06:41.975Z"
   },
   {
    "duration": 5,
    "start_time": "2024-06-05T09:06:41.982Z"
   },
   {
    "duration": 9,
    "start_time": "2024-06-05T09:06:41.988Z"
   },
   {
    "duration": 325,
    "start_time": "2024-06-05T09:06:41.999Z"
   },
   {
    "duration": 264,
    "start_time": "2024-06-05T09:06:42.326Z"
   },
   {
    "duration": 1043,
    "start_time": "2024-06-05T09:12:24.673Z"
   },
   {
    "duration": 69,
    "start_time": "2024-06-05T09:12:25.717Z"
   },
   {
    "duration": 14,
    "start_time": "2024-06-05T09:12:25.787Z"
   },
   {
    "duration": 33,
    "start_time": "2024-06-05T09:12:25.803Z"
   },
   {
    "duration": 33,
    "start_time": "2024-06-05T09:12:25.838Z"
   },
   {
    "duration": 34,
    "start_time": "2024-06-05T09:12:25.872Z"
   },
   {
    "duration": 41,
    "start_time": "2024-06-05T09:12:25.908Z"
   },
   {
    "duration": 30,
    "start_time": "2024-06-05T09:12:25.950Z"
   },
   {
    "duration": 21,
    "start_time": "2024-06-05T09:12:25.982Z"
   },
   {
    "duration": 30,
    "start_time": "2024-06-05T09:12:26.005Z"
   },
   {
    "duration": 35,
    "start_time": "2024-06-05T09:12:26.036Z"
   },
   {
    "duration": 17,
    "start_time": "2024-06-05T09:12:26.073Z"
   },
   {
    "duration": 19,
    "start_time": "2024-06-05T09:12:26.092Z"
   },
   {
    "duration": 32,
    "start_time": "2024-06-05T09:12:26.113Z"
   },
   {
    "duration": 19,
    "start_time": "2024-06-05T09:12:26.147Z"
   },
   {
    "duration": 21,
    "start_time": "2024-06-05T09:12:26.168Z"
   },
   {
    "duration": 33,
    "start_time": "2024-06-05T09:12:26.190Z"
   },
   {
    "duration": 221,
    "start_time": "2024-06-05T09:12:26.225Z"
   },
   {
    "duration": 119,
    "start_time": "2024-06-05T09:12:26.448Z"
   },
   {
    "duration": 240,
    "start_time": "2024-06-05T09:12:26.569Z"
   },
   {
    "duration": 6,
    "start_time": "2024-06-05T09:12:26.811Z"
   },
   {
    "duration": 288,
    "start_time": "2024-06-05T09:12:26.819Z"
   },
   {
    "duration": 7,
    "start_time": "2024-06-05T09:12:27.109Z"
   },
   {
    "duration": 262,
    "start_time": "2024-06-05T09:12:27.118Z"
   },
   {
    "duration": 7,
    "start_time": "2024-06-05T09:12:27.382Z"
   },
   {
    "duration": 13,
    "start_time": "2024-06-05T09:12:27.390Z"
   },
   {
    "duration": 14,
    "start_time": "2024-06-05T09:12:27.404Z"
   },
   {
    "duration": 18,
    "start_time": "2024-06-05T09:12:27.421Z"
   },
   {
    "duration": 53,
    "start_time": "2024-06-05T09:12:27.441Z"
   },
   {
    "duration": 47,
    "start_time": "2024-06-05T09:12:27.495Z"
   },
   {
    "duration": 6,
    "start_time": "2024-06-05T09:12:27.543Z"
   },
   {
    "duration": 19,
    "start_time": "2024-06-05T09:12:27.550Z"
   },
   {
    "duration": 291,
    "start_time": "2024-06-05T09:12:27.570Z"
   },
   {
    "duration": 9,
    "start_time": "2024-06-05T09:12:27.863Z"
   },
   {
    "duration": 8,
    "start_time": "2024-06-05T09:12:27.874Z"
   },
   {
    "duration": 247,
    "start_time": "2024-06-05T09:12:27.883Z"
   },
   {
    "duration": 7,
    "start_time": "2024-06-05T09:12:28.132Z"
   },
   {
    "duration": 6,
    "start_time": "2024-06-05T09:12:28.141Z"
   },
   {
    "duration": 17,
    "start_time": "2024-06-05T09:12:28.149Z"
   },
   {
    "duration": 6,
    "start_time": "2024-06-05T09:12:28.168Z"
   },
   {
    "duration": 46,
    "start_time": "2024-06-05T09:12:28.175Z"
   },
   {
    "duration": 3,
    "start_time": "2024-06-05T09:12:28.223Z"
   },
   {
    "duration": 17,
    "start_time": "2024-06-05T09:12:28.228Z"
   },
   {
    "duration": 19,
    "start_time": "2024-06-05T09:12:28.247Z"
   },
   {
    "duration": 15,
    "start_time": "2024-06-05T09:12:28.268Z"
   },
   {
    "duration": 7,
    "start_time": "2024-06-05T09:12:28.284Z"
   },
   {
    "duration": 5,
    "start_time": "2024-06-05T09:12:28.292Z"
   },
   {
    "duration": 24,
    "start_time": "2024-06-05T09:12:28.299Z"
   },
   {
    "duration": 298,
    "start_time": "2024-06-05T09:12:28.325Z"
   },
   {
    "duration": 245,
    "start_time": "2024-06-05T09:12:28.624Z"
   },
   {
    "duration": 1190,
    "start_time": "2024-06-05T09:31:45.928Z"
   },
   {
    "duration": 71,
    "start_time": "2024-06-05T09:31:47.120Z"
   },
   {
    "duration": 14,
    "start_time": "2024-06-05T09:31:47.193Z"
   },
   {
    "duration": 12,
    "start_time": "2024-06-05T09:31:47.208Z"
   },
   {
    "duration": 12,
    "start_time": "2024-06-05T09:31:47.222Z"
   },
   {
    "duration": 17,
    "start_time": "2024-06-05T09:31:47.235Z"
   },
   {
    "duration": 7,
    "start_time": "2024-06-05T09:31:47.254Z"
   },
   {
    "duration": 10,
    "start_time": "2024-06-05T09:31:47.262Z"
   },
   {
    "duration": 11,
    "start_time": "2024-06-05T09:31:47.273Z"
   },
   {
    "duration": 5,
    "start_time": "2024-06-05T09:31:47.286Z"
   },
   {
    "duration": 5,
    "start_time": "2024-06-05T09:31:47.293Z"
   },
   {
    "duration": 5,
    "start_time": "2024-06-05T09:31:47.300Z"
   },
   {
    "duration": 10,
    "start_time": "2024-06-05T09:31:47.306Z"
   },
   {
    "duration": 37,
    "start_time": "2024-06-05T09:31:47.319Z"
   },
   {
    "duration": 5,
    "start_time": "2024-06-05T09:31:47.358Z"
   },
   {
    "duration": 6,
    "start_time": "2024-06-05T09:31:47.365Z"
   },
   {
    "duration": 11,
    "start_time": "2024-06-05T09:31:47.372Z"
   },
   {
    "duration": 227,
    "start_time": "2024-06-05T09:31:47.384Z"
   },
   {
    "duration": 130,
    "start_time": "2024-06-05T09:31:47.613Z"
   },
   {
    "duration": 264,
    "start_time": "2024-06-05T09:31:47.744Z"
   },
   {
    "duration": 7,
    "start_time": "2024-06-05T09:31:48.009Z"
   },
   {
    "duration": 335,
    "start_time": "2024-06-05T09:31:48.019Z"
   },
   {
    "duration": 8,
    "start_time": "2024-06-05T09:31:48.355Z"
   },
   {
    "duration": 303,
    "start_time": "2024-06-05T09:31:48.364Z"
   },
   {
    "duration": 8,
    "start_time": "2024-06-05T09:31:48.669Z"
   },
   {
    "duration": 16,
    "start_time": "2024-06-05T09:31:48.678Z"
   },
   {
    "duration": 15,
    "start_time": "2024-06-05T09:31:48.696Z"
   },
   {
    "duration": 48,
    "start_time": "2024-06-05T09:31:48.713Z"
   },
   {
    "duration": 9,
    "start_time": "2024-06-05T09:31:48.763Z"
   },
   {
    "duration": 18,
    "start_time": "2024-06-05T09:31:48.773Z"
   },
   {
    "duration": 5,
    "start_time": "2024-06-05T09:31:48.793Z"
   },
   {
    "duration": 23,
    "start_time": "2024-06-05T09:31:48.800Z"
   },
   {
    "duration": 323,
    "start_time": "2024-06-05T09:31:48.825Z"
   },
   {
    "duration": 14,
    "start_time": "2024-06-05T09:31:49.149Z"
   },
   {
    "duration": 9,
    "start_time": "2024-06-05T09:31:49.164Z"
   },
   {
    "duration": 260,
    "start_time": "2024-06-05T09:31:49.174Z"
   },
   {
    "duration": 9,
    "start_time": "2024-06-05T09:31:49.436Z"
   },
   {
    "duration": 14,
    "start_time": "2024-06-05T09:31:49.447Z"
   },
   {
    "duration": 16,
    "start_time": "2024-06-05T09:31:49.463Z"
   },
   {
    "duration": 8,
    "start_time": "2024-06-05T09:31:49.481Z"
   },
   {
    "duration": 46,
    "start_time": "2024-06-05T09:31:49.493Z"
   },
   {
    "duration": 3,
    "start_time": "2024-06-05T09:31:49.540Z"
   },
   {
    "duration": 30,
    "start_time": "2024-06-05T09:31:49.545Z"
   },
   {
    "duration": 13,
    "start_time": "2024-06-05T09:31:49.577Z"
   },
   {
    "duration": 32,
    "start_time": "2024-06-05T09:31:49.591Z"
   },
   {
    "duration": 7,
    "start_time": "2024-06-05T09:31:49.625Z"
   },
   {
    "duration": 16,
    "start_time": "2024-06-05T09:31:49.633Z"
   },
   {
    "duration": 14,
    "start_time": "2024-06-05T09:31:49.650Z"
   },
   {
    "duration": 264,
    "start_time": "2024-06-05T09:31:49.666Z"
   },
   {
    "duration": 311,
    "start_time": "2024-06-05T09:31:49.931Z"
   },
   {
    "duration": 10,
    "start_time": "2024-06-05T10:24:32.690Z"
   },
   {
    "duration": 1471,
    "start_time": "2024-06-05T10:24:49.491Z"
   },
   {
    "duration": 74,
    "start_time": "2024-06-05T10:24:50.964Z"
   },
   {
    "duration": 14,
    "start_time": "2024-06-05T10:24:51.040Z"
   },
   {
    "duration": 19,
    "start_time": "2024-06-05T10:24:51.056Z"
   },
   {
    "duration": 30,
    "start_time": "2024-06-05T10:24:51.077Z"
   },
   {
    "duration": 35,
    "start_time": "2024-06-05T10:24:51.109Z"
   },
   {
    "duration": 91,
    "start_time": "2024-06-05T10:24:51.147Z"
   },
   {
    "duration": 12,
    "start_time": "2024-06-05T10:24:51.241Z"
   },
   {
    "duration": 31,
    "start_time": "2024-06-05T10:24:51.255Z"
   },
   {
    "duration": 31,
    "start_time": "2024-06-05T10:24:51.290Z"
   },
   {
    "duration": 15,
    "start_time": "2024-06-05T10:24:51.322Z"
   },
   {
    "duration": 16,
    "start_time": "2024-06-05T10:24:51.338Z"
   },
   {
    "duration": 8,
    "start_time": "2024-06-05T10:24:51.355Z"
   },
   {
    "duration": 31,
    "start_time": "2024-06-05T10:24:51.365Z"
   },
   {
    "duration": 28,
    "start_time": "2024-06-05T10:24:51.399Z"
   },
   {
    "duration": 12,
    "start_time": "2024-06-05T10:24:51.429Z"
   },
   {
    "duration": 81,
    "start_time": "2024-06-05T10:24:51.443Z"
   },
   {
    "duration": 15,
    "start_time": "2024-06-05T10:24:51.526Z"
   },
   {
    "duration": 243,
    "start_time": "2024-06-05T10:24:51.542Z"
   },
   {
    "duration": 147,
    "start_time": "2024-06-05T10:24:51.787Z"
   },
   {
    "duration": 291,
    "start_time": "2024-06-05T10:24:51.936Z"
   },
   {
    "duration": 7,
    "start_time": "2024-06-05T10:24:52.230Z"
   },
   {
    "duration": 364,
    "start_time": "2024-06-05T10:24:52.239Z"
   },
   {
    "duration": 9,
    "start_time": "2024-06-05T10:24:52.605Z"
   },
   {
    "duration": 332,
    "start_time": "2024-06-05T10:24:52.616Z"
   },
   {
    "duration": 7,
    "start_time": "2024-06-05T10:24:52.949Z"
   },
   {
    "duration": 19,
    "start_time": "2024-06-05T10:24:52.968Z"
   },
   {
    "duration": 16,
    "start_time": "2024-06-05T10:24:52.991Z"
   },
   {
    "duration": 23,
    "start_time": "2024-06-05T10:24:53.009Z"
   },
   {
    "duration": 37,
    "start_time": "2024-06-05T10:24:53.033Z"
   },
   {
    "duration": 26,
    "start_time": "2024-06-05T10:24:53.071Z"
   },
   {
    "duration": 8,
    "start_time": "2024-06-05T10:24:53.099Z"
   },
   {
    "duration": 22,
    "start_time": "2024-06-05T10:24:53.109Z"
   },
   {
    "duration": 356,
    "start_time": "2024-06-05T10:24:53.134Z"
   },
   {
    "duration": 8,
    "start_time": "2024-06-05T10:24:53.491Z"
   },
   {
    "duration": 52,
    "start_time": "2024-06-05T10:24:53.501Z"
   },
   {
    "duration": 237,
    "start_time": "2024-06-05T10:24:53.554Z"
   },
   {
    "duration": 11,
    "start_time": "2024-06-05T10:24:53.793Z"
   },
   {
    "duration": 132,
    "start_time": "2024-06-05T10:24:53.805Z"
   },
   {
    "duration": 5,
    "start_time": "2024-06-05T10:24:53.939Z"
   },
   {
    "duration": 6,
    "start_time": "2024-06-05T10:24:53.951Z"
   },
   {
    "duration": 62,
    "start_time": "2024-06-05T10:24:53.959Z"
   },
   {
    "duration": 3,
    "start_time": "2024-06-05T10:24:54.023Z"
   },
   {
    "duration": 26,
    "start_time": "2024-06-05T10:24:54.028Z"
   },
   {
    "duration": 25,
    "start_time": "2024-06-05T10:24:54.056Z"
   },
   {
    "duration": 34,
    "start_time": "2024-06-05T10:24:54.083Z"
   },
   {
    "duration": 22,
    "start_time": "2024-06-05T10:24:54.118Z"
   },
   {
    "duration": 10,
    "start_time": "2024-06-05T10:24:54.142Z"
   },
   {
    "duration": 37,
    "start_time": "2024-06-05T10:24:54.154Z"
   },
   {
    "duration": 332,
    "start_time": "2024-06-05T10:24:54.193Z"
   },
   {
    "duration": 303,
    "start_time": "2024-06-05T10:24:54.526Z"
   },
   {
    "duration": 1159,
    "start_time": "2024-06-05T10:25:57.609Z"
   },
   {
    "duration": 73,
    "start_time": "2024-06-05T10:25:58.770Z"
   },
   {
    "duration": 18,
    "start_time": "2024-06-05T10:25:58.844Z"
   },
   {
    "duration": 17,
    "start_time": "2024-06-05T10:25:58.863Z"
   },
   {
    "duration": 11,
    "start_time": "2024-06-05T10:25:58.883Z"
   },
   {
    "duration": 12,
    "start_time": "2024-06-05T10:25:58.896Z"
   },
   {
    "duration": 7,
    "start_time": "2024-06-05T10:25:58.909Z"
   },
   {
    "duration": 12,
    "start_time": "2024-06-05T10:25:58.918Z"
   },
   {
    "duration": 18,
    "start_time": "2024-06-05T10:25:58.975Z"
   },
   {
    "duration": 9,
    "start_time": "2024-06-05T10:25:58.997Z"
   },
   {
    "duration": 17,
    "start_time": "2024-06-05T10:25:59.007Z"
   },
   {
    "duration": 18,
    "start_time": "2024-06-05T10:25:59.026Z"
   },
   {
    "duration": 8,
    "start_time": "2024-06-05T10:25:59.045Z"
   },
   {
    "duration": 11,
    "start_time": "2024-06-05T10:25:59.055Z"
   },
   {
    "duration": 8,
    "start_time": "2024-06-05T10:25:59.068Z"
   },
   {
    "duration": 4,
    "start_time": "2024-06-05T10:25:59.078Z"
   },
   {
    "duration": 6,
    "start_time": "2024-06-05T10:25:59.084Z"
   },
   {
    "duration": 8,
    "start_time": "2024-06-05T10:25:59.092Z"
   },
   {
    "duration": 257,
    "start_time": "2024-06-05T10:25:59.102Z"
   },
   {
    "duration": 130,
    "start_time": "2024-06-05T10:25:59.360Z"
   },
   {
    "duration": 294,
    "start_time": "2024-06-05T10:25:59.492Z"
   },
   {
    "duration": 8,
    "start_time": "2024-06-05T10:25:59.788Z"
   },
   {
    "duration": 313,
    "start_time": "2024-06-05T10:25:59.798Z"
   },
   {
    "duration": 9,
    "start_time": "2024-06-05T10:26:00.113Z"
   },
   {
    "duration": 313,
    "start_time": "2024-06-05T10:26:00.124Z"
   },
   {
    "duration": 8,
    "start_time": "2024-06-05T10:26:00.439Z"
   },
   {
    "duration": 190,
    "start_time": "2024-06-05T10:26:00.448Z"
   },
   {
    "duration": 70,
    "start_time": "2024-06-05T10:26:00.640Z"
   },
   {
    "duration": 56,
    "start_time": "2024-06-05T10:26:00.711Z"
   },
   {
    "duration": 155,
    "start_time": "2024-06-05T10:26:00.768Z"
   },
   {
    "duration": 51,
    "start_time": "2024-06-05T10:26:00.925Z"
   },
   {
    "duration": 66,
    "start_time": "2024-06-05T10:26:00.978Z"
   },
   {
    "duration": 74,
    "start_time": "2024-06-05T10:26:01.046Z"
   },
   {
    "duration": 357,
    "start_time": "2024-06-05T10:26:01.122Z"
   },
   {
    "duration": 9,
    "start_time": "2024-06-05T10:26:01.481Z"
   },
   {
    "duration": 109,
    "start_time": "2024-06-05T10:26:01.492Z"
   },
   {
    "duration": 278,
    "start_time": "2024-06-05T10:26:01.604Z"
   },
   {
    "duration": 11,
    "start_time": "2024-06-05T10:26:01.884Z"
   },
   {
    "duration": 34,
    "start_time": "2024-06-05T10:26:01.896Z"
   },
   {
    "duration": 18,
    "start_time": "2024-06-05T10:26:01.932Z"
   },
   {
    "duration": 31,
    "start_time": "2024-06-05T10:26:01.954Z"
   },
   {
    "duration": 69,
    "start_time": "2024-06-05T10:26:01.987Z"
   },
   {
    "duration": 4,
    "start_time": "2024-06-05T10:26:02.057Z"
   },
   {
    "duration": 56,
    "start_time": "2024-06-05T10:26:02.063Z"
   },
   {
    "duration": 37,
    "start_time": "2024-06-05T10:26:02.122Z"
   },
   {
    "duration": 51,
    "start_time": "2024-06-05T10:26:02.161Z"
   },
   {
    "duration": 32,
    "start_time": "2024-06-05T10:26:02.214Z"
   },
   {
    "duration": 30,
    "start_time": "2024-06-05T10:26:02.248Z"
   },
   {
    "duration": 16,
    "start_time": "2024-06-05T10:26:02.280Z"
   },
   {
    "duration": 318,
    "start_time": "2024-06-05T10:26:02.298Z"
   },
   {
    "duration": 298,
    "start_time": "2024-06-05T10:26:02.618Z"
   },
   {
    "duration": 99,
    "start_time": "2024-06-05T10:46:50.654Z"
   },
   {
    "duration": 11,
    "start_time": "2024-06-05T10:48:29.069Z"
   },
   {
    "duration": 89,
    "start_time": "2024-06-05T10:48:44.461Z"
   },
   {
    "duration": 115,
    "start_time": "2024-06-05T10:49:25.393Z"
   },
   {
    "duration": 1132,
    "start_time": "2024-06-05T10:49:41.303Z"
   },
   {
    "duration": 71,
    "start_time": "2024-06-05T10:49:42.437Z"
   },
   {
    "duration": 15,
    "start_time": "2024-06-05T10:49:42.510Z"
   },
   {
    "duration": 13,
    "start_time": "2024-06-05T10:49:42.528Z"
   },
   {
    "duration": 35,
    "start_time": "2024-06-05T10:49:42.543Z"
   },
   {
    "duration": 17,
    "start_time": "2024-06-05T10:49:42.580Z"
   },
   {
    "duration": 7,
    "start_time": "2024-06-05T10:49:42.599Z"
   },
   {
    "duration": 17,
    "start_time": "2024-06-05T10:49:42.607Z"
   },
   {
    "duration": 17,
    "start_time": "2024-06-05T10:49:42.625Z"
   },
   {
    "duration": 6,
    "start_time": "2024-06-05T10:49:42.644Z"
   },
   {
    "duration": 48,
    "start_time": "2024-06-05T10:49:42.652Z"
   },
   {
    "duration": 35,
    "start_time": "2024-06-05T10:49:42.702Z"
   },
   {
    "duration": 23,
    "start_time": "2024-06-05T10:49:42.738Z"
   },
   {
    "duration": 15,
    "start_time": "2024-06-05T10:49:42.763Z"
   },
   {
    "duration": 10,
    "start_time": "2024-06-05T10:49:42.779Z"
   },
   {
    "duration": 12,
    "start_time": "2024-06-05T10:49:42.791Z"
   },
   {
    "duration": 10,
    "start_time": "2024-06-05T10:49:42.805Z"
   },
   {
    "duration": 20,
    "start_time": "2024-06-05T10:49:42.817Z"
   },
   {
    "duration": 210,
    "start_time": "2024-06-05T10:49:42.839Z"
   },
   {
    "duration": 202,
    "start_time": "2024-06-05T10:49:43.051Z"
   },
   {
    "duration": 0,
    "start_time": "2024-06-05T10:49:43.255Z"
   },
   {
    "duration": 0,
    "start_time": "2024-06-05T10:49:43.265Z"
   },
   {
    "duration": 0,
    "start_time": "2024-06-05T10:49:43.267Z"
   },
   {
    "duration": 0,
    "start_time": "2024-06-05T10:49:43.268Z"
   },
   {
    "duration": 0,
    "start_time": "2024-06-05T10:49:43.269Z"
   },
   {
    "duration": 0,
    "start_time": "2024-06-05T10:49:43.270Z"
   },
   {
    "duration": 0,
    "start_time": "2024-06-05T10:49:43.271Z"
   },
   {
    "duration": 0,
    "start_time": "2024-06-05T10:49:43.272Z"
   },
   {
    "duration": 0,
    "start_time": "2024-06-05T10:49:43.273Z"
   },
   {
    "duration": 0,
    "start_time": "2024-06-05T10:49:43.274Z"
   },
   {
    "duration": 0,
    "start_time": "2024-06-05T10:49:43.276Z"
   },
   {
    "duration": 0,
    "start_time": "2024-06-05T10:49:43.277Z"
   },
   {
    "duration": 0,
    "start_time": "2024-06-05T10:49:43.278Z"
   },
   {
    "duration": 0,
    "start_time": "2024-06-05T10:49:43.279Z"
   },
   {
    "duration": 0,
    "start_time": "2024-06-05T10:49:43.280Z"
   },
   {
    "duration": 0,
    "start_time": "2024-06-05T10:49:43.281Z"
   },
   {
    "duration": 0,
    "start_time": "2024-06-05T10:49:43.282Z"
   },
   {
    "duration": 0,
    "start_time": "2024-06-05T10:49:43.284Z"
   },
   {
    "duration": 0,
    "start_time": "2024-06-05T10:49:43.285Z"
   },
   {
    "duration": 0,
    "start_time": "2024-06-05T10:49:43.286Z"
   },
   {
    "duration": 0,
    "start_time": "2024-06-05T10:49:43.287Z"
   },
   {
    "duration": 0,
    "start_time": "2024-06-05T10:49:43.288Z"
   },
   {
    "duration": 0,
    "start_time": "2024-06-05T10:49:43.289Z"
   },
   {
    "duration": 0,
    "start_time": "2024-06-05T10:49:43.290Z"
   },
   {
    "duration": 0,
    "start_time": "2024-06-05T10:49:43.291Z"
   },
   {
    "duration": 0,
    "start_time": "2024-06-05T10:49:43.292Z"
   },
   {
    "duration": 0,
    "start_time": "2024-06-05T10:49:43.293Z"
   },
   {
    "duration": 0,
    "start_time": "2024-06-05T10:49:43.294Z"
   },
   {
    "duration": 0,
    "start_time": "2024-06-05T10:49:43.295Z"
   },
   {
    "duration": 0,
    "start_time": "2024-06-05T10:49:43.296Z"
   },
   {
    "duration": 0,
    "start_time": "2024-06-05T10:49:43.297Z"
   },
   {
    "duration": 132,
    "start_time": "2024-06-05T10:50:37.914Z"
   },
   {
    "duration": 87,
    "start_time": "2024-06-05T10:50:44.478Z"
   },
   {
    "duration": 89,
    "start_time": "2024-06-05T10:51:20.132Z"
   },
   {
    "duration": 136,
    "start_time": "2024-06-05T10:53:47.254Z"
   },
   {
    "duration": 89,
    "start_time": "2024-06-05T10:55:02.504Z"
   },
   {
    "duration": 1196,
    "start_time": "2024-06-05T10:55:21.854Z"
   },
   {
    "duration": 70,
    "start_time": "2024-06-05T10:55:23.052Z"
   },
   {
    "duration": 12,
    "start_time": "2024-06-05T10:55:23.124Z"
   },
   {
    "duration": 23,
    "start_time": "2024-06-05T10:55:23.138Z"
   },
   {
    "duration": 18,
    "start_time": "2024-06-05T10:55:23.164Z"
   },
   {
    "duration": 20,
    "start_time": "2024-06-05T10:55:23.183Z"
   },
   {
    "duration": 12,
    "start_time": "2024-06-05T10:55:23.205Z"
   },
   {
    "duration": 16,
    "start_time": "2024-06-05T10:55:23.219Z"
   },
   {
    "duration": 29,
    "start_time": "2024-06-05T10:55:23.237Z"
   },
   {
    "duration": 6,
    "start_time": "2024-06-05T10:55:23.268Z"
   },
   {
    "duration": 17,
    "start_time": "2024-06-05T10:55:23.276Z"
   },
   {
    "duration": 23,
    "start_time": "2024-06-05T10:55:23.295Z"
   },
   {
    "duration": 25,
    "start_time": "2024-06-05T10:55:23.320Z"
   },
   {
    "duration": 36,
    "start_time": "2024-06-05T10:55:23.347Z"
   },
   {
    "duration": 38,
    "start_time": "2024-06-05T10:55:23.385Z"
   },
   {
    "duration": 35,
    "start_time": "2024-06-05T10:55:23.425Z"
   },
   {
    "duration": 54,
    "start_time": "2024-06-05T10:55:23.462Z"
   },
   {
    "duration": 85,
    "start_time": "2024-06-05T10:55:23.517Z"
   },
   {
    "duration": 223,
    "start_time": "2024-06-05T10:55:23.604Z"
   },
   {
    "duration": 97,
    "start_time": "2024-06-05T10:55:23.828Z"
   },
   {
    "duration": 248,
    "start_time": "2024-06-05T10:55:23.927Z"
   },
   {
    "duration": 7,
    "start_time": "2024-06-05T10:55:24.176Z"
   },
   {
    "duration": 310,
    "start_time": "2024-06-05T10:55:24.184Z"
   },
   {
    "duration": 8,
    "start_time": "2024-06-05T10:55:24.495Z"
   },
   {
    "duration": 321,
    "start_time": "2024-06-05T10:55:24.504Z"
   },
   {
    "duration": 7,
    "start_time": "2024-06-05T10:55:24.826Z"
   },
   {
    "duration": 30,
    "start_time": "2024-06-05T10:55:24.834Z"
   },
   {
    "duration": 18,
    "start_time": "2024-06-05T10:55:24.865Z"
   },
   {
    "duration": 19,
    "start_time": "2024-06-05T10:55:24.885Z"
   },
   {
    "duration": 23,
    "start_time": "2024-06-05T10:55:24.905Z"
   },
   {
    "duration": 26,
    "start_time": "2024-06-05T10:55:24.930Z"
   },
   {
    "duration": 23,
    "start_time": "2024-06-05T10:55:24.958Z"
   },
   {
    "duration": 25,
    "start_time": "2024-06-05T10:55:24.983Z"
   },
   {
    "duration": 305,
    "start_time": "2024-06-05T10:55:25.010Z"
   },
   {
    "duration": 9,
    "start_time": "2024-06-05T10:55:25.317Z"
   },
   {
    "duration": 76,
    "start_time": "2024-06-05T10:55:25.327Z"
   },
   {
    "duration": 225,
    "start_time": "2024-06-05T10:55:25.405Z"
   },
   {
    "duration": 10,
    "start_time": "2024-06-05T10:55:25.632Z"
   },
   {
    "duration": 23,
    "start_time": "2024-06-05T10:55:25.643Z"
   },
   {
    "duration": 4,
    "start_time": "2024-06-05T10:55:25.668Z"
   },
   {
    "duration": 8,
    "start_time": "2024-06-05T10:55:25.676Z"
   },
   {
    "duration": 55,
    "start_time": "2024-06-05T10:55:25.686Z"
   },
   {
    "duration": 23,
    "start_time": "2024-06-05T10:55:25.742Z"
   },
   {
    "duration": 16,
    "start_time": "2024-06-05T10:55:25.767Z"
   },
   {
    "duration": 6,
    "start_time": "2024-06-05T10:55:25.785Z"
   },
   {
    "duration": 32,
    "start_time": "2024-06-05T10:55:25.792Z"
   },
   {
    "duration": 19,
    "start_time": "2024-06-05T10:55:25.826Z"
   },
   {
    "duration": 21,
    "start_time": "2024-06-05T10:55:25.848Z"
   },
   {
    "duration": 16,
    "start_time": "2024-06-05T10:55:25.871Z"
   },
   {
    "duration": 257,
    "start_time": "2024-06-05T10:55:25.888Z"
   },
   {
    "duration": 306,
    "start_time": "2024-06-05T10:55:26.147Z"
   },
   {
    "duration": 108,
    "start_time": "2024-06-05T10:57:20.457Z"
   },
   {
    "duration": 8,
    "start_time": "2024-06-05T10:58:41.393Z"
   },
   {
    "duration": 8,
    "start_time": "2024-06-05T10:58:59.210Z"
   },
   {
    "duration": 102,
    "start_time": "2024-06-05T11:44:08.495Z"
   },
   {
    "duration": 4,
    "start_time": "2024-06-05T11:44:25.092Z"
   },
   {
    "duration": 3,
    "start_time": "2024-06-05T11:45:04.565Z"
   },
   {
    "duration": 4,
    "start_time": "2024-06-05T11:46:02.980Z"
   },
   {
    "duration": 5,
    "start_time": "2024-06-05T11:47:30.614Z"
   },
   {
    "duration": 4,
    "start_time": "2024-06-05T11:47:30.982Z"
   },
   {
    "duration": 5,
    "start_time": "2024-06-05T11:50:11.126Z"
   },
   {
    "duration": 4,
    "start_time": "2024-06-05T11:50:11.512Z"
   },
   {
    "duration": 4,
    "start_time": "2024-06-05T11:50:11.803Z"
   },
   {
    "duration": 29,
    "start_time": "2024-06-05T11:50:12.306Z"
   },
   {
    "duration": 3,
    "start_time": "2024-06-05T11:51:34.429Z"
   },
   {
    "duration": 18,
    "start_time": "2024-06-05T11:53:34.478Z"
   },
   {
    "duration": 8,
    "start_time": "2024-06-05T11:54:24.373Z"
   },
   {
    "duration": 5,
    "start_time": "2024-06-05T11:54:30.163Z"
   },
   {
    "duration": 8,
    "start_time": "2024-06-05T11:54:57.744Z"
   },
   {
    "duration": 4,
    "start_time": "2024-06-05T11:55:20.769Z"
   },
   {
    "duration": 9,
    "start_time": "2024-06-05T11:55:32.209Z"
   },
   {
    "duration": 4,
    "start_time": "2024-06-05T11:55:55.009Z"
   },
   {
    "duration": 10,
    "start_time": "2024-06-05T11:57:41.365Z"
   },
   {
    "duration": 1074,
    "start_time": "2024-06-05T12:04:16.488Z"
   },
   {
    "duration": 69,
    "start_time": "2024-06-05T12:04:17.564Z"
   },
   {
    "duration": 17,
    "start_time": "2024-06-05T12:04:17.635Z"
   },
   {
    "duration": 24,
    "start_time": "2024-06-05T12:04:17.655Z"
   },
   {
    "duration": 13,
    "start_time": "2024-06-05T12:04:17.682Z"
   },
   {
    "duration": 9,
    "start_time": "2024-06-05T12:04:17.697Z"
   },
   {
    "duration": 6,
    "start_time": "2024-06-05T12:04:17.708Z"
   },
   {
    "duration": 11,
    "start_time": "2024-06-05T12:04:17.715Z"
   },
   {
    "duration": 10,
    "start_time": "2024-06-05T12:04:17.728Z"
   },
   {
    "duration": 31,
    "start_time": "2024-06-05T12:04:17.739Z"
   },
   {
    "duration": 23,
    "start_time": "2024-06-05T12:04:17.771Z"
   },
   {
    "duration": 8,
    "start_time": "2024-06-05T12:04:17.796Z"
   },
   {
    "duration": 7,
    "start_time": "2024-06-05T12:04:17.805Z"
   },
   {
    "duration": 5,
    "start_time": "2024-06-05T12:04:17.815Z"
   },
   {
    "duration": 8,
    "start_time": "2024-06-05T12:04:17.822Z"
   },
   {
    "duration": 6,
    "start_time": "2024-06-05T12:04:17.832Z"
   },
   {
    "duration": 26,
    "start_time": "2024-06-05T12:04:17.839Z"
   },
   {
    "duration": 7,
    "start_time": "2024-06-05T12:04:17.867Z"
   },
   {
    "duration": 213,
    "start_time": "2024-06-05T12:04:17.876Z"
   },
   {
    "duration": 101,
    "start_time": "2024-06-05T12:04:18.090Z"
   },
   {
    "duration": 235,
    "start_time": "2024-06-05T12:04:18.193Z"
   },
   {
    "duration": 7,
    "start_time": "2024-06-05T12:04:18.430Z"
   },
   {
    "duration": 285,
    "start_time": "2024-06-05T12:04:18.438Z"
   },
   {
    "duration": 7,
    "start_time": "2024-06-05T12:04:18.725Z"
   },
   {
    "duration": 293,
    "start_time": "2024-06-05T12:04:18.734Z"
   },
   {
    "duration": 5,
    "start_time": "2024-06-05T12:04:19.029Z"
   },
   {
    "duration": 17,
    "start_time": "2024-06-05T12:04:19.036Z"
   },
   {
    "duration": 10,
    "start_time": "2024-06-05T12:04:19.055Z"
   },
   {
    "duration": 3,
    "start_time": "2024-06-05T12:04:19.067Z"
   },
   {
    "duration": 8,
    "start_time": "2024-06-05T12:04:19.071Z"
   },
   {
    "duration": 14,
    "start_time": "2024-06-05T12:04:19.080Z"
   },
   {
    "duration": 16,
    "start_time": "2024-06-05T12:04:19.095Z"
   },
   {
    "duration": 3,
    "start_time": "2024-06-05T12:04:19.113Z"
   },
   {
    "duration": 5,
    "start_time": "2024-06-05T12:04:19.117Z"
   },
   {
    "duration": 43,
    "start_time": "2024-06-05T12:04:19.123Z"
   },
   {
    "duration": 9,
    "start_time": "2024-06-05T12:04:19.167Z"
   },
   {
    "duration": 16,
    "start_time": "2024-06-05T12:04:19.177Z"
   },
   {
    "duration": 6,
    "start_time": "2024-06-05T12:04:19.194Z"
   },
   {
    "duration": 20,
    "start_time": "2024-06-05T12:04:19.201Z"
   },
   {
    "duration": 308,
    "start_time": "2024-06-05T12:04:19.223Z"
   },
   {
    "duration": 8,
    "start_time": "2024-06-05T12:04:19.535Z"
   },
   {
    "duration": 21,
    "start_time": "2024-06-05T12:04:19.545Z"
   },
   {
    "duration": 255,
    "start_time": "2024-06-05T12:04:19.567Z"
   },
   {
    "duration": 10,
    "start_time": "2024-06-05T12:04:19.824Z"
   },
   {
    "duration": 14,
    "start_time": "2024-06-05T12:04:19.836Z"
   },
   {
    "duration": 5,
    "start_time": "2024-06-05T12:04:19.852Z"
   },
   {
    "duration": 11,
    "start_time": "2024-06-05T12:04:19.858Z"
   },
   {
    "duration": 41,
    "start_time": "2024-06-05T12:04:19.871Z"
   },
   {
    "duration": 3,
    "start_time": "2024-06-05T12:04:19.913Z"
   },
   {
    "duration": 17,
    "start_time": "2024-06-05T12:04:19.917Z"
   },
   {
    "duration": 5,
    "start_time": "2024-06-05T12:04:19.935Z"
   },
   {
    "duration": 34,
    "start_time": "2024-06-05T12:04:19.941Z"
   },
   {
    "duration": 5,
    "start_time": "2024-06-05T12:04:19.977Z"
   },
   {
    "duration": 20,
    "start_time": "2024-06-05T12:04:19.983Z"
   },
   {
    "duration": 28,
    "start_time": "2024-06-05T12:04:20.005Z"
   },
   {
    "duration": 286,
    "start_time": "2024-06-05T12:04:20.034Z"
   },
   {
    "duration": 244,
    "start_time": "2024-06-05T12:04:20.322Z"
   },
   {
    "duration": 1102,
    "start_time": "2024-06-05T12:05:24.936Z"
   },
   {
    "duration": 65,
    "start_time": "2024-06-05T12:05:26.040Z"
   },
   {
    "duration": 13,
    "start_time": "2024-06-05T12:05:26.107Z"
   },
   {
    "duration": 21,
    "start_time": "2024-06-05T12:05:26.121Z"
   },
   {
    "duration": 23,
    "start_time": "2024-06-05T12:05:26.144Z"
   },
   {
    "duration": 11,
    "start_time": "2024-06-05T12:05:26.169Z"
   },
   {
    "duration": 7,
    "start_time": "2024-06-05T12:05:26.181Z"
   },
   {
    "duration": 13,
    "start_time": "2024-06-05T12:05:26.189Z"
   },
   {
    "duration": 11,
    "start_time": "2024-06-05T12:05:26.203Z"
   },
   {
    "duration": 3,
    "start_time": "2024-06-05T12:05:26.216Z"
   },
   {
    "duration": 6,
    "start_time": "2024-06-05T12:05:26.221Z"
   },
   {
    "duration": 6,
    "start_time": "2024-06-05T12:05:26.228Z"
   },
   {
    "duration": 33,
    "start_time": "2024-06-05T12:05:26.235Z"
   },
   {
    "duration": 6,
    "start_time": "2024-06-05T12:05:26.270Z"
   },
   {
    "duration": 8,
    "start_time": "2024-06-05T12:05:26.278Z"
   },
   {
    "duration": 5,
    "start_time": "2024-06-05T12:05:26.288Z"
   },
   {
    "duration": 5,
    "start_time": "2024-06-05T12:05:26.294Z"
   },
   {
    "duration": 5,
    "start_time": "2024-06-05T12:05:26.301Z"
   },
   {
    "duration": 222,
    "start_time": "2024-06-05T12:05:26.308Z"
   },
   {
    "duration": 90,
    "start_time": "2024-06-05T12:05:26.532Z"
   },
   {
    "duration": 224,
    "start_time": "2024-06-05T12:05:26.624Z"
   },
   {
    "duration": 7,
    "start_time": "2024-06-05T12:05:26.850Z"
   },
   {
    "duration": 271,
    "start_time": "2024-06-05T12:05:26.864Z"
   },
   {
    "duration": 7,
    "start_time": "2024-06-05T12:05:27.136Z"
   },
   {
    "duration": 280,
    "start_time": "2024-06-05T12:05:27.145Z"
   },
   {
    "duration": 7,
    "start_time": "2024-06-05T12:05:27.427Z"
   },
   {
    "duration": 18,
    "start_time": "2024-06-05T12:05:27.435Z"
   },
   {
    "duration": 3,
    "start_time": "2024-06-05T12:05:27.464Z"
   },
   {
    "duration": 13,
    "start_time": "2024-06-05T12:05:27.469Z"
   },
   {
    "duration": 17,
    "start_time": "2024-06-05T12:05:27.483Z"
   },
   {
    "duration": 17,
    "start_time": "2024-06-05T12:05:27.502Z"
   },
   {
    "duration": 17,
    "start_time": "2024-06-05T12:05:27.521Z"
   },
   {
    "duration": 4,
    "start_time": "2024-06-05T12:05:27.539Z"
   },
   {
    "duration": 5,
    "start_time": "2024-06-05T12:05:27.568Z"
   },
   {
    "duration": 99,
    "start_time": "2024-06-05T12:05:27.575Z"
   },
   {
    "duration": 9,
    "start_time": "2024-06-05T12:05:27.675Z"
   },
   {
    "duration": 18,
    "start_time": "2024-06-05T12:05:27.686Z"
   },
   {
    "duration": 6,
    "start_time": "2024-06-05T12:05:27.706Z"
   },
   {
    "duration": 20,
    "start_time": "2024-06-05T12:05:27.713Z"
   },
   {
    "duration": 307,
    "start_time": "2024-06-05T12:05:27.735Z"
   },
   {
    "duration": 8,
    "start_time": "2024-06-05T12:05:28.044Z"
   },
   {
    "duration": 16,
    "start_time": "2024-06-05T12:05:28.054Z"
   },
   {
    "duration": 223,
    "start_time": "2024-06-05T12:05:28.071Z"
   },
   {
    "duration": 9,
    "start_time": "2024-06-05T12:05:28.296Z"
   },
   {
    "duration": 8,
    "start_time": "2024-06-05T12:05:28.306Z"
   },
   {
    "duration": 96,
    "start_time": "2024-06-05T12:05:28.315Z"
   },
   {
    "duration": 5,
    "start_time": "2024-06-05T12:05:28.413Z"
   },
   {
    "duration": 38,
    "start_time": "2024-06-05T12:05:28.420Z"
   },
   {
    "duration": 3,
    "start_time": "2024-06-05T12:05:28.459Z"
   },
   {
    "duration": 21,
    "start_time": "2024-06-05T12:05:28.463Z"
   },
   {
    "duration": 5,
    "start_time": "2024-06-05T12:05:28.485Z"
   },
   {
    "duration": 14,
    "start_time": "2024-06-05T12:05:28.491Z"
   },
   {
    "duration": 6,
    "start_time": "2024-06-05T12:05:28.506Z"
   },
   {
    "duration": 13,
    "start_time": "2024-06-05T12:05:28.513Z"
   },
   {
    "duration": 22,
    "start_time": "2024-06-05T12:05:28.527Z"
   },
   {
    "duration": 265,
    "start_time": "2024-06-05T12:05:28.550Z"
   },
   {
    "duration": 249,
    "start_time": "2024-06-05T12:05:28.816Z"
   },
   {
    "duration": 132,
    "start_time": "2024-06-05T12:06:28.457Z"
   },
   {
    "duration": 35,
    "start_time": "2024-06-05T12:06:46.133Z"
   },
   {
    "duration": 860,
    "start_time": "2024-06-05T12:08:27.495Z"
   },
   {
    "duration": 3,
    "start_time": "2024-06-05T12:08:50.639Z"
   },
   {
    "duration": 16,
    "start_time": "2024-06-05T12:08:51.197Z"
   },
   {
    "duration": 1137,
    "start_time": "2024-06-05T12:09:00.993Z"
   },
   {
    "duration": 68,
    "start_time": "2024-06-05T12:09:02.132Z"
   },
   {
    "duration": 13,
    "start_time": "2024-06-05T12:09:02.201Z"
   },
   {
    "duration": 30,
    "start_time": "2024-06-05T12:09:02.216Z"
   },
   {
    "duration": 18,
    "start_time": "2024-06-05T12:09:02.248Z"
   },
   {
    "duration": 10,
    "start_time": "2024-06-05T12:09:02.268Z"
   },
   {
    "duration": 17,
    "start_time": "2024-06-05T12:09:02.280Z"
   },
   {
    "duration": 28,
    "start_time": "2024-06-05T12:09:02.298Z"
   },
   {
    "duration": 14,
    "start_time": "2024-06-05T12:09:02.328Z"
   },
   {
    "duration": 5,
    "start_time": "2024-06-05T12:09:02.343Z"
   },
   {
    "duration": 23,
    "start_time": "2024-06-05T12:09:02.349Z"
   },
   {
    "duration": 14,
    "start_time": "2024-06-05T12:09:02.373Z"
   },
   {
    "duration": 15,
    "start_time": "2024-06-05T12:09:02.388Z"
   },
   {
    "duration": 11,
    "start_time": "2024-06-05T12:09:02.406Z"
   },
   {
    "duration": 8,
    "start_time": "2024-06-05T12:09:02.418Z"
   },
   {
    "duration": 13,
    "start_time": "2024-06-05T12:09:02.427Z"
   },
   {
    "duration": 17,
    "start_time": "2024-06-05T12:09:02.442Z"
   },
   {
    "duration": 24,
    "start_time": "2024-06-05T12:09:02.461Z"
   },
   {
    "duration": 261,
    "start_time": "2024-06-05T12:09:02.487Z"
   },
   {
    "duration": 104,
    "start_time": "2024-06-05T12:09:02.752Z"
   },
   {
    "duration": 224,
    "start_time": "2024-06-05T12:09:02.858Z"
   },
   {
    "duration": 9,
    "start_time": "2024-06-05T12:09:03.084Z"
   },
   {
    "duration": 267,
    "start_time": "2024-06-05T12:09:03.094Z"
   },
   {
    "duration": 7,
    "start_time": "2024-06-05T12:09:03.364Z"
   },
   {
    "duration": 256,
    "start_time": "2024-06-05T12:09:03.372Z"
   },
   {
    "duration": 6,
    "start_time": "2024-06-05T12:09:03.630Z"
   },
   {
    "duration": 74,
    "start_time": "2024-06-05T12:09:03.638Z"
   },
   {
    "duration": 4,
    "start_time": "2024-06-05T12:09:03.713Z"
   },
   {
    "duration": 10,
    "start_time": "2024-06-05T12:09:03.718Z"
   },
   {
    "duration": 4,
    "start_time": "2024-06-05T12:09:03.730Z"
   },
   {
    "duration": 18,
    "start_time": "2024-06-05T12:09:03.735Z"
   },
   {
    "duration": 65,
    "start_time": "2024-06-05T12:09:03.754Z"
   },
   {
    "duration": 22,
    "start_time": "2024-06-05T12:09:03.820Z"
   },
   {
    "duration": 11,
    "start_time": "2024-06-05T12:09:03.843Z"
   },
   {
    "duration": 19,
    "start_time": "2024-06-05T12:09:03.855Z"
   },
   {
    "duration": 12,
    "start_time": "2024-06-05T12:09:03.875Z"
   },
   {
    "duration": 28,
    "start_time": "2024-06-05T12:09:03.888Z"
   },
   {
    "duration": 6,
    "start_time": "2024-06-05T12:09:03.918Z"
   },
   {
    "duration": 19,
    "start_time": "2024-06-05T12:09:03.925Z"
   },
   {
    "duration": 305,
    "start_time": "2024-06-05T12:09:03.946Z"
   },
   {
    "duration": 14,
    "start_time": "2024-06-05T12:09:04.255Z"
   },
   {
    "duration": 8,
    "start_time": "2024-06-05T12:09:04.270Z"
   },
   {
    "duration": 237,
    "start_time": "2024-06-05T12:09:04.279Z"
   },
   {
    "duration": 8,
    "start_time": "2024-06-05T12:09:04.517Z"
   },
   {
    "duration": 7,
    "start_time": "2024-06-05T12:09:04.526Z"
   },
   {
    "duration": 4,
    "start_time": "2024-06-05T12:09:04.534Z"
   },
   {
    "duration": 26,
    "start_time": "2024-06-05T12:09:04.539Z"
   },
   {
    "duration": 764,
    "start_time": "2024-06-05T12:09:04.566Z"
   },
   {
    "duration": 3,
    "start_time": "2024-06-05T12:09:05.331Z"
   },
   {
    "duration": 20,
    "start_time": "2024-06-05T12:09:05.336Z"
   },
   {
    "duration": 13,
    "start_time": "2024-06-05T12:09:05.357Z"
   },
   {
    "duration": 19,
    "start_time": "2024-06-05T12:09:05.371Z"
   },
   {
    "duration": 6,
    "start_time": "2024-06-05T12:09:05.391Z"
   },
   {
    "duration": 11,
    "start_time": "2024-06-05T12:09:05.398Z"
   },
   {
    "duration": 11,
    "start_time": "2024-06-05T12:09:05.411Z"
   },
   {
    "duration": 296,
    "start_time": "2024-06-05T12:09:05.423Z"
   },
   {
    "duration": 269,
    "start_time": "2024-06-05T12:09:05.720Z"
   },
   {
    "duration": 68,
    "start_time": "2024-06-05T12:21:36.256Z"
   },
   {
    "duration": 6,
    "start_time": "2024-06-05T12:23:36.947Z"
   },
   {
    "duration": 7,
    "start_time": "2024-06-05T12:31:47.212Z"
   },
   {
    "duration": 69,
    "start_time": "2024-06-05T12:40:57.276Z"
   },
   {
    "duration": 7,
    "start_time": "2024-06-05T13:01:57.601Z"
   },
   {
    "duration": 1072,
    "start_time": "2024-06-05T13:34:34.625Z"
   },
   {
    "duration": 69,
    "start_time": "2024-06-05T13:34:35.698Z"
   },
   {
    "duration": 16,
    "start_time": "2024-06-05T13:34:35.768Z"
   },
   {
    "duration": 12,
    "start_time": "2024-06-05T13:34:35.787Z"
   },
   {
    "duration": 19,
    "start_time": "2024-06-05T13:34:35.801Z"
   },
   {
    "duration": 35,
    "start_time": "2024-06-05T13:34:35.822Z"
   },
   {
    "duration": 13,
    "start_time": "2024-06-05T13:34:35.858Z"
   },
   {
    "duration": 26,
    "start_time": "2024-06-05T13:34:35.873Z"
   },
   {
    "duration": 30,
    "start_time": "2024-06-05T13:34:35.900Z"
   },
   {
    "duration": 3,
    "start_time": "2024-06-05T13:34:35.933Z"
   },
   {
    "duration": 67,
    "start_time": "2024-06-05T13:34:35.937Z"
   },
   {
    "duration": 78,
    "start_time": "2024-06-05T13:34:36.005Z"
   },
   {
    "duration": 12,
    "start_time": "2024-06-05T13:34:36.085Z"
   },
   {
    "duration": 21,
    "start_time": "2024-06-05T13:34:36.098Z"
   },
   {
    "duration": 18,
    "start_time": "2024-06-05T13:34:36.121Z"
   },
   {
    "duration": 5,
    "start_time": "2024-06-05T13:34:36.141Z"
   },
   {
    "duration": 18,
    "start_time": "2024-06-05T13:34:36.147Z"
   },
   {
    "duration": 8,
    "start_time": "2024-06-05T13:34:36.167Z"
   },
   {
    "duration": 205,
    "start_time": "2024-06-05T13:34:36.177Z"
   },
   {
    "duration": 87,
    "start_time": "2024-06-05T13:34:36.384Z"
   },
   {
    "duration": 229,
    "start_time": "2024-06-05T13:34:36.472Z"
   },
   {
    "duration": 8,
    "start_time": "2024-06-05T13:34:36.703Z"
   },
   {
    "duration": 279,
    "start_time": "2024-06-05T13:34:36.712Z"
   },
   {
    "duration": 7,
    "start_time": "2024-06-05T13:34:36.993Z"
   },
   {
    "duration": 288,
    "start_time": "2024-06-05T13:34:37.001Z"
   },
   {
    "duration": 7,
    "start_time": "2024-06-05T13:34:37.291Z"
   },
   {
    "duration": 15,
    "start_time": "2024-06-05T13:34:37.300Z"
   },
   {
    "duration": 6,
    "start_time": "2024-06-05T13:34:37.319Z"
   },
   {
    "duration": 19,
    "start_time": "2024-06-05T13:34:37.327Z"
   },
   {
    "duration": 43,
    "start_time": "2024-06-05T13:34:37.347Z"
   },
   {
    "duration": 18,
    "start_time": "2024-06-05T13:34:37.392Z"
   },
   {
    "duration": 18,
    "start_time": "2024-06-05T13:34:37.412Z"
   },
   {
    "duration": 5,
    "start_time": "2024-06-05T13:34:37.432Z"
   },
   {
    "duration": 6,
    "start_time": "2024-06-05T13:34:37.438Z"
   },
   {
    "duration": 20,
    "start_time": "2024-06-05T13:34:37.445Z"
   },
   {
    "duration": 10,
    "start_time": "2024-06-05T13:34:37.466Z"
   },
   {
    "duration": 19,
    "start_time": "2024-06-05T13:34:37.477Z"
   },
   {
    "duration": 24,
    "start_time": "2024-06-05T13:34:37.497Z"
   },
   {
    "duration": 21,
    "start_time": "2024-06-05T13:34:37.523Z"
   },
   {
    "duration": 327,
    "start_time": "2024-06-05T13:34:37.545Z"
   },
   {
    "duration": 10,
    "start_time": "2024-06-05T13:34:37.874Z"
   },
   {
    "duration": 21,
    "start_time": "2024-06-05T13:34:37.886Z"
   },
   {
    "duration": 207,
    "start_time": "2024-06-05T13:34:37.909Z"
   },
   {
    "duration": 9,
    "start_time": "2024-06-05T13:34:38.117Z"
   },
   {
    "duration": 9,
    "start_time": "2024-06-05T13:34:38.127Z"
   },
   {
    "duration": 3,
    "start_time": "2024-06-05T13:34:38.138Z"
   },
   {
    "duration": 25,
    "start_time": "2024-06-05T13:34:38.143Z"
   },
   {
    "duration": 821,
    "start_time": "2024-06-05T13:34:38.169Z"
   },
   {
    "duration": 6,
    "start_time": "2024-06-05T13:34:38.992Z"
   },
   {
    "duration": 18,
    "start_time": "2024-06-05T13:34:38.999Z"
   },
   {
    "duration": 5,
    "start_time": "2024-06-05T13:34:39.018Z"
   },
   {
    "duration": 17,
    "start_time": "2024-06-05T13:34:39.025Z"
   },
   {
    "duration": 25,
    "start_time": "2024-06-05T13:34:39.043Z"
   },
   {
    "duration": 9,
    "start_time": "2024-06-05T13:34:39.069Z"
   },
   {
    "duration": 18,
    "start_time": "2024-06-05T13:34:39.079Z"
   },
   {
    "duration": 311,
    "start_time": "2024-06-05T13:34:39.098Z"
   },
   {
    "duration": 248,
    "start_time": "2024-06-05T13:34:39.410Z"
   },
   {
    "duration": 60,
    "start_time": "2024-06-05T13:39:39.307Z"
   },
   {
    "duration": 60,
    "start_time": "2024-06-05T13:40:41.744Z"
   },
   {
    "duration": 1132,
    "start_time": "2024-06-05T13:47:16.291Z"
   },
   {
    "duration": 69,
    "start_time": "2024-06-05T13:47:17.425Z"
   },
   {
    "duration": 15,
    "start_time": "2024-06-05T13:47:17.495Z"
   },
   {
    "duration": 27,
    "start_time": "2024-06-05T13:47:17.512Z"
   },
   {
    "duration": 18,
    "start_time": "2024-06-05T13:47:17.541Z"
   },
   {
    "duration": 13,
    "start_time": "2024-06-05T13:47:17.560Z"
   },
   {
    "duration": 17,
    "start_time": "2024-06-05T13:47:17.575Z"
   },
   {
    "duration": 10,
    "start_time": "2024-06-05T13:47:17.594Z"
   },
   {
    "duration": 8,
    "start_time": "2024-06-05T13:47:17.605Z"
   },
   {
    "duration": 10,
    "start_time": "2024-06-05T13:47:17.615Z"
   },
   {
    "duration": 10,
    "start_time": "2024-06-05T13:47:17.627Z"
   },
   {
    "duration": 15,
    "start_time": "2024-06-05T13:47:17.639Z"
   },
   {
    "duration": 20,
    "start_time": "2024-06-05T13:47:17.655Z"
   },
   {
    "duration": 18,
    "start_time": "2024-06-05T13:47:17.677Z"
   },
   {
    "duration": 7,
    "start_time": "2024-06-05T13:47:17.696Z"
   },
   {
    "duration": 5,
    "start_time": "2024-06-05T13:47:17.704Z"
   },
   {
    "duration": 6,
    "start_time": "2024-06-05T13:47:17.710Z"
   },
   {
    "duration": 7,
    "start_time": "2024-06-05T13:47:17.718Z"
   },
   {
    "duration": 207,
    "start_time": "2024-06-05T13:47:17.726Z"
   },
   {
    "duration": 104,
    "start_time": "2024-06-05T13:47:17.935Z"
   },
   {
    "duration": 275,
    "start_time": "2024-06-05T13:47:18.041Z"
   },
   {
    "duration": 8,
    "start_time": "2024-06-05T13:47:18.317Z"
   },
   {
    "duration": 342,
    "start_time": "2024-06-05T13:47:18.327Z"
   },
   {
    "duration": 16,
    "start_time": "2024-06-05T13:47:18.671Z"
   },
   {
    "duration": 307,
    "start_time": "2024-06-05T13:47:18.689Z"
   },
   {
    "duration": 11,
    "start_time": "2024-06-05T13:47:18.998Z"
   },
   {
    "duration": 14,
    "start_time": "2024-06-05T13:47:19.011Z"
   },
   {
    "duration": 4,
    "start_time": "2024-06-05T13:47:19.028Z"
   },
   {
    "duration": 6,
    "start_time": "2024-06-05T13:47:19.033Z"
   },
   {
    "duration": 27,
    "start_time": "2024-06-05T13:47:19.040Z"
   },
   {
    "duration": 20,
    "start_time": "2024-06-05T13:47:19.070Z"
   },
   {
    "duration": 16,
    "start_time": "2024-06-05T13:47:19.092Z"
   },
   {
    "duration": 4,
    "start_time": "2024-06-05T13:47:19.110Z"
   },
   {
    "duration": 8,
    "start_time": "2024-06-05T13:47:19.116Z"
   },
   {
    "duration": 39,
    "start_time": "2024-06-05T13:47:19.126Z"
   },
   {
    "duration": 9,
    "start_time": "2024-06-05T13:47:19.167Z"
   },
   {
    "duration": 22,
    "start_time": "2024-06-05T13:47:19.177Z"
   },
   {
    "duration": 16,
    "start_time": "2024-06-05T13:47:19.200Z"
   },
   {
    "duration": 19,
    "start_time": "2024-06-05T13:47:19.218Z"
   },
   {
    "duration": 287,
    "start_time": "2024-06-05T13:47:19.238Z"
   },
   {
    "duration": 8,
    "start_time": "2024-06-05T13:47:19.527Z"
   },
   {
    "duration": 7,
    "start_time": "2024-06-05T13:47:19.537Z"
   },
   {
    "duration": 282,
    "start_time": "2024-06-05T13:47:19.545Z"
   },
   {
    "duration": 9,
    "start_time": "2024-06-05T13:47:19.829Z"
   },
   {
    "duration": 8,
    "start_time": "2024-06-05T13:47:19.840Z"
   },
   {
    "duration": 13,
    "start_time": "2024-06-05T13:47:19.864Z"
   },
   {
    "duration": 28,
    "start_time": "2024-06-05T13:47:19.879Z"
   },
   {
    "duration": 835,
    "start_time": "2024-06-05T13:47:19.909Z"
   },
   {
    "duration": 3,
    "start_time": "2024-06-05T13:47:20.745Z"
   },
   {
    "duration": 27,
    "start_time": "2024-06-05T13:47:20.750Z"
   },
   {
    "duration": 24,
    "start_time": "2024-06-05T13:47:20.779Z"
   },
   {
    "duration": 29,
    "start_time": "2024-06-05T13:47:20.805Z"
   },
   {
    "duration": 14,
    "start_time": "2024-06-05T13:47:20.836Z"
   },
   {
    "duration": 10,
    "start_time": "2024-06-05T13:47:20.852Z"
   },
   {
    "duration": 22,
    "start_time": "2024-06-05T13:47:20.863Z"
   },
   {
    "duration": 357,
    "start_time": "2024-06-05T13:47:20.887Z"
   },
   {
    "duration": 295,
    "start_time": "2024-06-05T13:47:21.245Z"
   },
   {
    "duration": 1147,
    "start_time": "2024-06-05T14:21:37.915Z"
   },
   {
    "duration": 73,
    "start_time": "2024-06-05T14:21:39.064Z"
   },
   {
    "duration": 14,
    "start_time": "2024-06-05T14:21:39.141Z"
   },
   {
    "duration": 24,
    "start_time": "2024-06-05T14:21:39.156Z"
   },
   {
    "duration": 21,
    "start_time": "2024-06-05T14:21:39.181Z"
   },
   {
    "duration": 20,
    "start_time": "2024-06-05T14:21:39.204Z"
   },
   {
    "duration": 7,
    "start_time": "2024-06-05T14:21:39.226Z"
   },
   {
    "duration": 13,
    "start_time": "2024-06-05T14:21:39.235Z"
   },
   {
    "duration": 10,
    "start_time": "2024-06-05T14:21:39.255Z"
   },
   {
    "duration": 8,
    "start_time": "2024-06-05T14:21:39.266Z"
   },
   {
    "duration": 24,
    "start_time": "2024-06-05T14:21:39.276Z"
   },
   {
    "duration": 12,
    "start_time": "2024-06-05T14:21:39.301Z"
   },
   {
    "duration": 10,
    "start_time": "2024-06-05T14:21:39.314Z"
   },
   {
    "duration": 14,
    "start_time": "2024-06-05T14:21:39.326Z"
   },
   {
    "duration": 15,
    "start_time": "2024-06-05T14:21:39.341Z"
   },
   {
    "duration": 18,
    "start_time": "2024-06-05T14:21:39.358Z"
   },
   {
    "duration": 9,
    "start_time": "2024-06-05T14:21:39.378Z"
   },
   {
    "duration": 6,
    "start_time": "2024-06-05T14:21:39.389Z"
   },
   {
    "duration": 249,
    "start_time": "2024-06-05T14:21:39.397Z"
   },
   {
    "duration": 107,
    "start_time": "2024-06-05T14:21:39.648Z"
   },
   {
    "duration": 272,
    "start_time": "2024-06-05T14:21:39.757Z"
   },
   {
    "duration": 9,
    "start_time": "2024-06-05T14:21:40.031Z"
   },
   {
    "duration": 380,
    "start_time": "2024-06-05T14:21:40.041Z"
   },
   {
    "duration": 8,
    "start_time": "2024-06-05T14:21:40.423Z"
   },
   {
    "duration": 335,
    "start_time": "2024-06-05T14:21:40.432Z"
   },
   {
    "duration": 7,
    "start_time": "2024-06-05T14:21:40.769Z"
   },
   {
    "duration": 15,
    "start_time": "2024-06-05T14:21:40.780Z"
   },
   {
    "duration": 17,
    "start_time": "2024-06-05T14:21:40.797Z"
   },
   {
    "duration": 4,
    "start_time": "2024-06-05T14:21:40.815Z"
   },
   {
    "duration": 5,
    "start_time": "2024-06-05T14:21:40.821Z"
   },
   {
    "duration": 42,
    "start_time": "2024-06-05T14:21:40.827Z"
   },
   {
    "duration": 21,
    "start_time": "2024-06-05T14:21:40.871Z"
   },
   {
    "duration": 4,
    "start_time": "2024-06-05T14:21:40.894Z"
   },
   {
    "duration": 17,
    "start_time": "2024-06-05T14:21:40.900Z"
   },
   {
    "duration": 11,
    "start_time": "2024-06-05T14:21:40.919Z"
   },
   {
    "duration": 9,
    "start_time": "2024-06-05T14:21:40.956Z"
   },
   {
    "duration": 67,
    "start_time": "2024-06-05T14:21:40.967Z"
   },
   {
    "duration": 12,
    "start_time": "2024-06-05T14:21:41.036Z"
   },
   {
    "duration": 27,
    "start_time": "2024-06-05T14:21:41.050Z"
   },
   {
    "duration": 324,
    "start_time": "2024-06-05T14:21:41.079Z"
   },
   {
    "duration": 9,
    "start_time": "2024-06-05T14:21:41.405Z"
   },
   {
    "duration": 13,
    "start_time": "2024-06-05T14:21:41.416Z"
   },
   {
    "duration": 269,
    "start_time": "2024-06-05T14:21:41.431Z"
   },
   {
    "duration": 9,
    "start_time": "2024-06-05T14:21:41.702Z"
   },
   {
    "duration": 9,
    "start_time": "2024-06-05T14:21:41.713Z"
   },
   {
    "duration": 4,
    "start_time": "2024-06-05T14:21:41.724Z"
   },
   {
    "duration": 28,
    "start_time": "2024-06-05T14:21:41.730Z"
   },
   {
    "duration": 1002,
    "start_time": "2024-06-05T14:21:41.760Z"
   },
   {
    "duration": 4,
    "start_time": "2024-06-05T14:21:42.765Z"
   },
   {
    "duration": 21,
    "start_time": "2024-06-05T14:21:42.771Z"
   },
   {
    "duration": 6,
    "start_time": "2024-06-05T14:21:42.793Z"
   },
   {
    "duration": 17,
    "start_time": "2024-06-05T14:21:42.801Z"
   },
   {
    "duration": 36,
    "start_time": "2024-06-05T14:21:42.820Z"
   },
   {
    "duration": 8,
    "start_time": "2024-06-05T14:21:42.858Z"
   },
   {
    "duration": 10,
    "start_time": "2024-06-05T14:21:42.868Z"
   },
   {
    "duration": 342,
    "start_time": "2024-06-05T14:21:42.880Z"
   },
   {
    "duration": 325,
    "start_time": "2024-06-05T14:21:43.223Z"
   },
   {
    "duration": 84,
    "start_time": "2024-06-06T04:17:13.801Z"
   },
   {
    "duration": 51,
    "start_time": "2024-06-06T05:09:53.458Z"
   },
   {
    "duration": 1064,
    "start_time": "2024-06-06T05:10:08.414Z"
   },
   {
    "duration": 301,
    "start_time": "2024-06-06T05:10:09.479Z"
   },
   {
    "duration": 11,
    "start_time": "2024-06-06T05:10:09.782Z"
   },
   {
    "duration": 9,
    "start_time": "2024-06-06T05:10:09.794Z"
   },
   {
    "duration": 25,
    "start_time": "2024-06-06T05:10:09.804Z"
   },
   {
    "duration": 12,
    "start_time": "2024-06-06T05:10:09.831Z"
   },
   {
    "duration": 9,
    "start_time": "2024-06-06T05:10:09.844Z"
   },
   {
    "duration": 14,
    "start_time": "2024-06-06T05:10:09.854Z"
   },
   {
    "duration": 8,
    "start_time": "2024-06-06T05:10:09.869Z"
   },
   {
    "duration": 2,
    "start_time": "2024-06-06T05:10:09.880Z"
   },
   {
    "duration": 8,
    "start_time": "2024-06-06T05:10:09.884Z"
   },
   {
    "duration": 12,
    "start_time": "2024-06-06T05:10:09.894Z"
   },
   {
    "duration": 6,
    "start_time": "2024-06-06T05:10:09.907Z"
   },
   {
    "duration": 13,
    "start_time": "2024-06-06T05:10:09.915Z"
   },
   {
    "duration": 15,
    "start_time": "2024-06-06T05:10:09.929Z"
   },
   {
    "duration": 4,
    "start_time": "2024-06-06T05:10:09.945Z"
   },
   {
    "duration": 4,
    "start_time": "2024-06-06T05:10:09.950Z"
   },
   {
    "duration": 5,
    "start_time": "2024-06-06T05:10:09.955Z"
   },
   {
    "duration": 181,
    "start_time": "2024-06-06T05:10:09.961Z"
   },
   {
    "duration": 76,
    "start_time": "2024-06-06T05:10:10.144Z"
   },
   {
    "duration": 211,
    "start_time": "2024-06-06T05:10:10.221Z"
   },
   {
    "duration": 7,
    "start_time": "2024-06-06T05:10:10.433Z"
   },
   {
    "duration": 265,
    "start_time": "2024-06-06T05:10:10.441Z"
   },
   {
    "duration": 6,
    "start_time": "2024-06-06T05:10:10.707Z"
   },
   {
    "duration": 267,
    "start_time": "2024-06-06T05:10:10.714Z"
   },
   {
    "duration": 7,
    "start_time": "2024-06-06T05:10:10.982Z"
   },
   {
    "duration": 16,
    "start_time": "2024-06-06T05:10:10.991Z"
   },
   {
    "duration": 4,
    "start_time": "2024-06-06T05:10:11.012Z"
   },
   {
    "duration": 7,
    "start_time": "2024-06-06T05:10:11.017Z"
   },
   {
    "duration": 5,
    "start_time": "2024-06-06T05:10:11.025Z"
   },
   {
    "duration": 14,
    "start_time": "2024-06-06T05:10:11.031Z"
   },
   {
    "duration": 40,
    "start_time": "2024-06-06T05:10:11.046Z"
   },
   {
    "duration": 4,
    "start_time": "2024-06-06T05:10:11.087Z"
   },
   {
    "duration": 4,
    "start_time": "2024-06-06T05:10:11.092Z"
   },
   {
    "duration": 9,
    "start_time": "2024-06-06T05:10:11.098Z"
   },
   {
    "duration": 13,
    "start_time": "2024-06-06T05:10:11.109Z"
   },
   {
    "duration": 52,
    "start_time": "2024-06-06T05:10:11.124Z"
   },
   {
    "duration": 6,
    "start_time": "2024-06-06T05:10:11.178Z"
   },
   {
    "duration": 24,
    "start_time": "2024-06-06T05:10:11.186Z"
   },
   {
    "duration": 219,
    "start_time": "2024-06-06T05:10:11.211Z"
   },
   {
    "duration": 6,
    "start_time": "2024-06-06T05:10:11.432Z"
   },
   {
    "duration": 7,
    "start_time": "2024-06-06T05:10:11.440Z"
   },
   {
    "duration": 221,
    "start_time": "2024-06-06T05:10:11.449Z"
   },
   {
    "duration": 7,
    "start_time": "2024-06-06T05:10:11.672Z"
   },
   {
    "duration": 7,
    "start_time": "2024-06-06T05:10:11.680Z"
   },
   {
    "duration": 5,
    "start_time": "2024-06-06T05:10:11.688Z"
   },
   {
    "duration": 5,
    "start_time": "2024-06-06T05:10:11.694Z"
   },
   {
    "duration": 848,
    "start_time": "2024-06-06T05:10:11.700Z"
   },
   {
    "duration": 2,
    "start_time": "2024-06-06T05:10:12.550Z"
   },
   {
    "duration": 19,
    "start_time": "2024-06-06T05:10:12.554Z"
   },
   {
    "duration": 4,
    "start_time": "2024-06-06T05:10:12.574Z"
   },
   {
    "duration": 13,
    "start_time": "2024-06-06T05:10:12.579Z"
   },
   {
    "duration": 4,
    "start_time": "2024-06-06T05:10:12.593Z"
   },
   {
    "duration": 17,
    "start_time": "2024-06-06T05:10:12.598Z"
   },
   {
    "duration": 7,
    "start_time": "2024-06-06T05:10:12.616Z"
   },
   {
    "duration": 317,
    "start_time": "2024-06-06T05:10:12.625Z"
   },
   {
    "duration": 263,
    "start_time": "2024-06-06T05:10:12.943Z"
   },
   {
    "duration": 6,
    "start_time": "2024-06-06T05:13:16.887Z"
   },
   {
    "duration": 6,
    "start_time": "2024-06-06T05:14:02.401Z"
   },
   {
    "duration": 6,
    "start_time": "2024-06-06T05:14:18.170Z"
   },
   {
    "duration": 969,
    "start_time": "2024-06-06T05:14:44.549Z"
   },
   {
    "duration": 65,
    "start_time": "2024-06-06T05:14:45.520Z"
   },
   {
    "duration": 11,
    "start_time": "2024-06-06T05:14:45.587Z"
   },
   {
    "duration": 24,
    "start_time": "2024-06-06T05:14:45.599Z"
   },
   {
    "duration": 10,
    "start_time": "2024-06-06T05:14:45.625Z"
   },
   {
    "duration": 10,
    "start_time": "2024-06-06T05:14:45.637Z"
   },
   {
    "duration": 5,
    "start_time": "2024-06-06T05:14:45.648Z"
   },
   {
    "duration": 11,
    "start_time": "2024-06-06T05:14:45.654Z"
   },
   {
    "duration": 18,
    "start_time": "2024-06-06T05:14:45.666Z"
   },
   {
    "duration": 11,
    "start_time": "2024-06-06T05:14:45.685Z"
   },
   {
    "duration": 12,
    "start_time": "2024-06-06T05:14:45.697Z"
   },
   {
    "duration": 8,
    "start_time": "2024-06-06T05:14:45.710Z"
   },
   {
    "duration": 5,
    "start_time": "2024-06-06T05:14:45.719Z"
   },
   {
    "duration": 17,
    "start_time": "2024-06-06T05:14:45.726Z"
   },
   {
    "duration": 11,
    "start_time": "2024-06-06T05:14:45.745Z"
   },
   {
    "duration": 6,
    "start_time": "2024-06-06T05:14:45.757Z"
   },
   {
    "duration": 5,
    "start_time": "2024-06-06T05:14:45.764Z"
   },
   {
    "duration": 11,
    "start_time": "2024-06-06T05:14:45.771Z"
   },
   {
    "duration": 172,
    "start_time": "2024-06-06T05:14:45.784Z"
   },
   {
    "duration": 74,
    "start_time": "2024-06-06T05:14:45.957Z"
   },
   {
    "duration": 198,
    "start_time": "2024-06-06T05:14:46.032Z"
   },
   {
    "duration": 7,
    "start_time": "2024-06-06T05:14:46.231Z"
   },
   {
    "duration": 232,
    "start_time": "2024-06-06T05:14:46.239Z"
   },
   {
    "duration": 6,
    "start_time": "2024-06-06T05:14:46.472Z"
   },
   {
    "duration": 217,
    "start_time": "2024-06-06T05:14:46.479Z"
   },
   {
    "duration": 5,
    "start_time": "2024-06-06T05:14:46.697Z"
   },
   {
    "duration": 12,
    "start_time": "2024-06-06T05:14:46.703Z"
   },
   {
    "duration": 3,
    "start_time": "2024-06-06T05:14:46.717Z"
   },
   {
    "duration": 8,
    "start_time": "2024-06-06T05:14:46.722Z"
   },
   {
    "duration": 4,
    "start_time": "2024-06-06T05:14:46.731Z"
   },
   {
    "duration": 37,
    "start_time": "2024-06-06T05:14:46.736Z"
   },
   {
    "duration": 15,
    "start_time": "2024-06-06T05:14:46.775Z"
   },
   {
    "duration": 3,
    "start_time": "2024-06-06T05:14:46.791Z"
   },
   {
    "duration": 4,
    "start_time": "2024-06-06T05:14:46.795Z"
   },
   {
    "duration": 7,
    "start_time": "2024-06-06T05:14:46.800Z"
   },
   {
    "duration": 7,
    "start_time": "2024-06-06T05:14:46.808Z"
   },
   {
    "duration": 14,
    "start_time": "2024-06-06T05:14:46.816Z"
   },
   {
    "duration": 5,
    "start_time": "2024-06-06T05:14:46.831Z"
   },
   {
    "duration": 13,
    "start_time": "2024-06-06T05:14:46.871Z"
   },
   {
    "duration": 218,
    "start_time": "2024-06-06T05:14:46.886Z"
   },
   {
    "duration": 6,
    "start_time": "2024-06-06T05:14:47.108Z"
   },
   {
    "duration": 7,
    "start_time": "2024-06-06T05:14:47.115Z"
   },
   {
    "duration": 194,
    "start_time": "2024-06-06T05:14:47.123Z"
   },
   {
    "duration": 7,
    "start_time": "2024-06-06T05:14:47.318Z"
   },
   {
    "duration": 11,
    "start_time": "2024-06-06T05:14:47.326Z"
   },
   {
    "duration": 7,
    "start_time": "2024-06-06T05:14:47.338Z"
   },
   {
    "duration": 5,
    "start_time": "2024-06-06T05:14:47.346Z"
   },
   {
    "duration": 772,
    "start_time": "2024-06-06T05:14:47.352Z"
   },
   {
    "duration": 2,
    "start_time": "2024-06-06T05:14:48.126Z"
   },
   {
    "duration": 16,
    "start_time": "2024-06-06T05:14:48.129Z"
   },
   {
    "duration": 5,
    "start_time": "2024-06-06T05:14:48.146Z"
   },
   {
    "duration": 21,
    "start_time": "2024-06-06T05:14:48.152Z"
   },
   {
    "duration": 4,
    "start_time": "2024-06-06T05:14:48.174Z"
   },
   {
    "duration": 10,
    "start_time": "2024-06-06T05:14:48.180Z"
   },
   {
    "duration": 10,
    "start_time": "2024-06-06T05:14:48.192Z"
   },
   {
    "duration": 237,
    "start_time": "2024-06-06T05:14:48.203Z"
   },
   {
    "duration": 268,
    "start_time": "2024-06-06T05:14:48.441Z"
   },
   {
    "duration": 52,
    "start_time": "2024-06-06T05:23:02.562Z"
   },
   {
    "duration": 888,
    "start_time": "2024-06-06T05:36:33.426Z"
   },
   {
    "duration": 64,
    "start_time": "2024-06-06T05:36:34.315Z"
   },
   {
    "duration": 11,
    "start_time": "2024-06-06T05:36:34.380Z"
   },
   {
    "duration": 9,
    "start_time": "2024-06-06T05:36:34.393Z"
   },
   {
    "duration": 8,
    "start_time": "2024-06-06T05:36:34.403Z"
   },
   {
    "duration": 11,
    "start_time": "2024-06-06T05:36:34.412Z"
   },
   {
    "duration": 5,
    "start_time": "2024-06-06T05:36:34.425Z"
   },
   {
    "duration": 8,
    "start_time": "2024-06-06T05:36:34.431Z"
   },
   {
    "duration": 5,
    "start_time": "2024-06-06T05:36:34.441Z"
   },
   {
    "duration": 24,
    "start_time": "2024-06-06T05:36:34.447Z"
   },
   {
    "duration": 5,
    "start_time": "2024-06-06T05:36:34.472Z"
   },
   {
    "duration": 7,
    "start_time": "2024-06-06T05:36:34.478Z"
   },
   {
    "duration": 5,
    "start_time": "2024-06-06T05:36:34.486Z"
   },
   {
    "duration": 5,
    "start_time": "2024-06-06T05:36:34.493Z"
   },
   {
    "duration": 7,
    "start_time": "2024-06-06T05:36:34.499Z"
   },
   {
    "duration": 3,
    "start_time": "2024-06-06T05:36:34.508Z"
   },
   {
    "duration": 28,
    "start_time": "2024-06-06T05:36:34.513Z"
   },
   {
    "duration": 5,
    "start_time": "2024-06-06T05:36:34.542Z"
   },
   {
    "duration": 179,
    "start_time": "2024-06-06T05:36:34.548Z"
   },
   {
    "duration": 78,
    "start_time": "2024-06-06T05:36:34.728Z"
   },
   {
    "duration": 192,
    "start_time": "2024-06-06T05:36:34.807Z"
   },
   {
    "duration": 5,
    "start_time": "2024-06-06T05:36:35.001Z"
   },
   {
    "duration": 236,
    "start_time": "2024-06-06T05:36:35.007Z"
   },
   {
    "duration": 6,
    "start_time": "2024-06-06T05:36:35.245Z"
   },
   {
    "duration": 219,
    "start_time": "2024-06-06T05:36:35.252Z"
   },
   {
    "duration": 5,
    "start_time": "2024-06-06T05:36:35.473Z"
   },
   {
    "duration": 16,
    "start_time": "2024-06-06T05:36:35.479Z"
   },
   {
    "duration": 2,
    "start_time": "2024-06-06T05:36:35.498Z"
   },
   {
    "duration": 3,
    "start_time": "2024-06-06T05:36:35.502Z"
   },
   {
    "duration": 25,
    "start_time": "2024-06-06T05:36:35.506Z"
   },
   {
    "duration": 19,
    "start_time": "2024-06-06T05:36:35.532Z"
   },
   {
    "duration": 13,
    "start_time": "2024-06-06T05:36:35.552Z"
   },
   {
    "duration": 5,
    "start_time": "2024-06-06T05:36:35.567Z"
   },
   {
    "duration": 6,
    "start_time": "2024-06-06T05:36:35.573Z"
   },
   {
    "duration": 8,
    "start_time": "2024-06-06T05:36:35.580Z"
   },
   {
    "duration": 7,
    "start_time": "2024-06-06T05:36:35.589Z"
   },
   {
    "duration": 13,
    "start_time": "2024-06-06T05:36:35.597Z"
   },
   {
    "duration": 20,
    "start_time": "2024-06-06T05:36:35.612Z"
   },
   {
    "duration": 26,
    "start_time": "2024-06-06T05:36:35.633Z"
   },
   {
    "duration": 225,
    "start_time": "2024-06-06T05:36:35.660Z"
   },
   {
    "duration": 6,
    "start_time": "2024-06-06T05:36:35.886Z"
   },
   {
    "duration": 6,
    "start_time": "2024-06-06T05:36:35.893Z"
   },
   {
    "duration": 176,
    "start_time": "2024-06-06T05:36:35.901Z"
   },
   {
    "duration": 6,
    "start_time": "2024-06-06T05:36:36.078Z"
   },
   {
    "duration": 6,
    "start_time": "2024-06-06T05:36:36.085Z"
   },
   {
    "duration": 3,
    "start_time": "2024-06-06T05:36:36.092Z"
   },
   {
    "duration": 5,
    "start_time": "2024-06-06T05:36:36.095Z"
   },
   {
    "duration": 740,
    "start_time": "2024-06-06T05:36:36.101Z"
   },
   {
    "duration": 2,
    "start_time": "2024-06-06T05:36:36.843Z"
   },
   {
    "duration": 13,
    "start_time": "2024-06-06T05:36:36.846Z"
   },
   {
    "duration": 12,
    "start_time": "2024-06-06T05:36:36.861Z"
   },
   {
    "duration": 14,
    "start_time": "2024-06-06T05:36:36.874Z"
   },
   {
    "duration": 5,
    "start_time": "2024-06-06T05:36:36.889Z"
   },
   {
    "duration": 6,
    "start_time": "2024-06-06T05:36:36.895Z"
   },
   {
    "duration": 23,
    "start_time": "2024-06-06T05:36:36.902Z"
   },
   {
    "duration": 205,
    "start_time": "2024-06-06T05:36:36.926Z"
   },
   {
    "duration": 294,
    "start_time": "2024-06-06T05:36:37.133Z"
   },
   {
    "duration": 917,
    "start_time": "2024-06-06T06:49:12.081Z"
   },
   {
    "duration": 60,
    "start_time": "2024-06-06T06:49:12.999Z"
   },
   {
    "duration": 11,
    "start_time": "2024-06-06T06:49:13.060Z"
   },
   {
    "duration": 8,
    "start_time": "2024-06-06T06:49:13.073Z"
   },
   {
    "duration": 8,
    "start_time": "2024-06-06T06:49:13.082Z"
   },
   {
    "duration": 12,
    "start_time": "2024-06-06T06:49:13.091Z"
   },
   {
    "duration": 10,
    "start_time": "2024-06-06T06:49:13.104Z"
   },
   {
    "duration": 9,
    "start_time": "2024-06-06T06:49:13.115Z"
   },
   {
    "duration": 8,
    "start_time": "2024-06-06T06:49:13.125Z"
   },
   {
    "duration": 9,
    "start_time": "2024-06-06T06:49:13.135Z"
   },
   {
    "duration": 8,
    "start_time": "2024-06-06T06:49:13.145Z"
   },
   {
    "duration": 19,
    "start_time": "2024-06-06T06:49:13.154Z"
   },
   {
    "duration": 5,
    "start_time": "2024-06-06T06:49:13.175Z"
   },
   {
    "duration": 4,
    "start_time": "2024-06-06T06:49:13.181Z"
   },
   {
    "duration": 14,
    "start_time": "2024-06-06T06:49:13.186Z"
   },
   {
    "duration": 4,
    "start_time": "2024-06-06T06:49:13.201Z"
   },
   {
    "duration": 10,
    "start_time": "2024-06-06T06:49:13.206Z"
   },
   {
    "duration": 5,
    "start_time": "2024-06-06T06:49:13.217Z"
   },
   {
    "duration": 179,
    "start_time": "2024-06-06T06:49:13.223Z"
   },
   {
    "duration": 80,
    "start_time": "2024-06-06T06:49:13.403Z"
   },
   {
    "duration": 201,
    "start_time": "2024-06-06T06:49:13.484Z"
   },
   {
    "duration": 9,
    "start_time": "2024-06-06T06:49:13.687Z"
   },
   {
    "duration": 239,
    "start_time": "2024-06-06T06:49:13.697Z"
   },
   {
    "duration": 6,
    "start_time": "2024-06-06T06:49:13.937Z"
   },
   {
    "duration": 218,
    "start_time": "2024-06-06T06:49:13.944Z"
   },
   {
    "duration": 9,
    "start_time": "2024-06-06T06:49:14.163Z"
   },
   {
    "duration": 11,
    "start_time": "2024-06-06T06:49:14.173Z"
   },
   {
    "duration": 3,
    "start_time": "2024-06-06T06:49:14.186Z"
   },
   {
    "duration": 8,
    "start_time": "2024-06-06T06:49:14.190Z"
   },
   {
    "duration": 6,
    "start_time": "2024-06-06T06:49:14.200Z"
   },
   {
    "duration": 13,
    "start_time": "2024-06-06T06:49:14.207Z"
   },
   {
    "duration": 13,
    "start_time": "2024-06-06T06:49:14.221Z"
   },
   {
    "duration": 2,
    "start_time": "2024-06-06T06:49:14.236Z"
   },
   {
    "duration": 6,
    "start_time": "2024-06-06T06:49:14.239Z"
   },
   {
    "duration": 6,
    "start_time": "2024-06-06T06:49:14.270Z"
   },
   {
    "duration": 7,
    "start_time": "2024-06-06T06:49:14.277Z"
   },
   {
    "duration": 14,
    "start_time": "2024-06-06T06:49:14.285Z"
   },
   {
    "duration": 4,
    "start_time": "2024-06-06T06:49:14.300Z"
   },
   {
    "duration": 14,
    "start_time": "2024-06-06T06:49:14.306Z"
   },
   {
    "duration": 263,
    "start_time": "2024-06-06T06:49:14.321Z"
   },
   {
    "duration": 7,
    "start_time": "2024-06-06T06:49:14.585Z"
   },
   {
    "duration": 5,
    "start_time": "2024-06-06T06:49:14.593Z"
   },
   {
    "duration": 192,
    "start_time": "2024-06-06T06:49:14.600Z"
   },
   {
    "duration": 7,
    "start_time": "2024-06-06T06:49:14.794Z"
   },
   {
    "duration": 7,
    "start_time": "2024-06-06T06:49:14.803Z"
   },
   {
    "duration": 3,
    "start_time": "2024-06-06T06:49:14.811Z"
   },
   {
    "duration": 5,
    "start_time": "2024-06-06T06:49:14.815Z"
   },
   {
    "duration": 797,
    "start_time": "2024-06-06T06:49:14.821Z"
   },
   {
    "duration": 2,
    "start_time": "2024-06-06T06:49:15.619Z"
   },
   {
    "duration": 13,
    "start_time": "2024-06-06T06:49:15.623Z"
   },
   {
    "duration": 4,
    "start_time": "2024-06-06T06:49:15.638Z"
   },
   {
    "duration": 32,
    "start_time": "2024-06-06T06:49:15.643Z"
   },
   {
    "duration": 5,
    "start_time": "2024-06-06T06:49:15.676Z"
   },
   {
    "duration": 6,
    "start_time": "2024-06-06T06:49:15.683Z"
   },
   {
    "duration": 11,
    "start_time": "2024-06-06T06:49:15.690Z"
   },
   {
    "duration": 219,
    "start_time": "2024-06-06T06:49:15.702Z"
   },
   {
    "duration": 217,
    "start_time": "2024-06-06T06:49:15.923Z"
   },
   {
    "duration": 1099,
    "start_time": "2024-09-27T07:14:49.225Z"
   },
   {
    "duration": 298,
    "start_time": "2024-09-27T07:14:50.326Z"
   },
   {
    "duration": 14,
    "start_time": "2024-09-27T07:14:50.625Z"
   },
   {
    "duration": 10,
    "start_time": "2024-09-27T07:14:50.641Z"
   },
   {
    "duration": 45,
    "start_time": "2024-09-27T07:14:50.653Z"
   },
   {
    "duration": 35,
    "start_time": "2024-09-27T07:14:50.700Z"
   },
   {
    "duration": 8,
    "start_time": "2024-09-27T07:14:50.737Z"
   },
   {
    "duration": 20,
    "start_time": "2024-09-27T07:14:50.746Z"
   },
   {
    "duration": 16,
    "start_time": "2024-09-27T07:14:50.768Z"
   },
   {
    "duration": 6,
    "start_time": "2024-09-27T07:14:50.787Z"
   },
   {
    "duration": 20,
    "start_time": "2024-09-27T07:14:50.794Z"
   },
   {
    "duration": 6,
    "start_time": "2024-09-27T07:14:50.815Z"
   },
   {
    "duration": 4,
    "start_time": "2024-09-27T07:14:50.823Z"
   },
   {
    "duration": 25,
    "start_time": "2024-09-27T07:14:50.829Z"
   },
   {
    "duration": 16,
    "start_time": "2024-09-27T07:14:50.855Z"
   },
   {
    "duration": 12,
    "start_time": "2024-09-27T07:14:50.873Z"
   },
   {
    "duration": 10,
    "start_time": "2024-09-27T07:14:50.887Z"
   },
   {
    "duration": 8,
    "start_time": "2024-09-27T07:14:50.898Z"
   },
   {
    "duration": 211,
    "start_time": "2024-09-27T07:14:50.908Z"
   },
   {
    "duration": 97,
    "start_time": "2024-09-27T07:14:51.121Z"
   },
   {
    "duration": 257,
    "start_time": "2024-09-27T07:14:51.219Z"
   },
   {
    "duration": 8,
    "start_time": "2024-09-27T07:14:51.478Z"
   },
   {
    "duration": 333,
    "start_time": "2024-09-27T07:14:51.488Z"
   },
   {
    "duration": 8,
    "start_time": "2024-09-27T07:14:51.823Z"
   },
   {
    "duration": 301,
    "start_time": "2024-09-27T07:14:51.833Z"
   },
   {
    "duration": 7,
    "start_time": "2024-09-27T07:14:52.135Z"
   },
   {
    "duration": 24,
    "start_time": "2024-09-27T07:14:52.143Z"
   },
   {
    "duration": 3,
    "start_time": "2024-09-27T07:14:52.170Z"
   },
   {
    "duration": 10,
    "start_time": "2024-09-27T07:14:52.174Z"
   },
   {
    "duration": 14,
    "start_time": "2024-09-27T07:14:52.185Z"
   },
   {
    "duration": 20,
    "start_time": "2024-09-27T07:14:52.201Z"
   },
   {
    "duration": 22,
    "start_time": "2024-09-27T07:14:52.222Z"
   },
   {
    "duration": 3,
    "start_time": "2024-09-27T07:14:52.246Z"
   },
   {
    "duration": 17,
    "start_time": "2024-09-27T07:14:52.250Z"
   },
   {
    "duration": 26,
    "start_time": "2024-09-27T07:14:52.269Z"
   },
   {
    "duration": 44,
    "start_time": "2024-09-27T07:14:52.297Z"
   },
   {
    "duration": 34,
    "start_time": "2024-09-27T07:14:52.342Z"
   },
   {
    "duration": 13,
    "start_time": "2024-09-27T07:14:52.377Z"
   },
   {
    "duration": 26,
    "start_time": "2024-09-27T07:14:52.391Z"
   },
   {
    "duration": 325,
    "start_time": "2024-09-27T07:14:52.419Z"
   },
   {
    "duration": 10,
    "start_time": "2024-09-27T07:14:52.745Z"
   },
   {
    "duration": 18,
    "start_time": "2024-09-27T07:14:52.765Z"
   },
   {
    "duration": 225,
    "start_time": "2024-09-27T07:14:52.785Z"
   },
   {
    "duration": 10,
    "start_time": "2024-09-27T07:14:53.012Z"
   },
   {
    "duration": 10,
    "start_time": "2024-09-27T07:14:53.024Z"
   },
   {
    "duration": 30,
    "start_time": "2024-09-27T07:14:53.035Z"
   },
   {
    "duration": 41,
    "start_time": "2024-09-27T07:14:53.067Z"
   },
   {
    "duration": 865,
    "start_time": "2024-09-27T07:14:53.110Z"
   },
   {
    "duration": 3,
    "start_time": "2024-09-27T07:14:53.976Z"
   },
   {
    "duration": 36,
    "start_time": "2024-09-27T07:14:53.981Z"
   },
   {
    "duration": 9,
    "start_time": "2024-09-27T07:14:54.019Z"
   },
   {
    "duration": 17,
    "start_time": "2024-09-27T07:14:54.030Z"
   },
   {
    "duration": 6,
    "start_time": "2024-09-27T07:14:54.048Z"
   },
   {
    "duration": 12,
    "start_time": "2024-09-27T07:14:54.055Z"
   },
   {
    "duration": 8,
    "start_time": "2024-09-27T07:14:54.068Z"
   },
   {
    "duration": 321,
    "start_time": "2024-09-27T07:14:54.078Z"
   },
   {
    "duration": 411,
    "start_time": "2024-09-27T07:14:54.401Z"
   },
   {
    "duration": 1207,
    "start_time": "2024-09-29T04:17:51.008Z"
   },
   {
    "duration": 291,
    "start_time": "2024-09-29T04:17:52.217Z"
   },
   {
    "duration": 18,
    "start_time": "2024-09-29T04:17:52.510Z"
   },
   {
    "duration": 24,
    "start_time": "2024-09-29T04:17:52.531Z"
   },
   {
    "duration": 19,
    "start_time": "2024-09-29T04:17:52.556Z"
   },
   {
    "duration": 12,
    "start_time": "2024-09-29T04:17:52.577Z"
   },
   {
    "duration": 7,
    "start_time": "2024-09-29T04:17:52.590Z"
   },
   {
    "duration": 12,
    "start_time": "2024-09-29T04:17:52.599Z"
   },
   {
    "duration": 7,
    "start_time": "2024-09-29T04:17:52.612Z"
   },
   {
    "duration": 21,
    "start_time": "2024-09-29T04:17:52.647Z"
   },
   {
    "duration": 27,
    "start_time": "2024-09-29T04:17:52.669Z"
   },
   {
    "duration": 10,
    "start_time": "2024-09-29T04:17:52.698Z"
   },
   {
    "duration": 6,
    "start_time": "2024-09-29T04:17:52.710Z"
   },
   {
    "duration": 5,
    "start_time": "2024-09-29T04:17:52.717Z"
   },
   {
    "duration": 8,
    "start_time": "2024-09-29T04:17:52.723Z"
   },
   {
    "duration": 4,
    "start_time": "2024-09-29T04:17:52.733Z"
   },
   {
    "duration": 4,
    "start_time": "2024-09-29T04:17:52.739Z"
   },
   {
    "duration": 5,
    "start_time": "2024-09-29T04:17:52.745Z"
   },
   {
    "duration": 215,
    "start_time": "2024-09-29T04:17:52.752Z"
   },
   {
    "duration": 98,
    "start_time": "2024-09-29T04:17:52.969Z"
   },
   {
    "duration": 263,
    "start_time": "2024-09-29T04:17:53.068Z"
   },
   {
    "duration": 13,
    "start_time": "2024-09-29T04:17:53.333Z"
   },
   {
    "duration": 320,
    "start_time": "2024-09-29T04:17:53.347Z"
   },
   {
    "duration": 8,
    "start_time": "2024-09-29T04:17:53.669Z"
   },
   {
    "duration": 302,
    "start_time": "2024-09-29T04:17:53.678Z"
   },
   {
    "duration": 7,
    "start_time": "2024-09-29T04:17:53.982Z"
   },
   {
    "duration": 26,
    "start_time": "2024-09-29T04:17:53.990Z"
   },
   {
    "duration": 3,
    "start_time": "2024-09-29T04:17:54.020Z"
   },
   {
    "duration": 22,
    "start_time": "2024-09-29T04:17:54.025Z"
   },
   {
    "duration": 5,
    "start_time": "2024-09-29T04:17:54.049Z"
   },
   {
    "duration": 19,
    "start_time": "2024-09-29T04:17:54.055Z"
   },
   {
    "duration": 18,
    "start_time": "2024-09-29T04:17:54.076Z"
   },
   {
    "duration": 4,
    "start_time": "2024-09-29T04:17:54.095Z"
   },
   {
    "duration": 15,
    "start_time": "2024-09-29T04:17:54.100Z"
   },
   {
    "duration": 34,
    "start_time": "2024-09-29T04:17:54.116Z"
   },
   {
    "duration": 9,
    "start_time": "2024-09-29T04:17:54.152Z"
   },
   {
    "duration": 18,
    "start_time": "2024-09-29T04:17:54.162Z"
   },
   {
    "duration": 6,
    "start_time": "2024-09-29T04:17:54.181Z"
   },
   {
    "duration": 25,
    "start_time": "2024-09-29T04:17:54.189Z"
   },
   {
    "duration": 365,
    "start_time": "2024-09-29T04:17:54.216Z"
   },
   {
    "duration": 14,
    "start_time": "2024-09-29T04:17:54.583Z"
   },
   {
    "duration": 11,
    "start_time": "2024-09-29T04:17:54.600Z"
   },
   {
    "duration": 262,
    "start_time": "2024-09-29T04:17:54.613Z"
   },
   {
    "duration": 9,
    "start_time": "2024-09-29T04:17:54.876Z"
   },
   {
    "duration": 14,
    "start_time": "2024-09-29T04:17:54.886Z"
   },
   {
    "duration": 16,
    "start_time": "2024-09-29T04:17:54.902Z"
   },
   {
    "duration": 51,
    "start_time": "2024-09-29T04:17:54.920Z"
   },
   {
    "duration": 841,
    "start_time": "2024-09-29T04:17:54.972Z"
   },
   {
    "duration": 3,
    "start_time": "2024-09-29T04:17:55.815Z"
   },
   {
    "duration": 28,
    "start_time": "2024-09-29T04:17:55.820Z"
   },
   {
    "duration": 6,
    "start_time": "2024-09-29T04:17:55.850Z"
   },
   {
    "duration": 18,
    "start_time": "2024-09-29T04:17:55.858Z"
   },
   {
    "duration": 5,
    "start_time": "2024-09-29T04:17:55.877Z"
   },
   {
    "duration": 9,
    "start_time": "2024-09-29T04:17:55.884Z"
   },
   {
    "duration": 8,
    "start_time": "2024-09-29T04:17:55.895Z"
   },
   {
    "duration": 377,
    "start_time": "2024-09-29T04:17:55.904Z"
   },
   {
    "duration": 418,
    "start_time": "2024-09-29T04:17:56.282Z"
   },
   {
    "duration": 1285,
    "start_time": "2024-12-28T09:06:25.976Z"
   },
   {
    "duration": 315,
    "start_time": "2024-12-28T09:06:27.263Z"
   },
   {
    "duration": 13,
    "start_time": "2024-12-28T09:06:27.579Z"
   },
   {
    "duration": 28,
    "start_time": "2024-12-28T09:06:27.594Z"
   },
   {
    "duration": 11,
    "start_time": "2024-12-28T09:06:27.623Z"
   },
   {
    "duration": 14,
    "start_time": "2024-12-28T09:06:27.636Z"
   },
   {
    "duration": 7,
    "start_time": "2024-12-28T09:06:27.651Z"
   },
   {
    "duration": 12,
    "start_time": "2024-12-28T09:06:27.660Z"
   },
   {
    "duration": 18,
    "start_time": "2024-12-28T09:06:27.673Z"
   },
   {
    "duration": 3,
    "start_time": "2024-12-28T09:06:27.694Z"
   },
   {
    "duration": 14,
    "start_time": "2024-12-28T09:06:27.698Z"
   },
   {
    "duration": 6,
    "start_time": "2024-12-28T09:06:27.714Z"
   },
   {
    "duration": 5,
    "start_time": "2024-12-28T09:06:27.722Z"
   },
   {
    "duration": 5,
    "start_time": "2024-12-28T09:06:27.729Z"
   },
   {
    "duration": 8,
    "start_time": "2024-12-28T09:06:27.735Z"
   },
   {
    "duration": 4,
    "start_time": "2024-12-28T09:06:27.744Z"
   },
   {
    "duration": 40,
    "start_time": "2024-12-28T09:06:27.750Z"
   },
   {
    "duration": 7,
    "start_time": "2024-12-28T09:06:27.792Z"
   },
   {
    "duration": 211,
    "start_time": "2024-12-28T09:06:27.801Z"
   },
   {
    "duration": 93,
    "start_time": "2024-12-28T09:06:28.014Z"
   },
   {
    "duration": 235,
    "start_time": "2024-12-28T09:06:28.109Z"
   },
   {
    "duration": 8,
    "start_time": "2024-12-28T09:06:28.345Z"
   },
   {
    "duration": 273,
    "start_time": "2024-12-28T09:06:28.354Z"
   },
   {
    "duration": 8,
    "start_time": "2024-12-28T09:06:28.629Z"
   },
   {
    "duration": 265,
    "start_time": "2024-12-28T09:06:28.639Z"
   },
   {
    "duration": 6,
    "start_time": "2024-12-28T09:06:28.906Z"
   },
   {
    "duration": 23,
    "start_time": "2024-12-28T09:06:28.914Z"
   },
   {
    "duration": 4,
    "start_time": "2024-12-28T09:06:28.941Z"
   },
   {
    "duration": 6,
    "start_time": "2024-12-28T09:06:28.946Z"
   },
   {
    "duration": 5,
    "start_time": "2024-12-28T09:06:28.953Z"
   },
   {
    "duration": 33,
    "start_time": "2024-12-28T09:06:28.959Z"
   },
   {
    "duration": 17,
    "start_time": "2024-12-28T09:06:28.993Z"
   },
   {
    "duration": 10,
    "start_time": "2024-12-28T09:06:29.012Z"
   },
   {
    "duration": 14,
    "start_time": "2024-12-28T09:06:29.024Z"
   },
   {
    "duration": 18,
    "start_time": "2024-12-28T09:06:29.040Z"
   },
   {
    "duration": 14,
    "start_time": "2024-12-28T09:06:29.060Z"
   },
   {
    "duration": 27,
    "start_time": "2024-12-28T09:06:29.076Z"
   },
   {
    "duration": 7,
    "start_time": "2024-12-28T09:06:29.104Z"
   },
   {
    "duration": 16,
    "start_time": "2024-12-28T09:06:29.112Z"
   },
   {
    "duration": 278,
    "start_time": "2024-12-28T09:06:29.129Z"
   },
   {
    "duration": 8,
    "start_time": "2024-12-28T09:06:29.409Z"
   },
   {
    "duration": 9,
    "start_time": "2024-12-28T09:06:29.418Z"
   },
   {
    "duration": 244,
    "start_time": "2024-12-28T09:06:29.429Z"
   },
   {
    "duration": 18,
    "start_time": "2024-12-28T09:06:29.675Z"
   },
   {
    "duration": 9,
    "start_time": "2024-12-28T09:06:29.695Z"
   },
   {
    "duration": 4,
    "start_time": "2024-12-28T09:06:29.705Z"
   },
   {
    "duration": 15,
    "start_time": "2024-12-28T09:06:29.710Z"
   },
   {
    "duration": 868,
    "start_time": "2024-12-28T09:06:29.727Z"
   },
   {
    "duration": 3,
    "start_time": "2024-12-28T09:06:30.597Z"
   },
   {
    "duration": 70,
    "start_time": "2024-12-28T09:06:30.601Z"
   },
   {
    "duration": 8,
    "start_time": "2024-12-28T09:06:30.673Z"
   },
   {
    "duration": 45,
    "start_time": "2024-12-28T09:06:30.683Z"
   },
   {
    "duration": 6,
    "start_time": "2024-12-28T09:06:30.730Z"
   },
   {
    "duration": 36,
    "start_time": "2024-12-28T09:06:30.738Z"
   },
   {
    "duration": 37,
    "start_time": "2024-12-28T09:06:30.776Z"
   },
   {
    "duration": 353,
    "start_time": "2024-12-28T09:06:30.815Z"
   },
   {
    "duration": 281,
    "start_time": "2024-12-28T09:06:31.169Z"
   },
   {
    "duration": 1199,
    "start_time": "2025-01-25T14:48:07.350Z"
   },
   {
    "duration": 161,
    "start_time": "2025-01-25T14:48:08.550Z"
   },
   {
    "duration": 15,
    "start_time": "2025-01-25T14:48:08.712Z"
   },
   {
    "duration": 72,
    "start_time": "2025-01-25T14:48:08.729Z"
   },
   {
    "duration": 27,
    "start_time": "2025-01-25T14:48:08.803Z"
   },
   {
    "duration": 23,
    "start_time": "2025-01-25T14:48:08.831Z"
   },
   {
    "duration": 7,
    "start_time": "2025-01-25T14:48:08.856Z"
   },
   {
    "duration": 32,
    "start_time": "2025-01-25T14:48:08.864Z"
   },
   {
    "duration": 16,
    "start_time": "2025-01-25T14:48:08.898Z"
   },
   {
    "duration": 5,
    "start_time": "2025-01-25T14:48:08.916Z"
   },
   {
    "duration": 9,
    "start_time": "2025-01-25T14:48:08.922Z"
   },
   {
    "duration": 7,
    "start_time": "2025-01-25T14:48:08.933Z"
   },
   {
    "duration": 7,
    "start_time": "2025-01-25T14:48:08.942Z"
   },
   {
    "duration": 13,
    "start_time": "2025-01-25T14:48:08.950Z"
   },
   {
    "duration": 31,
    "start_time": "2025-01-25T14:48:08.965Z"
   },
   {
    "duration": 5,
    "start_time": "2025-01-25T14:48:08.998Z"
   },
   {
    "duration": 17,
    "start_time": "2025-01-25T14:48:09.005Z"
   },
   {
    "duration": 13,
    "start_time": "2025-01-25T14:48:09.024Z"
   },
   {
    "duration": 222,
    "start_time": "2025-01-25T14:48:09.039Z"
   },
   {
    "duration": 107,
    "start_time": "2025-01-25T14:48:09.263Z"
   },
   {
    "duration": 263,
    "start_time": "2025-01-25T14:48:09.372Z"
   },
   {
    "duration": 8,
    "start_time": "2025-01-25T14:48:09.637Z"
   },
   {
    "duration": 336,
    "start_time": "2025-01-25T14:48:09.647Z"
   },
   {
    "duration": 9,
    "start_time": "2025-01-25T14:48:09.984Z"
   },
   {
    "duration": 318,
    "start_time": "2025-01-25T14:48:09.995Z"
   },
   {
    "duration": 9,
    "start_time": "2025-01-25T14:48:10.316Z"
   },
   {
    "duration": 19,
    "start_time": "2025-01-25T14:48:10.326Z"
   },
   {
    "duration": 3,
    "start_time": "2025-01-25T14:48:10.350Z"
   },
   {
    "duration": 32,
    "start_time": "2025-01-25T14:48:10.355Z"
   },
   {
    "duration": 4,
    "start_time": "2025-01-25T14:48:10.389Z"
   },
   {
    "duration": 21,
    "start_time": "2025-01-25T14:48:10.395Z"
   },
   {
    "duration": 21,
    "start_time": "2025-01-25T14:48:10.417Z"
   },
   {
    "duration": 4,
    "start_time": "2025-01-25T14:48:10.439Z"
   },
   {
    "duration": 27,
    "start_time": "2025-01-25T14:48:10.444Z"
   },
   {
    "duration": 11,
    "start_time": "2025-01-25T14:48:10.485Z"
   },
   {
    "duration": 10,
    "start_time": "2025-01-25T14:48:10.499Z"
   },
   {
    "duration": 20,
    "start_time": "2025-01-25T14:48:10.511Z"
   },
   {
    "duration": 23,
    "start_time": "2025-01-25T14:48:10.533Z"
   },
   {
    "duration": 65,
    "start_time": "2025-01-25T14:48:10.558Z"
   },
   {
    "duration": 413,
    "start_time": "2025-01-25T14:48:10.626Z"
   },
   {
    "duration": 9,
    "start_time": "2025-01-25T14:48:11.040Z"
   },
   {
    "duration": 16,
    "start_time": "2025-01-25T14:48:11.050Z"
   },
   {
    "duration": 247,
    "start_time": "2025-01-25T14:48:11.067Z"
   },
   {
    "duration": 8,
    "start_time": "2025-01-25T14:48:11.316Z"
   },
   {
    "duration": 11,
    "start_time": "2025-01-25T14:48:11.326Z"
   },
   {
    "duration": 6,
    "start_time": "2025-01-25T14:48:11.339Z"
   },
   {
    "duration": 42,
    "start_time": "2025-01-25T14:48:11.346Z"
   },
   {
    "duration": 920,
    "start_time": "2025-01-25T14:48:11.389Z"
   },
   {
    "duration": 3,
    "start_time": "2025-01-25T14:48:12.311Z"
   },
   {
    "duration": 21,
    "start_time": "2025-01-25T14:48:12.316Z"
   },
   {
    "duration": 8,
    "start_time": "2025-01-25T14:48:12.339Z"
   },
   {
    "duration": 21,
    "start_time": "2025-01-25T14:48:12.348Z"
   },
   {
    "duration": 7,
    "start_time": "2025-01-25T14:48:12.386Z"
   },
   {
    "duration": 17,
    "start_time": "2025-01-25T14:48:12.395Z"
   },
   {
    "duration": 9,
    "start_time": "2025-01-25T14:48:12.414Z"
   },
   {
    "duration": 321,
    "start_time": "2025-01-25T14:48:12.425Z"
   },
   {
    "duration": 306,
    "start_time": "2025-01-25T14:48:12.748Z"
   },
   {
    "duration": 1287,
    "start_time": "2025-01-25T15:13:33.496Z"
   },
   {
    "duration": 163,
    "start_time": "2025-01-25T15:13:34.786Z"
   },
   {
    "duration": 6,
    "start_time": "2025-01-25T15:13:34.951Z"
   },
   {
    "duration": 48,
    "start_time": "2025-01-25T15:13:34.959Z"
   },
   {
    "duration": 38,
    "start_time": "2025-01-25T15:13:35.011Z"
   },
   {
    "duration": 58,
    "start_time": "2025-01-25T15:13:35.051Z"
   },
   {
    "duration": 145,
    "start_time": "2025-01-25T15:13:35.111Z"
   },
   {
    "duration": 1,
    "start_time": "2025-01-25T15:13:35.260Z"
   },
   {
    "duration": 0,
    "start_time": "2025-01-25T15:13:35.262Z"
   },
   {
    "duration": 0,
    "start_time": "2025-01-25T15:13:35.264Z"
   },
   {
    "duration": 0,
    "start_time": "2025-01-25T15:13:35.264Z"
   },
   {
    "duration": 0,
    "start_time": "2025-01-25T15:13:35.266Z"
   },
   {
    "duration": 0,
    "start_time": "2025-01-25T15:13:35.267Z"
   },
   {
    "duration": 0,
    "start_time": "2025-01-25T15:13:35.268Z"
   },
   {
    "duration": 0,
    "start_time": "2025-01-25T15:13:35.269Z"
   },
   {
    "duration": 0,
    "start_time": "2025-01-25T15:13:35.271Z"
   },
   {
    "duration": 0,
    "start_time": "2025-01-25T15:13:35.286Z"
   },
   {
    "duration": 0,
    "start_time": "2025-01-25T15:13:35.287Z"
   },
   {
    "duration": 0,
    "start_time": "2025-01-25T15:13:35.288Z"
   },
   {
    "duration": 0,
    "start_time": "2025-01-25T15:13:35.289Z"
   },
   {
    "duration": 0,
    "start_time": "2025-01-25T15:13:35.290Z"
   },
   {
    "duration": 0,
    "start_time": "2025-01-25T15:13:35.292Z"
   },
   {
    "duration": 0,
    "start_time": "2025-01-25T15:13:35.293Z"
   },
   {
    "duration": 0,
    "start_time": "2025-01-25T15:13:35.294Z"
   },
   {
    "duration": 0,
    "start_time": "2025-01-25T15:13:35.295Z"
   },
   {
    "duration": 0,
    "start_time": "2025-01-25T15:13:35.297Z"
   },
   {
    "duration": 0,
    "start_time": "2025-01-25T15:13:35.298Z"
   },
   {
    "duration": 0,
    "start_time": "2025-01-25T15:13:35.299Z"
   },
   {
    "duration": 0,
    "start_time": "2025-01-25T15:13:35.301Z"
   },
   {
    "duration": 0,
    "start_time": "2025-01-25T15:13:35.302Z"
   },
   {
    "duration": 0,
    "start_time": "2025-01-25T15:13:35.303Z"
   },
   {
    "duration": 0,
    "start_time": "2025-01-25T15:13:35.304Z"
   },
   {
    "duration": 0,
    "start_time": "2025-01-25T15:13:35.305Z"
   },
   {
    "duration": 0,
    "start_time": "2025-01-25T15:13:35.307Z"
   },
   {
    "duration": 0,
    "start_time": "2025-01-25T15:13:35.308Z"
   },
   {
    "duration": 0,
    "start_time": "2025-01-25T15:13:35.309Z"
   },
   {
    "duration": 0,
    "start_time": "2025-01-25T15:13:35.311Z"
   },
   {
    "duration": 0,
    "start_time": "2025-01-25T15:13:35.312Z"
   },
   {
    "duration": 0,
    "start_time": "2025-01-25T15:13:35.314Z"
   },
   {
    "duration": 0,
    "start_time": "2025-01-25T15:13:35.315Z"
   },
   {
    "duration": 0,
    "start_time": "2025-01-25T15:13:35.316Z"
   },
   {
    "duration": 0,
    "start_time": "2025-01-25T15:13:35.317Z"
   },
   {
    "duration": 0,
    "start_time": "2025-01-25T15:13:35.318Z"
   },
   {
    "duration": 0,
    "start_time": "2025-01-25T15:13:35.320Z"
   },
   {
    "duration": 0,
    "start_time": "2025-01-25T15:13:35.321Z"
   },
   {
    "duration": 0,
    "start_time": "2025-01-25T15:13:35.322Z"
   },
   {
    "duration": 0,
    "start_time": "2025-01-25T15:13:35.323Z"
   },
   {
    "duration": 0,
    "start_time": "2025-01-25T15:13:35.324Z"
   },
   {
    "duration": 0,
    "start_time": "2025-01-25T15:13:35.386Z"
   },
   {
    "duration": 0,
    "start_time": "2025-01-25T15:13:35.387Z"
   },
   {
    "duration": 0,
    "start_time": "2025-01-25T15:13:35.388Z"
   },
   {
    "duration": 0,
    "start_time": "2025-01-25T15:13:35.389Z"
   },
   {
    "duration": 0,
    "start_time": "2025-01-25T15:13:35.390Z"
   },
   {
    "duration": 0,
    "start_time": "2025-01-25T15:13:35.391Z"
   },
   {
    "duration": 0,
    "start_time": "2025-01-25T15:13:35.393Z"
   },
   {
    "duration": 0,
    "start_time": "2025-01-25T15:13:35.394Z"
   },
   {
    "duration": 0,
    "start_time": "2025-01-25T15:13:35.395Z"
   },
   {
    "duration": 0,
    "start_time": "2025-01-25T15:13:35.396Z"
   },
   {
    "duration": 0,
    "start_time": "2025-01-25T15:13:35.397Z"
   },
   {
    "duration": 0,
    "start_time": "2025-01-25T15:13:35.398Z"
   },
   {
    "duration": 0,
    "start_time": "2025-01-25T15:13:35.399Z"
   },
   {
    "duration": 0,
    "start_time": "2025-01-25T15:13:35.400Z"
   },
   {
    "duration": 1338,
    "start_time": "2025-01-25T15:16:36.481Z"
   },
   {
    "duration": 62,
    "start_time": "2025-01-25T15:16:37.821Z"
   },
   {
    "duration": 12,
    "start_time": "2025-01-25T15:16:37.884Z"
   },
   {
    "duration": 37,
    "start_time": "2025-01-25T15:16:37.900Z"
   },
   {
    "duration": 74,
    "start_time": "2025-01-25T15:16:37.939Z"
   },
   {
    "duration": 23,
    "start_time": "2025-01-25T15:16:38.015Z"
   },
   {
    "duration": 59,
    "start_time": "2025-01-25T15:16:38.040Z"
   },
   {
    "duration": 5,
    "start_time": "2025-01-25T15:16:38.101Z"
   },
   {
    "duration": 9,
    "start_time": "2025-01-25T15:16:38.108Z"
   },
   {
    "duration": 15,
    "start_time": "2025-01-25T15:16:38.120Z"
   },
   {
    "duration": 15,
    "start_time": "2025-01-25T15:16:38.136Z"
   },
   {
    "duration": 22,
    "start_time": "2025-01-25T15:16:38.153Z"
   },
   {
    "duration": 28,
    "start_time": "2025-01-25T15:16:38.177Z"
   },
   {
    "duration": 14,
    "start_time": "2025-01-25T15:16:38.207Z"
   },
   {
    "duration": 7,
    "start_time": "2025-01-25T15:16:38.222Z"
   },
   {
    "duration": 9,
    "start_time": "2025-01-25T15:16:38.231Z"
   },
   {
    "duration": 234,
    "start_time": "2025-01-25T15:16:38.242Z"
   },
   {
    "duration": 110,
    "start_time": "2025-01-25T15:16:38.486Z"
   },
   {
    "duration": 304,
    "start_time": "2025-01-25T15:16:38.598Z"
   },
   {
    "duration": 11,
    "start_time": "2025-01-25T15:16:38.904Z"
   },
   {
    "duration": 367,
    "start_time": "2025-01-25T15:16:38.916Z"
   },
   {
    "duration": 19,
    "start_time": "2025-01-25T15:16:39.285Z"
   },
   {
    "duration": 331,
    "start_time": "2025-01-25T15:16:39.306Z"
   },
   {
    "duration": 7,
    "start_time": "2025-01-25T15:16:39.639Z"
   },
   {
    "duration": 26,
    "start_time": "2025-01-25T15:16:39.648Z"
   },
   {
    "duration": 21,
    "start_time": "2025-01-25T15:16:39.676Z"
   },
   {
    "duration": 5,
    "start_time": "2025-01-25T15:16:39.700Z"
   },
   {
    "duration": 5,
    "start_time": "2025-01-25T15:16:39.710Z"
   },
   {
    "duration": 68,
    "start_time": "2025-01-25T15:16:39.718Z"
   },
   {
    "duration": 34,
    "start_time": "2025-01-25T15:16:39.789Z"
   },
   {
    "duration": 4,
    "start_time": "2025-01-25T15:16:39.825Z"
   },
   {
    "duration": 62,
    "start_time": "2025-01-25T15:16:39.831Z"
   },
   {
    "duration": 17,
    "start_time": "2025-01-25T15:16:39.898Z"
   },
   {
    "duration": 83,
    "start_time": "2025-01-25T15:16:39.918Z"
   },
   {
    "duration": 21,
    "start_time": "2025-01-25T15:16:40.004Z"
   },
   {
    "duration": 81,
    "start_time": "2025-01-25T15:16:40.026Z"
   },
   {
    "duration": 27,
    "start_time": "2025-01-25T15:16:40.109Z"
   },
   {
    "duration": 886,
    "start_time": "2025-01-25T15:16:40.138Z"
   },
   {
    "duration": 61,
    "start_time": "2025-01-25T15:16:41.025Z"
   },
   {
    "duration": 16,
    "start_time": "2025-01-25T15:16:41.089Z"
   },
   {
    "duration": 517,
    "start_time": "2025-01-25T15:16:41.106Z"
   },
   {
    "duration": 9,
    "start_time": "2025-01-25T15:16:41.624Z"
   },
   {
    "duration": 16,
    "start_time": "2025-01-25T15:16:41.687Z"
   },
   {
    "duration": 60,
    "start_time": "2025-01-25T15:16:41.705Z"
   },
   {
    "duration": 19,
    "start_time": "2025-01-25T15:16:41.767Z"
   },
   {
    "duration": 1008,
    "start_time": "2025-01-25T15:16:41.789Z"
   },
   {
    "duration": 5,
    "start_time": "2025-01-25T15:16:42.800Z"
   },
   {
    "duration": 22,
    "start_time": "2025-01-25T15:16:42.806Z"
   },
   {
    "duration": 21,
    "start_time": "2025-01-25T15:16:42.830Z"
   },
   {
    "duration": 24,
    "start_time": "2025-01-25T15:16:42.853Z"
   },
   {
    "duration": 13,
    "start_time": "2025-01-25T15:16:42.879Z"
   },
   {
    "duration": 12,
    "start_time": "2025-01-25T15:16:42.895Z"
   },
   {
    "duration": 12,
    "start_time": "2025-01-25T15:16:42.909Z"
   },
   {
    "duration": 351,
    "start_time": "2025-01-25T15:16:42.923Z"
   },
   {
    "duration": 324,
    "start_time": "2025-01-25T15:16:43.276Z"
   },
   {
    "duration": 1278,
    "start_time": "2025-01-25T15:20:15.784Z"
   },
   {
    "duration": 72,
    "start_time": "2025-01-25T15:20:17.064Z"
   },
   {
    "duration": 4,
    "start_time": "2025-01-25T15:20:17.137Z"
   },
   {
    "duration": 32,
    "start_time": "2025-01-25T15:20:17.143Z"
   },
   {
    "duration": 31,
    "start_time": "2025-01-25T15:20:17.177Z"
   },
   {
    "duration": 22,
    "start_time": "2025-01-25T15:20:17.209Z"
   },
   {
    "duration": 8,
    "start_time": "2025-01-25T15:20:17.232Z"
   },
   {
    "duration": 45,
    "start_time": "2025-01-25T15:20:17.242Z"
   },
   {
    "duration": 7,
    "start_time": "2025-01-25T15:20:17.289Z"
   },
   {
    "duration": 15,
    "start_time": "2025-01-25T15:20:17.298Z"
   },
   {
    "duration": 11,
    "start_time": "2025-01-25T15:20:17.315Z"
   },
   {
    "duration": 8,
    "start_time": "2025-01-25T15:20:17.327Z"
   },
   {
    "duration": 17,
    "start_time": "2025-01-25T15:20:17.337Z"
   },
   {
    "duration": 6,
    "start_time": "2025-01-25T15:20:17.356Z"
   },
   {
    "duration": 5,
    "start_time": "2025-01-25T15:20:17.387Z"
   },
   {
    "duration": 14,
    "start_time": "2025-01-25T15:20:17.393Z"
   },
   {
    "duration": 229,
    "start_time": "2025-01-25T15:20:17.409Z"
   },
   {
    "duration": 107,
    "start_time": "2025-01-25T15:20:17.640Z"
   },
   {
    "duration": 288,
    "start_time": "2025-01-25T15:20:17.749Z"
   },
   {
    "duration": 9,
    "start_time": "2025-01-25T15:20:18.038Z"
   },
   {
    "duration": 337,
    "start_time": "2025-01-25T15:20:18.049Z"
   },
   {
    "duration": 9,
    "start_time": "2025-01-25T15:20:18.387Z"
   },
   {
    "duration": 313,
    "start_time": "2025-01-25T15:20:18.397Z"
   },
   {
    "duration": 7,
    "start_time": "2025-01-25T15:20:18.712Z"
   },
   {
    "duration": 33,
    "start_time": "2025-01-25T15:20:18.721Z"
   },
   {
    "duration": 6,
    "start_time": "2025-01-25T15:20:18.756Z"
   },
   {
    "duration": 8,
    "start_time": "2025-01-25T15:20:18.764Z"
   },
   {
    "duration": 5,
    "start_time": "2025-01-25T15:20:18.785Z"
   },
   {
    "duration": 20,
    "start_time": "2025-01-25T15:20:18.792Z"
   },
   {
    "duration": 57,
    "start_time": "2025-01-25T15:20:18.814Z"
   },
   {
    "duration": 23,
    "start_time": "2025-01-25T15:20:18.874Z"
   },
   {
    "duration": 7,
    "start_time": "2025-01-25T15:20:18.899Z"
   },
   {
    "duration": 13,
    "start_time": "2025-01-25T15:20:18.908Z"
   },
   {
    "duration": 24,
    "start_time": "2025-01-25T15:20:18.923Z"
   },
   {
    "duration": 20,
    "start_time": "2025-01-25T15:20:18.949Z"
   },
   {
    "duration": 17,
    "start_time": "2025-01-25T15:20:18.970Z"
   },
   {
    "duration": 25,
    "start_time": "2025-01-25T15:20:18.989Z"
   },
   {
    "duration": 670,
    "start_time": "2025-01-25T15:20:19.016Z"
   },
   {
    "duration": 10,
    "start_time": "2025-01-25T15:20:19.688Z"
   },
   {
    "duration": 9,
    "start_time": "2025-01-25T15:20:19.700Z"
   },
   {
    "duration": 507,
    "start_time": "2025-01-25T15:20:19.711Z"
   },
   {
    "duration": 65,
    "start_time": "2025-01-25T15:20:20.221Z"
   },
   {
    "duration": 25,
    "start_time": "2025-01-25T15:20:20.289Z"
   },
   {
    "duration": 10,
    "start_time": "2025-01-25T15:20:20.316Z"
   },
   {
    "duration": 59,
    "start_time": "2025-01-25T15:20:20.329Z"
   },
   {
    "duration": 1272,
    "start_time": "2025-01-25T15:20:20.391Z"
   },
   {
    "duration": 4,
    "start_time": "2025-01-25T15:20:21.665Z"
   },
   {
    "duration": 35,
    "start_time": "2025-01-25T15:20:21.670Z"
   },
   {
    "duration": 10,
    "start_time": "2025-01-25T15:20:21.707Z"
   },
   {
    "duration": 30,
    "start_time": "2025-01-25T15:20:21.718Z"
   },
   {
    "duration": 7,
    "start_time": "2025-01-25T15:20:21.749Z"
   },
   {
    "duration": 17,
    "start_time": "2025-01-25T15:20:21.757Z"
   },
   {
    "duration": 16,
    "start_time": "2025-01-25T15:20:21.776Z"
   },
   {
    "duration": 293,
    "start_time": "2025-01-25T15:20:21.794Z"
   },
   {
    "duration": 289,
    "start_time": "2025-01-25T15:20:22.089Z"
   },
   {
    "duration": 1363,
    "start_time": "2025-01-27T08:32:23.247Z"
   },
   {
    "duration": 185,
    "start_time": "2025-01-27T08:32:24.613Z"
   },
   {
    "duration": 5,
    "start_time": "2025-01-27T08:32:24.800Z"
   },
   {
    "duration": 33,
    "start_time": "2025-01-27T08:32:24.807Z"
   },
   {
    "duration": 31,
    "start_time": "2025-01-27T08:32:24.842Z"
   },
   {
    "duration": 54,
    "start_time": "2025-01-27T08:32:24.874Z"
   },
   {
    "duration": 27,
    "start_time": "2025-01-27T08:32:24.930Z"
   },
   {
    "duration": 7,
    "start_time": "2025-01-27T08:32:24.959Z"
   },
   {
    "duration": 12,
    "start_time": "2025-01-27T08:32:24.968Z"
   },
   {
    "duration": 18,
    "start_time": "2025-01-27T08:32:24.983Z"
   },
   {
    "duration": 235,
    "start_time": "2025-01-27T08:32:25.010Z"
   },
   {
    "duration": 106,
    "start_time": "2025-01-27T08:32:25.247Z"
   },
   {
    "duration": 270,
    "start_time": "2025-01-27T08:32:25.355Z"
   },
   {
    "duration": 10,
    "start_time": "2025-01-27T08:32:25.627Z"
   },
   {
    "duration": 682,
    "start_time": "2025-01-27T08:32:25.638Z"
   },
   {
    "duration": 8,
    "start_time": "2025-01-27T08:32:26.322Z"
   },
   {
    "duration": 600,
    "start_time": "2025-01-27T08:32:26.332Z"
   },
   {
    "duration": 6,
    "start_time": "2025-01-27T08:32:26.934Z"
   },
   {
    "duration": 73,
    "start_time": "2025-01-27T08:32:26.942Z"
   },
   {
    "duration": 4,
    "start_time": "2025-01-27T08:32:27.017Z"
   },
   {
    "duration": 19,
    "start_time": "2025-01-27T08:32:27.022Z"
   },
   {
    "duration": 15,
    "start_time": "2025-01-27T08:32:27.043Z"
   },
   {
    "duration": 62,
    "start_time": "2025-01-27T08:32:27.060Z"
   },
   {
    "duration": 39,
    "start_time": "2025-01-27T08:32:27.124Z"
   },
   {
    "duration": 7,
    "start_time": "2025-01-27T08:32:27.165Z"
   },
   {
    "duration": 38,
    "start_time": "2025-01-27T08:32:27.174Z"
   },
   {
    "duration": 119,
    "start_time": "2025-01-27T08:32:27.214Z"
   },
   {
    "duration": 19,
    "start_time": "2025-01-27T08:32:27.336Z"
   },
   {
    "duration": 24,
    "start_time": "2025-01-27T08:32:27.357Z"
   },
   {
    "duration": 6,
    "start_time": "2025-01-27T08:32:27.383Z"
   },
   {
    "duration": 44,
    "start_time": "2025-01-27T08:32:27.391Z"
   },
   {
    "duration": 314,
    "start_time": "2025-01-27T08:32:27.438Z"
   },
   {
    "duration": 9,
    "start_time": "2025-01-27T08:32:27.754Z"
   },
   {
    "duration": 50,
    "start_time": "2025-01-27T08:32:27.764Z"
   },
   {
    "duration": 493,
    "start_time": "2025-01-27T08:32:27.816Z"
   },
   {
    "duration": 10,
    "start_time": "2025-01-27T08:32:28.310Z"
   },
   {
    "duration": 27,
    "start_time": "2025-01-27T08:32:28.322Z"
   },
   {
    "duration": 5,
    "start_time": "2025-01-27T08:32:28.350Z"
   },
   {
    "duration": 54,
    "start_time": "2025-01-27T08:32:28.356Z"
   },
   {
    "duration": 1289,
    "start_time": "2025-01-27T08:32:28.412Z"
   },
   {
    "duration": 7,
    "start_time": "2025-01-27T08:32:29.702Z"
   },
   {
    "duration": 25,
    "start_time": "2025-01-27T08:32:29.710Z"
   },
   {
    "duration": 5,
    "start_time": "2025-01-27T08:32:29.737Z"
   },
   {
    "duration": 26,
    "start_time": "2025-01-27T08:32:29.743Z"
   },
   {
    "duration": 6,
    "start_time": "2025-01-27T08:32:29.771Z"
   },
   {
    "duration": 33,
    "start_time": "2025-01-27T08:32:29.778Z"
   },
   {
    "duration": 13,
    "start_time": "2025-01-27T08:32:29.812Z"
   },
   {
    "duration": 300,
    "start_time": "2025-01-27T08:32:29.827Z"
   },
   {
    "duration": 271,
    "start_time": "2025-01-27T08:32:30.128Z"
   },
   {
    "duration": 1256,
    "start_time": "2025-01-27T08:35:19.936Z"
   },
   {
    "duration": 64,
    "start_time": "2025-01-27T08:35:21.194Z"
   },
   {
    "duration": 7,
    "start_time": "2025-01-27T08:35:21.260Z"
   },
   {
    "duration": 82,
    "start_time": "2025-01-27T08:35:21.268Z"
   },
   {
    "duration": 36,
    "start_time": "2025-01-27T08:35:21.352Z"
   },
   {
    "duration": 23,
    "start_time": "2025-01-27T08:35:21.408Z"
   },
   {
    "duration": 13,
    "start_time": "2025-01-27T08:35:21.433Z"
   },
   {
    "duration": 4,
    "start_time": "2025-01-27T08:35:21.448Z"
   },
   {
    "duration": 26,
    "start_time": "2025-01-27T08:35:21.453Z"
   },
   {
    "duration": 29,
    "start_time": "2025-01-27T08:35:21.482Z"
   },
   {
    "duration": 91,
    "start_time": "2025-01-27T08:35:21.513Z"
   },
   {
    "duration": 0,
    "start_time": "2025-01-27T08:35:21.608Z"
   },
   {
    "duration": 0,
    "start_time": "2025-01-27T08:35:21.609Z"
   },
   {
    "duration": 0,
    "start_time": "2025-01-27T08:35:21.610Z"
   },
   {
    "duration": 0,
    "start_time": "2025-01-27T08:35:21.612Z"
   },
   {
    "duration": 0,
    "start_time": "2025-01-27T08:35:21.615Z"
   },
   {
    "duration": 0,
    "start_time": "2025-01-27T08:35:21.616Z"
   },
   {
    "duration": 0,
    "start_time": "2025-01-27T08:35:21.618Z"
   },
   {
    "duration": 0,
    "start_time": "2025-01-27T08:35:21.620Z"
   },
   {
    "duration": 0,
    "start_time": "2025-01-27T08:35:21.621Z"
   },
   {
    "duration": 0,
    "start_time": "2025-01-27T08:35:21.623Z"
   },
   {
    "duration": 0,
    "start_time": "2025-01-27T08:35:21.624Z"
   },
   {
    "duration": 0,
    "start_time": "2025-01-27T08:35:21.626Z"
   },
   {
    "duration": 0,
    "start_time": "2025-01-27T08:35:21.628Z"
   },
   {
    "duration": 0,
    "start_time": "2025-01-27T08:35:21.629Z"
   },
   {
    "duration": 0,
    "start_time": "2025-01-27T08:35:21.631Z"
   },
   {
    "duration": 0,
    "start_time": "2025-01-27T08:35:21.632Z"
   },
   {
    "duration": 0,
    "start_time": "2025-01-27T08:35:21.634Z"
   },
   {
    "duration": 0,
    "start_time": "2025-01-27T08:35:21.636Z"
   },
   {
    "duration": 0,
    "start_time": "2025-01-27T08:35:21.637Z"
   },
   {
    "duration": 0,
    "start_time": "2025-01-27T08:35:21.639Z"
   },
   {
    "duration": 0,
    "start_time": "2025-01-27T08:35:21.640Z"
   },
   {
    "duration": 0,
    "start_time": "2025-01-27T08:35:21.642Z"
   },
   {
    "duration": 0,
    "start_time": "2025-01-27T08:35:21.643Z"
   },
   {
    "duration": 0,
    "start_time": "2025-01-27T08:35:21.645Z"
   },
   {
    "duration": 0,
    "start_time": "2025-01-27T08:35:21.646Z"
   },
   {
    "duration": 0,
    "start_time": "2025-01-27T08:35:21.648Z"
   },
   {
    "duration": 0,
    "start_time": "2025-01-27T08:35:21.649Z"
   },
   {
    "duration": 1,
    "start_time": "2025-01-27T08:35:21.708Z"
   },
   {
    "duration": 0,
    "start_time": "2025-01-27T08:35:21.710Z"
   },
   {
    "duration": 0,
    "start_time": "2025-01-27T08:35:21.712Z"
   },
   {
    "duration": 0,
    "start_time": "2025-01-27T08:35:21.713Z"
   },
   {
    "duration": 0,
    "start_time": "2025-01-27T08:35:21.715Z"
   },
   {
    "duration": 0,
    "start_time": "2025-01-27T08:35:21.716Z"
   },
   {
    "duration": 0,
    "start_time": "2025-01-27T08:35:21.718Z"
   },
   {
    "duration": 0,
    "start_time": "2025-01-27T08:35:21.720Z"
   },
   {
    "duration": 0,
    "start_time": "2025-01-27T08:35:21.721Z"
   },
   {
    "duration": 0,
    "start_time": "2025-01-27T08:35:21.723Z"
   },
   {
    "duration": 0,
    "start_time": "2025-01-27T08:35:21.724Z"
   },
   {
    "duration": 211,
    "start_time": "2025-01-27T08:35:29.223Z"
   },
   {
    "duration": 202,
    "start_time": "2025-01-27T08:36:53.210Z"
   },
   {
    "duration": 98,
    "start_time": "2025-01-27T08:37:59.942Z"
   },
   {
    "duration": 93,
    "start_time": "2025-01-27T08:38:57.883Z"
   },
   {
    "duration": 257,
    "start_time": "2025-01-27T08:39:57.955Z"
   },
   {
    "duration": 250,
    "start_time": "2025-01-27T09:35:25.746Z"
   },
   {
    "duration": 238,
    "start_time": "2025-01-27T09:35:40.352Z"
   },
   {
    "duration": 371,
    "start_time": "2025-01-27T09:35:46.283Z"
   },
   {
    "duration": 253,
    "start_time": "2025-01-27T09:36:07.585Z"
   },
   {
    "duration": 8,
    "start_time": "2025-01-27T09:37:10.702Z"
   },
   {
    "duration": 9,
    "start_time": "2025-01-27T09:37:18.028Z"
   },
   {
    "duration": 9,
    "start_time": "2025-01-27T09:37:22.231Z"
   },
   {
    "duration": 11,
    "start_time": "2025-01-27T09:37:27.207Z"
   },
   {
    "duration": 304,
    "start_time": "2025-01-27T09:38:42.892Z"
   },
   {
    "duration": 347,
    "start_time": "2025-01-27T09:39:23.489Z"
   },
   {
    "duration": 10,
    "start_time": "2025-01-27T09:39:49.703Z"
   },
   {
    "duration": 8,
    "start_time": "2025-01-27T09:40:23.612Z"
   },
   {
    "duration": 354,
    "start_time": "2025-01-27T09:41:44.850Z"
   },
   {
    "duration": 390,
    "start_time": "2025-01-27T09:41:59.749Z"
   },
   {
    "duration": 8,
    "start_time": "2025-01-27T09:42:33.245Z"
   },
   {
    "duration": 17,
    "start_time": "2025-01-27T09:42:36.359Z"
   },
   {
    "duration": 18,
    "start_time": "2025-01-27T09:43:11.333Z"
   },
   {
    "duration": 4,
    "start_time": "2025-01-27T09:43:25.553Z"
   },
   {
    "duration": 5,
    "start_time": "2025-01-27T09:43:26.533Z"
   },
   {
    "duration": 4,
    "start_time": "2025-01-27T09:43:27.050Z"
   },
   {
    "duration": 17,
    "start_time": "2025-01-27T09:43:27.546Z"
   },
   {
    "duration": 20,
    "start_time": "2025-01-27T09:43:29.619Z"
   },
   {
    "duration": 4,
    "start_time": "2025-01-27T09:43:35.152Z"
   },
   {
    "duration": 5,
    "start_time": "2025-01-27T09:43:36.137Z"
   },
   {
    "duration": 11,
    "start_time": "2025-01-27T09:43:36.772Z"
   },
   {
    "duration": 9,
    "start_time": "2025-01-27T09:43:46.666Z"
   },
   {
    "duration": 19,
    "start_time": "2025-01-27T09:43:48.132Z"
   },
   {
    "duration": 20,
    "start_time": "2025-01-27T09:44:17.149Z"
   },
   {
    "duration": 21,
    "start_time": "2025-01-27T09:44:19.991Z"
   },
   {
    "duration": 237,
    "start_time": "2025-01-27T09:45:06.095Z"
   },
   {
    "duration": 300,
    "start_time": "2025-01-27T09:46:15.985Z"
   },
   {
    "duration": 232,
    "start_time": "2025-01-27T09:46:36.826Z"
   },
   {
    "duration": 258,
    "start_time": "2025-01-27T09:47:16.245Z"
   },
   {
    "duration": 9,
    "start_time": "2025-01-27T09:47:25.078Z"
   },
   {
    "duration": 9,
    "start_time": "2025-01-27T09:47:32.646Z"
   },
   {
    "duration": 259,
    "start_time": "2025-01-27T09:48:23.424Z"
   },
   {
    "duration": 370,
    "start_time": "2025-01-27T09:49:19.480Z"
   },
   {
    "duration": 9,
    "start_time": "2025-01-27T09:49:29.320Z"
   },
   {
    "duration": 9,
    "start_time": "2025-01-27T09:49:29.716Z"
   },
   {
    "duration": 5,
    "start_time": "2025-01-27T09:49:40.277Z"
   },
   {
    "duration": 6,
    "start_time": "2025-01-27T09:49:44.066Z"
   },
   {
    "duration": 827,
    "start_time": "2025-01-27T09:49:48.269Z"
   },
   {
    "duration": 3,
    "start_time": "2025-01-27T09:49:52.249Z"
   },
   {
    "duration": 18,
    "start_time": "2025-01-27T09:49:53.733Z"
   },
   {
    "duration": 6,
    "start_time": "2025-01-27T09:50:03.576Z"
   },
   {
    "duration": 19,
    "start_time": "2025-01-27T09:50:05.542Z"
   },
   {
    "duration": 7,
    "start_time": "2025-01-27T09:50:19.682Z"
   },
   {
    "duration": 8,
    "start_time": "2025-01-27T09:50:51.504Z"
   },
   {
    "duration": 10,
    "start_time": "2025-01-27T09:50:56.664Z"
   },
   {
    "duration": 284,
    "start_time": "2025-01-27T09:51:15.009Z"
   },
   {
    "duration": 287,
    "start_time": "2025-01-27T09:53:00.157Z"
   },
   {
    "duration": 295,
    "start_time": "2025-01-27T09:53:07.030Z"
   },
   {
    "duration": 281,
    "start_time": "2025-01-27T09:53:41.056Z"
   },
   {
    "duration": 1167,
    "start_time": "2025-01-27T09:53:58.755Z"
   },
   {
    "duration": 74,
    "start_time": "2025-01-27T09:53:59.924Z"
   },
   {
    "duration": 4,
    "start_time": "2025-01-27T09:54:00.000Z"
   },
   {
    "duration": 98,
    "start_time": "2025-01-27T09:54:00.005Z"
   },
   {
    "duration": 56,
    "start_time": "2025-01-27T09:54:00.106Z"
   },
   {
    "duration": 65,
    "start_time": "2025-01-27T09:54:00.164Z"
   },
   {
    "duration": 35,
    "start_time": "2025-01-27T09:54:00.231Z"
   },
   {
    "duration": 48,
    "start_time": "2025-01-27T09:54:00.267Z"
   },
   {
    "duration": 43,
    "start_time": "2025-01-27T09:54:00.317Z"
   },
   {
    "duration": 35,
    "start_time": "2025-01-27T09:54:00.362Z"
   },
   {
    "duration": 321,
    "start_time": "2025-01-27T09:54:00.398Z"
   },
   {
    "duration": 119,
    "start_time": "2025-01-27T09:54:00.721Z"
   },
   {
    "duration": 278,
    "start_time": "2025-01-27T09:54:00.842Z"
   },
   {
    "duration": 8,
    "start_time": "2025-01-27T09:54:01.124Z"
   },
   {
    "duration": 344,
    "start_time": "2025-01-27T09:54:01.134Z"
   },
   {
    "duration": 8,
    "start_time": "2025-01-27T09:54:01.480Z"
   },
   {
    "duration": 342,
    "start_time": "2025-01-27T09:54:01.489Z"
   },
   {
    "duration": 8,
    "start_time": "2025-01-27T09:54:01.832Z"
   },
   {
    "duration": 64,
    "start_time": "2025-01-27T09:54:01.841Z"
   },
   {
    "duration": 35,
    "start_time": "2025-01-27T09:54:01.907Z"
   },
   {
    "duration": 48,
    "start_time": "2025-01-27T09:54:01.944Z"
   },
   {
    "duration": 5,
    "start_time": "2025-01-27T09:54:01.994Z"
   },
   {
    "duration": 44,
    "start_time": "2025-01-27T09:54:02.001Z"
   },
   {
    "duration": 21,
    "start_time": "2025-01-27T09:54:02.047Z"
   },
   {
    "duration": 28,
    "start_time": "2025-01-27T09:54:02.069Z"
   },
   {
    "duration": 64,
    "start_time": "2025-01-27T09:54:02.099Z"
   },
   {
    "duration": 33,
    "start_time": "2025-01-27T09:54:02.165Z"
   },
   {
    "duration": 40,
    "start_time": "2025-01-27T09:54:02.200Z"
   },
   {
    "duration": 66,
    "start_time": "2025-01-27T09:54:02.242Z"
   },
   {
    "duration": 720,
    "start_time": "2025-01-27T09:54:02.310Z"
   },
   {
    "duration": 9,
    "start_time": "2025-01-27T09:54:03.032Z"
   },
   {
    "duration": 68,
    "start_time": "2025-01-27T09:54:03.043Z"
   },
   {
    "duration": 602,
    "start_time": "2025-01-27T09:54:03.113Z"
   },
   {
    "duration": 10,
    "start_time": "2025-01-27T09:54:03.717Z"
   },
   {
    "duration": 14,
    "start_time": "2025-01-27T09:54:03.728Z"
   },
   {
    "duration": 34,
    "start_time": "2025-01-27T09:54:03.744Z"
   },
   {
    "duration": 32,
    "start_time": "2025-01-27T09:54:03.780Z"
   },
   {
    "duration": 874,
    "start_time": "2025-01-27T09:54:03.814Z"
   },
   {
    "duration": 4,
    "start_time": "2025-01-27T09:54:04.690Z"
   },
   {
    "duration": 59,
    "start_time": "2025-01-27T09:54:04.695Z"
   },
   {
    "duration": 24,
    "start_time": "2025-01-27T09:54:04.759Z"
   },
   {
    "duration": 41,
    "start_time": "2025-01-27T09:54:04.785Z"
   },
   {
    "duration": 40,
    "start_time": "2025-01-27T09:54:04.828Z"
   },
   {
    "duration": 51,
    "start_time": "2025-01-27T09:54:04.870Z"
   },
   {
    "duration": 38,
    "start_time": "2025-01-27T09:54:04.924Z"
   },
   {
    "duration": 376,
    "start_time": "2025-01-27T09:54:04.964Z"
   },
   {
    "duration": 302,
    "start_time": "2025-01-27T09:54:05.341Z"
   }
  ],
  "kernelspec": {
   "display_name": "Python 3 (ipykernel)",
   "language": "python",
   "name": "python3"
  },
  "language_info": {
   "codemirror_mode": {
    "name": "ipython",
    "version": 3
   },
   "file_extension": ".py",
   "mimetype": "text/x-python",
   "name": "python",
   "nbconvert_exporter": "python",
   "pygments_lexer": "ipython3",
   "version": "3.9.5"
  },
  "toc": {
   "base_numbering": 1,
   "nav_menu": {},
   "number_sections": true,
   "sideBar": true,
   "skip_h1_title": true,
   "title_cell": "Table of Contents",
   "title_sidebar": "Contents",
   "toc_cell": false,
   "toc_position": {
    "height": "calc(100% - 180px)",
    "left": "10px",
    "top": "150px",
    "width": "288px"
   },
   "toc_section_display": true,
   "toc_window_display": true
  }
 },
 "nbformat": 4,
 "nbformat_minor": 5
}
